{
 "cells": [
  {
   "cell_type": "markdown",
   "metadata": {},
   "source": [
    "## Actividad 5 por Python+"
   ]
  },
  {
   "cell_type": "code",
   "execution_count": 40,
   "metadata": {},
   "outputs": [
    {
     "name": "stdout",
     "output_type": "stream",
     "text": [
      "False\n",
      "5 [['Lago Fontana', 'Chubut', '84', '', '79', '44Â°55\\'17\"S 71Â°29\\'45\"O', 'grande', '44Â°55\\'17\"S', '71Â°29\\'45\"O', '-44.921388888888885', '-71.49583333333334'], ['Lago La Plata', 'Chubut', '73', '', '', '44Â°51\\'33\"S 71Â°49\\'12\"O', 'grande', '44Â°51\\'33\"S', '71Â°49\\'12\"O', '-44.85916666666667', '-71.82'], ['Lago Blanco', 'Chubut', '28', '', '', '45Â°53\\'16\"S 71Â°13\\'25\"O', 'medio', '45Â°53\\'16\"S', '71Â°13\\'25\"O', '-45.88777777777778', '-71.22361111111111'], ['Lago RÃ\\xado Chico', 'Chubut', '20', '', '', '45Â°35\\'40\"S 68Â°32\\'52\"O', 'medio', '45Â°35\\'40\"S', '68Â°32\\'52\"O', '-45.59444444444445', '-68.54777777777778'], ['Lago Pico NÂº 1', 'Chubut', '10', '', '', '44Â°14\\'31\"S 71Â°30\\'8\"O', 'chico', '44Â°14\\'31\"S', '71Â°30\\'8\"O', '-44.24194444444444', '-71.50222222222222']]\n",
      "\n",
      "****\n",
      "(0, [])\n"
     ]
    }
   ],
   "source": [
    "import csv\n",
    "\n",
    "file_route = \"lagos_arg.csv\"\n",
    "\n",
    "def my_function(data, *args):\n",
    "    sub_data = filter(lambda x: x[1] in args and x[3]=='', data)\n",
    "    return list(sub_data)\n",
    "\n",
    "with open(file_route, \"r\") as data_set:\n",
    "    reader = csv.reader(data_set)\n",
    "    header, data = next(reader), list(reader)\n",
    "\n",
    "#print(data[10][1]==\"Neuquén\")\n",
    "\n",
    "result1 = my_function(data, \"Chubut\", \"Río Negro\")\n",
    "result2 = my_function(data, \"Neuquén\")\n",
    "\n",
    "print(len(result1), result1)\n",
    "print(f\"\\n****\\n{len(result2), result2}\") "
   ]
  },
  {
   "cell_type": "markdown",
   "metadata": {},
   "source": [
    "- 2.1 Analizar y responder"
   ]
  },
  {
   "cell_type": "markdown",
   "metadata": {},
   "source": [
    "- (a) Mostrá la ejecución del código y explicá qué debería hacer y por qué da error. Corregí el\n",
    "error y mostrá la ejecución"
   ]
  },
  {
   "cell_type": "code",
   "execution_count": 41,
   "metadata": {},
   "outputs": [
    {
     "name": "stdout",
     "output_type": "stream",
     "text": [
      "7 [['Lago Pellegrini', 'Río Negro', '116', '', '', '38°42\\'25\"S 67°58\\'23\"O', 'grande', '38°42\\'25\"S', '67°58\\'23\"O', '-38.706944444444446', '-67.97305555555556'], ['Lago Fontana', 'Chubut', '84', '', '79', '44°55\\'17\"S 71°29\\'45\"O', 'grande', '44°55\\'17\"S', '71°29\\'45\"O', '-44.921388888888885', '-71.49583333333334'], ['Lago La Plata', 'Chubut', '73', '', '', '44°51\\'33\"S 71°49\\'12\"O', 'grande', '44°51\\'33\"S', '71°49\\'12\"O', '-44.85916666666667', '-71.82'], ['Lago Blanco', 'Chubut', '28', '', '', '45°53\\'16\"S 71°13\\'25\"O', 'medio', '45°53\\'16\"S', '71°13\\'25\"O', '-45.88777777777778', '-71.22361111111111'], ['Lago Río Chico', 'Chubut', '20', '', '', '45°35\\'40\"S 68°32\\'52\"O', 'medio', '45°35\\'40\"S', '68°32\\'52\"O', '-45.59444444444445', '-68.54777777777778'], ['Lago Perito Moreno', 'Río Negro', '12', '', '', '41°3\\'58\"S 71°32\\'28\"O', 'chico', '41°3\\'58\"S', '71°32\\'28\"O', '-41.066111111111105', '-71.5411111111111'], ['Lago Pico Nº 1', 'Chubut', '10', '', '', '44°14\\'31\"S 71°30\\'8\"O', 'chico', '44°14\\'31\"S', '71°30\\'8\"O', '-44.24194444444444', '-71.50222222222222']]\n",
      "\n",
      "****\n",
      "(12, [['Lago Huechulafquen', 'Neuquén', '84', '', '142', '39°46\\'28\"S 71°30\\'32\"O', 'grande', '39°46\\'28\"S', '71°30\\'32\"O', '-39.77444444444444', '-71.50888888888889'], ['Lago Traful', 'Neuquén', '78', '', '', '40°37\\'50\"S 71°24\\'55\"O', 'grande', '40°37\\'50\"S', '71°24\\'55\"O', '-40.63055555555555', '-71.41527777777779'], ['Lago Espejo', 'Neuquén', '40', '', '', '40°40\\'33\"S 71°42\\'40\"O', 'medio', '40°40\\'33\"S', '71°42\\'40\"O', '-40.67583333333333', '-71.71111111111111'], ['Lago Lolog', 'Neuquén', '37', '', '', '40°2\\'10\"S 71°32\\'11\"O', 'medio', '40°2\\'10\"S', '71°32\\'11\"O', '-40.03611111111111', '-71.5363888888889'], ['Lago Tromen', 'Neuquén', '29', '', '69', '39°31\\'33\"S 71°26\\'52\"O', 'medio', '39°31\\'33\"S', '71°26\\'52\"O', '-39.52583333333333', '-71.44777777777779'], ['Lago Quillén', 'Neuquén', '26', '', '', '39°24\\'41\"S 71°18\\'52\"O', 'medio', '39°24\\'41\"S', '71°18\\'52\"O', '-39.41138888888889', '-71.31444444444445'], ['Lago Moquehue', 'Neuquén', '21', '', '', '38°54\\'16\"S 71°16\\'26\"O', 'medio', '38°54\\'16\"S', '71°16\\'26\"O', '-38.904444444444444', '-71.27388888888889'], ['Lago Correntoso', 'Neuquén', '20', '', '', '40°42\\'8\"S 71°39\\'35\"O', 'medio', '40°42\\'8\"S', '71°39\\'35\"O', '-40.702222222222225', '-71.65972222222223'], ['Lago Paimún', 'Neuquén', '16', '', '66', '39°43\\'27\"S 71°35\\'2\"O', 'chico', '39°43\\'27\"S', '71°35\\'2\"O', '-39.72416666666667', '-71.58388888888888'], ['Lago Meliquina', 'Neuquén', '14', '', '', '40°19\\'60\"S 71°19\\'10\"O', 'chico', '40°19\\'60\"S', '71°19\\'10\"O', '-40.333333333333336', '-71.31944444444444'], ['Lago Currhué', 'Neuquén', '12', '', '', '39°50\\'24\"S 71°30\\'27\"O', 'chico', '39°50\\'24\"S', '71°30\\'27\"O', '-39.84', '-71.5075'], ['Lago Falkner', 'Neuquén', '11', '', '', '40°29\\'6\"S 71°28\\'33\"O', 'chico', '40°29\\'6\"S', '71°28\\'33\"O', '-40.485', '-71.47583333333334']])\n"
     ]
    }
   ],
   "source": [
    "import csv\n",
    "\n",
    "file_route = \"lagos_arg.csv\"\n",
    "\n",
    "def my_function(data, *args):\n",
    "    sub_data = filter(lambda x: x[1] in args and x[3]=='', data)\n",
    "    return list(sub_data)\n",
    "\n",
    "with open(file_route, \"r\", encoding = \"UTF-8\") as data_set:\n",
    "    reader = csv.reader(data_set)\n",
    "    header, data = next(reader), list(reader)\n",
    "\n",
    "result1 = my_function(data, \"Chubut\", \"Río Negro\")\n",
    "result2 = my_function(data, \"Neuquén\")\n",
    "\n",
    "print(len(result1), result1)\n",
    "print(f\"\\n****\\n{len(result2), result2}\") "
   ]
  },
  {
   "cell_type": "markdown",
   "metadata": {},
   "source": [
    "my_function lo que hace es filtrar las filas del csv lagos. En un principio busca que el valor de la segunda columna coincida con alguno de los argumentos que se le pasan y a su vez que esa fila en su cuarta columna no tenga valor.\n",
    "\n",
    "En el caso de Neuquén se rompe por el acento, al leer el csv se rompe el formato. Se soluciona con encoding = \"UTF-8\" al leerlo."
   ]
  },
  {
   "cell_type": "markdown",
   "metadata": {},
   "source": [
    "- (b) Escribí una solución alternativa usando pandas. Mostrá la ejecución de tu versión y\n",
    "explicá en detalle qué hace. ¿Es necesario realizar la modificación hecha en el inciso anterior\n",
    "en esta versión?¿Por qué?"
   ]
  },
  {
   "cell_type": "code",
   "execution_count": 26,
   "metadata": {},
   "outputs": [
    {
     "name": "stdout",
     "output_type": "stream",
     "text": [
      "7 [['Lago Pellegrini', 'Río Negro', 116, nan, nan, '38°42\\'25\"S 67°58\\'23\"O', 'grande', '38°42\\'25\"S', '67°58\\'23\"O', -38.706944444444446, -67.97305555555556], ['Lago Fontana', 'Chubut', 84, nan, 79.0, '44°55\\'17\"S 71°29\\'45\"O', 'grande', '44°55\\'17\"S', '71°29\\'45\"O', -44.921388888888885, -71.49583333333334], ['Lago La Plata', 'Chubut', 73, nan, nan, '44°51\\'33\"S 71°49\\'12\"O', 'grande', '44°51\\'33\"S', '71°49\\'12\"O', -44.85916666666667, -71.82], ['Lago Blanco', 'Chubut', 28, nan, nan, '45°53\\'16\"S 71°13\\'25\"O', 'medio', '45°53\\'16\"S', '71°13\\'25\"O', -45.88777777777778, -71.22361111111111], ['Lago Río Chico', 'Chubut', 20, nan, nan, '45°35\\'40\"S 68°32\\'52\"O', 'medio', '45°35\\'40\"S', '68°32\\'52\"O', -45.59444444444445, -68.54777777777778], ['Lago Perito Moreno', 'Río Negro', 12, nan, nan, '41°3\\'58\"S 71°32\\'28\"O', 'chico', '41°3\\'58\"S', '71°32\\'28\"O', -41.06611111111111, -71.5411111111111], ['Lago Pico Nº 1', 'Chubut', 10, nan, nan, '44°14\\'31\"S 71°30\\'8\"O', 'chico', '44°14\\'31\"S', '71°30\\'8\"O', -44.24194444444444, -71.50222222222222]]\n",
      "\n",
      "****\n",
      "12, [['Lago Huechulafquen', 'Neuquén', 84, nan, 142.0, '39°46\\'28\"S 71°30\\'32\"O', 'grande', '39°46\\'28\"S', '71°30\\'32\"O', -39.77444444444444, -71.50888888888889], ['Lago Traful', 'Neuquén', 78, nan, nan, '40°37\\'50\"S 71°24\\'55\"O', 'grande', '40°37\\'50\"S', '71°24\\'55\"O', -40.63055555555555, -71.41527777777779], ['Lago Espejo', 'Neuquén', 40, nan, nan, '40°40\\'33\"S 71°42\\'40\"O', 'medio', '40°40\\'33\"S', '71°42\\'40\"O', -40.67583333333333, -71.71111111111111], ['Lago Lolog', 'Neuquén', 37, nan, nan, '40°2\\'10\"S 71°32\\'11\"O', 'medio', '40°2\\'10\"S', '71°32\\'11\"O', -40.03611111111111, -71.5363888888889], ['Lago Tromen', 'Neuquén', 29, nan, 69.0, '39°31\\'33\"S 71°26\\'52\"O', 'medio', '39°31\\'33\"S', '71°26\\'52\"O', -39.52583333333333, -71.44777777777779], ['Lago Quillén', 'Neuquén', 26, nan, nan, '39°24\\'41\"S 71°18\\'52\"O', 'medio', '39°24\\'41\"S', '71°18\\'52\"O', -39.41138888888889, -71.31444444444445], ['Lago Moquehue', 'Neuquén', 21, nan, nan, '38°54\\'16\"S 71°16\\'26\"O', 'medio', '38°54\\'16\"S', '71°16\\'26\"O', -38.90444444444445, -71.27388888888889], ['Lago Correntoso', 'Neuquén', 20, nan, nan, '40°42\\'8\"S 71°39\\'35\"O', 'medio', '40°42\\'8\"S', '71°39\\'35\"O', -40.70222222222223, -71.65972222222223], ['Lago Paimún', 'Neuquén', 16, nan, 66.0, '39°43\\'27\"S 71°35\\'2\"O', 'chico', '39°43\\'27\"S', '71°35\\'2\"O', -39.72416666666667, -71.58388888888888], ['Lago Meliquina', 'Neuquén', 14, nan, nan, '40°19\\'60\"S 71°19\\'10\"O', 'chico', '40°19\\'60\"S', '71°19\\'10\"O', -40.333333333333336, -71.31944444444444], ['Lago Currhué', 'Neuquén', 12, nan, nan, '39°50\\'24\"S 71°30\\'27\"O', 'chico', '39°50\\'24\"S', '71°30\\'27\"O', -39.84, -71.5075], ['Lago Falkner', 'Neuquén', 11, nan, nan, '40°29\\'6\"S 71°28\\'33\"O', 'chico', '40°29\\'6\"S', '71°28\\'33\"O', -40.485, -71.47583333333334]]\n"
     ]
    }
   ],
   "source": [
    "import pandas as pd\n",
    "import numpy\n",
    "\n",
    "file_route=\"./lagos_arg.csv\"\n",
    "\n",
    "def my_function(data, *args):\n",
    "    # Uso .iloc seleccionar las filas por indice, se podría hacer con data[\"Ubicacion\"].isin(args)..etc tambien\n",
    "    # .iloc[:,1] -[filas,columnas]-\n",
    "    sub_data = data[(data.iloc[:,1].isin(args)) & (data.iloc[:,3].isnull())] \n",
    "    \n",
    "    # Paso el DataFrame a una lista para que coincida el output con la otra forma\n",
    "    return sub_data.to_numpy().tolist()\n",
    "\n",
    "# Me guardo el csv en un DataFrame\n",
    "lagos_df = pd.read_csv(file_route)\n",
    "# Aplico la funcion para los 2 sets de argumentos\n",
    "result1 = my_function(lagos_df, \"Chubut\", \"Río Negro\")\n",
    "result2 = my_function(lagos_df, \"Neuquén\")\n",
    "\n",
    "\n",
    "print(len(result1), result1)\n",
    "print(f\"\\n****\\n{len(result2)}, {result2}\")"
   ]
  },
  {
   "cell_type": "markdown",
   "metadata": {},
   "source": [
    "- (c) Mostrá en tu código algún objeto de tipo dataframe y otro de tipo Series\n",
    "\n",
    "De tipo DataFrame es lagos_df y no tengo ninguno de tipo Series hasta ahora, mas abajo al aplicarle max() al dataframe si."
   ]
  },
  {
   "cell_type": "markdown",
   "metadata": {},
   "source": [
    "- (d) ¿De qué manera (usando pandas) podemos obtener la valor máximo y mínimo de\n",
    "las columnas numéricas del dataset? Ejemplificá con los objetos mostrados en el inciso\n",
    "anterior.\n",
    "\n",
    "Pandas tiene el metodo .max()"
   ]
  },
  {
   "cell_type": "code",
   "execution_count": 44,
   "metadata": {},
   "outputs": [
    {
     "name": "stdout",
     "output_type": "stream",
     "text": [
      " ------------------------------\n",
      "Valores Máximos\n",
      "------------------------------\n",
      "Superficie (km²)          116.000000\n",
      "Profundidad máxima (m)           NaN\n",
      "Profundidad media (m)      79.000000\n",
      "Latitud en GD             -38.706944\n",
      "Longitud en GD            -67.973056\n",
      "dtype: float64\n",
      "------------------------------\n",
      "Valores Minimos\n",
      "------------------------------\n",
      "Superficie (km²)          10.000000\n",
      "Profundidad máxima (m)          NaN\n",
      "Profundidad media (m)     79.000000\n",
      "Latitud en GD            -45.887778\n",
      "Longitud en GD           -71.820000\n",
      "dtype: float64\n"
     ]
    }
   ],
   "source": [
    "import pandas as pd\n",
    "import numpy\n",
    "\n",
    "file_route=\"./lagos_arg.csv\"\n",
    "\n",
    "def my_function(data, *args):\n",
    "    # Uso .iloc para acceder por indice, era mas facil con data[\"Ubicacion\"].isin(args) ... pero para no tener que especificar el nombre de la columna\n",
    "    # .iloc[:,1] todas las filas-columna 1, y igual en el otro\n",
    "    sub_data = data[(data.iloc[:,1].isin(args)) & (data.iloc[:,3].isnull())] \n",
    "    \n",
    "    return sub_data\n",
    "\n",
    "# Me guardo el csv en un DataFrame\n",
    "lagos_df = pd.read_csv(file_route)\n",
    "\n",
    "# Aplico la funcion de la misma forma\n",
    "result1 = my_function(lagos_df, \"Chubut\", \"Río Negro\")\n",
    "result2 = my_function(lagos_df, \"Neuquén\")\n",
    "\n",
    "#print(result1.info())\n",
    "# Para poder obtener max y min tengo que encontrar las columnas a las q puedo aplicarselo\n",
    "columnas_numericas = result1.select_dtypes(include='number')\n",
    "max_lago = columnas_numericas.max() # Tipo Series\n",
    "min_lago = columnas_numericas.min()\n",
    "\n",
    "print(f\" {('-')*30}\\nValores Máximos\\n{('-')*30}\\n{max_lago}\\n{('-')*30}\\nValores Minimos\\n{('-')*30}\\n{min_lago}\")\n"
   ]
  },
  {
   "cell_type": "markdown",
   "metadata": {},
   "source": [
    "- (e) En base a tu versión en pandas del código dado, describí al menos dos ventajas del\n",
    "uso de esta librería sobre el manejo de archivos csv. Si considerás que no las hay, indicá\n",
    "en qué te basás.\n",
    "\n",
    "Pandas simplifica todo en relacion con la librería csv, ya en la lectura del archivo maneja errores automaticamente, como pasó con el error al inicio que habia que especificarle el encoding.\n",
    "\n",
    "A su vez te facilita un monton el manejo de los datos, desde como podes acceder a las filas o columnas (como usé iloc()) hasta como podes aplicarle funciones como .max() a columnas enteras o .apply() que te permite aplicarle lo que quieras, entre muchas otras cosas.\n",
    "\n",
    "Herramientas que usé:\n",
    "- .select_dtypes(include='number') Para guardarme las columnas con datos numericos\n",
    "- .max() .min() para obtener maximos y minimos de cada columna del Dataset dado.\n",
    "- .isin() y isnull() para encontrar coincidencias y filtrar los datos.\n",
    "- .to_list() para pasar los datos de una Serie a formato lista, en mi caso tuve que usar otra cosa porque tenia un DataFrame\n"
   ]
  }
 ],
 "metadata": {
  "kernelspec": {
   "display_name": "Python 3",
   "language": "python",
   "name": "python3"
  },
  "language_info": {
   "codemirror_mode": {
    "name": "ipython",
    "version": 3
   },
   "file_extension": ".py",
   "mimetype": "text/x-python",
   "name": "python",
   "nbconvert_exporter": "python",
   "pygments_lexer": "ipython3",
   "version": "3.11.2"
  }
 },
 "nbformat": 4,
 "nbformat_minor": 2
}
