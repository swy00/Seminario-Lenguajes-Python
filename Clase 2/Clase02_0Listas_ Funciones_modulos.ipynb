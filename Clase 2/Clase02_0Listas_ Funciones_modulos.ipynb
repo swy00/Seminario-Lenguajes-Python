{
 "cells": [
  {
   "cell_type": "markdown",
   "id": "private-distributor",
   "metadata": {
    "slideshow": {
     "slide_type": "slide"
    }
   },
   "source": [
    "# Seminario de Lenguajes - Python\n",
    "## Cursada 2024\n",
    "\n",
    "## Clase 2: listas, funciones y módulos"
   ]
  },
  {
   "cell_type": "markdown",
   "id": "automotive-graphics",
   "metadata": {
    "slideshow": {
     "slide_type": "slide"
    }
   },
   "source": [
    "# En el video de cadenas planteamos el siguiente desafío:\n",
    "\n",
    "> Escribir un programa que ingrese 4 palabras desde el teclado e imprima aquellas que contienen la letra r."
   ]
  },
  {
   "cell_type": "markdown",
   "id": "454d984e",
   "metadata": {
    "slideshow": {
     "slide_type": "fragment"
    }
   },
   "source": [
    "#### Una posible solución:"
   ]
  },
  {
   "cell_type": "code",
   "execution_count": null,
   "id": "dense-python",
   "metadata": {
    "slideshow": {
     "slide_type": "fragment"
    }
   },
   "outputs": [],
   "source": [
    "for i in range(4):\n",
    "    word = input(\"Ingresá una palabra: \")\n",
    "    if \"r\" in word:\n",
    "        print(f\"{word} tiene una letra r\")"
   ]
  },
  {
   "cell_type": "markdown",
   "id": "explicit-witness",
   "metadata": {
    "slideshow": {
     "slide_type": "fragment"
    }
   },
   "source": [
    "- ¿Se acuerdan qué representa **f\"{word} tiene una letra r\"**?"
   ]
  },
  {
   "cell_type": "markdown",
   "id": "therapeutic-twins",
   "metadata": {
    "slideshow": {
     "slide_type": "subslide"
    }
   },
   "source": [
    "# DESAFÍO 1\n",
    "\n",
    "> Vamos a modificar el código anterior para que se imprima la cadena \"TIENE R\" si la palabra contiene la letra r y sino, imprima \"NO TIENE R\".\n",
    "\n",
    "La solución casi immediata:"
   ]
  },
  {
   "cell_type": "code",
   "execution_count": null,
   "id": "incredible-campus",
   "metadata": {
    "slideshow": {
     "slide_type": "fragment"
    }
   },
   "outputs": [],
   "source": [
    "for i in range(4):\n",
    "    word = input(\"Ingresá una palabra: \")\n",
    "    if \"r\" in word:\n",
    "        print(\"TIENE R\")\n",
    "    else:\n",
    "        print(\"NO TIENE R\")"
   ]
  },
  {
   "cell_type": "markdown",
   "id": "important-sally",
   "metadata": {
    "slideshow": {
     "slide_type": "fragment"
    }
   },
   "source": [
    "Hay otra forma de escribir estas expresiones condicionales."
   ]
  },
  {
   "cell_type": "markdown",
   "id": "moderate-belgium",
   "metadata": {
    "slideshow": {
     "slide_type": "subslide"
    }
   },
   "source": [
    "# Expresión condicional\n",
    "\n",
    "- La forma general es:\n",
    "\n",
    "```python\n",
    "A if C else B\n",
    "```\n",
    "- Devuelve A si se cumple la condición C, sino devuelve B."
   ]
  },
  {
   "cell_type": "code",
   "execution_count": null,
   "id": "capital-theology",
   "metadata": {
    "slideshow": {
     "slide_type": "fragment"
    }
   },
   "outputs": [],
   "source": [
    "number1 = int(input(\"Ingresá un número: \"))\n",
    "number2 = int(input(\"Ingresá un número: \"))\n",
    "\n",
    "number_max = number1 if number1 > number2 else number2 \n",
    "number_max"
   ]
  },
  {
   "cell_type": "markdown",
   "id": "owned-specification",
   "metadata": {
    "slideshow": {
     "slide_type": "subslide"
    }
   },
   "source": [
    "# Escribimos otra solución al desafío"
   ]
  },
  {
   "cell_type": "code",
   "execution_count": null,
   "id": "crucial-driving",
   "metadata": {
    "slideshow": {
     "slide_type": "fragment"
    }
   },
   "outputs": [],
   "source": [
    "for i in range(4):\n",
    "    word = input(\"Ingresá una palabra: \")\n",
    "    print(\"TIENE R\" if \"r\" in word else \"NO TIENE R\")"
   ]
  },
  {
   "cell_type": "markdown",
   "id": "willing-photographer",
   "metadata": {
    "slideshow": {
     "slide_type": "subslide"
    }
   },
   "source": [
    "# Evaluación  del condicional\n",
    "\n",
    "**IMPORTANTE:** Python utiliza la **evaluación con circuito corto** para evaluar las condiciones\n"
   ]
  },
  {
   "cell_type": "code",
   "execution_count": null,
   "id": "civil-corpus",
   "metadata": {
    "slideshow": {
     "slide_type": "fragment"
    }
   },
   "outputs": [],
   "source": [
    "number1 = 1\n",
    "number2 = 0\n",
    "\n",
    "if True or number1/number2:\n",
    "    print(\"No hay error!!!!???\")"
   ]
  },
  {
   "cell_type": "markdown",
   "id": "interim-cover",
   "metadata": {
    "slideshow": {
     "slide_type": "slide"
    }
   },
   "source": [
    "# DESAFÍO 2\n",
    "\n",
    "> Ingresar palabras desde el teclado hasta ingresar la palabra FIN. Imprimir aquellas que empiecen  y terminen con la misma letra. \n",
    "- ¿Qué estructura de control deberíamos utilizar para realizar esta iteración? ¿Podemos utilizar la sentencia **for**?"
   ]
  },
  {
   "cell_type": "markdown",
   "id": "protective-turkey",
   "metadata": {
    "slideshow": {
     "slide_type": "slide"
    }
   },
   "source": [
    "# Iteración condicional\n",
    "\n",
    "- Python tiene una sentencia **while**. ¿Se acuerdan de este ejemplo?"
   ]
  },
  {
   "cell_type": "code",
   "execution_count": null,
   "id": "human-booking",
   "metadata": {
    "slideshow": {
     "slide_type": "fragment"
    }
   },
   "outputs": [],
   "source": [
    "## Adivina adivinador....\n",
    "import random\n",
    "\n",
    "random_number = random.randrange(5)\n",
    "i_won = False\n",
    "print(\"Tenés 2 intentos para adivinar un entre 0 y 4\")\n",
    "tries = 1\n",
    "\n",
    "while tries < 3 and not i_won:\n",
    "    entered_number = int(input(\"Ingresa tu número: \"))\n",
    "    if entered_number == random_number:\n",
    "        print(\"Ganaste!\")\n",
    "        i_won = True\n",
    "    else:\n",
    "        print(\"Mmmm ... No.. ese número no es... Seguí intentando.\")\n",
    "        tries += 1\n",
    "if not i_won:\n",
    "    print(\"Perdiste :(\")\n",
    "    print(f\"El número era: {random_number}\")"
   ]
  },
  {
   "cell_type": "markdown",
   "id": "greek-sleep",
   "metadata": {
    "slideshow": {
     "slide_type": "subslide"
    }
   },
   "source": [
    "# La sentencia while\n",
    "\n",
    "```python\n",
    "while condition:\n",
    "    sentence\n",
    "    sentence\n",
    "    \n",
    "```\n",
    "Nuestro desafío:\n",
    "> Ingresar palabras desde el teclado hasta ingresar la palabra FIN. Imprimir aquellas que empiecen  y terminen con la misma letra. "
   ]
  },
  {
   "cell_type": "code",
   "execution_count": null,
   "id": "narrow-slope",
   "metadata": {
    "slideshow": {
     "slide_type": "fragment"
    }
   },
   "outputs": [],
   "source": [
    "# Solución al desafío\n"
   ]
  },
  {
   "cell_type": "markdown",
   "id": "adult-respondent",
   "metadata": {
    "slideshow": {
     "slide_type": "slide"
    }
   },
   "source": [
    "# DESAFÍO  3\n",
    "> En homenaje a Akira Toriyama, vamos a trabajar con las películas de Dragon Ball.\n",
    "\n",
    "Queremos saber:\n",
    "- cuál fue la duración, en minutos, promedio de todas las películas;\n",
    "- cuántas películas duran más que el promedio, en minutos."
   ]
  },
  {
   "cell_type": "markdown",
   "id": "disturbed-jacket",
   "metadata": {
    "slideshow": {
     "slide_type": "subslide"
    }
   },
   "source": [
    "¿Cómo sería un pseudocódigo de esto?\n",
    "```\n",
    "Ingresar la duración de las películas.\n",
    "Calcular el promedio.\n",
    "Calcular cuántas películas duran más que el promedio.\n",
    "```\n",
    "¿Cómo hacemos el tercer proceso? ¿Tenemos que ingresar las duraciones nuevamente? "
   ]
  },
  {
   "cell_type": "markdown",
   "id": "exposed-marina",
   "metadata": {
    "slideshow": {
     "slide_type": "fragment"
    }
   },
   "source": [
    "Obviamente no. **Necesitamos tipos de datos que nos permitan guardar muchos valores**."
   ]
  },
  {
   "cell_type": "markdown",
   "id": "specified-parker",
   "metadata": {
    "slideshow": {
     "slide_type": "subslide"
    }
   },
   "source": [
    "# Listas\n",
    "\n",
    "\n",
    "> Una **lista** es una colección ordenada de elementos."
   ]
  },
  {
   "cell_type": "code",
   "execution_count": null,
   "id": "indian-prague",
   "metadata": {
    "slideshow": {
     "slide_type": "fragment"
    }
   },
   "outputs": [],
   "source": [
    "movies_duration = [50, 48, 85, 93, 100]\n",
    "\n",
    "type(movies_duration)"
   ]
  },
  {
   "cell_type": "markdown",
   "id": "binding-louisiana",
   "metadata": {
    "slideshow": {
     "slide_type": "subslide"
    }
   },
   "source": [
    "> Las listas son estructuras heterogéneas, es decir que **pueden contener cualquier tipo de datos**, inclusive otras listas."
   ]
  },
  {
   "cell_type": "code",
   "execution_count": null,
   "id": "cheap-basket",
   "metadata": {
    "slideshow": {
     "slide_type": "fragment"
    }
   },
   "outputs": [],
   "source": [
    "my_list = [1, \"dos\", [3, \"cuatro\"], True]\n",
    "my_list"
   ]
  },
  {
   "cell_type": "markdown",
   "id": "objective-leadership",
   "metadata": {
    "slideshow": {
     "slide_type": "fragment"
    }
   },
   "source": [
    "¿Cuántos elementos tiene la lista?"
   ]
  },
  {
   "cell_type": "code",
   "execution_count": null,
   "id": "embedded-investigation",
   "metadata": {
    "slideshow": {
     "slide_type": "fragment"
    }
   },
   "outputs": [],
   "source": [
    "len(my_list)"
   ]
  },
  {
   "cell_type": "markdown",
   "id": "satisfactory-acquisition",
   "metadata": {
    "slideshow": {
     "slide_type": "subslide"
    }
   },
   "source": [
    "# Accediendo a los elementos de una lista\n",
    "\n",
    "- Se accede a través de **un índice** que indica la posición del elemento dentro de la lista **encerrado entre corchetes** [].\n",
    "- **IMPORTANTE:** al igual que las cadenas los índices comienzan en 0."
   ]
  },
  {
   "cell_type": "code",
   "execution_count": null,
   "id": "essential-berry",
   "metadata": {
    "slideshow": {
     "slide_type": "fragment"
    }
   },
   "outputs": [],
   "source": [
    "my_list = [ 17, \"hola\", [1, \"dos\"], 5.5, True] \n",
    "print(my_list[0])\n",
    "print(my_list[2][1] )\n",
    "print(my_list[-3])"
   ]
  },
  {
   "cell_type": "markdown",
   "id": "automatic-shield",
   "metadata": {
    "slideshow": {
     "slide_type": "subslide"
    }
   },
   "source": [
    "**Las listas son datos MUTABLES.** ¿Qué quiere decir esto?"
   ]
  },
  {
   "cell_type": "code",
   "execution_count": null,
   "id": "extreme-virtue",
   "metadata": {
    "slideshow": {
     "slide_type": "fragment"
    }
   },
   "outputs": [],
   "source": [
    "my_list[0] = [\"El Dibu\", 23]\n",
    "my_list"
   ]
  },
  {
   "cell_type": "markdown",
   "id": "fuzzy-agent",
   "metadata": {
    "slideshow": {
     "slide_type": "subslide"
    }
   },
   "source": [
    "# Recorriendo una lista\n",
    "\n",
    "- ¿Qué estructura les parece que podríamos usar?"
   ]
  },
  {
   "cell_type": "code",
   "execution_count": null,
   "id": "handed-lawrence",
   "metadata": {
    "slideshow": {
     "slide_type": "fragment"
    }
   },
   "outputs": [],
   "source": [
    "for elem in my_list:\n",
    "    print(elem)"
   ]
  },
  {
   "cell_type": "markdown",
   "id": "impressed-choice",
   "metadata": {
    "slideshow": {
     "slide_type": "subslide"
    }
   },
   "source": [
    "## Pdríamos pensar en otra forma de recorrer la lista"
   ]
  },
  {
   "cell_type": "code",
   "execution_count": null,
   "id": "dedicated-hurricane",
   "metadata": {
    "slideshow": {
     "slide_type": "fragment"
    }
   },
   "outputs": [],
   "source": [
    "list_length = len(my_list)\n",
    "for i in range(list_length):\n",
    "    print(my_list[i])"
   ]
  },
  {
   "cell_type": "markdown",
   "id": "6a6ea512",
   "metadata": {
    "slideshow": {
     "slide_type": "fragment"
    }
   },
   "source": [
    "¿Qué forma les parece más legible?"
   ]
  },
  {
   "cell_type": "markdown",
   "id": "c7d6be81",
   "metadata": {
    "slideshow": {
     "slide_type": "subslide"
    }
   },
   "source": [
    "# Asignación de listas\n",
    "Observemos el siguiente ejemplo:"
   ]
  },
  {
   "cell_type": "code",
   "execution_count": null,
   "id": "47b32bf0",
   "metadata": {
    "slideshow": {
     "slide_type": "fragment"
    }
   },
   "outputs": [],
   "source": [
    "rock = [\"Riff\", \"La Renga\", \"La Torre\"]\n",
    "blues = [\"La Mississippi\", \"Memphis\"]\n",
    "music = rock\n",
    "print(music)"
   ]
  },
  {
   "cell_type": "markdown",
   "id": "8fe1b0a7",
   "metadata": {
    "slideshow": {
     "slide_type": "fragment"
    }
   },
   "source": [
    "- Recordemos que las variables son **referencias a objetos**. "
   ]
  },
  {
   "cell_type": "markdown",
   "id": "7891c9f7",
   "metadata": {
    "slideshow": {
     "slide_type": "fragment"
    }
   },
   "source": [
    "¿Cuál es el problema?"
   ]
  },
  {
   "cell_type": "markdown",
   "id": "cf6590b3",
   "metadata": {
    "slideshow": {
     "slide_type": "subslide"
    }
   },
   "source": [
    "- Cada objeto tiene un identificación."
   ]
  },
  {
   "cell_type": "code",
   "execution_count": null,
   "id": "627dbe6c",
   "metadata": {
    "slideshow": {
     "slide_type": "fragment"
    }
   },
   "outputs": [],
   "source": [
    "print(id(music))\n",
    "print(id(rock))\n",
    "print(id(blues))"
   ]
  },
  {
   "cell_type": "code",
   "execution_count": null,
   "id": "e22b47ff",
   "metadata": {
    "slideshow": {
     "slide_type": "skip"
    }
   },
   "outputs": [],
   "source": [
    "rock.append(\"Rata Blanca\")\n",
    "music"
   ]
  },
  {
   "cell_type": "markdown",
   "id": "7ac158da",
   "metadata": {
    "slideshow": {
     "slide_type": "subslide"
    }
   },
   "source": [
    "# Observemos este código"
   ]
  },
  {
   "cell_type": "code",
   "execution_count": null,
   "id": "89812dd4",
   "metadata": {
    "slideshow": {
     "slide_type": "fragment"
    }
   },
   "outputs": [],
   "source": [
    "more_music = rock[:]\n",
    "print(id(rock))\n",
    "print(id(more_music))\n",
    "print(id(music))"
   ]
  },
  {
   "cell_type": "code",
   "execution_count": null,
   "id": "6fab53b4",
   "metadata": {
    "slideshow": {
     "slide_type": "fragment"
    }
   },
   "outputs": [],
   "source": [
    "more_music.append(\"Hermetica\")\n",
    "rock"
   ]
  },
  {
   "cell_type": "markdown",
   "id": "1eda79d3",
   "metadata": {
    "slideshow": {
     "slide_type": "subslide"
    }
   },
   "source": [
    "- **music = rock**: music y rock apunten al mismo objeto (misma zona de memoria).\n",
    "- **more_music = rock[:]**: more_music y rock referencian a dos objetos distintos (dos zonas de memoria distintas con el mismo contenido).\n",
    "\n",
    "Observemos este código:"
   ]
  },
  {
   "cell_type": "code",
   "execution_count": null,
   "id": "33d42c31",
   "metadata": {
    "slideshow": {
     "slide_type": "fragment"
    }
   },
   "outputs": [],
   "source": [
    "# Otra forma\n",
    "other_rock = rock.copy() \n",
    "id(other_rock)"
   ]
  },
  {
   "cell_type": "markdown",
   "id": "5f2587a9",
   "metadata": {
    "slideshow": {
     "slide_type": "fragment"
    }
   },
   "source": [
    "- ¿Qué podemos decir del método **copy**?"
   ]
  },
  {
   "cell_type": "markdown",
   "id": "7255fef6",
   "metadata": {
    "slideshow": {
     "slide_type": "subslide"
    }
   },
   "source": [
    "# Operaciones con listas\n",
    "\n",
    "- Las listas se pueden concatenar (+) y repetir (*)"
   ]
  },
  {
   "cell_type": "code",
   "execution_count": null,
   "id": "f39aed17",
   "metadata": {
    "slideshow": {
     "slide_type": "fragment"
    }
   },
   "outputs": [],
   "source": [
    "rock = [\"Riff\", \"La Renga\", \"La Torre\"]\n",
    "blues =[\"La Mississippi\", \"Memphis\"]\n",
    "\n",
    "music = rock + blues\n",
    "more_rock = rock * 3"
   ]
  },
  {
   "cell_type": "code",
   "execution_count": null,
   "id": "bb8f9d42",
   "metadata": {
    "slideshow": {
     "slide_type": "fragment"
    }
   },
   "outputs": [],
   "source": [
    "more_rock"
   ]
  },
  {
   "cell_type": "markdown",
   "id": "14abf329",
   "metadata": {
    "slideshow": {
     "slide_type": "subslide"
    }
   },
   "source": [
    "# Algunas cosas para prestar atención\n",
    "\n",
    "Analicemos el siguiente código:\n"
   ]
  },
  {
   "cell_type": "code",
   "execution_count": null,
   "id": "753fb1f0",
   "metadata": {
    "slideshow": {
     "slide_type": "fragment"
    }
   },
   "outputs": [],
   "source": [
    "my_list = [[1,2]] * 3\n",
    "my_list"
   ]
  },
  {
   "cell_type": "code",
   "execution_count": null,
   "id": "21285422",
   "metadata": {
    "slideshow": {
     "slide_type": "fragment"
    }
   },
   "outputs": [],
   "source": [
    "my_list [0][1] = 'cambio'\n",
    "my_list"
   ]
  },
  {
   "cell_type": "markdown",
   "id": "99cee8f3",
   "metadata": {
    "slideshow": {
     "slide_type": "fragment"
    }
   },
   "source": [
    "- ¿Qué es lo que sucedió?\n",
    "    - El operador \\* repite la **misma lista**, no genera una copia distinta; es el mismo objeto referenciado 3 veces."
   ]
  },
  {
   "cell_type": "markdown",
   "id": "32b4c109",
   "metadata": {
    "slideshow": {
     "slide_type": "subslide"
    }
   },
   "source": [
    "# Probemos ahora:"
   ]
  },
  {
   "cell_type": "code",
   "execution_count": null,
   "id": "c3f126a8",
   "metadata": {
    "slideshow": {
     "slide_type": "fragment"
    }
   },
   "outputs": [],
   "source": [
    "my_list = [[1,2], [1, 2], [1, 2]]\n",
    "my_list [0][1] = 'cambio'\n",
    "my_list"
   ]
  },
  {
   "cell_type": "markdown",
   "id": "2cedb1cd",
   "metadata": {
    "slideshow": {
     "slide_type": "subslide"
    }
   },
   "source": [
    "# Probar en casa: más operaciones sobre listas\n",
    "\n",
    "- Algunos métodos o funciones aplicables a listas: **extend()**, **index()**, **remove()**,\t**pop()**, **count()**.\n",
    " \n",
    "- [+Info](https://docs.python.org/es/3/tutorial/datastructures.html) en la documentación oficial.\n"
   ]
  },
  {
   "cell_type": "markdown",
   "id": "250a633a",
   "metadata": {
    "slideshow": {
     "slide_type": "subslide"
    }
   },
   "source": [
    "# Algo muy interesante: comprensión de listas\n",
    "\n",
    "(**list comprehension**)\n",
    "\n",
    "Observemos la siguiente definición: ¿cuáles serían los elementos de esta lista?"
   ]
  },
  {
   "cell_type": "code",
   "execution_count": null,
   "id": "407d4633",
   "metadata": {
    "slideshow": {
     "slide_type": "fragment"
    }
   },
   "outputs": [],
   "source": [
    "import string\n",
    "\n",
    "letters = string.ascii_uppercase\n",
    "codes = [ord(n) for n in letters]\n",
    "print(codes)"
   ]
  },
  {
   "cell_type": "markdown",
   "id": "26e175da",
   "metadata": {
    "slideshow": {
     "slide_type": "fragment"
    }
   },
   "source": [
    "¿Y en este otro caso?"
   ]
  },
  {
   "cell_type": "code",
   "execution_count": null,
   "id": "4002a875",
   "metadata": {
    "slideshow": {
     "slide_type": "fragment"
    }
   },
   "outputs": [],
   "source": [
    "squares = [num**2 for num in range(10) if num % 2 == 0]\n",
    "squares"
   ]
  },
  {
   "cell_type": "markdown",
   "id": "d3066f88",
   "metadata": {
    "slideshow": {
     "slide_type": "subslide"
    }
   },
   "source": [
    "# Retomamos a las pelis de Dragon Ball\n",
    "Nuestro desafío era:\n",
    "\n",
    "> Queremos procesar las duraciones de las películas de Dragon Ball.\n",
    "\n",
    "Queremos saber:\n",
    "- cuál fue la duración, en minutos, promedio;\n",
    "- cuántas películas duran más que el promedio, en minutos.\n",
    "\n",
    "Ahora podemos plantear otra solución:"
   ]
  },
  {
   "cell_type": "code",
   "execution_count": null,
   "id": "51a9cfcf",
   "metadata": {
    "slideshow": {
     "slide_type": "subslide"
    }
   },
   "outputs": [],
   "source": [
    "movies_duration = [50, 48, 85, 93, 100]\n",
    "average = sum(movies_duration) / len(movies_duration)\n",
    "max_average = [n for n in movies_duration if n > average]\n",
    "max_average"
   ]
  },
  {
   "cell_type": "markdown",
   "id": "4a0072d3",
   "metadata": {
    "slideshow": {
     "slide_type": "subslide"
    }
   },
   "source": [
    "# DESAFÍO 4 \n",
    "\n",
    "> Dada una lista de palabras, generar otra lista con aquellos verbos en infinitivo.\n",
    "\n",
    "IMPORTANTE: solo vamos a comprobar que terminen en \"ar\", \"er\" o \"ir\".\n"
   ]
  },
  {
   "cell_type": "code",
   "execution_count": null,
   "id": "33e8de50",
   "metadata": {
    "slideshow": {
     "slide_type": "fragment"
    }
   },
   "outputs": [],
   "source": [
    "words = [\"c\", \"ir\", \"sol\", \"cantar\",\"correr\"]\n",
    "verbs = [pal for pal in words if pal.endswith((\"ar\", \"er\", \"ir\"))]\n",
    "verbs"
   ]
  },
  {
   "cell_type": "markdown",
   "id": "retired-latvia",
   "metadata": {
    "slideshow": {
     "slide_type": "subslide"
    }
   },
   "source": [
    "# Retomemos el desafío"
   ]
  },
  {
   "cell_type": "markdown",
   "id": "gross-parliament",
   "metadata": {
    "slideshow": {
     "slide_type": "fragment"
    }
   },
   "source": [
    "```\n",
    "Ingresar la duración de las películas.\n",
    "Calcular el promedio.\n",
    "Calcular cuántas películas duran más que el promedio.\n",
    "```\n",
    "Empecemos con **el primer proceso**: vamos a suponer que ingresamos datos hasta que ingresemos una duración igual a 0 (esto si no sabemos cuántas películas vamos a procesar).\n",
    "\n",
    "¿Cómo hacemos la iteración?"
   ]
  },
  {
   "cell_type": "markdown",
   "id": "ca3b7c46",
   "metadata": {
    "slideshow": {
     "slide_type": "subslide"
    }
   },
   "source": [
    "## ¿Qué otra cosa nos falta?"
   ]
  },
  {
   "cell_type": "code",
   "execution_count": null,
   "id": "effective-batman",
   "metadata": {
    "slideshow": {
     "slide_type": "fragment"
    }
   },
   "outputs": [],
   "source": [
    "my_list = [\"Leo\", 10]\n",
    "my_list.append(\"Dibu\")\n",
    "my_list.append(23)\n",
    "my_list"
   ]
  },
  {
   "cell_type": "markdown",
   "id": "applied-orientation",
   "metadata": {
    "slideshow": {
     "slide_type": "subslide"
    }
   },
   "source": [
    "# Ahora si resolvamos este proceso"
   ]
  },
  {
   "cell_type": "code",
   "execution_count": null,
   "id": "provincial-tutorial",
   "metadata": {
    "slideshow": {
     "slide_type": "fragment"
    }
   },
   "outputs": [],
   "source": [
    "#Ingresar las duraciones\n",
    "minutes = int(input(\"Ingresá la duración de una película de Dragon Ball (0 para finalizar)\"))\n",
    "movies_duration  = []\n",
    "while minutes != 0:\n",
    "    movies_duration .append(minutes)\n",
    "    minutes = int(input(\"Ingresá la duración de una película de Dragon Ball (0 para finalizar)\"))\n",
    "\n",
    "movies_duration"
   ]
  },
  {
   "cell_type": "markdown",
   "id": "863192e5",
   "metadata": {
    "slideshow": {
     "slide_type": "subslide"
    }
   },
   "source": [
    "## Calculamos el promedio"
   ]
  },
  {
   "cell_type": "code",
   "execution_count": null,
   "id": "53ec2f15",
   "metadata": {
    "slideshow": {
     "slide_type": "fragment"
    }
   },
   "outputs": [],
   "source": [
    "# Calculamos el promedio\n",
    "total = 0\n",
    "for movie in movies_duration:\n",
    "    total += movie\n",
    "\n",
    "average = total / len (movies_duration)\n",
    "average"
   ]
  },
  {
   "cell_type": "code",
   "execution_count": null,
   "id": "372e4a78",
   "metadata": {
    "slideshow": {
     "slide_type": "fragment"
    }
   },
   "outputs": [],
   "source": [
    "#Otra solución\n",
    "\n",
    "average = sum(movies_duration) / len(movies_duration)\n",
    "average"
   ]
  },
  {
   "cell_type": "markdown",
   "id": "e53a199a",
   "metadata": {
    "slideshow": {
     "slide_type": "fragment"
    }
   },
   "source": [
    "**¡IMPORTANTE!** Acá no estamos chequeando que la lista esté vacía!!!"
   ]
  },
  {
   "cell_type": "markdown",
   "id": "worthy-smell",
   "metadata": {
    "slideshow": {
     "slide_type": "subslide"
    }
   },
   "source": [
    "## Tarea para el hogar: terminar el DESAFÍO 3\n",
    "Datos según ChatGPT:\n",
    "\n",
    "```\n",
    "Película,Duración (minutos)\n",
    "Dragon Ball: La leyenda de Shenron,50\n",
    "Dragon Ball Z: Los guerreros de plata,48\n",
    "Dragon Ball Z: La batalla de los dioses,85\n",
    "Dragon Ball Z: La resurrección de Freezer,93\n",
    "Dragon Ball Super: Broly,100\n",
    "```"
   ]
  },
  {
   "cell_type": "markdown",
   "id": "downtown-audience",
   "metadata": {
    "slideshow": {
     "slide_type": "slide"
    }
   },
   "source": [
    "#  Funciones en Python: una forma de definir procesos o subprogramas\n",
    "\n",
    "Veamos un pseudocódigo de la solución del **DESAFÍO 3**:\n",
    "```\n",
    "Ingresar la duración de las películas.\n",
    "Calcular el promedio.\n",
    "Calcular cuántas películas duran más que el promedio.\n",
    "```\n",
    "\n",
    "Podríamos pensar en dividir en tres procesos: "
   ]
  },
  {
   "cell_type": "markdown",
   "id": "surprising-aging",
   "metadata": {
    "slideshow": {
     "slide_type": "subslide"
    }
   },
   "source": [
    "- En Python, usamos **funciones** para definir estos procesos.\n",
    "- Las funciones pueden recibir **parámetros**.\n",
    "- Y también retornan **siempre** un valor. Esto puede hacerse en forma implícita o explícita usando la sentencia **return**."
   ]
  },
  {
   "cell_type": "markdown",
   "id": "posted-strength",
   "metadata": {
    "slideshow": {
     "slide_type": "subslide"
    }
   },
   "source": [
    "# Ya usamos funciones\n",
    "\n",
    "\n",
    "- float(), int(), str()\n",
    "- len(), ord()\n",
    "- input(), print()"
   ]
  },
  {
   "cell_type": "markdown",
   "id": "79e3b09e",
   "metadata": {
    "slideshow": {
     "slide_type": "fragment"
    }
   },
   "source": [
    "En estos ejemplos, sólo **invocamos** a las funciones ya definidas. "
   ]
  },
  {
   "cell_type": "markdown",
   "id": "fe3e7381",
   "metadata": {
    "slideshow": {
     "slide_type": "subslide"
    }
   },
   "source": [
    "# Podemos definir nuestras propias funciones \n",
    "\n",
    "```python\n",
    "\tdef my_function(param1, param2):\n",
    "\t\tsentences\n",
    "\t\treturn <expression>\n",
    "```\n",
    "- **IMPORTANTE:** el cuerpo de la función debe estar **indentado**.\n"
   ]
  },
  {
   "cell_type": "markdown",
   "id": "wicked-prototype",
   "metadata": {
    "slideshow": {
     "slide_type": "subslide"
    }
   },
   "source": [
    "# Una posible función para el primer proceso del desafío:"
   ]
  },
  {
   "cell_type": "code",
   "execution_count": null,
   "id": "martial-tackle",
   "metadata": {
    "slideshow": {
     "slide_type": "fragment"
    }
   },
   "outputs": [],
   "source": [
    "def input_movies():\n",
    "    \"\"\" This function returns a list with the duration in minutes of the movies \"\"\"\n",
    "\n",
    "    minutes = int(input(\"Ingresá la duración de una película de Dragon Ball (0 para finalizar)\"))\n",
    "    movies_duration  = []\n",
    "    while minutes != 0:\n",
    "        movies_duration .append(minutes)\n",
    "        minutes = int(input(\"Ingresá la duración de una película de Dragon Ball (0 para finalizar)\"))\n",
    "\n",
    "    return movies_duration"
   ]
  },
  {
   "cell_type": "code",
   "execution_count": null,
   "id": "81e09dd9",
   "metadata": {
    "slideshow": {
     "slide_type": "fragment"
    }
   },
   "outputs": [],
   "source": [
    "movies = input_movies()\n",
    "movies"
   ]
  },
  {
   "cell_type": "markdown",
   "id": "former-orbit",
   "metadata": {
    "slideshow": {
     "slide_type": "subslide"
    }
   },
   "source": [
    "- **¡IMPORTANTE!** \n",
    "    - Definición vs. invocación.\n",
    "    - El docstring."
   ]
  },
  {
   "cell_type": "markdown",
   "id": "2e23a49f",
   "metadata": {
    "slideshow": {
     "slide_type": "subslide"
    }
   },
   "source": [
    "# El docstring\n",
    "\n",
    "- Es una secuencia de caracteres que describe la  función.\n",
    "- Se sugiere siempre utilizar  triples \".\n",
    "- **Son procesados por el intérprete.**"
   ]
  },
  {
   "cell_type": "code",
   "execution_count": null,
   "id": "f3a2f74c",
   "metadata": {
    "slideshow": {
     "slide_type": "fragment"
    }
   },
   "outputs": [],
   "source": [
    "#help(print)\n",
    "help(input_movies)"
   ]
  },
  {
   "cell_type": "markdown",
   "id": "7d43185f",
   "metadata": {
    "slideshow": {
     "slide_type": "subslide"
    }
   },
   "source": [
    "## ¿Qué pasa si no incluyo el **return**?"
   ]
  },
  {
   "cell_type": "code",
   "execution_count": null,
   "id": "debd5124",
   "metadata": {
    "slideshow": {
     "slide_type": "fragment"
    }
   },
   "outputs": [],
   "source": [
    "def function_without_return():\n",
    "    var = 10\n",
    "    print(var)\n",
    "    \n",
    "print(function_without_return())"
   ]
  },
  {
   "cell_type": "markdown",
   "id": "00e05967",
   "metadata": {
    "slideshow": {
     "slide_type": "subslide"
    }
   },
   "source": [
    "## Ahora observemos este código que implementa una posible solución al segundo proceso"
   ]
  },
  {
   "cell_type": "code",
   "execution_count": null,
   "id": "810e1e36",
   "metadata": {
    "slideshow": {
     "slide_type": "fragment"
    }
   },
   "outputs": [],
   "source": [
    "def average_calculation(movies_duration):\n",
    "    \"\"\" This function calculates the average of the lengths of the movies received by parameter.\n",
    "    movies_duration: is a list with the duration in minutes of the movies\n",
    "    \"\"\"\n",
    "    len_movies = len(movies_duration)\n",
    "    average = 0 if len_movies == 0 else sum(movies_duration) / len_movies\n",
    "    return average"
   ]
  },
  {
   "cell_type": "code",
   "execution_count": null,
   "id": "85544937",
   "metadata": {
    "slideshow": {
     "slide_type": "fragment"
    }
   },
   "outputs": [],
   "source": [
    "average_calculation(movies)"
   ]
  },
  {
   "cell_type": "markdown",
   "id": "b7b922fc",
   "metadata": {
    "slideshow": {
     "slide_type": "fragment"
    }
   },
   "source": [
    "- A diferencia de la función anterior, ésta tiene un parámetro.\n",
    "- ¿Hay distintas formas de pasar parámetros en Python? ¿Cómo podemos probar esto?"
   ]
  },
  {
   "cell_type": "markdown",
   "id": "77d6f3cd",
   "metadata": {
    "slideshow": {
     "slide_type": "subslide"
    }
   },
   "source": [
    "# DESAFÍO 5: tarea para el hogar\n",
    "- Definir la función restante para completar el desafío.\n",
    "- Escribir un programa que permita probar de qué forma se pasan los parámetros en Python.\n",
    "\n",
    "    **PISTA:** probar con una función que reciba un entero y otra que reciba una lista.\n",
    "\n"
   ]
  },
  {
   "cell_type": "markdown",
   "id": "63c4e075",
   "metadata": {
    "slideshow": {
     "slide_type": "slide"
    }
   },
   "source": [
    "# ¿Qué son los módulos en Python?"
   ]
  },
  {
   "cell_type": "markdown",
   "id": "63ad972f",
   "metadata": {
    "slideshow": {
     "slide_type": "subslide"
    }
   },
   "source": [
    "# <center> Un módulo es un archivo (con extensión .py)  que contiene sentencias y definiciones</center>\n",
    "<center> \n",
    "<img src=\"imagenes/modulos.png\" alt=\"Actividad inicial\" style=\"width:850px;\"/>\n",
    "</center>"
   ]
  },
  {
   "cell_type": "markdown",
   "id": "e1ca4759",
   "metadata": {
    "slideshow": {
     "slide_type": "fragment"
    }
   },
   "source": [
    "##### <center>¿Algo nuevo?</center> "
   ]
  },
  {
   "cell_type": "markdown",
   "id": "e9826c2e",
   "metadata": {
    "slideshow": {
     "slide_type": "subslide"
    }
   },
   "source": [
    "#  Analicemos un ejemplo en el IDE \n",
    "\n",
    "\n",
    "- ¿Cuántos archivos forman mi programa?\n",
    "- ¿Cómo se relacionan?\n",
    "<center> \n",
    "<img src=\"imagenes/sentencia_import.png\" alt=\"Actividad inicial\" style=\"width:950px;\"/>\n",
    "</center> \n"
   ]
  },
  {
   "cell_type": "markdown",
   "id": "457156d5",
   "metadata": {
    "slideshow": {
     "slide_type": "subslide"
    }
   },
   "source": [
    "# La sentencia import\n",
    "\n",
    "- Permite acceder a funciones y variables definidas en otro módulo."
   ]
  },
  {
   "cell_type": "code",
   "execution_count": null,
   "id": "595f364f",
   "metadata": {
    "slideshow": {
     "slide_type": "fragment"
    }
   },
   "outputs": [],
   "source": [
    "import random"
   ]
  },
  {
   "cell_type": "markdown",
   "id": "4988bace",
   "metadata": {
    "slideshow": {
     "slide_type": "fragment"
    }
   },
   "source": [
    "- Si el módulo contiene definiciones de funciones, sólo se importa estas definiciones, no las ejecuta.\n",
    "- Para ejecutar una función definida en otro módulo  **debo invocarla en forma explícita**."
   ]
  },
  {
   "cell_type": "code",
   "execution_count": null,
   "id": "9bb7195f",
   "metadata": {
    "slideshow": {
     "slide_type": "fragment"
    }
   },
   "outputs": [],
   "source": [
    "random.randrange(10)"
   ]
  },
  {
   "cell_type": "markdown",
   "id": "2220d5d6",
   "metadata": {
    "slideshow": {
     "slide_type": "subslide"
    }
   },
   "source": [
    "# Otra forma de importar\n",
    "\n",
    "```python\n",
    "\tfrom my_module import my_function\n",
    "```\n",
    "* Sólo se importa **my_function** de **my_module** (no el nombre del módulo).\n",
    "\n",
    "```python\n",
    "\tfrom my_module import *\n",
    "```\n",
    "\n",
    "* En este caso, importamos **todos los ítems** definidos en **my_module**."
   ]
  },
  {
   "cell_type": "markdown",
   "id": "6e532f5c",
   "metadata": {
    "slideshow": {
     "slide_type": "subslide"
    }
   },
   "source": [
    "* **Esta forma no está recomendada**: podrían existir conflictos de nombres. ¿Por qué?"
   ]
  },
  {
   "cell_type": "code",
   "execution_count": null,
   "id": "ecd3d96c",
   "metadata": {
    "slideshow": {
     "slide_type": "fragment"
    }
   },
   "outputs": [],
   "source": [
    "from random import choice\n",
    "numbers = [x ** 2 for x in range(1, 15, 2)]\n",
    "choice(numbers)"
   ]
  },
  {
   "cell_type": "code",
   "execution_count": null,
   "id": "7cbd1ba8",
   "metadata": {
    "slideshow": {
     "slide_type": "fragment"
    }
   },
   "outputs": [],
   "source": [
    "choice = 10\n",
    "choice"
   ]
  },
  {
   "cell_type": "markdown",
   "id": "7e42d069",
   "metadata": {
    "slideshow": {
     "slide_type": "subslide"
    }
   },
   "source": [
    "# Importando módulos\n",
    "\n",
    "```python\n",
    "\timport utils\n",
    "\n",
    "\tutils.one()\n",
    "```\n",
    "- La importación se realiza **sólo una vez por sesión del intérprete**.\n",
    "- Veamos sobre el ejemplo anterior."
   ]
  },
  {
   "cell_type": "markdown",
   "id": "717583de",
   "metadata": {
    "slideshow": {
     "slide_type": "subslide"
    }
   },
   "source": [
    "- Si necesito volver a importar podemos usar **reload()** incluido en el **módulo importlib**.\n",
    "\n",
    "```python\n",
    "\timport importlib\n",
    "\timportlib.reload(utils)\n",
    "```\n",
    "- [+Info en la documentación oficial](https://docs.python.org/3/library/importlib.html#module-importlib)"
   ]
  },
  {
   "cell_type": "markdown",
   "id": "93ec35ab",
   "metadata": {
    "slideshow": {
     "slide_type": "subslide"
    }
   },
   "source": [
    "### Veamos qué pasa cuando queremos importar un módulo que no existe:"
   ]
  },
  {
   "cell_type": "code",
   "execution_count": null,
   "id": "737798ec",
   "metadata": {
    "slideshow": {
     "slide_type": "fragment"
    }
   },
   "outputs": [],
   "source": [
    "import pp"
   ]
  },
  {
   "cell_type": "markdown",
   "id": "bf8832df",
   "metadata": {
    "slideshow": {
     "slide_type": "fragment"
    }
   },
   "source": [
    "### ¿Dónde se busca los módulos?\n",
    "\n",
    "- Directorio actual + otros directorios definidos en la variable de ambiente PYTHONPATH"
   ]
  },
  {
   "cell_type": "code",
   "execution_count": null,
   "id": "2a9b2668",
   "metadata": {
    "slideshow": {
     "slide_type": "fragment"
    }
   },
   "outputs": [],
   "source": [
    "import sys\n",
    "sys.path"
   ]
  },
  {
   "cell_type": "markdown",
   "id": "8d8c7dbf",
   "metadata": {
    "slideshow": {
     "slide_type": "subslide"
    }
   },
   "source": [
    "#  Los nombres de los módulos\n",
    "\n",
    "- Es posible acceder al  nombre de un módulo a través de **\\_\\_name__**"
   ]
  },
  {
   "cell_type": "code",
   "execution_count": null,
   "id": "61b9413b",
   "metadata": {
    "slideshow": {
     "slide_type": "fragment"
    }
   },
   "outputs": [],
   "source": [
    "print(__name__)"
   ]
  },
  {
   "cell_type": "markdown",
   "id": "adc8113d",
   "metadata": {
    "slideshow": {
     "slide_type": "subslide"
    }
   },
   "source": [
    "## ¿Cuándo un módulo se denomina  \\_\\_main__?"
   ]
  },
  {
   "cell_type": "markdown",
   "id": "f744eb35",
   "metadata": {
    "slideshow": {
     "slide_type": "fragment"
    }
   },
   "source": [
    "- Las instrucciones ejecutadas en el nivel de llamadas superior del intérprete, ya sea desde un script o interactivamente, se consideran parte del módulo llamado **\\_\\_main__**."
   ]
  },
  {
   "cell_type": "markdown",
   "id": "01b734ee",
   "metadata": {
    "slideshow": {
     "slide_type": "subslide"
    }
   },
   "source": [
    "```python\n",
    "#módulo utils\n",
    "print(f\"El nombre de este módulo es {__name__}\")\n",
    "\n",
    "if __name__ == \"__main__\":\n",
    "    one()\n",
    "```"
   ]
  },
  {
   "cell_type": "markdown",
   "id": "bd05eadd",
   "metadata": {
    "slideshow": {
     "slide_type": "subslide"
    }
   },
   "source": [
    "#  Agreguemos un menú al ejemplo anterior:\n",
    "\n",
    "<center> \n",
    "<img src=\"imagenes/name_main.png\" alt=\"_main_\" style=\"width:550px;\"/>\n",
    "</center> "
   ]
  },
  {
   "cell_type": "markdown",
   "id": "8bc81b6f",
   "metadata": {
    "slideshow": {
     "slide_type": "subslide"
    }
   },
   "source": [
    "# Primero: ¿qué hace?"
   ]
  },
  {
   "cell_type": "markdown",
   "id": "7602600a",
   "metadata": {
    "slideshow": {
     "slide_type": "fragment"
    }
   },
   "source": [
    "# Segundo:  ¿en qué casos se muestra el menú?"
   ]
  },
  {
   "cell_type": "markdown",
   "id": "0b24ff0b",
   "metadata": {
    "slideshow": {
     "slide_type": "fragment"
    }
   },
   "source": [
    "¿Es posible utilizar las funciones sin invocar el menú?"
   ]
  },
  {
   "cell_type": "code",
   "execution_count": null,
   "id": "c9b9fa43",
   "metadata": {
    "slideshow": {
     "slide_type": "subslide"
    }
   },
   "outputs": [],
   "source": [
    "if __name__ == \"__main__\":\n",
    "    print(\"\"\" Elegí una opción:\n",
    "    (1) one()\n",
    "    (2( two()\n",
    "    (3) three()\n",
    "    \"\"\")\n",
    "    option = int(input())\n",
    "    match option:\n",
    "        case 1: \n",
    "            one()\n",
    "        case 2:\n",
    "            two()\n",
    "        case 3:\n",
    "            three() "
   ]
  },
  {
   "cell_type": "markdown",
   "id": "f319113a",
   "metadata": {
    "slideshow": {
     "slide_type": "fragment"
    }
   },
   "source": [
    "# Ahora:  ¿en qué casos se muestra el menú?"
   ]
  },
  {
   "cell_type": "markdown",
   "id": "7131884c",
   "metadata": {
    "slideshow": {
     "slide_type": "slide"
    }
   },
   "source": [
    "# DESAFÍO 6: tarea para el hogar\n",
    "\n",
    "Reimplementar el desafío completo definiendo las funciones en un módulo pensando que las funciones se podrían invocar desde el módulo donde están definidas o desde otros módulos.\n",
    "\n",
    "- Los que quieran, pueden subir el código a su  repositorio en  GitHub y compartir el enlace a la cuenta **@clauBanchoff**\n"
   ]
  },
  {
   "cell_type": "markdown",
   "id": "7a6f526d",
   "metadata": {
    "slideshow": {
     "slide_type": "slide"
    }
   },
   "source": [
    "# Seguimos la próxima  ..."
   ]
  }
 ],
 "metadata": {
  "celltoolbar": "Slideshow",
  "kernelspec": {
   "display_name": "Python 3 (ipykernel)",
   "language": "python",
   "name": "python3"
  },
  "language_info": {
   "codemirror_mode": {
    "name": "ipython",
    "version": 3
   },
   "file_extension": ".py",
   "mimetype": "text/x-python",
   "name": "python",
   "nbconvert_exporter": "python",
   "pygments_lexer": "ipython3",
   "version": "3.11.8"
  }
 },
 "nbformat": 4,
 "nbformat_minor": 5
}
