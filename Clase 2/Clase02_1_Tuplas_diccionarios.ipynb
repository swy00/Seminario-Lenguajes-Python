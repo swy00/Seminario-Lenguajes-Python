{
 "cells": [
  {
   "cell_type": "markdown",
   "id": "private-distributor",
   "metadata": {
    "slideshow": {
     "slide_type": "slide"
    }
   },
   "source": [
    "# Seminario de Lenguajes - Python\n",
    "## Cursada 2024\n",
    "\n",
    "## Tuplas y diccionarios"
   ]
  },
  {
   "cell_type": "markdown",
   "id": "worthy-smell",
   "metadata": {
    "slideshow": {
     "slide_type": "slide"
    }
   },
   "source": [
    " # Trabajamos con listas\n",
    " \n",
    " ¿Se acuerdan de este método de str?"
   ]
  },
  {
   "cell_type": "code",
   "execution_count": null,
   "id": "eac7b2d1",
   "metadata": {
    "slideshow": {
     "slide_type": "fragment"
    }
   },
   "outputs": [],
   "source": [
    "my_list = \"Somos campeones del  mundo!!!\".split()\n",
    "my_list"
   ]
  },
  {
   "cell_type": "markdown",
   "id": "7aaf2287",
   "metadata": {
    "slideshow": {
     "slide_type": "fragment"
    }
   },
   "source": [
    "El método split, retorna una **lista** con los elementos de la cadena de caracteres. "
   ]
  },
  {
   "cell_type": "markdown",
   "id": "49b0414a",
   "metadata": {
    "slideshow": {
     "slide_type": "fragment"
    }
   },
   "source": [
    "Dijimos que una lista es una colección heterogénea de datos. \n",
    "Esto significa que:\n"
   ]
  },
  {
   "cell_type": "code",
   "execution_count": null,
   "id": "3f9d3d3e",
   "metadata": {
    "slideshow": {
     "slide_type": "fragment"
    }
   },
   "outputs": [],
   "source": [
    "my_list.append(10)\n",
    "my_list"
   ]
  },
  {
   "cell_type": "markdown",
   "id": "ff0e9966",
   "metadata": {
    "slideshow": {
     "slide_type": "subslide"
    }
   },
   "source": [
    "## ¿Qué otras operaciones podemos hacer con listas?"
   ]
  },
  {
   "cell_type": "markdown",
   "id": "rural-cable",
   "metadata": {
    "slideshow": {
     "slide_type": "slide"
    }
   },
   "source": [
    "# Slicing con listas\n",
    "\n",
    "-  Al igual que en el caso de las cadenas de caracteres, se puede obtener una porción de una lista usando el operador **\":\"**"
   ]
  },
  {
   "cell_type": "code",
   "execution_count": null,
   "id": "comparable-peninsula",
   "metadata": {
    "slideshow": {
     "slide_type": "fragment"
    }
   },
   "outputs": [],
   "source": [
    "vowels = [ \"a\", \"e\",\"i\", \"o\", \"u\"] \n",
    "print(vowels[1:3])"
   ]
  },
  {
   "cell_type": "markdown",
   "id": "arabic-strengthening",
   "metadata": {
    "slideshow": {
     "slide_type": "fragment"
    }
   },
   "source": [
    "- Si no se pone inicio o fin, se toma por defecto las posiciones de inicio y fin de la lista."
   ]
  },
  {
   "cell_type": "markdown",
   "id": "1d057e15",
   "metadata": {
    "slideshow": {
     "slide_type": "fragment"
    }
   },
   "source": [
    "- **Tarea para el hogar:** probar con índices negativos."
   ]
  },
  {
   "cell_type": "markdown",
   "id": "fifth-impression",
   "metadata": {
    "slideshow": {
     "slide_type": "slide"
    }
   },
   "source": [
    "# Tuplas: otro tipo de secuencias en Python\n",
    "\n",
    "- Al igual que las listas, son colecciones heterogéneas de datos ordenados."
   ]
  },
  {
   "cell_type": "code",
   "execution_count": null,
   "id": "super-macro",
   "metadata": {
    "slideshow": {
     "slide_type": "fragment"
    }
   },
   "outputs": [],
   "source": [
    "tuple = 1, 2 \n",
    "tuple1 = (1, 2)\n",
    "tuple2 = (1,)  # OJO con esto\n",
    "tuple3 = ()\n",
    "type(tuple2)"
   ]
  },
  {
   "cell_type": "markdown",
   "id": "071c5e11",
   "metadata": {
    "slideshow": {
     "slide_type": "subslide"
    }
   },
   "source": [
    " # Observemos detallamente el código del DESAFÍO 4 de la clase"
   ]
  },
  {
   "cell_type": "code",
   "execution_count": null,
   "id": "4321f7c3",
   "metadata": {
    "slideshow": {
     "slide_type": "fragment"
    }
   },
   "outputs": [],
   "source": [
    "words = [\"casa\", \"ir\", \"sol\", \"cantar\",\"correr\"]\n",
    "verbs = [pal for pal in words if pal.endswith((\"ar\", \"er\", \"ir\"))]\n",
    "verbs"
   ]
  },
  {
   "cell_type": "markdown",
   "id": "f3224959",
   "metadata": {
    "slideshow": {
     "slide_type": "fragment"
    }
   },
   "source": [
    "En este caso, estamos pasando una tupla como argumento al método **endswith**."
   ]
  },
  {
   "cell_type": "markdown",
   "id": "vocational-palace",
   "metadata": {
    "slideshow": {
     "slide_type": "subslide"
    }
   },
   "source": [
    "## ¿Cuál es la diferencia con las listas?\n",
    "\n",
    "Veamos las siguientes situaciones."
   ]
  },
  {
   "cell_type": "markdown",
   "id": "applied-lease",
   "metadata": {
    "slideshow": {
     "slide_type": "subslide"
    }
   },
   "source": [
    "# Tuplas vs. listas"
   ]
  },
  {
   "cell_type": "code",
   "execution_count": null,
   "id": "drawn-cuisine",
   "metadata": {
    "slideshow": {
     "slide_type": "fragment"
    }
   },
   "outputs": [],
   "source": [
    "my_tuple = (1, 2)\n",
    "my_list = [1, 2]\n",
    "\n",
    "elem = my_tuple[0]\n",
    "elem\n",
    "#print(len(my_tuple))"
   ]
  },
  {
   "cell_type": "markdown",
   "id": "dying-oriental",
   "metadata": {
    "slideshow": {
     "slide_type": "fragment"
    }
   },
   "source": [
    "- Se acceden a los elementos de igual manera: usando [] (empezando desde cero)\n",
    "- La función **len** retorna la cantidad de elementos en ambos casos.\n",
    "\n",
    "**¿Entonces?**"
   ]
  },
  {
   "cell_type": "markdown",
   "id": "e34e6b72",
   "metadata": {
    "slideshow": {
     "slide_type": "subslide"
    }
   },
   "source": [
    "## DIFERENCIA: las tuplas son INMUTABLES\n",
    "\n",
    "- Su tamaño y los valores de las mismas NO pueden cambiar."
   ]
  },
  {
   "cell_type": "code",
   "execution_count": null,
   "id": "subsequent-abuse",
   "metadata": {
    "slideshow": {
     "slide_type": "subslide"
    }
   },
   "outputs": [],
   "source": [
    "my_tuple = (1, 2)\n",
    "my_list = [1, 2]\n",
    "\n",
    "my_tuple[0] = \"uno\" # Esto da error\n",
    "my_tuple\n",
    "#my_tuple.append(\"algo\") # Esto da error"
   ]
  },
  {
   "cell_type": "markdown",
   "id": "republican-specification",
   "metadata": {
    "slideshow": {
     "slide_type": "fragment"
    }
   },
   "source": [
    "\n",
    "```\n",
    "TypeError: 'tuple' object does not support item assignment\n",
    "```\n",
    "### Tenemos que acostumbrarnos a leer los errores."
   ]
  },
  {
   "cell_type": "markdown",
   "id": "regulation-reaction",
   "metadata": {
    "slideshow": {
     "slide_type": "subslide"
    }
   },
   "source": [
    "# Obteniendo subtuplas"
   ]
  },
  {
   "cell_type": "code",
   "execution_count": null,
   "id": "fourth-tuition",
   "metadata": {
    "slideshow": {
     "slide_type": "fragment"
    }
   },
   "outputs": [],
   "source": [
    "my_tuple = (1, 2, 3, \"hola\")\n",
    "print(my_tuple[1:4])\n",
    "new_tuple = (\"nueva\",) + my_tuple[:2]\n",
    "print(new_tuple)"
   ]
  },
  {
   "cell_type": "code",
   "execution_count": null,
   "id": "italian-scroll",
   "metadata": {
    "slideshow": {
     "slide_type": "fragment"
    }
   },
   "outputs": [],
   "source": [
    "# ¿por qué da error este código?\n",
    "new_tupla = ('nueva') + my_tuple[1:3]\n",
    "new_tupla"
   ]
  },
  {
   "cell_type": "markdown",
   "id": "cloudy-feeling",
   "metadata": {
    "slideshow": {
     "slide_type": "slide"
    }
   },
   "source": [
    "# DESAFÍO 1\n",
    "> Volvemos a procesar las películas de Dragon Ball.\n",
    "\n",
    "Queremos saber:\n",
    "- cuál fue la duración, en minutos, promedio; y\n",
    "- **qué** películas duran más que el promedio, en minutos.\n",
    "\n",
    "¿Qué diferencia hay con el desafío 1?"
   ]
  },
  {
   "cell_type": "markdown",
   "id": "magnetic-compromise",
   "metadata": {
    "slideshow": {
     "slide_type": "fragment"
    }
   },
   "source": [
    "- Deberíamos ingresar no sólo las duraciones, sino también los nombres de las películas. \n",
    "- ¿Qué soluciones proponen?"
   ]
  },
  {
   "cell_type": "markdown",
   "id": "aerial-graph",
   "metadata": {
    "slideshow": {
     "slide_type": "subslide"
    }
   },
   "source": [
    "# ¿Qué les parece esta solución?"
   ]
  },
  {
   "cell_type": "code",
   "execution_count": null,
   "id": "separate-forward",
   "metadata": {
    "slideshow": {
     "slide_type": "fragment"
    }
   },
   "outputs": [],
   "source": [
    "movie = input(\"Ingresa el nombre de una película de Dragon Ball (<FIN> para finalizar)\")\n",
    "movies_list = []\n",
    "while movie != \"FIN\":\n",
    "    duration = int(input(f\"Ingresa la duración de la película {movie}\"))\n",
    "    movies_list.append((movie, duration))\n",
    "    movie = input(\"Ingresa el nombre de una película de Dragon Ball (<FIN> para finalizar)\")\n",
    "movies_list"
   ]
  },
  {
   "cell_type": "markdown",
   "id": "concerned-dealing",
   "metadata": {
    "slideshow": {
     "slide_type": "fragment"
    }
   },
   "source": [
    "- ¿Qué estructura de datos estoy usando?\n",
    "- Hay algo mejor..."
   ]
  },
  {
   "cell_type": "markdown",
   "id": "sound-edinburgh",
   "metadata": {
    "slideshow": {
     "slide_type": "subslide"
    }
   },
   "source": [
    "# Diccionarios en Python\n",
    "\n",
    "- Un diccionario es un conjunto **no ordenado** de pares de datos: **clave:valor**.\n",
    "- Se definen con **{** **}**."
   ]
  },
  {
   "cell_type": "code",
   "execution_count": null,
   "id": "induced-terrorist",
   "metadata": {
    "slideshow": {
     "slide_type": "fragment"
    }
   },
   "outputs": [],
   "source": [
    "movies = {\"Dragon Ball: La leyenda de Shenron\": 50,\n",
    "          \"Dragon Ball Z: Los guerreros de plata\": 48,\n",
    "          \"Dragon Ball Z: La batalla de los dioses\": 85,\n",
    "          \"Dragon Ball Z: La resurrección de Freezer\": 93,\n",
    "          \"Dragon Ball Super: Broly\": 100\n",
    "        }"
   ]
  },
  {
   "cell_type": "code",
   "execution_count": null,
   "id": "94506c3d",
   "metadata": {
    "slideshow": {
     "slide_type": "fragment"
    }
   },
   "outputs": [],
   "source": [
    "movies[\"Dragon Ball: La leyenda de Shenron\"]"
   ]
  },
  {
   "cell_type": "markdown",
   "id": "above-thunder",
   "metadata": {
    "slideshow": {
     "slide_type": "subslide"
    }
   },
   "source": [
    "# Las claves deben ser únicas e inmutables\n",
    "\n",
    "- Las **claves** pueden ser cualquier tipo **inmutable**.\n",
    "    - Las cadenas y números siempre pueden ser claves. \n",
    "    - Las tuplas se pueden usar sólo si no tienen objetos mutables. "
   ]
  },
  {
   "cell_type": "code",
   "execution_count": null,
   "id": "deadly-oklahoma",
   "metadata": {
    "slideshow": {
     "slide_type": "fragment"
    }
   },
   "outputs": [],
   "source": [
    "# Probar cuáles de las siguientes instrucciones dan error\n",
    "\n",
    "#my_dic = {\"uno\":1}\n",
    "#my_dic = {1: \"uno\"}\n",
    "#my_dic = {[1,2]: \"lista\"}\n",
    "#my_dic = {(1,2): \"tupla\"}\n",
    "#my_dic = {([1],2): \"tupla\"}\n",
    "#my_dic"
   ]
  },
  {
   "cell_type": "markdown",
   "id": "therapeutic-brooks",
   "metadata": {
    "slideshow": {
     "slide_type": "subslide"
    }
   },
   "source": [
    "# ¿Cómo accedemos a los elementos?\n",
    "\n",
    "- Al igual que las listas y tuplas, se accede usando **[ ]** pero en vez de un índice que representa la posición, **usamos la clave**.\n",
    "- Es un error extraer un valor usando una clave no existente.\n"
   ]
  },
  {
   "cell_type": "code",
   "execution_count": null,
   "id": "pleasant-sociology",
   "metadata": {
    "slideshow": {
     "slide_type": "fragment"
    }
   },
   "outputs": [],
   "source": [
    "months = {\"enero\": 31, \"febrero\": 28, \"marzo\": 31}\n",
    "months"
   ]
  },
  {
   "cell_type": "markdown",
   "id": "perfect-range",
   "metadata": {
    "slideshow": {
     "slide_type": "subslide"
    }
   },
   "source": [
    "# ¿Cómo agregamos elementos?\n",
    "\n",
    "- Si se usa una clave que ya está en uso para guardar un valor, el valor que estaba asociado con esa clave se pierde, si no está la clave, se agrega."
   ]
  },
  {
   "cell_type": "code",
   "execution_count": null,
   "id": "cardiovascular-louisiana",
   "metadata": {
    "slideshow": {
     "slide_type": "fragment"
    }
   },
   "outputs": [],
   "source": [
    "months[\"febrero\"] = 29\n",
    "months[\"abril\"] = 30\n",
    "months"
   ]
  },
  {
   "cell_type": "markdown",
   "id": "prerequisite-daniel",
   "metadata": {
    "slideshow": {
     "slide_type": "subslide"
    }
   },
   "source": [
    "# Volviendo al desafío planteado ... \n",
    "\n",
    "- Nos falta saber cómo definir un diccionario vacío para luego ir agregando los valores."
   ]
  },
  {
   "cell_type": "code",
   "execution_count": null,
   "id": "unlike-airplane",
   "metadata": {
    "slideshow": {
     "slide_type": "fragment"
    }
   },
   "outputs": [],
   "source": [
    "movie = input(\"Ingresa el nombre de una película de Dragon Ball (<FIN> para finalizar)\")\n",
    "dic_movies = {}\n",
    "while movie != \"FIN\":\n",
    "    duration = int(input(f\"Ingresa la duración de la película  {movie}\"))\n",
    "    dic_movies[movie] = duration\n",
    "    movie = input(\"Ingresa el nombre de una película de Dragon Ball (<FIN> para finalizar)\")\n",
    "dic_movies"
   ]
  },
  {
   "cell_type": "markdown",
   "id": "hungry-focus",
   "metadata": {
    "slideshow": {
     "slide_type": "subslide"
    }
   },
   "source": [
    "# ¿Cómo recorremos un diccionario?\n"
   ]
  },
  {
   "cell_type": "code",
   "execution_count": null,
   "id": "dependent-module",
   "metadata": {
    "slideshow": {
     "slide_type": "fragment"
    }
   },
   "outputs": [],
   "source": [
    "music = {\"rock\": [\"Riff\", \"La Renga\", \"La Torre\"], \n",
    "         \"blues\": [\"La Mississippi\", \"Memphis\"]}\n",
    "\n",
    "for elem in music:\n",
    "    print(elem)"
   ]
  },
  {
   "cell_type": "markdown",
   "id": "5d767f7a",
   "metadata": {
    "slideshow": {
     "slide_type": "fragment"
    }
   },
   "source": [
    "¿A qué referencia la variable **elem**?"
   ]
  },
  {
   "cell_type": "markdown",
   "id": "428af680",
   "metadata": {
    "slideshow": {
     "slide_type": "subslide"
    }
   },
   "source": [
    "Si queremos mostrar los valores:"
   ]
  },
  {
   "cell_type": "code",
   "execution_count": null,
   "id": "e1bee25d",
   "metadata": {
    "slideshow": {
     "slide_type": "fragment"
    }
   },
   "outputs": [],
   "source": [
    "music = {\"rock\": [\"Riff\", \"La Renga\", \"La Torre\"], \n",
    "          \"blues\": [\"La Mississippi\", \"Memphis\"]}\n",
    "\n",
    "for elem in music:\n",
    "    print(music[elem])"
   ]
  },
  {
   "cell_type": "markdown",
   "id": "therapeutic-henry",
   "metadata": {
    "slideshow": {
     "slide_type": "subslide"
    }
   },
   "source": [
    "# Existen algunos métodos útiles:"
   ]
  },
  {
   "cell_type": "code",
   "execution_count": null,
   "id": "consecutive-unemployment",
   "metadata": {
    "slideshow": {
     "slide_type": "fragment"
    }
   },
   "outputs": [],
   "source": [
    "music_keys = music.keys()\n",
    "music_values = music.values()\n",
    "music_items = music.items()"
   ]
  },
  {
   "cell_type": "code",
   "execution_count": null,
   "id": "aerial-willow",
   "metadata": {
    "slideshow": {
     "slide_type": "fragment"
    }
   },
   "outputs": [],
   "source": [
    "for elem in music_values:\n",
    "    print(elem) "
   ]
  },
  {
   "cell_type": "code",
   "execution_count": null,
   "id": "41b862e7-37c2-4d97-a5cc-5de8e5b8c643",
   "metadata": {
    "slideshow": {
     "slide_type": "fragment"
    }
   },
   "outputs": [],
   "source": [
    "music_keys"
   ]
  },
  {
   "cell_type": "code",
   "execution_count": null,
   "id": "2f107f2a-575c-4a37-b09a-25ce75c07f83",
   "metadata": {
    "slideshow": {
     "slide_type": "fragment"
    }
   },
   "outputs": [],
   "source": [
    "type(music_keys)"
   ]
  },
  {
   "cell_type": "markdown",
   "id": "64963a66",
   "metadata": {
    "slideshow": {
     "slide_type": "fragment"
    }
   },
   "source": [
    "Probar: ¿cómo procesamos los datos obtenidos por el método items? "
   ]
  },
  {
   "cell_type": "markdown",
   "id": "extreme-oliver",
   "metadata": {
    "slideshow": {
     "slide_type": "subslide"
    }
   },
   "source": [
    "# El operador in en diccionarios\n",
    "¿Verifica en las claves o los valores?"
   ]
  },
  {
   "cell_type": "code",
   "execution_count": null,
   "id": "cultural-decision",
   "metadata": {
    "slideshow": {
     "slide_type": "fragment"
    }
   },
   "outputs": [],
   "source": [
    "music = {\"rock\": [\"Riff\", \"La Renga\", \"La Torre\"], \n",
    "          \"blues\": [\"La Mississippi\", \"Memphis\"]}\n",
    "\"rock\" in music"
   ]
  },
  {
   "cell_type": "markdown",
   "id": "imposed-partner",
   "metadata": {
    "slideshow": {
     "slide_type": "subslide"
    }
   },
   "source": [
    "# Observemos este código"
   ]
  },
  {
   "cell_type": "code",
   "execution_count": null,
   "id": "primary-reset",
   "metadata": {
    "slideshow": {
     "slide_type": "fragment"
    }
   },
   "outputs": [],
   "source": [
    "months = {\"enero\": 31, \"febrero\": 28, \"marzo\": 31}\n",
    "months1 = months\n",
    "months2 = months.copy()\n",
    "print(id(months))\n",
    "print(id(months1))\n",
    "print(id(months2))"
   ]
  },
  {
   "cell_type": "markdown",
   "id": "functioning-development",
   "metadata": {
    "slideshow": {
     "slide_type": "fragment"
    }
   },
   "source": [
    "¿Qué significa?"
   ]
  },
  {
   "cell_type": "code",
   "execution_count": null,
   "id": "suffering-quilt",
   "metadata": {
    "slideshow": {
     "slide_type": "fragment"
    }
   },
   "outputs": [],
   "source": [
    "months1[\"abril\"] = 30\n",
    "months2[\"abril\"] = 43\n",
    "months"
   ]
  },
  {
   "cell_type": "markdown",
   "id": "northern-appliance",
   "metadata": {
    "slideshow": {
     "slide_type": "subslide"
    }
   },
   "source": [
    "# Más operaciones\n",
    "\n",
    "**Probar:**\n",
    "\n",
    "- **del**: permite borrar un par clave:valor\n",
    "- **clear()**: permite borrar todo\n"
   ]
  },
  {
   "cell_type": "code",
   "execution_count": null,
   "id": "76fedc8c",
   "metadata": {
    "slideshow": {
     "slide_type": "fragment"
    }
   },
   "outputs": [],
   "source": [
    "# Probamos del y clear"
   ]
  },
  {
   "cell_type": "markdown",
   "id": "imposed-maple",
   "metadata": {
    "slideshow": {
     "slide_type": "subslide"
    }
   },
   "source": [
    "# Otra forma de crear diccionarios\n",
    "\n",
    "- Podemos usar **dict()**.\n",
    "- Se denomia \"constructor\" y crea un diccionario directamente desde una secuencia de pares clave-valor. "
   ]
  },
  {
   "cell_type": "code",
   "execution_count": null,
   "id": "recovered-karen",
   "metadata": {
    "slideshow": {
     "slide_type": "fragment"
    }
   },
   "outputs": [],
   "source": [
    "months = dict([(\"enero\", 31), (\"febrero\", 28), (\"marzo\", 31)])\n",
    "months"
   ]
  },
  {
   "cell_type": "markdown",
   "id": "04d89398",
   "metadata": {
    "slideshow": {
     "slide_type": "fragment"
    }
   },
   "source": [
    "- ¿Qué tipos de datos se pueden usar para la secuencia?\n",
    "- ¿Y para los pares clave-valor?"
   ]
  },
  {
   "cell_type": "markdown",
   "id": "sacred-berkeley",
   "metadata": {
    "slideshow": {
     "slide_type": "subslide"
    }
   },
   "source": [
    "# Por comprensión"
   ]
  },
  {
   "cell_type": "code",
   "execution_count": null,
   "id": "basic-destiny",
   "metadata": {
    "slideshow": {
     "slide_type": "fragment"
    }
   },
   "outputs": [],
   "source": [
    "dict ([(x, x**2) for x in (2, 4, 6)]) "
   ]
  },
  {
   "cell_type": "code",
   "execution_count": null,
   "id": "inner-arlington",
   "metadata": {
    "slideshow": {
     "slide_type": "fragment"
    }
   },
   "outputs": [],
   "source": [
    "import string\n",
    "\n",
    "ascii_numbers = dict([(n, ord(n)) for n in string.digits])\n",
    "ascii_numbers"
   ]
  },
  {
   "cell_type": "markdown",
   "id": "7a6f526d",
   "metadata": {
    "slideshow": {
     "slide_type": "slide"
    }
   },
   "source": [
    "<center>\n",
    "<img src=\"imagenes/portada_video.png\" alt=\"nos vemos el martes\" style=\"width:1050px;\"/>\n",
    "</center>"
   ]
  }
 ],
 "metadata": {
  "celltoolbar": "Slideshow",
  "kernelspec": {
   "display_name": "Python 3 (ipykernel)",
   "language": "python",
   "name": "python3"
  },
  "language_info": {
   "codemirror_mode": {
    "name": "ipython",
    "version": 3
   },
   "file_extension": ".py",
   "mimetype": "text/x-python",
   "name": "python",
   "nbconvert_exporter": "python",
   "pygments_lexer": "ipython3",
   "version": "3.11.8"
  }
 },
 "nbformat": 4,
 "nbformat_minor": 5
}
