{
 "cells": [
  {
   "cell_type": "markdown",
   "metadata": {},
   "source": [
    "#PRACTICA 2"
   ]
  },
  {
   "cell_type": "markdown",
   "metadata": {},
   "source": [
    "###Ejercicio 1"
   ]
  },
  {
   "cell_type": "code",
   "execution_count": 2,
   "metadata": {},
   "outputs": [],
   "source": [
    "readme = \"\"\"Powered by NumFOCUS PyPI Downloads Conda Downloads Stack Overflow Nature Paper OpenSSF Scorecard\n",
    "\n",
    "NumPy is the fundamental package for scientific computing with Python.\n",
    "\n",
    "Website: https://www.numpy.org\n",
    "Documentation: https://numpy.org/doc\n",
    "Mailing list: https://mail.python.org/mailman/listinfo/numpy-discussion\n",
    "Source code: https://github.com/numpy/numpy\n",
    "Contributing: https://www.numpy.org/devdocs/dev/index.html\n",
    "Bug reports: https://github.com/numpy/numpy/issues\n",
    "Report a security vulnerability: https://tidelift.com/docs/security\n",
    "It provides:\n",
    "\n",
    "a powerful N-dimensional array object\n",
    "sophisticated (broadcasting) functions\n",
    "tools for integrating C/C++ and Fortran code\n",
    "useful linear algebra, Fourier transform, and random number capabilities\n",
    "Testing:\n",
    "\n",
    "NumPy requires pytest and hypothesis. Tests can then be run after installation with:\n",
    "\n",
    "python -c \"import numpy, sys; sys.exit(numpy.test() is False)\"\n",
    "Code of Conduct\n",
    "NumPy is a community-driven open source project developed by a diverse group of contributors. The NumPy leadership has made a strong commitment to creating an open, inclusive, and positive community. Please read the NumPy Code of Conduct for guidance on how to interact with others in a way that makes our community thrive.\n",
    "\n",
    "Call for Contributions\n",
    "The NumPy project welcomes your expertise and enthusiasm!\n",
    "\n",
    "Small improvements or fixes are always appreciated. If you are considering larger contributions to the source code, please contact us through the mailing list first.\n",
    "\n",
    "Writing code isn’t the only way to contribute to NumPy. You can also:\n",
    "\n",
    "review pull requests\n",
    "help us stay on top of new and old issues\n",
    "develop tutorials, presentations, and other educational materials\n",
    "maintain and improve our website\n",
    "develop graphic design for our brand assets and promotional materials\n",
    "translate website content\n",
    "help with outreach and onboard new contributors\n",
    "write grant proposals and help with other fundraising efforts\n",
    "For more information about the ways you can contribute to NumPy, visit our website. If you’re unsure where to start or how your skills fit in, reach out! You can ask on the mailing list or here, on GitHub, by opening a new issue or leaving a comment on a relevant issue that is already open.\n",
    "\n",
    "Our preferred channels of communication are all public, but if you’d like to speak to us in private first, contact our community coordinators at numpy-team@googlegroups.com or on Slack (write numpy-team@googlegroups.com for an invitation).\n",
    "\n",
    "We also have a biweekly community call, details of which are announced on the mailing list. You are very welcome to join.\n",
    "\n",
    "If you are new to contributing to open source, this guide helps explain why, what, and how to successfully get involved.\"\"\""
   ]
  },
  {
   "cell_type": "code",
   "execution_count": null,
   "metadata": {},
   "outputs": [],
   "source": [
    "separado = list(filter(None, readme.split('\\n'))) #Uso filter para eliminar las lineas vacias\n",
    "\n",
    "for i in separado:\n",
    "    palabra = i.split(\" \")\n",
    "    #Tengo que checkear renglones con 1 sola palabra\n",
    "    if len(palabra) > 1 and palabra[1][0].lower() in \"aeiou\":\n",
    "        print(\"\\n ----La segunda palabra empieza con vocal----\")\n",
    "        print(f\" {i} \\n\")"
   ]
  },
  {
   "cell_type": "markdown",
   "metadata": {},
   "source": [
    "###Ejercicio 2"
   ]
  },
  {
   "cell_type": "code",
   "execution_count": null,
   "metadata": {},
   "outputs": [],
   "source": [
    "#Creo una diccionario para llevar la cuenta de las palabras\n",
    "palabras = readme.lower().split(\" \")\n",
    "c={}\n",
    "#Creo el diccionario ya filtrando la cantida de caracteres\n",
    "for i in palabras:\n",
    "    i = i.strip(\";:,.¿?!¡(){}'\")\n",
    "    if len(i) > 4:\n",
    "        if i in c:\n",
    "            c[i]+=1\n",
    "        else:\n",
    "            c[i]=1\n",
    "\n",
    "print(f\" {max(c,key=c.get)} aparece {c[max(c,key=c.get)]} veces haciendo que sea la palabra con mas de 4 caracteres que mas se repite.\")"
   ]
  },
  {
   "cell_type": "markdown",
   "metadata": {},
   "source": [
    "###Ejercicio 2 - usando COUNTER"
   ]
  },
  {
   "cell_type": "code",
   "execution_count": null,
   "metadata": {},
   "outputs": [],
   "source": [
    "from collections import Counter\n",
    "palabras = readme.lower().split(\" \")\n",
    "limpio=(i.strip(\";:,.¿?!¡(){}'\"\"\") for i in palabras if len(i)>4)\n",
    "c= Counter(limpio)\n",
    "\n",
    "print(f\" {max(c,key=c.get)} aparece {c[max(c,key=c.get)]} veces haciendo que sea la palabra con mas de 4 caracteres que mas se repite.\")"
   ]
  },
  {
   "cell_type": "markdown",
   "metadata": {},
   "source": [
    "###Ejercicio 3"
   ]
  },
  {
   "cell_type": "code",
   "execution_count": null,
   "metadata": {},
   "outputs": [],
   "source": [
    "jupyter_info = \"\"\" JupyterLab is a web-based interactive development \n",
    "environment for Jupyter notebooks, code, and data. JupyterLab is \n",
    "flexible: configure and arrange the user interface to support a wide \n",
    "range of workflows in data science, scientific computing, and machine \n",
    "learning. JupyterLab is extensible and modular: write plugins that add\n",
    "new components and integrate with existing ones. \"\"\"\n",
    "\n",
    "#Solicitar por teclado una letra\n",
    "c = jupyter_info.split(' ')\n",
    "letra=input('Ingresar una letra').lower()\n",
    "if len(letra)==1 and (letra.isalpha()):\n",
    "    for i in c:\n",
    "        i = i.strip(\";:,.¿?!¡(){}'\")\n",
    "        if letra in i:\n",
    "            print(i)\n",
    "else: \n",
    "    print('ERROR, el input no es UNA letra')"
   ]
  },
  {
   "cell_type": "markdown",
   "metadata": {},
   "source": [
    "###Ejercicio 4"
   ]
  },
  {
   "cell_type": "code",
   "execution_count": null,
   "metadata": {},
   "outputs": [],
   "source": [
    "word = input(\"Ingresá una palabra: \")\n",
    "if \"a\" and \"n\" in word:\n",
    "    print(\"Hay al menos una letra a y n.\")\n",
    "else:\n",
    "    print(\"No hay letras a y n. \")"
   ]
  },
  {
   "cell_type": "markdown",
   "metadata": {},
   "source": [
    "###Ejercicio 5"
   ]
  },
  {
   "cell_type": "code",
   "execution_count": null,
   "metadata": {},
   "outputs": [],
   "source": [
    "article = \"\"\" título: Experiences in Developing a Distributed Agent-\n",
    "based Modeling Toolkit with Python Version 3\n",
    "resumen: Distributed agent-based modeling (ABM) on high-performance \n",
    "computing resources provides the promise of capturing unprecedented \n",
    "details of large-scale complex systems. However, the specialized \n",
    "knowledge required for developing such ABMs creates barriers to wider \n",
    "adoption and utilization. Here we present our experiences in \n",
    "developing an initial implementation of Repast4Py, a Python-based \n",
    "distributed ABM toolkit. We build on our experiences in developing ABM\n",
    "toolkits, including Repast for High Performance Computing (Repast \n",
    "HPC), to identify the key elements of a useful distributed ABM \n",
    "toolkit. We leverage the Numba, NumPy, and PyTorch packages and the \n",
    "Python C-API to create a scalable modeling system that can exploit the\n",
    "largest HPC resources and emerging computing architectures. \"\"\"\n",
    "\n",
    "#Encuentro el inicio y fin, ignoro la palabra clave del principio con el \"+len(asd)\"\" y con .strip elimino los espacios vacios\n",
    "titulo = article[(article.find(\"título:\")+ len(\"título:\")):(article.find(\"resumen:\"))].strip()\n",
    "resumen = article[(article.find(\"resumen:\")+ len(\"resumen:\")):(len(article))].strip()\n",
    "\n",
    "#Como los numeros no cuentan, los elimino de los strings\n",
    "titulo = ''.join(i for i in titulo if not i.isdigit())\n",
    "resumen = ''.join(i for i in resumen if not i.isdigit())\n",
    "#Recorro oracion por oracion y veo si cumple las condiciones\n",
    "oraciones = resumen.split(\".\")\n",
    "facil=0\n",
    "aceptable=0\n",
    "dificil=0\n",
    "muy_dificil =0\n",
    "for i in oraciones:\n",
    "    palabras_oracion=i.split()\n",
    "    if len(palabras_oracion) <= 12:\n",
    "        facil+=1\n",
    "    elif 13 <= len(palabras_oracion) <= 17:\n",
    "        aceptable+=1\n",
    "    elif 18 <= len(palabras_oracion) <= 25:\n",
    "        dificil += 1\n",
    "    else:\n",
    "        muy_dificil += 1\n",
    "\n",
    "informe_titulo = \"not ok\" if len(titulo.split()) > 10 else \"ok\"\n",
    "print(f\"titulo: {informe_titulo}\\nCantidad de oraciones faciles de leer: {facil}, aceptables para leer:{aceptable},dificil de leer: {dificil}, muy dificil de leer {muy_dificil}.\")"
   ]
  },
  {
   "cell_type": "markdown",
   "metadata": {},
   "source": [
    "###Ejercicio 6"
   ]
  },
  {
   "cell_type": "code",
   "execution_count": null,
   "metadata": {},
   "outputs": [],
   "source": [
    "from collections import Counter\n",
    "frase= input(\"Ingrese una frase :\")\n",
    "text=input(\"Ingrese el string a informar: \").lower()\n",
    "puntuaciones = \";:,.¿?!¡(){}'\"\n",
    "\n",
    "frase_limpia = \"\"\n",
    "for i in frase:\n",
    "    if i not in puntuaciones:\n",
    "        frase_limpia += i.lower()\n",
    "#Creo la lista de palabras\n",
    "lista= frase_limpia.split(\" \")\n",
    "c={}\n",
    "c=Counter(lista)\n",
    "\n",
    "print(f'Para la frase: \"{frase}\"\\nPalabra: {text}\\nResultado: {(c[text] if text in c else \"No se encuentra en la frase\")}')"
   ]
  },
  {
   "cell_type": "markdown",
   "metadata": {},
   "source": [
    "###Ejercicio 7"
   ]
  },
  {
   "cell_type": "code",
   "execution_count": null,
   "metadata": {},
   "outputs": [],
   "source": [
    "text = \"\"\" La brecha salarial alcanzó el 27,7%: las mujeres ocupadas \n",
    "debieron trabajar 8 días y 10 horas más que los varones ocupados para \n",
    "ganar lo mismo que ellos en un mes. \"\"\"\n",
    "mayuscula=0\n",
    "minuscula=0\n",
    "no_letra=0\n",
    "for i in text:\n",
    "    if i.isalpha():\n",
    "        if i.isupper():\n",
    "            mayuscula+=1\n",
    "        else:\n",
    "            minuscula+=1\n",
    "    else:\n",
    "        if i.strip() != \"\":\n",
    "            no_letra += 1\n",
    "text_limpio=\"\"\n",
    "cantidad_palabras=0\n",
    "for i in text.split(\" \"):\n",
    "    if (len(i)!=0) and (i[0].isalpha() or i[0]==\"\\n\"):\n",
    "        print(i)\n",
    "        text_limpio+=\" \"+i\n",
    "        cantidad_palabras+=1\n",
    "\n",
    "print(f\"En la frase hay {mayuscula} letras mayuscula,{minuscula} letras minuscula y {no_letra} caracteres especiales.\\nEn la frase hay {cantidad_palabras} palabras.\")"
   ]
  },
  {
   "cell_type": "markdown",
   "metadata": {},
   "source": [
    "###Ejercicio 8"
   ]
  },
  {
   "cell_type": "code",
   "execution_count": null,
   "metadata": {},
   "outputs": [],
   "source": [
    "palabra = input(\"Ingresar una palabra o frase: \")\n",
    "repetida = False\n",
    "contador = 0\n",
    "#Limpio la palabra\n",
    "palabra_limpia = ''.join(caracter.lower() for caracter in palabra if caracter.isalpha())\n",
    "#Recorro la palabra verificando la cantidad de veces que aparece una letra\n",
    "for i in palabra_limpia:\n",
    "    if palabra_limpia.count(i) > 1:\n",
    "        repetida = True\n",
    "        break\n",
    "print(\"No es un Heterograma\" if repetida else \"Si es un Heterograma\")"
   ]
  },
  {
   "cell_type": "markdown",
   "metadata": {},
   "source": [
    "###Ejercicio 9"
   ]
  },
  {
   "cell_type": "code",
   "execution_count": null,
   "metadata": {},
   "outputs": [],
   "source": [
    "tabla_valores={\n",
    "        'a': 1, 'b': 3, 'c': 3, 'd': 2, 'e': 1, 'f': 4, 'g': 2, 'h': 4, \n",
    "        'i': 1, 'j': 8,'k': 5, 'l': 1, 'm': 3, 'n': 1, 'o': 1, 'p': 3, 'q': 10, \n",
    "        'r': 1, 's': 1, 't': 1,'u': 1, 'v': 4, 'w': 4, 'x': 8, 'y': 4, 'z': 10}\n",
    "palabra=input(\"Ingrese una palabra: \").lower()\n",
    "valor=0\n",
    "#Recorro letra por letra, y voy sumando el valor de cada una al total.\n",
    "for i in palabra:\n",
    "    valor+= tabla_valores.get(i)\n",
    "\n",
    "print(f\"Palabra: {palabra}\\nValor: {valor}\")\n",
    "\"\"\"\n",
    "    if i in \"aeioulnrst\":\n",
    "        valor+=1\n",
    "    elif i in \"dg\":\n",
    "        valor+=2\n",
    "    elif i in \"bcmp\":\n",
    "        valor+=3\n",
    "    elif i in \"fhvwy\":\n",
    "        valor+=4\n",
    "    elif i in \"k\":\n",
    "        valor+=5\n",
    "    elif i in \"jx\":\n",
    "        valor+=8\n",
    "    elif i in \"qz\":\n",
    "        valor+=10\n",
    "    else:\n",
    "        valor+=0\n",
    "\"\"\""
   ]
  },
  {
   "cell_type": "markdown",
   "metadata": {},
   "source": [
    "###Ejercicio 10"
   ]
  },
  {
   "cell_type": "code",
   "execution_count": null,
   "metadata": {},
   "outputs": [],
   "source": []
  }
 ],
 "metadata": {
  "kernelspec": {
   "display_name": "Python 3",
   "language": "python",
   "name": "python3"
  },
  "language_info": {
   "codemirror_mode": {
    "name": "ipython",
    "version": 3
   },
   "file_extension": ".py",
   "mimetype": "text/x-python",
   "name": "python",
   "nbconvert_exporter": "python",
   "pygments_lexer": "ipython3",
   "version": "3.11.2"
  }
 },
 "nbformat": 4,
 "nbformat_minor": 2
}
