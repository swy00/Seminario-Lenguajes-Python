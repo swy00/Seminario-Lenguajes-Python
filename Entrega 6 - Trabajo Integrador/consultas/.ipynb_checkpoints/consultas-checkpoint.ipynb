{
 "cells": [
  {
   "cell_type": "markdown",
   "metadata": {},
   "source": [
    "## Consulta"
   ]
  },
  {
   "cell_type": "code",
   "execution_count": null,
   "metadata": {},
   "outputs": [],
   "source": [
    "import csv\n",
    "import pathlib\n",
    "import consultas_module\n",
    "\n",
    "custom_airports = pathlib.Path('../datasets/custom_datasets/ar-airports.csv')\n",
    "argentina_cities = pathlib.Path(\"../datasets/original_datasets/ar.csv\")\n",
    "custom_conectividad=pathlib.Path('../datasets/custom_datasets/Conectividad_Internet.csv')\n",
    "custom_poblacion=pathlib.Path('../datasets/custom_datasets/c2022_tp_c_resumen_adaptado.csv')"
   ]
  },
  {
   "cell_type": "markdown",
   "metadata": {},
   "source": [
    "**1**. Los diferentes tipos de aeropuertos según la columna 'type'"
   ]
  },
  {
   "cell_type": "code",
   "execution_count": null,
   "metadata": {},
   "outputs": [],
   "source": [
    "# Open database and creates a list that will used multiple times.\n",
    "with(custom_airports.open(mode='r', newline='', encoding='utf-8') as read_airports):\n",
    "\tairports = csv.reader(read_airports)\n",
    "\tnext(airports)\n",
    "\tlist_airports = list(airports)\n",
    "\n",
    "# Database design\n",
    "airport_type = 2\n",
    "airport_name = 3\n",
    "elevation_ft = 6\n",
    "elevation_type = -2"
   ]
  },
  {
   "cell_type": "code",
   "execution_count": null,
   "metadata": {},
   "outputs": [],
   "source": [
    "#Prints the set of airports in airports database\n",
    "print(\"Tipos de aeropuertos:\")\n",
    "for airport_type in set(map(lambda x: x[airport_type], list_airports)):\n",
    "\tprint(f\"\\u2022 {airport_type}\")"
   ]
  },
  {
   "cell_type": "markdown",
   "metadata": {},
   "source": [
    "**2**. Los aeropuertos de una elevación, (bajo, medio, alto) cuya especificación se permita modificar fácilmente, evaluando la columna creada 'elevation_name'."
   ]
  },
  {
   "cell_type": "code",
   "execution_count": null,
   "metadata": {},
   "outputs": [],
   "source": [
    "while True:\n",
    "\t# Requires elevation type search input\n",
    "\televation = input(f\"Indique la elevación del aeropuerto buscada: \\n 1️⃣ bajo,\\n 2️⃣ medio o\\n 3️⃣ altos\")\n",
    "\t# Verifies that the input is valid\n",
    "\tif elevation == \"1\" or elevation == \"2\" or elevation == \"3\":\n",
    "\t\tmatch int(elevation):\n",
    "\t\t\tcase 1: elevation = \"bajo\"\n",
    "\t\t\tcase 2: elevation = \"medio\"\n",
    "\t\t\tcase 3: elevation = \"altos\"\n",
    "\t\tbreak\n",
    "\tprint(\"Por favor, ingrese 1️⃣, 2️⃣ o 3️⃣\")\n",
    "print(f\"Los siguientes aeropuertos se encuentran a una elevación {elevation}:\")\n",
    "for line in list_airports:\n",
    "\tif line[elevation_type] == elevation:\n",
    "\t\t# Prints matches\n",
    "\t\tprint(f\"\\u2022 {line[airport_name]}\")"
   ]
  },
  {
   "cell_type": "markdown",
   "metadata": {},
   "source": [
    "**3**. Los aeropuertos que tienen una mayor o menor elevación con respecto al valor numérico dado."
   ]
  },
  {
   "cell_type": "code",
   "execution_count": null,
   "metadata": {},
   "outputs": [],
   "source": [
    "while True:\n",
    "\t# Requires greater or smaller input\n",
    "\tcomparison = input(\"¿Busca un valor 1️⃣ mayor o 2️⃣ menor?\")\n",
    "\t# Verifies that the input is valid\n",
    "\tif comparison == \"1\" or comparison == \"2\":\n",
    "\t\tmatch int(comparison):\n",
    "\t\t\tcase 1: comparison = \"mayor\"\n",
    "\t\t\tcase 2: comparison = \"menor\"\n",
    "\t\tbreak\n",
    "\tprint(\"Ingrese 1️⃣ mayor o 2️⃣ menor\")\n",
    "while True:\n",
    "\t# Requires elevation input\n",
    "\telev_mt = input(\"Indique la elevación (en metros) a comparar\")\n",
    "\t# Verifies that the input is valid\n",
    "\tif elev_mt.isdigit():\n",
    "\t\telev_mt = int(elev_mt)\n",
    "\t\telev_ft = elev_mt / 0.3048\n",
    "\t\tbreak\n",
    "\tprint(\"Ingrese un número\")\n",
    "print(f\"Los aeropuertos con una altura {comparison} a {elev_mt} metros son:\")\n",
    "for line in list_airports:\n",
    "\t#Verifies that the dataset includes the elevation ft\n",
    "\tif line[elevation_ft]:\n",
    "\t\tif comparison == \"mayor\" and int(line[elevation_ft]) > elev_ft or comparison == \"menor\" and int(line[elevation_ft]) < elev_ft:\n",
    "\t\t\t# Prints matches\n",
    "\t\t\tprint(f\"\\u2022 {line[airport_name]}\")"
   ]
  },
  {
   "cell_type": "markdown",
   "metadata": {},
   "source": [
    "**4**. Los aeropuertos, lagos y tipo de conectividad en provincias con población mayor o menor a un valor que se pueda especificar fácilmente "
   ]
  },
  {
   "cell_type": "code",
   "execution_count": null,
   "metadata": {},
   "outputs": [],
   "source": [
    "option = input(f'''Ingresar número de poblacion junto a:\n",
    "\t\t\t\t+\"num\" para mostrar poblacion mayor al valor\n",
    "\t\t\t\t-\"num\" para mostrar poblacion menor al valor''')\n",
    "# Verifico que el input sea correcto, UN solo signo seguido de numeros.\n",
    "if option[0] == '+' or option[0] == '-':\n",
    "\tnum = option[1:]  \n",
    "\tif num.isdigit():  \n",
    "\t\t# Identifico provincias que cumplen el requisito\n",
    "\t\tprovince = consultas_module.filter_provinces(num,'mayor') if option[0] == \"+\" else consultas_module.filter_provinces(num,'menor')\n",
    "\t\t# Imprimo aeropuertos, lagos y conectividad de las provincias que cumplen\n",
    "\t\tconsultas_module.show_info(province)\n",
    "\telse:\n",
    "\t\tprint('Formato input incorrecto, debe ser UN solo [+ o -] seguido por un numero.')\n",
    "else:\n",
    "\tprint('Input incorrecto, debe comenzar especificando si es +(mayor) o -(menor) seguido por un numero.')"
   ]
  },
  {
   "cell_type": "markdown",
   "metadata": {},
   "source": [
    "**5**. Mostrar los aeropuertos en las capitales de cada provincia"
   ]
  },
  {
   "cell_type": "markdown",
   "metadata": {},
   "source": [
    "_-Recopilo el nombre de la capital de cada provincia._"
   ]
  },
  {
   "cell_type": "code",
   "execution_count": null,
   "metadata": {},
   "outputs": [],
   "source": [
    "listaCiudades=[]\n",
    "with(argentina_cities.open(mode='r', newline='', encoding='utf-8') as read_a):\n",
    "\ta= csv.reader(read_a)\n",
    "\tnext(a)\n",
    "\tfor i in a:\n",
    "\t\tif(i[6] == \"admin\"):\n",
    "\t\t\t#Ciudades capital\n",
    "\t\t\tlistaCiudades.append(i[0])"
   ]
  },
  {
   "cell_type": "markdown",
   "metadata": {},
   "source": [
    "_-Imprimo la información de los aeropuertos que se encuentran en la capital de cada provincia._"
   ]
  },
  {
   "cell_type": "code",
   "execution_count": null,
   "metadata": {},
   "outputs": [],
   "source": [
    "with(custom_airports.open(mode='r', newline='', encoding='utf-8') as read_airports):\n",
    "\tairports = csv.DictReader(read_airports)\n",
    "\theader = next(airports)\n",
    "\tfor i in airports:\n",
    "\t\tif (i[\"municipality\"] in listaCiudades):\n",
    "\t\t\t#Imprimo solo la informacion mas importante\n",
    "\t\t\tprint(f\"\"\"\\n\n",
    "\tid               : {i[\"id\"]}\n",
    "\ttype             : {i[\"type\"]}\n",
    "\tname             : {i[\"name\"]}\n",
    "\tcountry_name     : {i[\"country_name\"]}\n",
    "\tprovincia        : {i[\"region_name\"][:i[\"region_name\"].rfind(\"Province\")]}\n",
    "\tciudad           : {i[\"municipality\"]}\"\"\")"
   ]
  },
  {
   "cell_type": "markdown",
   "metadata": {},
   "source": [
    "**6**. Mostrar los Lagos de una superficie según la columna 'Sup Tamaño' donde el criterio (chico, medio, grande) se puede indicar fácilmente"
   ]
  },
  {
   "cell_type": "markdown",
   "metadata": {},
   "source": [
    "_-A partir del input del usuario muestro la información sobre los lagos correspondientes_"
   ]
  },
  {
   "cell_type": "code",
   "execution_count": null,
   "metadata": {},
   "outputs": [],
   "source": [
    "menu = input(f\"\"\"\n",
    "\t\t----Elegir una opción:----\n",
    "\t\t\t1. Chico\n",
    "\t\t\t2. Medio\n",
    "\t\t\t3. Grande \n",
    "\t\t\tIngresa tu opcion : \"\"\")\n",
    "if not menu.isdigit():\n",
    "\tprint(\"\\n** Opción Inválida.\\n\")\n",
    "else:\n",
    "\tif int(menu) == 1:\n",
    "\t\tconsultas_module.show_lake_info(\"chico\")\n",
    "\telif int(menu) == 2:\n",
    "\t\tconsultas_module.show_lake_info(\"medio\")\n",
    "\telif int(menu) == 3:\n",
    "\t\tconsultas_module.show_lake_info(\"grande\")\n",
    "\telse:\n",
    "\t\tprint(\"\\n** Opción inválida.\\n\")"
   ]
  },
  {
   "cell_type": "markdown",
   "metadata": {},
   "source": [
    "**7**. Listar las 5 Jurisdicciones con mayor porcentaje de población en situación de calle.\n"
   ]
  },
  {
   "cell_type": "code",
   "execution_count": null,
   "metadata": {},
   "outputs": [],
   "source": [
    "jurisdiccion = 0\n",
    "varones_poblacion = 5\n",
    "mujeres_poblacion = 9\n",
    "porcentaje_en_situcacion_calle = 13"
   ]
  },
  {
   "cell_type": "code",
   "execution_count": null,
   "metadata": {},
   "outputs": [],
   "source": [
    "\n",
    "with(custom_poblacion.open(mode='r', newline='', encoding='utf-8') as read_poblacion):\n",
    "\tpoblacion = csv.reader(read_poblacion)\n",
    "\t#Salto el header y la linea del total pais\n",
    "\tnext(poblacion)\n",
    "\tnext(poblacion)\n",
    "\tlista_poblacion= list(poblacion)\n",
    "\t#Ordeno la lista de mayor a menor segun la poblacion en situacion de calle\n",
    "\tlista_poblacion_ordenada=sorted(lista_poblacion,key=lambda x:x[porcentaje_en_situcacion_calle],reverse=True)\n",
    "\tprint(\"Las 5 Jurisdicciones con mayor porcentaje de población en situación de calle son:\")\n",
    "\t#Recorro las cinco primeras posiciones en la lista ordenada \n",
    "\tfor i in range(5):\n",
    "\t\tprint(f\"-Jurisdiccion: {lista_poblacion_ordenada[i][jurisdiccion]}, porcentaje de poblacion en situacion de calle: {lista_poblacion_ordenada[i][porcentaje_en_situcacion_calle]}\")"
   ]
  },
  {
   "cell_type": "markdown",
   "metadata": {},
   "source": [
    "**8**. Obtener la jurisdicción donde la brecha entre las poblaciones diferenciadas según sexo registrado al nacer es mayor."
   ]
  },
  {
   "cell_type": "code",
   "execution_count": null,
   "metadata": {},
   "outputs": [],
   "source": [
    "juris = \"\"\n",
    "max = 0\n",
    "with(custom_poblacion.open(mode='r', newline='', encoding='utf-8') as read_poblacion):\n",
    "\tpoblacion = csv.reader(read_poblacion)\n",
    "\t#Salto el header y la linea del total pais\n",
    "\tnext(poblacion)\n",
    "\tnext(poblacion)\n",
    "\tfor line in poblacion:\n",
    "\t\t#Obtengo la diferencia entre poblacion varones y poblacion de mujeres\n",
    "\t\tbrecha = consultas_module.calcular_brecha(line[varones_poblacion],line[mujeres_poblacion])\n",
    "\t\tif max < brecha:\n",
    "\t\t\tjuris = line[jurisdiccion]\n",
    "\t\t\tmax = brecha\n",
    "\tprint(f\"{juris} tiene la mayor brecha entre las poblaciones diferenciadas según sexo registrado al nacer con {max} de brecha\")"
   ]
  },
  {
   "cell_type": "markdown",
   "metadata": {},
   "source": [
    "**9**. Mostrar los diferentes tipos de conectividades."
   ]
  },
  {
   "cell_type": "markdown",
   "metadata": {},
   "source": [
    "*Abro el archivo y con el header obtengo los diferentes tipos de conectividades*\n"
   ]
  },
  {
   "cell_type": "code",
   "execution_count": null,
   "metadata": {},
   "outputs": [],
   "source": [
    "with custom_conectividad.open(mode=\"r\",newline=\"\",encoding=\"utf-8\") as reader_conect:\n",
    "\tconect= csv.reader(reader_conect)\n",
    "\t#Obetengo el header\n",
    "\theader=next(conect)\n",
    "\tprint(\"Los diferentes tipos de conectividades son: \")\n",
    "\t#Itero en la lista desde la posicion 4 hasta la 13(se procesa hasta la 12) \n",
    "\tfor conectivity in header[4:13]:\n",
    "\t\tprint(f\"-{conectivity}\")"
   ]
  },
  {
   "cell_type": "markdown",
   "metadata": {},
   "source": [
    "**10**. Mostrar las cantidades de localidades con cada tipo de conectividad"
   ]
  },
  {
   "cell_type": "code",
   "execution_count": null,
   "metadata": {},
   "outputs": [],
   "source": [
    "with custom_conectividad.open(mode=\"r\", newline=\"\", encoding=\"utf-8\") as read_connections:\n",
    "\tconnectivity_map = csv.DictReader(read_connections, delimiter=\",\")\n",
    "\tconnections_header = connectivity_map.fieldnames\n",
    "\tconnectivity_types = (connections_header[4:13:])"
   ]
  },
  {
   "cell_type": "markdown",
   "metadata": {},
   "source": [
    "_Se inicia un diccionario que va a servir como contador para resolver el enunciado_"
   ]
  },
  {
   "cell_type": "code",
   "execution_count": null,
   "metadata": {},
   "outputs": [],
   "source": [
    "connections_quantity = {}\n",
    "\n",
    "for connection in connectivity_types:\n",
    "\tconnections_quantity[connection] = 0"
   ]
  },
  {
   "cell_type": "markdown",
   "metadata": {},
   "source": [
    "_Se abre el archivo y se van contando por cada ciudad si tiene cada tipo de conexion para despues devolver un total_"
   ]
  },
  {
   "cell_type": "code",
   "execution_count": null,
   "metadata": {},
   "outputs": [],
   "source": [
    "with custom_conectividad.open(mode=\"r\", newline=\"\", encoding=\"utf-8\") as read_connections:\n",
    "\n",
    "\tconnectivity_map = csv.DictReader(read_connections, delimiter=\",\")\n",
    "\n",
    "\tfor city in connectivity_map:\n",
    "\t\tfor connection in connectivity_types:\n",
    "\t\t\tif city[connection] == \"SI\":\n",
    "\t\t\t\tconnections_quantity[connection] += 1\n",
    "\t\n",
    "\tprint(connections_quantity)       "
   ]
  },
  {
   "cell_type": "markdown",
   "metadata": {},
   "source": [
    "**11**. Mostrar las provincias para las cuales todas sus ciudades poseen FIBRA ÓPTICA."
   ]
  },
  {
   "cell_type": "markdown",
   "metadata": {},
   "source": [
    "_Se abre el archivo y se pasa su contenido a una lista la cual vamos a iterar para resolver la consulta_"
   ]
  },
  {
   "cell_type": "code",
   "execution_count": null,
   "metadata": {},
   "outputs": [],
   "source": [
    "with custom_conectividad.open(mode=\"r\", newline=\"\", encoding=\"utf-8\") as read_connections:\n",
    "\n",
    "\tconnectivity_map = csv.reader(read_connections, delimiter=\",\")\n",
    "\n",
    "\tnext(connectivity_map)\n",
    "\n",
    "\tconnections = list(connectivity_map)"
   ]
  },
  {
   "cell_type": "markdown",
   "metadata": {},
   "source": [
    "_\\Se inicializan las estructuras con las cuales vamos a trabajar_\\"
   ]
  },
  {
   "cell_type": "code",
   "execution_count": null,
   "metadata": {},
   "outputs": [],
   "source": [
    "province_already_read = []\n",
    "province_not_all_of = []\n",
    "connections.sort(key=lambda x: x[0])\n",
    "\n",
    "provinces = list(set(map(lambda connect: connect[0], connections)))\n",
    "\t\n",
    "provinces.sort()\n",
    "\n",
    "province_iter = iter(provinces)\n",
    "\n",
    "connections = iter(connections)\n",
    "\n",
    "province = next(province_iter)"
   ]
  },
  {
   "cell_type": "markdown",
   "metadata": {},
   "source": [
    "_Se recorren todas las conexiones y las provincias para buscar que provincias no tienen fibra optica en la totalidad de su provincia_"
   ]
  },
  {
   "cell_type": "code",
   "execution_count": null,
   "metadata": {},
   "outputs": [],
   "source": [
    "for connect in connections:\n",
    "\t\tcurrent_province = province\n",
    "\t\tif current_province == province and connect[0] not in province_already_read:\n",
    "\t\t\tif current_province == province and connect[0] not in province_already_read and connect[7] == \"NO\":\n",
    "\t\t\t\tprovince_already_read.append(connect[0])\n",
    "\t\t\t\tprovince_not_all_of.append(connect[0])\n",
    "\t\t\t\tprovince = next(province_iter)\n",
    "\t\t\telse:\n",
    "\t\t\t\tcontinue\n",
    "\t\t\t\t"
   ]
  },
  {
   "cell_type": "markdown",
   "metadata": {},
   "source": [
    "_Se crea una lista con las provincias que SI tienen fibra optica en su totalidad_"
   ]
  },
  {
   "cell_type": "code",
   "execution_count": null,
   "metadata": {},
   "outputs": [],
   "source": [
    "province_with_optical_fiber = list(filter(lambda province: province not in province_not_all_of, provinces)) \n",
    "\n",
    "province_with_optical_fiber"
   ]
  },
  {
   "cell_type": "markdown",
   "metadata": {},
   "source": [
    "**12**. Mostrar para cada provincia su capital y, si se conoce la información para dicha\n",
    "capital, informar si posee conectividad (campo 'posee_conectividad' creado\n",
    "previamente). En caso de no conocer la información mostrar el texto “conectividad\n",
    "desconocida”."
   ]
  },
  {
   "cell_type": "markdown",
   "metadata": {},
   "source": [
    "_Se abre el archivo de las ciudades argentinas para tener una estructura de datos que contenga la capital de cada provincia y se parsea el nombre de la provincia \"TIERRA DEL FUEGO\" para que coincida con el archivo Conectividad_Internet.csv_"
   ]
  },
  {
   "cell_type": "code",
   "execution_count": null,
   "metadata": {},
   "outputs": [],
   "source": [
    "import consultas_module as consulta\n",
    "\n",
    "\n",
    "with(argentina_cities.open(mode=\"r\", newline=\"\", encoding='utf-8') as read_cities ):\n",
    "\t\n",
    "\tcities = csv.DictReader(read_cities, delimiter=',')\n",
    "  \n",
    "\n",
    "\tprovinces_and_capital = {}\n",
    "\n",
    "\tfor city in cities:\n",
    "\t\tif city[\"capital\"] == \"admin\":\n",
    "\t\t\tcity[\"admin_name\"] = consulta.replace_accented_letters(city[\"admin_name\"]).upper()\n",
    "\t\t\tif  city[\"admin_name\"] ==\"TIERRA DEL FUEGO, ANTARTIDA E ISLAS DEL ATLANTICO SUR\":\n",
    "\t\t\t\tcity[\"admin_name\"] = \"TIERRA DEL FUEGO\"\n",
    "\t\t\tprovinces_and_capital[city[\"admin_name\"]] = city[\"city\"]"
   ]
  },
  {
   "cell_type": "markdown",
   "metadata": {},
   "source": [
    "_Se recorren las ciudades buscando la capital de cada provincia para resolver la consulta_"
   ]
  },
  {
   "cell_type": "code",
   "execution_count": null,
   "metadata": {},
   "outputs": [],
   "source": [
    "informed_provinces = []\n",
    "with custom_conectividad.open(mode=\"r\", newline=\"\", encoding=\"utf-8\") as read_connections:\n",
    "\tconnectivity_map = csv.DictReader(read_connections, delimiter=\",\")\n",
    "   \n",
    "\n",
    "\tfor city_connectivity in connectivity_map:\n",
    "\t\tif city_connectivity[\"Localidad\"] in provinces_and_capital.values() and city_connectivity[\"Localidad\"] == provinces_and_capital[city_connectivity[\"Provincia\"]]:\n",
    "\t\t\tif city_connectivity[\"posee_conectividad\"] == \"SI\":\n",
    "\t\t\t\tprint(f\"La ciudad {city_connectivity['Localidad']}, capital de {city_connectivity['Provincia']}, posee conectividad: {city_connectivity['posee_conectividad']}.\")\n",
    "\t\t\t\tinformed_provinces.append(city_connectivity[\"Provincia\"])\n",
    "\n",
    "for province in provinces_and_capital.keys():\n",
    "\tif province not in informed_provinces:\n",
    "\t\tprint(f\"Conectividad desconocida en la capital de {province}\")"
   ]
  }
 ],
 "metadata": {
  "kernelspec": {
   "display_name": "Python 3 (ipykernel)",
   "language": "python",
   "name": "python3"
  },
  "language_info": {
   "codemirror_mode": {
    "name": "ipython",
    "version": 3
   },
   "file_extension": ".py",
   "mimetype": "text/x-python",
   "name": "python",
   "nbconvert_exporter": "python",
   "pygments_lexer": "ipython3",
   "version": "3.11.2"
  }
 },
 "nbformat": 4,
 "nbformat_minor": 4
}
