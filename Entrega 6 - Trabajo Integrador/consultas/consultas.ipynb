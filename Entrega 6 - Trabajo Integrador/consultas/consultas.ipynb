{
 "cells": [
  {
   "cell_type": "markdown",
   "metadata": {},
   "source": [
    "## Consulta"
   ]
  },
  {
   "cell_type": "code",
   "execution_count": null,
   "metadata": {},
   "outputs": [],
   "source": [
    "import csv\n",
    "import pathlib\n",
    "import consultas_module\n",
    "\n",
    "CUSTOM_AIRPORTS = pathlib.Path(\"../datasets/custom_datasets/ar-airports.csv\")\n",
    "ARGENTINA_CITIES = pathlib.Path(\"../datasets/original_datasets/ar.csv\")\n",
    "CUSTOM_CONECTIVIDAD = pathlib.Path(\n",
    "    \"../datasets/custom_datasets/Conectividad_Internet.csv\"\n",
    ")\n",
    "CUSTOM_POBLACION = pathlib.Path(\n",
    "    \"../datasets/custom_datasets/c2022_tp_c_resumen_adaptado.csv\"\n",
    ")"
   ]
  },
  {
   "cell_type": "code",
   "execution_count": null,
   "metadata": {},
   "outputs": [],
   "source": [
    "import pandas as pd\n",
    "\n",
    "df_airports = pd.read_csv(CUSTOM_AIRPORTS)"
   ]
  },
  {
   "cell_type": "markdown",
   "metadata": {},
   "source": [
    "**1**. Los diferentes tipos de aeropuertos según la columna 'type'"
   ]
  },
  {
   "cell_type": "code",
   "execution_count": null,
   "metadata": {},
   "outputs": [],
   "source": [
    "# Open database and creates a list that will used multiple times.\n",
    "with CUSTOM_AIRPORTS.open(mode=\"r\", newline=\"\", encoding=\"utf-8\") as read_airports:\n",
    "    airports = csv.reader(read_airports)\n",
    "    next(airports)\n",
    "    list_airports = list(airports)\n",
    "\n",
    "# Database design\n",
    "AIRPORT_TYPE = 2\n",
    "AIRPORT_NAME = 3\n",
    "ELEVATION_FT = 6\n",
    "ELEVATION_TYPE = -2"
   ]
  },
  {
   "cell_type": "code",
   "execution_count": null,
   "metadata": {},
   "outputs": [],
   "source": [
    "# Prints the set of airports in airports database\n",
    "print(\"Tipos de aeropuertos:\")\n",
    "for AIRPORT_TYPE in set(map(lambda x: x[AIRPORT_TYPE], list_airports)):\n",
    "    print(f\"\\u2022 {AIRPORT_TYPE}\")"
   ]
  },
  {
   "cell_type": "code",
   "execution_count": null,
   "metadata": {},
   "outputs": [],
   "source": [
    "print(\"Tipos de aeropuertos:\")\n",
    "for air_type in df_airports.type.unique():\n",
    "    print(f\"\\u2022 {air_type}\")"
   ]
  },
  {
   "cell_type": "markdown",
   "metadata": {},
   "source": [
    "**2**. Los aeropuertos de una elevación, (bajo, medio, alto) cuya especificación se permita modificar fácilmente, evaluando la columna creada 'elevation_name'."
   ]
  },
  {
   "cell_type": "code",
   "execution_count": null,
   "metadata": {},
   "outputs": [],
   "source": [
    "while True:\n",
    "    # Requires elevation type search input\n",
    "    elevation = input(\n",
    "        f\"Indique la elevación del aeropuerto buscada: \\n 1️⃣ bajo,\\n 2️⃣ medio o\\n 3️⃣ altos\"\n",
    "    )\n",
    "    # Verifies that the input is valid\n",
    "    if elevation == \"1\" or elevation == \"2\" or elevation == \"3\":\n",
    "        match int(elevation):\n",
    "            case 1:\n",
    "                elevation = \"bajo\"\n",
    "            case 2:\n",
    "                elevation = \"medio\"\n",
    "            case 3:\n",
    "                elevation = \"altos\"\n",
    "        break\n",
    "    print(\"Por favor, ingrese 1️⃣, 2️⃣ o 3️⃣\")\n",
    "print(f\"Los siguientes aeropuertos se encuentran a una elevación {elevation}:\")\n",
    "for line in filter(lambda airport: airport[ELEVATION_TYPE] == elevation, list_airports):\n",
    "    print(f\"\\u2022 {line[AIRPORT_NAME]}\")"
   ]
  },
  {
   "cell_type": "code",
   "execution_count": null,
   "metadata": {},
   "outputs": [],
   "source": [
    "df_airports[df_airports.elevation_name == elevation]"
   ]
  },
  {
   "cell_type": "markdown",
   "metadata": {},
   "source": [
    "**3**. Los aeropuertos que tienen una mayor o menor elevación con respecto al valor numérico dado."
   ]
  },
  {
   "cell_type": "code",
   "execution_count": null,
   "metadata": {},
   "outputs": [],
   "source": [
    "while True:\n",
    "    # Requires greater or smaller input\n",
    "    comparison = input(\"¿Busca un valor 1️⃣ mayor o 2️⃣ menor?\")\n",
    "    # Verifies that the input is valid\n",
    "    if comparison == \"1\" or comparison == \"2\":\n",
    "        match int(comparison):\n",
    "            case 1:\n",
    "                comparison = \"mayor\"\n",
    "            case 2:\n",
    "                comparison = \"menor\"\n",
    "        break\n",
    "    print(\"Ingrese 1️⃣ mayor o 2️⃣ menor\")\n",
    "while True:\n",
    "    # Requires elevation input\n",
    "    elev_mt = input(\"Indique la elevación (en metros) a comparar\")\n",
    "    # Verifies that the input is valid\n",
    "    if elev_mt.isdigit():\n",
    "        elev_mt = int(elev_mt)\n",
    "        elev_ft = elev_mt / 0.3048\n",
    "        break\n",
    "    print(\"Ingrese un número\")\n",
    "print(f\"Los aeropuertos con una altura {comparison} a {elev_mt} metros son:\")\n",
    "for line in list_airports:\n",
    "    # Verifies that the dataset includes the elevation ft\n",
    "    if line[ELEVATION_FT]:\n",
    "        if (\n",
    "            comparison == \"mayor\"\n",
    "            and int(line[ELEVATION_FT]) > elev_ft\n",
    "            or comparison == \"menor\"\n",
    "            and int(line[ELEVATION_FT]) < elev_ft\n",
    "        ):\n",
    "            # Prints matches\n",
    "            print(f\"\\u2022 {line[AIRPORT_NAME]}\")"
   ]
  },
  {
   "cell_type": "code",
   "execution_count": null,
   "metadata": {},
   "outputs": [],
   "source": [
    "df_elevation_airports = (\n",
    "    df_airports[df_airports.elevation_ft > elev_ft]\n",
    "    if comparison == \"mayor\"\n",
    "    else df_airports[df_airports.elevation_ft < elev_ft]\n",
    ")\n",
    "df_elevation_airports"
   ]
  },
  {
   "cell_type": "markdown",
   "metadata": {},
   "source": [
    "**4**. Los aeropuertos, lagos y tipo de conectividad en provincias con población mayor o menor a un valor que se pueda especificar fácilmente "
   ]
  },
  {
   "cell_type": "code",
   "execution_count": null,
   "metadata": {},
   "outputs": [],
   "source": [
    "option = input(\n",
    "    f\"\"\"Ingresar número de poblacion junto a:\n",
    "\t\t\t\t+\"num\" para mostrar poblacion mayor al valor\n",
    "\t\t\t\t-\"num\" para mostrar poblacion menor al valor\"\"\"\n",
    ")\n",
    "# Verifico que el input sea correcto, UN solo signo seguido de numeros.\n",
    "if option[0] == \"+\" or option[0] == \"-\":\n",
    "    num = option[1:]\n",
    "    if num.isdigit():\n",
    "        # Identifico provincias que cumplen el requisito\n",
    "        province = (\n",
    "            consultas_module.filter_provinces(num, \"mayor\")\n",
    "            if option[0] == \"+\"\n",
    "            else consultas_module.filter_provinces(num, \"menor\")\n",
    "        )\n",
    "        # Imprimo aeropuertos, lagos y conectividad de las provincias que cumplen\n",
    "        consultas_module.show_info(province)\n",
    "    else:\n",
    "        print(\n",
    "            \"Formato input incorrecto, debe ser UN solo [+ o -] seguido por un numero.\"\n",
    "        )\n",
    "else:\n",
    "    print(\n",
    "        \"Input incorrecto, debe comenzar especificando si es +(mayor) o -(menor) seguido por un numero.\"\n",
    "    )"
   ]
  },
  {
   "cell_type": "markdown",
   "metadata": {},
   "source": [
    "**5**. Mostrar los aeropuertos en las capitales de cada provincia"
   ]
  },
  {
   "cell_type": "markdown",
   "metadata": {},
   "source": [
    "_-Recopilo el nombre de la capital de cada provincia._"
   ]
  },
  {
   "cell_type": "code",
   "execution_count": null,
   "metadata": {},
   "outputs": [],
   "source": [
    "listaCiudades = []\n",
    "with ARGENTINA_CITIES.open(mode=\"r\", newline=\"\", encoding=\"utf-8\") as read_a:\n",
    "    a = csv.reader(read_a)\n",
    "    next(a)\n",
    "    for i in a:\n",
    "        if i[6] == \"admin\":\n",
    "            # Ciudades capital\n",
    "            listaCiudades.append(i[0])"
   ]
  },
  {
   "cell_type": "markdown",
   "metadata": {},
   "source": [
    "_-Imprimo la información de los aeropuertos que se encuentran en la capital de cada provincia._"
   ]
  },
  {
   "cell_type": "code",
   "execution_count": null,
   "metadata": {},
   "outputs": [],
   "source": [
    "with CUSTOM_AIRPORTS.open(mode=\"r\", newline=\"\", encoding=\"utf-8\") as read_airports:\n",
    "    airports = csv.DictReader(read_airports)\n",
    "    header = next(airports)\n",
    "    for i in airports:\n",
    "        if i[\"municipality\"] in listaCiudades:\n",
    "            # Imprimo solo la informacion mas importante\n",
    "            print(\n",
    "                f\"\"\"\\n\n",
    "\tid               : {i[\"id\"]}\n",
    "\ttype             : {i[\"type\"]}\n",
    "\tname             : {i[\"name\"]}\n",
    "\tcountry_name     : {i[\"country_name\"]}\n",
    "\tprovincia        : {i[\"region_name\"][:i[\"region_name\"].rfind(\"Province\")]}\n",
    "\tciudad           : {i[\"municipality\"]}\"\"\"\n",
    "            )"
   ]
  },
  {
   "cell_type": "markdown",
   "metadata": {},
   "source": [
    "**6**. Mostrar los Lagos de una superficie según la columna 'Sup Tamaño' donde el criterio (chico, medio, grande) se puede indicar fácilmente"
   ]
  },
  {
   "cell_type": "markdown",
   "metadata": {},
   "source": [
    "_-A partir del input del usuario muestro la información sobre los lagos correspondientes_"
   ]
  },
  {
   "cell_type": "code",
   "execution_count": null,
   "metadata": {},
   "outputs": [],
   "source": [
    "menu = input(\n",
    "    f\"\"\"\n",
    "\t\t----Elegir una opción:----\n",
    "\t\t\t1. Chico\n",
    "\t\t\t2. Medio\n",
    "\t\t\t3. Grande \n",
    "\t\t\tIngresa tu opcion : \"\"\"\n",
    ")\n",
    "if not menu.isdigit():\n",
    "    print(\"\\n** Opción Inválida.\\n\")\n",
    "else:\n",
    "    if int(menu) == 1:\n",
    "        consultas_module.show_lake_info(\"chico\")\n",
    "    elif int(menu) == 2:\n",
    "        consultas_module.show_lake_info(\"medio\")\n",
    "    elif int(menu) == 3:\n",
    "        consultas_module.show_lake_info(\"grande\")\n",
    "    else:\n",
    "        print(\"\\n** Opción inválida.\\n\")"
   ]
  },
  {
   "cell_type": "markdown",
   "metadata": {},
   "source": [
    "**7**. Listar las 5 Jurisdicciones con mayor porcentaje de población en situación de calle.\n"
   ]
  },
  {
   "cell_type": "code",
   "execution_count": null,
   "metadata": {},
   "outputs": [],
   "source": [
    "jurisdiccion = 0\n",
    "varones_poblacion = 5\n",
    "mujeres_poblacion = 9\n",
    "porcentaje_en_situcacion_calle = 13"
   ]
  },
  {
   "cell_type": "code",
   "execution_count": null,
   "metadata": {},
   "outputs": [],
   "source": [
    "with CUSTOM_POBLACION.open(mode=\"r\", newline=\"\", encoding=\"utf-8\") as read_poblacion:\n",
    "    population = csv.reader(read_poblacion)\n",
    "    # Salto el header y la linea del total pais\n",
    "    next(population)\n",
    "    next(population)\n",
    "    list_population = list(population)\n",
    "    # Ordeno la lista de mayor a menor segun la poblacion en situacion de calle\n",
    "    ordered_population = sorted(\n",
    "        list_population, key=lambda x: x[porcentaje_en_situcacion_calle], reverse=True\n",
    "    )\n",
    "    print(\n",
    "        \"Las 5 Jurisdicciones con mayor porcentaje de población en situación de calle son:\"\n",
    "    )\n",
    "    # Recorro las cinco primeras posiciones en la lista ordenada\n",
    "    for i in range(5):\n",
    "        print(\n",
    "            f\"-Jurisdiccion: {ordered_population[i][jurisdiccion]}, porcentaje de poblacion en situacion de calle: {ordered_population[i][porcentaje_en_situcacion_calle]}\"\n",
    "        )"
   ]
  },
  {
   "cell_type": "markdown",
   "metadata": {},
   "source": [
    "**8**. Obtener la jurisdicción donde la brecha entre las poblaciones diferenciadas según sexo registrado al nacer es mayor."
   ]
  },
  {
   "cell_type": "code",
   "execution_count": null,
   "metadata": {},
   "outputs": [],
   "source": [
    "juris = \"\"\n",
    "max = 0\n",
    "with CUSTOM_POBLACION.open(mode=\"r\", newline=\"\", encoding=\"utf-8\") as read_poblacion:\n",
    "    population = csv.reader(read_poblacion)\n",
    "    # Salto el header y la linea del total pais\n",
    "    next(population)\n",
    "    next(population)\n",
    "    for line in population:\n",
    "        # Obtengo la diferencia entre poblacion varones y poblacion de mujeres\n",
    "        gap = consultas_module.calculate_gap(\n",
    "            line[varones_poblacion], line[mujeres_poblacion]\n",
    "        )\n",
    "        if max < gap:\n",
    "            juris = line[jurisdiccion]\n",
    "            max = gap\n",
    "    print(\n",
    "        f\"{juris} tiene la mayor brecha entre las poblaciones diferenciadas según sexo registrado al nacer con {max} de brecha\"\n",
    "    )"
   ]
  },
  {
   "cell_type": "markdown",
   "metadata": {},
   "source": [
    "**9**. Mostrar los diferentes tipos de conectividades."
   ]
  },
  {
   "cell_type": "markdown",
   "metadata": {},
   "source": [
    "*Abro el archivo y con el header obtengo los diferentes tipos de conectividades*\n"
   ]
  },
  {
   "cell_type": "code",
   "execution_count": null,
   "metadata": {},
   "outputs": [],
   "source": [
    "with CUSTOM_CONECTIVIDAD.open(mode=\"r\", newline=\"\", encoding=\"utf-8\") as reader_conect:\n",
    "    conect = csv.reader(reader_conect)\n",
    "    # Obetengo el header\n",
    "    header = next(conect)\n",
    "    print(\"Los diferentes tipos de conectividades son: \")\n",
    "    # Itero en la lista desde la posicion 4 hasta la 13(se procesa hasta la 12)\n",
    "    for conectivity in header[4:13]:\n",
    "        print(f\"-{conectivity}\")"
   ]
  },
  {
   "cell_type": "markdown",
   "metadata": {},
   "source": [
    "**10**. Mostrar las cantidades de localidades con cada tipo de conectividad"
   ]
  },
  {
   "cell_type": "code",
   "execution_count": null,
   "metadata": {},
   "outputs": [],
   "source": [
    "with CUSTOM_CONECTIVIDAD.open(\n",
    "    mode=\"r\", newline=\"\", encoding=\"utf-8\"\n",
    ") as read_connections:\n",
    "    connectivity_map = csv.DictReader(read_connections, delimiter=\",\")\n",
    "    connections_header = connectivity_map.fieldnames\n",
    "    connectivity_types = connections_header[4:13:]"
   ]
  },
  {
   "cell_type": "markdown",
   "metadata": {},
   "source": [
    "_Se inicia un diccionario que va a servir como contador para resolver el enunciado_"
   ]
  },
  {
   "cell_type": "code",
   "execution_count": null,
   "metadata": {},
   "outputs": [],
   "source": [
    "connections_quantity = {}\n",
    "\n",
    "for connection in connectivity_types:\n",
    "    connections_quantity[connection] = 0"
   ]
  },
  {
   "cell_type": "markdown",
   "metadata": {},
   "source": [
    "_Se abre el archivo y se van contando por cada ciudad si tiene cada tipo de conexion para despues devolver un total_"
   ]
  },
  {
   "cell_type": "code",
   "execution_count": null,
   "metadata": {},
   "outputs": [],
   "source": [
    "with CUSTOM_CONECTIVIDAD.open(\n",
    "    mode=\"r\", newline=\"\", encoding=\"utf-8\"\n",
    ") as read_connections:\n",
    "\n",
    "    connectivity_map = csv.DictReader(read_connections, delimiter=\",\")\n",
    "\n",
    "    for city in connectivity_map:\n",
    "        for connection in connectivity_types:\n",
    "            if city[connection] == \"SI\":\n",
    "                connections_quantity[connection] += 1\n",
    "\n",
    "    print(connections_quantity)"
   ]
  },
  {
   "cell_type": "markdown",
   "metadata": {},
   "source": [
    "**11**. Mostrar las provincias para las cuales todas sus ciudades poseen FIBRA ÓPTICA."
   ]
  },
  {
   "cell_type": "markdown",
   "metadata": {},
   "source": [
    "_Se abre el archivo y se pasa su contenido a una lista la cual vamos a iterar para resolver la consulta_"
   ]
  },
  {
   "cell_type": "code",
   "execution_count": null,
   "metadata": {},
   "outputs": [],
   "source": [
    "with CUSTOM_CONECTIVIDAD.open(\n",
    "    mode=\"r\", newline=\"\", encoding=\"utf-8\"\n",
    ") as read_connections:\n",
    "\n",
    "    connectivity_map = csv.reader(read_connections, delimiter=\",\")\n",
    "\n",
    "    next(connectivity_map)\n",
    "\n",
    "    connections = list(connectivity_map)"
   ]
  },
  {
   "cell_type": "markdown",
   "metadata": {},
   "source": [
    "_\\Se inicializan las estructuras con las cuales vamos a trabajar_\\"
   ]
  },
  {
   "cell_type": "code",
   "execution_count": null,
   "metadata": {},
   "outputs": [],
   "source": [
    "province_already_read = []\n",
    "province_not_all_of = []\n",
    "connections.sort(key=lambda x: x[0])\n",
    "\n",
    "provinces = list(set(map(lambda connect: connect[0], connections)))\n",
    "\n",
    "provinces.sort()\n",
    "\n",
    "province_iter = iter(provinces)\n",
    "\n",
    "connections = iter(connections)\n",
    "\n",
    "province = next(province_iter)"
   ]
  },
  {
   "cell_type": "markdown",
   "metadata": {},
   "source": [
    "_Se recorren todas las conexiones y las provincias para buscar que provincias no tienen fibra optica en la totalidad de su provincia_"
   ]
  },
  {
   "cell_type": "code",
   "execution_count": null,
   "metadata": {},
   "outputs": [],
   "source": [
    "for connect in connections:\n",
    "    current_province = province\n",
    "    if current_province == province and connect[0] not in province_already_read:\n",
    "        if (\n",
    "            current_province == province\n",
    "            and connect[0] not in province_already_read\n",
    "            and connect[7] == \"NO\"\n",
    "        ):\n",
    "            province_already_read.append(connect[0])\n",
    "            province_not_all_of.append(connect[0])\n",
    "            province = next(province_iter)\n",
    "        else:\n",
    "            continue"
   ]
  },
  {
   "cell_type": "markdown",
   "metadata": {},
   "source": [
    "_Se crea una lista con las provincias que SI tienen fibra optica en su totalidad_"
   ]
  },
  {
   "cell_type": "code",
   "execution_count": null,
   "metadata": {},
   "outputs": [],
   "source": [
    "province_with_optical_fiber = list(\n",
    "    filter(lambda province: province not in province_not_all_of, provinces)\n",
    ")\n",
    "\n",
    "province_with_optical_fiber"
   ]
  },
  {
   "cell_type": "markdown",
   "metadata": {},
   "source": [
    "**12**. Mostrar para cada provincia su capital y, si se conoce la información para dicha\n",
    "capital, informar si posee conectividad (campo 'posee_conectividad' creado\n",
    "previamente). En caso de no conocer la información mostrar el texto “conectividad\n",
    "desconocida”."
   ]
  },
  {
   "cell_type": "markdown",
   "metadata": {},
   "source": [
    "_Se abre el archivo de las ciudades argentinas para tener una estructura de datos que contenga la capital de cada provincia y se parsea el nombre de la provincia \"TIERRA DEL FUEGO\" para que coincida con el archivo Conectividad_Internet.csv_"
   ]
  },
  {
   "cell_type": "code",
   "execution_count": null,
   "metadata": {},
   "outputs": [],
   "source": [
    "import consultas_module as consulta\n",
    "\n",
    "\n",
    "with ARGENTINA_CITIES.open(mode=\"r\", newline=\"\", encoding=\"utf-8\") as read_cities:\n",
    "\n",
    "    cities = csv.DictReader(read_cities, delimiter=\",\")\n",
    "\n",
    "    provinces_and_capital = {}\n",
    "\n",
    "    for city in cities:\n",
    "        if city[\"capital\"] == \"admin\":\n",
    "            city[\"admin_name\"] = consulta.replace_accented_letters(\n",
    "                city[\"admin_name\"]\n",
    "            ).upper()\n",
    "            if (\n",
    "                city[\"admin_name\"]\n",
    "                == \"TIERRA DEL FUEGO, ANTARTIDA E ISLAS DEL ATLANTICO SUR\"\n",
    "            ):\n",
    "                city[\"admin_name\"] = \"TIERRA DEL FUEGO\"\n",
    "            provinces_and_capital[city[\"admin_name\"]] = city[\"city\"]"
   ]
  },
  {
   "cell_type": "markdown",
   "metadata": {},
   "source": [
    "_Se recorren las ciudades buscando la capital de cada provincia para resolver la consulta_"
   ]
  },
  {
   "cell_type": "code",
   "execution_count": null,
   "metadata": {},
   "outputs": [],
   "source": [
    "informed_provinces = []\n",
    "with CUSTOM_CONECTIVIDAD.open(\n",
    "    mode=\"r\", newline=\"\", encoding=\"utf-8\"\n",
    ") as read_connections:\n",
    "    connectivity_map = csv.DictReader(read_connections, delimiter=\",\")\n",
    "\n",
    "    for city_connectivity in connectivity_map:\n",
    "        if (\n",
    "            city_connectivity[\"Localidad\"] in provinces_and_capital.values()\n",
    "            and city_connectivity[\"Localidad\"]\n",
    "            == provinces_and_capital[city_connectivity[\"Provincia\"]]\n",
    "        ):\n",
    "            if city_connectivity[\"posee_conectividad\"] == \"SI\":\n",
    "                print(\n",
    "                    f\"La ciudad {city_connectivity['Localidad']}, capital de {city_connectivity['Provincia']}, posee conectividad: {city_connectivity['posee_conectividad']}.\"\n",
    "                )\n",
    "                informed_provinces.append(city_connectivity[\"Provincia\"])\n",
    "\n",
    "for province in provinces_and_capital.keys():\n",
    "    if province not in informed_provinces:\n",
    "        print(f\"Conectividad desconocida en la capital de {province}\")"
   ]
  }
 ],
 "metadata": {
  "kernelspec": {
   "display_name": "Python 3 (ipykernel)",
   "language": "python",
   "name": "python3"
  },
  "language_info": {
   "codemirror_mode": {
    "name": "ipython",
    "version": 3
   },
   "file_extension": ".py",
   "mimetype": "text/x-python",
   "name": "python",
   "nbconvert_exporter": "python",
   "pygments_lexer": "ipython3",
   "version": "3.11.7"
  }
 },
 "nbformat": 4,
 "nbformat_minor": 4
}
