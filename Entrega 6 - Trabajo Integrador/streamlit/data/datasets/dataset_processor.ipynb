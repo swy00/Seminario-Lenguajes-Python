{
 "cells": [
  {
   "cell_type": "code",
   "execution_count": 1,
   "metadata": {},
   "outputs": [],
   "source": [
    "import pandas as pd\n",
    "import pathlib\n",
    "import os \n",
    "\n",
    "BASE_PATH = pathlib.Path(os.path.dirname(os.path.dirname(os.path.dirname(os.getcwd()))))"
   ]
  },
  {
   "cell_type": "code",
   "execution_count": 2,
   "metadata": {},
   "outputs": [],
   "source": [
    "def eliminar_tildes(texto):\n",
    "    tildes = {\n",
    "        \"á\": \"a\",\n",
    "        \"é\": \"e\",\n",
    "        \"í\": \"i\",\n",
    "        \"ó\": \"o\",\n",
    "        \"ú\": \"u\",\n",
    "        \"Á\": \"A\",\n",
    "        \"É\": \"E\",\n",
    "        \"Í\": \"I\",\n",
    "        \"Ó\": \"O\",\n",
    "        \"Ú\": \"U\",\n",
    "    }\n",
    "    return \"\".join(tildes.get(c, c) for c in texto)\n",
    "\n",
    "def airport_name(name):\n",
    "    name = name.rsplit(\" \", 1)[0]\n",
    "    try:\n",
    "        right = name.rsplit(\" \", 1)[1]\n",
    "        match right:\n",
    "            case \"International\":\n",
    "                return name.rsplit(\" \", 1)[0]\n",
    "            case _:\n",
    "                return name\n",
    "    except:\n",
    "        return name\n",
    "    \n",
    "def percentage(number, total):\n",
    "    percentage = number / total * 100\n",
    "    return percentage"
   ]
  },
  {
   "cell_type": "markdown",
   "metadata": {},
   "source": [
    "## 1. Base de datos de aeropuertos"
   ]
  },
  {
   "cell_type": "markdown",
   "metadata": {},
   "source": [
    "Creo un dataframe con Pandas. Antes, indico la dirección de la base de origen de datos y donde guardaré la base de datos procesada.\n",
    "Analizo el contenido de la base de datos."
   ]
  },
  {
   "cell_type": "code",
   "execution_count": 3,
   "metadata": {},
   "outputs": [
    {
     "name": "stdout",
     "output_type": "stream",
     "text": [
      "<class 'pandas.core.frame.DataFrame'>\n",
      "RangeIndex: 943 entries, 0 to 942\n",
      "Data columns (total 25 columns):\n",
      " #   Column             Non-Null Count  Dtype  \n",
      "---  ------             --------------  -----  \n",
      " 0   id                 943 non-null    int64  \n",
      " 1   ident              943 non-null    object \n",
      " 2   type               943 non-null    object \n",
      " 3   name               943 non-null    object \n",
      " 4   latitude_deg       943 non-null    float64\n",
      " 5   longitude_deg      943 non-null    float64\n",
      " 6   elevation_ft       908 non-null    float64\n",
      " 7   continent          943 non-null    object \n",
      " 8   country_name       943 non-null    object \n",
      " 9   iso_country        943 non-null    object \n",
      " 10  region_name        943 non-null    object \n",
      " 11  iso_region         943 non-null    object \n",
      " 12  local_region       943 non-null    object \n",
      " 13  municipality       927 non-null    object \n",
      " 14  scheduled_service  943 non-null    int64  \n",
      " 15  gps_code           225 non-null    object \n",
      " 16  iata_code          103 non-null    object \n",
      " 17  local_code         761 non-null    object \n",
      " 18  home_link          14 non-null     object \n",
      " 19  wikipedia_link     80 non-null     object \n",
      " 20  keywords           108 non-null    object \n",
      " 21  score              943 non-null    int64  \n",
      " 22  last_updated       943 non-null    object \n",
      " 23  elevation_name     908 non-null    object \n",
      " 24  prov_name          943 non-null    object \n",
      "dtypes: float64(3), int64(3), object(19)\n",
      "memory usage: 184.3+ KB\n"
     ]
    }
   ],
   "source": [
    "airport_path = BASE_PATH / (\"datasets\") / (\"custom_datasets\") / (\"ar-airports.csv\")\n",
    "\n",
    "new_airport_path = BASE_PATH / (\"streamlit\") / (\"data\") / (\"datasets\") / (\"ar-airports.csv\")\n",
    "\n",
    "airport_df = pd.read_csv(airport_path)\n",
    "\n",
    "airport_df.info()"
   ]
  },
  {
   "cell_type": "markdown",
   "metadata": {},
   "source": [
    "Del análisis de los datos, seleccionamos aquellos campos que brindan información útil al usuario para obtener una única respuesta y que permitan mantener una cantidad aceptable de registros. Luego filtramos la base de datos eliminando todos los registros que tienen al menos un valor nulo en los campos elegidos."
   ]
  },
  {
   "cell_type": "code",
   "execution_count": 4,
   "metadata": {},
   "outputs": [
    {
     "name": "stdout",
     "output_type": "stream",
     "text": [
      "<class 'pandas.core.frame.DataFrame'>\n",
      "RangeIndex: 943 entries, 0 to 942\n",
      "Data columns (total 6 columns):\n",
      " #   Column          Non-Null Count  Dtype \n",
      "---  ------          --------------  ----- \n",
      " 0   type            943 non-null    object\n",
      " 1   name            943 non-null    object\n",
      " 2   elevation_name  908 non-null    object\n",
      " 3   region_name     943 non-null    object\n",
      " 4   municipality    927 non-null    object\n",
      " 5   local_code      761 non-null    object\n",
      "dtypes: object(6)\n",
      "memory usage: 44.3+ KB\n"
     ]
    }
   ],
   "source": [
    "mod_df = airport_df[\n",
    "    [\"type\", \"name\", \"elevation_name\", \"region_name\", \"municipality\", \"local_code\"]\n",
    "]\n",
    "mod_df.info()"
   ]
  },
  {
   "cell_type": "markdown",
   "metadata": {},
   "source": [
    "Analizo la columna type para evitar valores inusuales"
   ]
  },
  {
   "cell_type": "code",
   "execution_count": 5,
   "metadata": {},
   "outputs": [
    {
     "data": {
      "text/plain": [
       "type\n",
       "balloonport         1\n",
       "closed             41\n",
       "heliport          144\n",
       "large_airport       2\n",
       "medium_airport     68\n",
       "small_airport     687\n",
       "Name: name, dtype: int64"
      ]
     },
     "execution_count": 5,
     "metadata": {},
     "output_type": "execute_result"
    }
   ],
   "source": [
    "mod_df.groupby(\"type\")[\"name\"].count()"
   ]
  },
  {
   "cell_type": "markdown",
   "metadata": {},
   "source": [
    "Mantenemos los large_airports ya que son conocidos y no incrementan la dificultad. Eliminamos al ballonport"
   ]
  },
  {
   "cell_type": "code",
   "execution_count": 6,
   "metadata": {},
   "outputs": [],
   "source": [
    "valid_types = [\"large_airport\", \"medium_airport\", \"small_airport\", \"heliport\"]\n",
    "mod_df_type = mod_df[mod_df.type.isin(valid_types)]"
   ]
  },
  {
   "cell_type": "markdown",
   "metadata": {},
   "source": [
    "Elimino todas las filas que contengan valores vacios"
   ]
  },
  {
   "cell_type": "code",
   "execution_count": 7,
   "metadata": {},
   "outputs": [
    {
     "data": {
      "text/plain": [
       "(755, 6)"
      ]
     },
     "execution_count": 7,
     "metadata": {},
     "output_type": "execute_result"
    }
   ],
   "source": [
    "mod_df = mod_df.dropna()\n",
    "mod_df.shape"
   ]
  },
  {
   "cell_type": "markdown",
   "metadata": {},
   "source": [
    "Modificacion de las columnas type, name, elevation_name y region_name. Luego, traduzco el nombre de las columnas a español e incluye opciones dentro del nombre"
   ]
  },
  {
   "cell_type": "code",
   "execution_count": 8,
   "metadata": {},
   "outputs": [],
   "source": [
    "## Type\n",
    "type_change = {\n",
    "    \"large_airport\": \"Grande\",\n",
    "    \"medium_airport\": \"Mediano\",\n",
    "    \"small_airport\": \"Pequeño\",\n",
    "    \"heliport\": \"Helipuerto\",\n",
    "}\n",
    "# Cambio los valores de columna\n",
    "mod_df = mod_df.replace({\"type\": type_change}, regex=True)\n",
    "\n",
    "## Name\n",
    "# Elimino la ultima palabra de los valores\n",
    "\n",
    "mod_df[\"name\"] = mod_df[\"name\"].apply(airport_name)\n",
    "\n",
    "## Elevation name\n",
    "# Le arreglo el formato\n",
    "mod_df[\"elevation_name\"] = mod_df[\"elevation_name\"].apply(lambda x: x.title())\n",
    "\n",
    "## Region_name\n",
    "# Elimino la palabra Province\n",
    "mod_df[\"region_name\"] = mod_df[\"region_name\"].replace({\" Province\": \"\"}, regex=True)"
   ]
  },
  {
   "cell_type": "code",
   "execution_count": 9,
   "metadata": {},
   "outputs": [],
   "source": [
    "# Renombro columnas\n",
    "mod_df.columns = [\n",
    "    \"Tipo (Grande, Mediano, Pequeño, Helipuerto)\",\n",
    "    \"Nombre\",\n",
    "    \"Elevacion (bajo, medio, altos)\",\n",
    "    \"Provincia\",\n",
    "    \"Ciudad\",\n",
    "    \"Codigo local\",\n",
    "]\n",
    "\n",
    "mod_df = mod_df.applymap(lambda x: eliminar_tildes(x))\n",
    "# mod_df[\"Codigo local\"]= mod_df[\"Codigo local\"].apply(lambda x: str(x).title())\n",
    "\n",
    "mod_df = mod_df.applymap(lambda x: x.title() if isinstance(x, str) else x)\n",
    "# Creo el nuevo dataset\n",
    "# mod_df.info()"
   ]
  },
  {
   "cell_type": "markdown",
   "metadata": {},
   "source": [
    "Guardo la base de datos que será considerada en el juego"
   ]
  },
  {
   "cell_type": "code",
   "execution_count": 10,
   "metadata": {},
   "outputs": [],
   "source": [
    "mod_df.to_csv(new_airport_path)"
   ]
  },
  {
   "cell_type": "markdown",
   "metadata": {},
   "source": [
    "## 2. Base de datos de lagos"
   ]
  },
  {
   "cell_type": "markdown",
   "metadata": {},
   "source": [
    "Creo un dataframe con Pandas. Antes, indico la dirección de la base de origen de datos y donde guardaré la base de datos procesada.\n",
    "Analizo el contenido de la base de datos."
   ]
  },
  {
   "cell_type": "code",
   "execution_count": 11,
   "metadata": {},
   "outputs": [
    {
     "name": "stdout",
     "output_type": "stream",
     "text": [
      "<class 'pandas.core.frame.DataFrame'>\n",
      "RangeIndex: 52 entries, 0 to 51\n",
      "Data columns (total 8 columns):\n",
      " #   Column                  Non-Null Count  Dtype  \n",
      "---  ------                  --------------  -----  \n",
      " 0   Nombre                  52 non-null     object \n",
      " 1   Ubicación               52 non-null     object \n",
      " 2   Superficie (km²)        52 non-null     int64  \n",
      " 3   Profundidad máxima (m)  15 non-null     float64\n",
      " 4   Profundidad media (m)   22 non-null     float64\n",
      " 5   Latitud                 52 non-null     float64\n",
      " 6   Longitud                52 non-null     float64\n",
      " 7   Sup tamaño              52 non-null     object \n",
      "dtypes: float64(4), int64(1), object(3)\n",
      "memory usage: 3.4+ KB\n"
     ]
    }
   ],
   "source": [
    "lakes_path = BASE_PATH / (\"datasets\") / (\"custom_datasets\") / (\"lagos_arg.csv\")\n",
    "\n",
    "new_lakes_path = BASE_PATH / (\"streamlit\") / (\"data\") / (\"datasets\") / (\"lagos_arg.csv\")\n",
    "\n",
    "lakes_df = pd.read_csv(lakes_path)\n",
    "\n",
    "lakes_df.info()"
   ]
  },
  {
   "cell_type": "markdown",
   "metadata": {},
   "source": [
    "Del análisis de los datos, seleccionamos aquellos campos que brindan información útil al usuario para obtener una única respuesta y que permitan mantener una cantidad aceptable de registros. Luego filtramos la base de datos eliminando todos los registros que tienen al menos un valor nulo en los campos elegidos."
   ]
  },
  {
   "cell_type": "code",
   "execution_count": 12,
   "metadata": {},
   "outputs": [
    {
     "name": "stdout",
     "output_type": "stream",
     "text": [
      "<class 'pandas.core.frame.DataFrame'>\n",
      "RangeIndex: 52 entries, 0 to 51\n",
      "Data columns (total 6 columns):\n",
      " #   Column            Non-Null Count  Dtype  \n",
      "---  ------            --------------  -----  \n",
      " 0   Nombre            52 non-null     object \n",
      " 1   Ubicación         52 non-null     object \n",
      " 2   Superficie (km²)  52 non-null     int64  \n",
      " 3   Latitud           52 non-null     float64\n",
      " 4   Longitud          52 non-null     float64\n",
      " 5   Sup tamaño        52 non-null     object \n",
      "dtypes: float64(2), int64(1), object(3)\n",
      "memory usage: 2.6+ KB\n"
     ]
    }
   ],
   "source": [
    "lakes_mod_df = lakes_df[\n",
    "    [\"Nombre\", \"Ubicación\", \"Superficie (km²)\", \"Latitud\", \"Longitud\", \"Sup tamaño\"]\n",
    "]\n",
    "lakes_mod_df.info()"
   ]
  },
  {
   "cell_type": "markdown",
   "metadata": {},
   "source": [
    "Modificacion de la columna Tamaño"
   ]
  },
  {
   "cell_type": "code",
   "execution_count": 13,
   "metadata": {},
   "outputs": [
    {
     "name": "stderr",
     "output_type": "stream",
     "text": [
      "C:\\Users\\franc\\AppData\\Local\\Temp\\ipykernel_12028\\3887627431.py:1: SettingWithCopyWarning: \n",
      "A value is trying to be set on a copy of a slice from a DataFrame.\n",
      "Try using .loc[row_indexer,col_indexer] = value instead\n",
      "\n",
      "See the caveats in the documentation: https://pandas.pydata.org/pandas-docs/stable/user_guide/indexing.html#returning-a-view-versus-a-copy\n",
      "  lakes_mod_df[\"Sup tamaño\"] = lakes_mod_df[\"Sup tamaño\"].apply(lambda x: x.title())\n"
     ]
    }
   ],
   "source": [
    "lakes_mod_df[\"Sup tamaño\"] = lakes_mod_df[\"Sup tamaño\"].apply(lambda x: x.title())\n",
    "lakes_mod_df = lakes_mod_df.applymap(lambda x: x.title() if isinstance(x, str) else x)"
   ]
  },
  {
   "cell_type": "markdown",
   "metadata": {},
   "source": [
    "Guardo la base de datos que será considerada en el juego"
   ]
  },
  {
   "cell_type": "code",
   "execution_count": 14,
   "metadata": {},
   "outputs": [],
   "source": [
    "# Elimina todos los tildes\n",
    "# lakes_mod_df= lakes_mod_df.applymap(lambda x: eliminar_tildes(x))\n",
    "for col in lakes_mod_df.select_dtypes(include=[\"object\"]).columns:\n",
    "    lakes_mod_df[col] = lakes_mod_df[col].apply(eliminar_tildes)\n",
    "lakes_mod_df.to_csv(new_lakes_path)"
   ]
  },
  {
   "cell_type": "markdown",
   "metadata": {},
   "source": [
    "## 3. Base de datos de conectividad"
   ]
  },
  {
   "cell_type": "code",
   "execution_count": 15,
   "metadata": {},
   "outputs": [
    {
     "name": "stdout",
     "output_type": "stream",
     "text": [
      "<class 'pandas.core.frame.DataFrame'>\n",
      "RangeIndex: 4312 entries, 0 to 4311\n",
      "Data columns (total 17 columns):\n",
      " #   Column              Non-Null Count  Dtype  \n",
      "---  ------              --------------  -----  \n",
      " 0   Provincia           4312 non-null   object \n",
      " 1   Partido             4312 non-null   object \n",
      " 2   Localidad           4312 non-null   object \n",
      " 3   Poblacion           4312 non-null   int64  \n",
      " 4   ADSL                4312 non-null   object \n",
      " 5   CABLEMODEM          4312 non-null   object \n",
      " 6   DIALUP              4312 non-null   object \n",
      " 7   FIBRAOPTICA         4312 non-null   object \n",
      " 8   SATELITAL           4312 non-null   object \n",
      " 9   WIRELESS            4312 non-null   object \n",
      " 10  TELEFONIAFIJA       4312 non-null   object \n",
      " 11  3G                  4312 non-null   object \n",
      " 12  4G                  4312 non-null   object \n",
      " 13  link                3836 non-null   float64\n",
      " 14  Latitud             4312 non-null   float64\n",
      " 15  Longitud            4312 non-null   float64\n",
      " 16  posee_conectividad  4312 non-null   object \n",
      "dtypes: float64(3), int64(1), object(13)\n",
      "memory usage: 572.8+ KB\n"
     ]
    }
   ],
   "source": [
    "conect_path = BASE_PATH / (\"datasets\") / (\"custom_datasets\") / (\"Conectividad_Internet.csv\")\n",
    "\n",
    "new_conect_path = BASE_PATH / (\"streamlit\") / (\"data\") / (\"datasets\") / (\"Conectividad_Internet.csv\")\n",
    "\n",
    "conect_df = pd.read_csv(conect_path)\n",
    "\n",
    "conect_df.info()"
   ]
  },
  {
   "cell_type": "markdown",
   "metadata": {},
   "source": [
    "Visualizo el contenido de la base de datos"
   ]
  },
  {
   "cell_type": "code",
   "execution_count": 16,
   "metadata": {},
   "outputs": [
    {
     "data": {
      "text/html": [
       "<div>\n",
       "<style scoped>\n",
       "    .dataframe tbody tr th:only-of-type {\n",
       "        vertical-align: middle;\n",
       "    }\n",
       "\n",
       "    .dataframe tbody tr th {\n",
       "        vertical-align: top;\n",
       "    }\n",
       "\n",
       "    .dataframe thead th {\n",
       "        text-align: right;\n",
       "    }\n",
       "</style>\n",
       "<table border=\"1\" class=\"dataframe\">\n",
       "  <thead>\n",
       "    <tr style=\"text-align: right;\">\n",
       "      <th></th>\n",
       "      <th>Provincia</th>\n",
       "      <th>Partido</th>\n",
       "      <th>Localidad</th>\n",
       "      <th>Poblacion</th>\n",
       "      <th>ADSL</th>\n",
       "      <th>CABLEMODEM</th>\n",
       "      <th>DIALUP</th>\n",
       "      <th>FIBRAOPTICA</th>\n",
       "      <th>SATELITAL</th>\n",
       "      <th>WIRELESS</th>\n",
       "      <th>TELEFONIAFIJA</th>\n",
       "      <th>3G</th>\n",
       "      <th>4G</th>\n",
       "      <th>link</th>\n",
       "      <th>Latitud</th>\n",
       "      <th>Longitud</th>\n",
       "      <th>posee_conectividad</th>\n",
       "    </tr>\n",
       "  </thead>\n",
       "  <tbody>\n",
       "    <tr>\n",
       "      <th>0</th>\n",
       "      <td>BUENOS AIRES</td>\n",
       "      <td>25 de Mayo</td>\n",
       "      <td>25 de Mayo</td>\n",
       "      <td>23408</td>\n",
       "      <td>SI</td>\n",
       "      <td>SI</td>\n",
       "      <td>NO</td>\n",
       "      <td>SI</td>\n",
       "      <td>SI</td>\n",
       "      <td>SI</td>\n",
       "      <td>SI</td>\n",
       "      <td>SI</td>\n",
       "      <td>SI</td>\n",
       "      <td>6854100.0</td>\n",
       "      <td>-35.433939</td>\n",
       "      <td>-60.173121</td>\n",
       "      <td>SI</td>\n",
       "    </tr>\n",
       "    <tr>\n",
       "      <th>1</th>\n",
       "      <td>BUENOS AIRES</td>\n",
       "      <td>25 de Mayo</td>\n",
       "      <td>Agustín Mosconi</td>\n",
       "      <td>280</td>\n",
       "      <td>NO</td>\n",
       "      <td>NO</td>\n",
       "      <td>NO</td>\n",
       "      <td>NO</td>\n",
       "      <td>NO</td>\n",
       "      <td>NO</td>\n",
       "      <td>SI</td>\n",
       "      <td>NO</td>\n",
       "      <td>NO</td>\n",
       "      <td>6854010.0</td>\n",
       "      <td>-35.739217</td>\n",
       "      <td>-60.559063</td>\n",
       "      <td>SI</td>\n",
       "    </tr>\n",
       "    <tr>\n",
       "      <th>2</th>\n",
       "      <td>BUENOS AIRES</td>\n",
       "      <td>25 de Mayo</td>\n",
       "      <td>Del Valle</td>\n",
       "      <td>899</td>\n",
       "      <td>SI</td>\n",
       "      <td>NO</td>\n",
       "      <td>NO</td>\n",
       "      <td>NO</td>\n",
       "      <td>SI</td>\n",
       "      <td>NO</td>\n",
       "      <td>NO</td>\n",
       "      <td>SI</td>\n",
       "      <td>SI</td>\n",
       "      <td>6854020.0</td>\n",
       "      <td>-35.897345</td>\n",
       "      <td>-60.731609</td>\n",
       "      <td>SI</td>\n",
       "    </tr>\n",
       "    <tr>\n",
       "      <th>3</th>\n",
       "      <td>BUENOS AIRES</td>\n",
       "      <td>25 de Mayo</td>\n",
       "      <td>Ernestina</td>\n",
       "      <td>145</td>\n",
       "      <td>SI</td>\n",
       "      <td>NO</td>\n",
       "      <td>NO</td>\n",
       "      <td>NO</td>\n",
       "      <td>NO</td>\n",
       "      <td>NO</td>\n",
       "      <td>NO</td>\n",
       "      <td>NO</td>\n",
       "      <td>NO</td>\n",
       "      <td>6854030.0</td>\n",
       "      <td>-35.270234</td>\n",
       "      <td>-59.557503</td>\n",
       "      <td>SI</td>\n",
       "    </tr>\n",
       "    <tr>\n",
       "      <th>4</th>\n",
       "      <td>BUENOS AIRES</td>\n",
       "      <td>25 de Mayo</td>\n",
       "      <td>Gobernador Ugarte</td>\n",
       "      <td>547</td>\n",
       "      <td>NO</td>\n",
       "      <td>NO</td>\n",
       "      <td>NO</td>\n",
       "      <td>NO</td>\n",
       "      <td>NO</td>\n",
       "      <td>SI</td>\n",
       "      <td>NO</td>\n",
       "      <td>NO</td>\n",
       "      <td>NO</td>\n",
       "      <td>6854040.0</td>\n",
       "      <td>-35.164397</td>\n",
       "      <td>-60.081358</td>\n",
       "      <td>SI</td>\n",
       "    </tr>\n",
       "  </tbody>\n",
       "</table>\n",
       "</div>"
      ],
      "text/plain": [
       "      Provincia     Partido          Localidad  Poblacion ADSL CABLEMODEM  \\\n",
       "0  BUENOS AIRES  25 de Mayo         25 de Mayo      23408   SI         SI   \n",
       "1  BUENOS AIRES  25 de Mayo    Agustín Mosconi        280   NO         NO   \n",
       "2  BUENOS AIRES  25 de Mayo          Del Valle        899   SI         NO   \n",
       "3  BUENOS AIRES  25 de Mayo          Ernestina        145   SI         NO   \n",
       "4  BUENOS AIRES  25 de Mayo  Gobernador Ugarte        547   NO         NO   \n",
       "\n",
       "  DIALUP FIBRAOPTICA SATELITAL WIRELESS TELEFONIAFIJA  3G  4G       link  \\\n",
       "0     NO          SI        SI       SI            SI  SI  SI  6854100.0   \n",
       "1     NO          NO        NO       NO            SI  NO  NO  6854010.0   \n",
       "2     NO          NO        SI       NO            NO  SI  SI  6854020.0   \n",
       "3     NO          NO        NO       NO            NO  NO  NO  6854030.0   \n",
       "4     NO          NO        NO       SI            NO  NO  NO  6854040.0   \n",
       "\n",
       "     Latitud   Longitud posee_conectividad  \n",
       "0 -35.433939 -60.173121                 SI  \n",
       "1 -35.739217 -60.559063                 SI  \n",
       "2 -35.897345 -60.731609                 SI  \n",
       "3 -35.270234 -59.557503                 SI  \n",
       "4 -35.164397 -60.081358                 SI  "
      ]
     },
     "execution_count": 16,
     "metadata": {},
     "output_type": "execute_result"
    }
   ],
   "source": [
    "conect_df.head(5)"
   ]
  },
  {
   "cell_type": "markdown",
   "metadata": {},
   "source": [
    "Elimino el campo \"Posee conectividad\", que ya resume campos anteriores y sería una respuesta muy fácil dadas las pistas obtenidas.\n",
    "También elimino el link ya que tiene valores dificiles de conocer y reduciría el resultado a suerte."
   ]
  },
  {
   "cell_type": "code",
   "execution_count": 17,
   "metadata": {},
   "outputs": [
    {
     "name": "stdout",
     "output_type": "stream",
     "text": [
      "<class 'pandas.core.frame.DataFrame'>\n",
      "RangeIndex: 4312 entries, 0 to 4311\n",
      "Data columns (total 13 columns):\n",
      " #   Column          Non-Null Count  Dtype \n",
      "---  ------          --------------  ----- \n",
      " 0   Provincia       4312 non-null   object\n",
      " 1   Partido         4312 non-null   object\n",
      " 2   Localidad       4312 non-null   object\n",
      " 3   Poblacion       4312 non-null   int64 \n",
      " 4   ADSL            4312 non-null   object\n",
      " 5   Cable-Modem     4312 non-null   object\n",
      " 6   Dialup          4312 non-null   object\n",
      " 7   Fibra Optica    4312 non-null   object\n",
      " 8   Satelital       4312 non-null   object\n",
      " 9   Wireless        4312 non-null   object\n",
      " 10  Telefonia Fija  4312 non-null   object\n",
      " 11  3G              4312 non-null   object\n",
      " 12  4G              4312 non-null   object\n",
      "dtypes: int64(1), object(12)\n",
      "memory usage: 438.1+ KB\n"
     ]
    }
   ],
   "source": [
    "conect_df = conect_df.rename(\n",
    "    columns={\n",
    "        \"CABLEMODEM\": \"Cable-Modem\",\n",
    "        \"DIALUP\": \"Dialup\",\n",
    "        \"FIBRAOPTICA\": \"Fibra Optica\",\n",
    "        \"SATELITAL\": \"Satelital\",\n",
    "        \"WIRELESS\": \"Wireless\",\n",
    "        \"TELEFONIAFIJA\": \"Telefonia Fija\",\n",
    "    }\n",
    ")\n",
    "\n",
    "conect_mod_df = conect_df[\n",
    "    [\n",
    "        \"Provincia\",\n",
    "        \"Partido\",\n",
    "        \"Localidad\",\n",
    "        \"Poblacion\",\n",
    "        \"ADSL\",\n",
    "        \"Cable-Modem\",\n",
    "        \"Dialup\",\n",
    "        \"Fibra Optica\",\n",
    "        \"Satelital\",\n",
    "        \"Wireless\",\n",
    "        \"Telefonia Fija\",\n",
    "        \"3G\",\n",
    "        \"4G\",\n",
    "    ]\n",
    "]\n",
    "conect_mod_df.info()"
   ]
  },
  {
   "cell_type": "markdown",
   "metadata": {},
   "source": [
    "Modificaciones del campo Provincia, reemplazando las mayúsculas por la utilización de mayúscula solo en la primera letra."
   ]
  },
  {
   "cell_type": "code",
   "execution_count": 18,
   "metadata": {},
   "outputs": [
    {
     "name": "stderr",
     "output_type": "stream",
     "text": [
      "C:\\Users\\franc\\AppData\\Local\\Temp\\ipykernel_12028\\1037015866.py:1: SettingWithCopyWarning: \n",
      "A value is trying to be set on a copy of a slice from a DataFrame.\n",
      "Try using .loc[row_indexer,col_indexer] = value instead\n",
      "\n",
      "See the caveats in the documentation: https://pandas.pydata.org/pandas-docs/stable/user_guide/indexing.html#returning-a-view-versus-a-copy\n",
      "  conect_mod_df[\"Provincia\"] = conect_mod_df[\"Provincia\"].apply(lambda x: x.title())\n"
     ]
    }
   ],
   "source": [
    "conect_mod_df[\"Provincia\"] = conect_mod_df[\"Provincia\"].apply(lambda x: x.title())\n",
    "conect_mod_df.head(1)\n",
    "# Le aplico title() y elimino tildes en todo el DataSet\n",
    "conect_mod_df = conect_mod_df.applymap(lambda x: x.title() if isinstance(x, str) else x)\n",
    "for col in conect_mod_df.select_dtypes(include=[\"object\"]).columns:\n",
    "    conect_mod_df[col] = conect_mod_df[col].apply(eliminar_tildes)"
   ]
  },
  {
   "cell_type": "markdown",
   "metadata": {},
   "source": [
    "Guardo el nuevo dataset"
   ]
  },
  {
   "cell_type": "code",
   "execution_count": 19,
   "metadata": {},
   "outputs": [],
   "source": [
    "conect_mod_df.to_csv(new_conect_path)"
   ]
  },
  {
   "cell_type": "markdown",
   "metadata": {},
   "source": [
    "## 4. Base de datos de censo"
   ]
  },
  {
   "cell_type": "markdown",
   "metadata": {},
   "source": [
    "Creo un dataframe con Pandas. Antes, indico la dirección de la base de origen de datos y donde guardaré la base de datos procesada.\n",
    "Analizo el contenido de la base de datos."
   ]
  },
  {
   "cell_type": "code",
   "execution_count": 20,
   "metadata": {},
   "outputs": [
    {
     "name": "stdout",
     "output_type": "stream",
     "text": [
      "<class 'pandas.core.frame.DataFrame'>\n",
      "RangeIndex: 25 entries, 0 to 24\n",
      "Data columns (total 14 columns):\n",
      " #   Column                                         Non-Null Count  Dtype  \n",
      "---  ------                                         --------------  -----  \n",
      " 0   Jurisdicción                                   25 non-null     object \n",
      " 1   Total de población                             25 non-null     int64  \n",
      " 2   Población en viviendas particulares            25 non-null     int64  \n",
      " 3   Población en viviendas colectivas (¹)          25 non-null     int64  \n",
      " 4   Población en situación de calle(²)             25 non-null     int64  \n",
      " 5   Varones Total de población                     25 non-null     int64  \n",
      " 6   Varones Población en viviendas particulares    25 non-null     int64  \n",
      " 7   Varones Población en viviendas colectivas (¹)  25 non-null     int64  \n",
      " 8   VaronesPoblación en situación de calle(²)      25 non-null     int64  \n",
      " 9   Mujeres Total de población                     25 non-null     int64  \n",
      " 10  Mujeres Población en viviendas particulares    25 non-null     int64  \n",
      " 11  Mujeres Población en viviendas colectivas (¹)  25 non-null     int64  \n",
      " 12  Mujeres Población en situación de calle(²)     25 non-null     int64  \n",
      " 13  Porcentaje de población en situación de calle  25 non-null     float64\n",
      "dtypes: float64(1), int64(12), object(1)\n",
      "memory usage: 2.9+ KB\n"
     ]
    }
   ],
   "source": [
    "censo_path = BASE_PATH / (\"datasets\") / (\"custom_datasets\") / (\"c2022_tp_c_resumen_adaptado.csv\")\n",
    "\n",
    "new_censo_path = BASE_PATH / (\"streamlit\") / (\"data\") / (\"datasets\") / (\"c2022_tp_c_resumen_adaptado.csv\")\n",
    "\n",
    "\n",
    "censo_df = pd.read_csv(censo_path)\n",
    "\n",
    "censo_df.info()"
   ]
  },
  {
   "cell_type": "markdown",
   "metadata": {},
   "source": [
    "Visualizo el contenido de la base de datos"
   ]
  },
  {
   "cell_type": "code",
   "execution_count": 21,
   "metadata": {},
   "outputs": [
    {
     "data": {
      "text/html": [
       "<div>\n",
       "<style scoped>\n",
       "    .dataframe tbody tr th:only-of-type {\n",
       "        vertical-align: middle;\n",
       "    }\n",
       "\n",
       "    .dataframe tbody tr th {\n",
       "        vertical-align: top;\n",
       "    }\n",
       "\n",
       "    .dataframe thead th {\n",
       "        text-align: right;\n",
       "    }\n",
       "</style>\n",
       "<table border=\"1\" class=\"dataframe\">\n",
       "  <thead>\n",
       "    <tr style=\"text-align: right;\">\n",
       "      <th></th>\n",
       "      <th>Jurisdicción</th>\n",
       "      <th>Total de población</th>\n",
       "      <th>Población en viviendas particulares</th>\n",
       "      <th>Población en viviendas colectivas (¹)</th>\n",
       "      <th>Población en situación de calle(²)</th>\n",
       "      <th>Varones Total de población</th>\n",
       "      <th>Varones Población en viviendas particulares</th>\n",
       "      <th>Varones Población en viviendas colectivas (¹)</th>\n",
       "      <th>VaronesPoblación en situación de calle(²)</th>\n",
       "      <th>Mujeres Total de población</th>\n",
       "      <th>Mujeres Población en viviendas particulares</th>\n",
       "      <th>Mujeres Población en viviendas colectivas (¹)</th>\n",
       "      <th>Mujeres Población en situación de calle(²)</th>\n",
       "      <th>Porcentaje de población en situación de calle</th>\n",
       "    </tr>\n",
       "  </thead>\n",
       "  <tbody>\n",
       "    <tr>\n",
       "      <th>0</th>\n",
       "      <td>Total del país</td>\n",
       "      <td>45892285</td>\n",
       "      <td>45618787</td>\n",
       "      <td>267793</td>\n",
       "      <td>5705</td>\n",
       "      <td>22186791</td>\n",
       "      <td>22010881</td>\n",
       "      <td>171436</td>\n",
       "      <td>4474</td>\n",
       "      <td>23705494</td>\n",
       "      <td>23607906</td>\n",
       "      <td>96357</td>\n",
       "      <td>1231</td>\n",
       "      <td>0.0124</td>\n",
       "    </tr>\n",
       "    <tr>\n",
       "      <th>1</th>\n",
       "      <td>Ciudad Autónoma de Buenos Aires</td>\n",
       "      <td>3121707</td>\n",
       "      <td>3095454</td>\n",
       "      <td>23850</td>\n",
       "      <td>2403</td>\n",
       "      <td>1439873</td>\n",
       "      <td>1428781</td>\n",
       "      <td>9216</td>\n",
       "      <td>1876</td>\n",
       "      <td>1681834</td>\n",
       "      <td>1666673</td>\n",
       "      <td>14634</td>\n",
       "      <td>527</td>\n",
       "      <td>0.0770</td>\n",
       "    </tr>\n",
       "    <tr>\n",
       "      <th>2</th>\n",
       "      <td>Buenos Aires</td>\n",
       "      <td>17523996</td>\n",
       "      <td>17408906</td>\n",
       "      <td>113664</td>\n",
       "      <td>1426</td>\n",
       "      <td>8470569</td>\n",
       "      <td>8393419</td>\n",
       "      <td>76030</td>\n",
       "      <td>1120</td>\n",
       "      <td>9053427</td>\n",
       "      <td>9015487</td>\n",
       "      <td>37634</td>\n",
       "      <td>306</td>\n",
       "      <td>0.0081</td>\n",
       "    </tr>\n",
       "    <tr>\n",
       "      <th>3</th>\n",
       "      <td>Catamarca</td>\n",
       "      <td>429562</td>\n",
       "      <td>427625</td>\n",
       "      <td>1909</td>\n",
       "      <td>28</td>\n",
       "      <td>210464</td>\n",
       "      <td>209088</td>\n",
       "      <td>1365</td>\n",
       "      <td>11</td>\n",
       "      <td>219098</td>\n",
       "      <td>218537</td>\n",
       "      <td>544</td>\n",
       "      <td>17</td>\n",
       "      <td>0.0065</td>\n",
       "    </tr>\n",
       "    <tr>\n",
       "      <th>4</th>\n",
       "      <td>Chaco</td>\n",
       "      <td>1129606</td>\n",
       "      <td>1124603</td>\n",
       "      <td>4898</td>\n",
       "      <td>105</td>\n",
       "      <td>547655</td>\n",
       "      <td>543912</td>\n",
       "      <td>3652</td>\n",
       "      <td>91</td>\n",
       "      <td>581951</td>\n",
       "      <td>580691</td>\n",
       "      <td>1246</td>\n",
       "      <td>14</td>\n",
       "      <td>0.0093</td>\n",
       "    </tr>\n",
       "  </tbody>\n",
       "</table>\n",
       "</div>"
      ],
      "text/plain": [
       "                      Jurisdicción  Total de población  \\\n",
       "0                   Total del país            45892285   \n",
       "1  Ciudad Autónoma de Buenos Aires             3121707   \n",
       "2                     Buenos Aires            17523996   \n",
       "3                        Catamarca              429562   \n",
       "4                            Chaco             1129606   \n",
       "\n",
       "   Población en viviendas particulares  Población en viviendas colectivas (¹)  \\\n",
       "0                             45618787                                 267793   \n",
       "1                              3095454                                  23850   \n",
       "2                             17408906                                 113664   \n",
       "3                               427625                                   1909   \n",
       "4                              1124603                                   4898   \n",
       "\n",
       "   Población en situación de calle(²)  Varones Total de población  \\\n",
       "0                                5705                    22186791   \n",
       "1                                2403                     1439873   \n",
       "2                                1426                     8470569   \n",
       "3                                  28                      210464   \n",
       "4                                 105                      547655   \n",
       "\n",
       "   Varones Población en viviendas particulares  \\\n",
       "0                                     22010881   \n",
       "1                                      1428781   \n",
       "2                                      8393419   \n",
       "3                                       209088   \n",
       "4                                       543912   \n",
       "\n",
       "   Varones Población en viviendas colectivas (¹)  \\\n",
       "0                                         171436   \n",
       "1                                           9216   \n",
       "2                                          76030   \n",
       "3                                           1365   \n",
       "4                                           3652   \n",
       "\n",
       "   VaronesPoblación en situación de calle(²)  Mujeres Total de población  \\\n",
       "0                                       4474                    23705494   \n",
       "1                                       1876                     1681834   \n",
       "2                                       1120                     9053427   \n",
       "3                                         11                      219098   \n",
       "4                                         91                      581951   \n",
       "\n",
       "   Mujeres Población en viviendas particulares  \\\n",
       "0                                     23607906   \n",
       "1                                      1666673   \n",
       "2                                      9015487   \n",
       "3                                       218537   \n",
       "4                                       580691   \n",
       "\n",
       "   Mujeres Población en viviendas colectivas (¹)  \\\n",
       "0                                          96357   \n",
       "1                                          14634   \n",
       "2                                          37634   \n",
       "3                                            544   \n",
       "4                                           1246   \n",
       "\n",
       "   Mujeres Población en situación de calle(²)  \\\n",
       "0                                        1231   \n",
       "1                                         527   \n",
       "2                                         306   \n",
       "3                                          17   \n",
       "4                                          14   \n",
       "\n",
       "   Porcentaje de población en situación de calle  \n",
       "0                                         0.0124  \n",
       "1                                         0.0770  \n",
       "2                                         0.0081  \n",
       "3                                         0.0065  \n",
       "4                                         0.0093  "
      ]
     },
     "execution_count": 21,
     "metadata": {},
     "output_type": "execute_result"
    }
   ],
   "source": [
    "censo_df.head(5)"
   ]
  },
  {
   "cell_type": "markdown",
   "metadata": {},
   "source": [
    "Agrego campos conteniendo porcentajes en lugar de números absolutos"
   ]
  },
  {
   "cell_type": "code",
   "execution_count": 22,
   "metadata": {},
   "outputs": [
    {
     "data": {
      "text/html": [
       "<div>\n",
       "<style scoped>\n",
       "    .dataframe tbody tr th:only-of-type {\n",
       "        vertical-align: middle;\n",
       "    }\n",
       "\n",
       "    .dataframe tbody tr th {\n",
       "        vertical-align: top;\n",
       "    }\n",
       "\n",
       "    .dataframe thead th {\n",
       "        text-align: right;\n",
       "    }\n",
       "</style>\n",
       "<table border=\"1\" class=\"dataframe\">\n",
       "  <thead>\n",
       "    <tr style=\"text-align: right;\">\n",
       "      <th></th>\n",
       "      <th>Jurisdicción</th>\n",
       "      <th>Población</th>\n",
       "      <th>Población en viviendas particulares</th>\n",
       "      <th>Viviendas_colectivas</th>\n",
       "      <th>Sit_Calle</th>\n",
       "      <th>Varones</th>\n",
       "      <th>Varones Población en viviendas particulares</th>\n",
       "      <th>Varones Población en viviendas colectivas (¹)</th>\n",
       "      <th>VaronesPoblación en situación de calle(²)</th>\n",
       "      <th>Mujeres</th>\n",
       "      <th>Mujeres Población en viviendas particulares</th>\n",
       "      <th>Mujeres Población en viviendas colectivas (¹)</th>\n",
       "      <th>Mujeres Población en situación de calle(²)</th>\n",
       "      <th>Porcentaje de población en situación de calle</th>\n",
       "      <th>Varones Porcentaje</th>\n",
       "      <th>Mujeres Porcentaje</th>\n",
       "      <th>Población en viviendas colectivas Porcentaje</th>\n",
       "      <th>Población en situación de calle Porcentaje</th>\n",
       "    </tr>\n",
       "  </thead>\n",
       "  <tbody>\n",
       "    <tr>\n",
       "      <th>0</th>\n",
       "      <td>Total del país</td>\n",
       "      <td>45892285</td>\n",
       "      <td>45618787</td>\n",
       "      <td>267793</td>\n",
       "      <td>5705</td>\n",
       "      <td>22186791</td>\n",
       "      <td>22010881</td>\n",
       "      <td>171436</td>\n",
       "      <td>4474</td>\n",
       "      <td>23705494</td>\n",
       "      <td>23607906</td>\n",
       "      <td>96357</td>\n",
       "      <td>1231</td>\n",
       "      <td>0.0124</td>\n",
       "      <td>48</td>\n",
       "      <td>51</td>\n",
       "      <td>0.58</td>\n",
       "      <td>0.01</td>\n",
       "    </tr>\n",
       "    <tr>\n",
       "      <th>1</th>\n",
       "      <td>Ciudad Autónoma de Buenos Aires</td>\n",
       "      <td>3121707</td>\n",
       "      <td>3095454</td>\n",
       "      <td>23850</td>\n",
       "      <td>2403</td>\n",
       "      <td>1439873</td>\n",
       "      <td>1428781</td>\n",
       "      <td>9216</td>\n",
       "      <td>1876</td>\n",
       "      <td>1681834</td>\n",
       "      <td>1666673</td>\n",
       "      <td>14634</td>\n",
       "      <td>527</td>\n",
       "      <td>0.0770</td>\n",
       "      <td>46</td>\n",
       "      <td>53</td>\n",
       "      <td>0.76</td>\n",
       "      <td>0.08</td>\n",
       "    </tr>\n",
       "    <tr>\n",
       "      <th>2</th>\n",
       "      <td>Buenos Aires</td>\n",
       "      <td>17523996</td>\n",
       "      <td>17408906</td>\n",
       "      <td>113664</td>\n",
       "      <td>1426</td>\n",
       "      <td>8470569</td>\n",
       "      <td>8393419</td>\n",
       "      <td>76030</td>\n",
       "      <td>1120</td>\n",
       "      <td>9053427</td>\n",
       "      <td>9015487</td>\n",
       "      <td>37634</td>\n",
       "      <td>306</td>\n",
       "      <td>0.0081</td>\n",
       "      <td>48</td>\n",
       "      <td>51</td>\n",
       "      <td>0.65</td>\n",
       "      <td>0.01</td>\n",
       "    </tr>\n",
       "    <tr>\n",
       "      <th>3</th>\n",
       "      <td>Catamarca</td>\n",
       "      <td>429562</td>\n",
       "      <td>427625</td>\n",
       "      <td>1909</td>\n",
       "      <td>28</td>\n",
       "      <td>210464</td>\n",
       "      <td>209088</td>\n",
       "      <td>1365</td>\n",
       "      <td>11</td>\n",
       "      <td>219098</td>\n",
       "      <td>218537</td>\n",
       "      <td>544</td>\n",
       "      <td>17</td>\n",
       "      <td>0.0065</td>\n",
       "      <td>48</td>\n",
       "      <td>51</td>\n",
       "      <td>0.44</td>\n",
       "      <td>0.01</td>\n",
       "    </tr>\n",
       "    <tr>\n",
       "      <th>4</th>\n",
       "      <td>Chaco</td>\n",
       "      <td>1129606</td>\n",
       "      <td>1124603</td>\n",
       "      <td>4898</td>\n",
       "      <td>105</td>\n",
       "      <td>547655</td>\n",
       "      <td>543912</td>\n",
       "      <td>3652</td>\n",
       "      <td>91</td>\n",
       "      <td>581951</td>\n",
       "      <td>580691</td>\n",
       "      <td>1246</td>\n",
       "      <td>14</td>\n",
       "      <td>0.0093</td>\n",
       "      <td>48</td>\n",
       "      <td>51</td>\n",
       "      <td>0.43</td>\n",
       "      <td>0.01</td>\n",
       "    </tr>\n",
       "  </tbody>\n",
       "</table>\n",
       "</div>"
      ],
      "text/plain": [
       "                      Jurisdicción  Población  \\\n",
       "0                   Total del país   45892285   \n",
       "1  Ciudad Autónoma de Buenos Aires    3121707   \n",
       "2                     Buenos Aires   17523996   \n",
       "3                        Catamarca     429562   \n",
       "4                            Chaco    1129606   \n",
       "\n",
       "   Población en viviendas particulares  Viviendas_colectivas  Sit_Calle  \\\n",
       "0                             45618787                267793       5705   \n",
       "1                              3095454                 23850       2403   \n",
       "2                             17408906                113664       1426   \n",
       "3                               427625                  1909         28   \n",
       "4                              1124603                  4898        105   \n",
       "\n",
       "    Varones  Varones Población en viviendas particulares  \\\n",
       "0  22186791                                     22010881   \n",
       "1   1439873                                      1428781   \n",
       "2   8470569                                      8393419   \n",
       "3    210464                                       209088   \n",
       "4    547655                                       543912   \n",
       "\n",
       "   Varones Población en viviendas colectivas (¹)  \\\n",
       "0                                         171436   \n",
       "1                                           9216   \n",
       "2                                          76030   \n",
       "3                                           1365   \n",
       "4                                           3652   \n",
       "\n",
       "   VaronesPoblación en situación de calle(²)   Mujeres  \\\n",
       "0                                       4474  23705494   \n",
       "1                                       1876   1681834   \n",
       "2                                       1120   9053427   \n",
       "3                                         11    219098   \n",
       "4                                         91    581951   \n",
       "\n",
       "   Mujeres Población en viviendas particulares  \\\n",
       "0                                     23607906   \n",
       "1                                      1666673   \n",
       "2                                      9015487   \n",
       "3                                       218537   \n",
       "4                                       580691   \n",
       "\n",
       "   Mujeres Población en viviendas colectivas (¹)  \\\n",
       "0                                          96357   \n",
       "1                                          14634   \n",
       "2                                          37634   \n",
       "3                                            544   \n",
       "4                                           1246   \n",
       "\n",
       "   Mujeres Población en situación de calle(²)  \\\n",
       "0                                        1231   \n",
       "1                                         527   \n",
       "2                                         306   \n",
       "3                                          17   \n",
       "4                                          14   \n",
       "\n",
       "   Porcentaje de población en situación de calle  Varones Porcentaje  \\\n",
       "0                                         0.0124                  48   \n",
       "1                                         0.0770                  46   \n",
       "2                                         0.0081                  48   \n",
       "3                                         0.0065                  48   \n",
       "4                                         0.0093                  48   \n",
       "\n",
       "   Mujeres Porcentaje  Población en viviendas colectivas Porcentaje  \\\n",
       "0                  51                                          0.58   \n",
       "1                  53                                          0.76   \n",
       "2                  51                                          0.65   \n",
       "3                  51                                          0.44   \n",
       "4                  51                                          0.43   \n",
       "\n",
       "   Población en situación de calle Porcentaje  \n",
       "0                                        0.01  \n",
       "1                                        0.08  \n",
       "2                                        0.01  \n",
       "3                                        0.01  \n",
       "4                                        0.01  "
      ]
     },
     "execution_count": 22,
     "metadata": {},
     "output_type": "execute_result"
    }
   ],
   "source": [
    "censo_df = censo_df.rename(\n",
    "    columns={\n",
    "        \"Total de población\": \"Población\",\n",
    "        \"Varones Total de población\": \"Varones\",\n",
    "        \"Mujeres Total de población\": \"Mujeres\",\n",
    "        \"Población en situación de calle(²)\": \"Sit_Calle\",\n",
    "        \"Población en viviendas colectivas (¹)\": \"Viviendas_colectivas\",\n",
    "    }\n",
    ")\n",
    "\n",
    "censo_df[\"Varones Porcentaje\"] = censo_df.apply(\n",
    "    lambda x: int(percentage(x.Varones, x.Población)), axis=1\n",
    ")\n",
    "censo_df[\"Mujeres Porcentaje\"] = censo_df.apply(\n",
    "    lambda x: int(percentage(x.Mujeres, x.Población)), axis=1\n",
    ")\n",
    "censo_df[\"Población en viviendas colectivas Porcentaje\"] = censo_df.apply(\n",
    "    lambda x: round(percentage(x.Viviendas_colectivas, x.Población), 2), axis=1\n",
    ")\n",
    "censo_df[\"Población en situación de calle Porcentaje\"] = censo_df.apply(\n",
    "    lambda x: round(percentage(x.Sit_Calle, x.Población), 2), axis=1\n",
    ")\n",
    "\n",
    "censo_df.head(5)"
   ]
  },
  {
   "cell_type": "markdown",
   "metadata": {},
   "source": [
    "Selecciono las columnas que usaré:"
   ]
  },
  {
   "cell_type": "code",
   "execution_count": 23,
   "metadata": {},
   "outputs": [
    {
     "data": {
      "text/html": [
       "<div>\n",
       "<style scoped>\n",
       "    .dataframe tbody tr th:only-of-type {\n",
       "        vertical-align: middle;\n",
       "    }\n",
       "\n",
       "    .dataframe tbody tr th {\n",
       "        vertical-align: top;\n",
       "    }\n",
       "\n",
       "    .dataframe thead th {\n",
       "        text-align: right;\n",
       "    }\n",
       "</style>\n",
       "<table border=\"1\" class=\"dataframe\">\n",
       "  <thead>\n",
       "    <tr style=\"text-align: right;\">\n",
       "      <th></th>\n",
       "      <th>Jurisdicción</th>\n",
       "      <th>Población</th>\n",
       "      <th>Varones Porcentaje</th>\n",
       "      <th>Mujeres Porcentaje</th>\n",
       "      <th>Población en viviendas colectivas Porcentaje</th>\n",
       "      <th>Población en situación de calle Porcentaje</th>\n",
       "    </tr>\n",
       "  </thead>\n",
       "  <tbody>\n",
       "    <tr>\n",
       "      <th>0</th>\n",
       "      <td>Total del país</td>\n",
       "      <td>45892285</td>\n",
       "      <td>48</td>\n",
       "      <td>51</td>\n",
       "      <td>0.58</td>\n",
       "      <td>0.01</td>\n",
       "    </tr>\n",
       "    <tr>\n",
       "      <th>1</th>\n",
       "      <td>Ciudad Autónoma de Buenos Aires</td>\n",
       "      <td>3121707</td>\n",
       "      <td>46</td>\n",
       "      <td>53</td>\n",
       "      <td>0.76</td>\n",
       "      <td>0.08</td>\n",
       "    </tr>\n",
       "    <tr>\n",
       "      <th>2</th>\n",
       "      <td>Buenos Aires</td>\n",
       "      <td>17523996</td>\n",
       "      <td>48</td>\n",
       "      <td>51</td>\n",
       "      <td>0.65</td>\n",
       "      <td>0.01</td>\n",
       "    </tr>\n",
       "    <tr>\n",
       "      <th>3</th>\n",
       "      <td>Catamarca</td>\n",
       "      <td>429562</td>\n",
       "      <td>48</td>\n",
       "      <td>51</td>\n",
       "      <td>0.44</td>\n",
       "      <td>0.01</td>\n",
       "    </tr>\n",
       "    <tr>\n",
       "      <th>4</th>\n",
       "      <td>Chaco</td>\n",
       "      <td>1129606</td>\n",
       "      <td>48</td>\n",
       "      <td>51</td>\n",
       "      <td>0.43</td>\n",
       "      <td>0.01</td>\n",
       "    </tr>\n",
       "  </tbody>\n",
       "</table>\n",
       "</div>"
      ],
      "text/plain": [
       "                      Jurisdicción  Población  Varones Porcentaje  \\\n",
       "0                   Total del país   45892285                  48   \n",
       "1  Ciudad Autónoma de Buenos Aires    3121707                  46   \n",
       "2                     Buenos Aires   17523996                  48   \n",
       "3                        Catamarca     429562                  48   \n",
       "4                            Chaco    1129606                  48   \n",
       "\n",
       "   Mujeres Porcentaje  Población en viviendas colectivas Porcentaje  \\\n",
       "0                  51                                          0.58   \n",
       "1                  53                                          0.76   \n",
       "2                  51                                          0.65   \n",
       "3                  51                                          0.44   \n",
       "4                  51                                          0.43   \n",
       "\n",
       "   Población en situación de calle Porcentaje  \n",
       "0                                        0.01  \n",
       "1                                        0.08  \n",
       "2                                        0.01  \n",
       "3                                        0.01  \n",
       "4                                        0.01  "
      ]
     },
     "execution_count": 23,
     "metadata": {},
     "output_type": "execute_result"
    }
   ],
   "source": [
    "censo_mod_df = censo_df[\n",
    "    [\n",
    "        \"Jurisdicción\",\n",
    "        \"Población\",\n",
    "        \"Varones Porcentaje\",\n",
    "        \"Mujeres Porcentaje\",\n",
    "        \"Población en viviendas colectivas Porcentaje\",\n",
    "        \"Población en situación de calle Porcentaje\",\n",
    "    ]\n",
    "]\n",
    "censo_mod_df.head(5)"
   ]
  },
  {
   "cell_type": "markdown",
   "metadata": {},
   "source": [
    "Elimino Fila \"Total del Pais\""
   ]
  },
  {
   "cell_type": "code",
   "execution_count": 24,
   "metadata": {},
   "outputs": [],
   "source": [
    "censo_mod_df = censo_mod_df.drop(0)"
   ]
  },
  {
   "cell_type": "markdown",
   "metadata": {},
   "source": [
    "Modificacion Especifica Tierra del Fuego"
   ]
  },
  {
   "cell_type": "code",
   "execution_count": 25,
   "metadata": {},
   "outputs": [
    {
     "name": "stdout",
     "output_type": "stream",
     "text": [
      "<class 'pandas.core.frame.DataFrame'>\n",
      "RangeIndex: 24 entries, 1 to 24\n",
      "Data columns (total 6 columns):\n",
      " #   Column                                        Non-Null Count  Dtype  \n",
      "---  ------                                        --------------  -----  \n",
      " 0   Jurisdicción                                  24 non-null     object \n",
      " 1   Población                                     24 non-null     int64  \n",
      " 2   Varones Porcentaje                            24 non-null     int64  \n",
      " 3   Mujeres Porcentaje                            24 non-null     int64  \n",
      " 4   Población en viviendas colectivas Porcentaje  24 non-null     float64\n",
      " 5   Población en situación de calle Porcentaje    24 non-null     float64\n",
      "dtypes: float64(2), int64(3), object(1)\n",
      "memory usage: 1.3+ KB\n"
     ]
    }
   ],
   "source": [
    "censo_mod_df[\"Jurisdicción\"] = censo_mod_df[\"Jurisdicción\"].replace(\n",
    "    {\"Tierra del Fuego, Antártida e Islas del Atlántico Sur\": \"Tierra del Fuego\"}\n",
    ")\n",
    "censo_mod_df.info()"
   ]
  },
  {
   "cell_type": "markdown",
   "metadata": {},
   "source": [
    "Creo el nuevo dataset"
   ]
  },
  {
   "cell_type": "code",
   "execution_count": 26,
   "metadata": {},
   "outputs": [],
   "source": [
    "censo_mod_df = censo_mod_df.applymap(lambda x: x.title() if isinstance(x, str) else x)\n",
    "for col in censo_mod_df.select_dtypes(include=[\"object\"]).columns:\n",
    "    censo_mod_df[col] = censo_mod_df[col].apply(eliminar_tildes)\n",
    "censo_mod_df.to_csv(new_censo_path)"
   ]
  }
 ],
 "metadata": {
  "kernelspec": {
   "display_name": "Python 3",
   "language": "python",
   "name": "python3"
  },
  "language_info": {
   "codemirror_mode": {
    "name": "ipython",
    "version": 3
   },
   "file_extension": ".py",
   "mimetype": "text/x-python",
   "name": "python",
   "nbconvert_exporter": "python",
   "pygments_lexer": "ipython3",
   "version": "3.11.2"
  }
 },
 "nbformat": 4,
 "nbformat_minor": 2
}
