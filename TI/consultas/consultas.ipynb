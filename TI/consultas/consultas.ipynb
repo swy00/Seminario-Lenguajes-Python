{
 "cells": [
  {
   "cell_type": "markdown",
   "metadata": {},
   "source": [
    "## Consulta"
   ]
  },
  {
   "cell_type": "code",
   "execution_count": 5,
   "metadata": {},
   "outputs": [],
   "source": [
    "import csv\n",
    "import pathlib\n",
    "import consultas_module\n",
    "\n",
    "custom_airports = pathlib.Path('../datasets/custom_datasets/ar-airports.csv')\n",
    "argentina_cities = pathlib.Path(\"../datasets/original_datasets/ar.csv\")\n",
    "custom_conectividad=pathlib.Path('../datasets/custom_datasets/Conectividad_Internet.csv')\n",
    "custom_poblacion=pathlib.Path('../datasets/custom_datasets/c2022_tp_c_resumen_adaptado.csv')"
   ]
  },
  {
   "cell_type": "markdown",
   "metadata": {},
   "source": [
    "**1**. Los diferentes tipos de aeropuertos según la columna 'type'"
   ]
  },
  {
   "cell_type": "code",
   "execution_count": 6,
   "metadata": {},
   "outputs": [],
   "source": [
    "# Open database and creates a list that will used multiple times.\n",
    "with(custom_airports.open(mode='r', newline='', encoding='utf-8') as read_airports):\n",
    "\tairports = csv.reader(read_airports)\n",
    "\tnext(airports)\n",
    "\tlist_airports = list(airports)\n",
    "\n",
    "# Database design\n",
    "airport_type = 2\n",
    "airport_name = 3\n",
    "elevation_ft = 6\n",
    "elevation_type = -2"
   ]
  },
  {
   "cell_type": "code",
   "execution_count": 7,
   "metadata": {},
   "outputs": [
    {
     "name": "stdout",
     "output_type": "stream",
     "text": [
      "Tipos de aeropuertos:\n",
      "• large_airport\n",
      "• closed\n",
      "• medium_airport\n",
      "• heliport\n",
      "• balloonport\n",
      "• small_airport\n"
     ]
    }
   ],
   "source": [
    "#Prints the set of airports in airports database\n",
    "print(\"Tipos de aeropuertos:\")\n",
    "for airport_type in set(map(lambda x: x[airport_type], list_airports)):\n",
    "\tprint(f\"\\u2022 {airport_type}\")"
   ]
  },
  {
   "cell_type": "markdown",
   "metadata": {},
   "source": [
    "**2**. Los aeropuertos de una elevación, (bajo, medio, alto) cuya especificación se permita modificar fácilmente, evaluando la columna creada 'elevation_name'."
   ]
  },
  {
   "cell_type": "code",
   "execution_count": 12,
   "metadata": {},
   "outputs": [
    {
     "name": "stdout",
     "output_type": "stream",
     "text": [
      "Los siguientes aeropuertos se encuentran a una elevación bajo:\n",
      "• Minister Pistarini International Airport\n",
      "• Jorge Newbery Airpark\n",
      "• Malvinas Argentinas Airport\n",
      "• San Fernando Airport\n",
      "• Piloto Civil N. Fernández Airport\n",
      "• Rosario Islas Malvinas International Airport\n",
      "• Sauce Viejo Airport\n",
      "• Gobernador Ramón Trejo Noel International Airport\n",
      "• Ástor Piazzola International Airport\n",
      "• El Palomar Airport\n",
      "• Morón Airport\n",
      "• Don Torcuato Airport\n",
      "• Zarate Airport\n",
      "• Santa Teresita Airport\n",
      "• Gobernador Castello Airport\n",
      "• Comodoro Pierrestegui Airport\n",
      "• Ezpeleta Airport\n",
      "• Ushuaia Aeroclub Airport\n",
      "• Villa Gesell Airport\n",
      "• Escobar Aeroclub\n",
      "• Comandante Luis Piedrabuena Airport\n",
      "• General Rodriguez Airport\n",
      "• Mariano Moreno Airport\n",
      "• Isla Martin Garcia Airport\n",
      "• Matanza Airport\n",
      "• Lobos Airport\n",
      "• Luján Airport\n",
      "• Quilmes Airport\n",
      "• Trelew Aeroclub Airport\n",
      "• Goya Airport\n",
      "• Gualeguaychu Airport\n",
      "• La Plata Airport\n",
      "• Antoine de Saint Exupéry Airport\n",
      "• Baradero Airport\n",
      "• Benavidez Airport\n",
      "• Brandsen Airport\n",
      "• Campo de Mayo Military Airport\n",
      "• Cañuelas Airport\n",
      "• Chascomús Airport\n",
      "• Dolores Airport\n",
      "• El Pajaro Airport\n",
      "• General Belgrano Airport\n",
      "• General Las Heras Aeroclub\n",
      "• General Rodriguez Ildefonso Durana Airport\n",
      "• Gualeguay Airport\n",
      "• Tolosa Airport\n",
      "• Las Flores Airport\n",
      "• La Caida Airport\n",
      "• Marcos Paz Airfield\n",
      "• Navarro Airport\n",
      "• Pinamar Airport\n",
      "• Alvear Airpark\n",
      "• San Antonio de Areco Airport\n",
      "• San Justo Airport\n",
      "• San Miguel del Monte Airport\n",
      "• San Nicolas de los Arroyos Airport\n",
      "• San Pedro Airport\n",
      "• Tolhuin Lago Fagnano Airport\n",
      "• Punta Indio Naval Air Base\n",
      "• Dines (Doctor E. Escudero) Heliport\n",
      "• Necochea Airport\n",
      "• Rio Chico Highway Strip\n",
      "• Punta Mejillón Airport\n",
      "• Estancia El Pinocho\n",
      "• Agroalvear S.R.L. Airport\n",
      "• La Cura Malal Airport\n",
      "• Bahia Blanca Aeroclub Airport\n",
      "• Haras Wassermann Airport\n",
      "• Caleta Olivia Airport\n",
      "• Carmen de Patagones Airport\n",
      "• Castelli Airport\n",
      "• Colon Airport\n",
      "• Concepcion Del Uruguay Airport\n",
      "• Concordia Aeroclub Airport\n",
      "• El Manantial Airport\n",
      "• Coronel Vidal Airport\n",
      "• Laguna Flamenco Airport\n",
      "• Punta Mercedes Airport\n",
      "• Punta Mercedes West Airport\n",
      "• Gravina Peninsula Airport\n",
      "• Anibal Brizi Airport\n",
      "• Esperanza Airport\n",
      "• Esquina Airport\n",
      "• Estancia Cullen South Airport\n",
      "• Los Robles Airport\n",
      "• Estancia Sara Airport\n",
      "• Alagro Fumigaciones Airport\n",
      "• General Madariaga Airport\n",
      "• El Girasol Airport\n",
      "• Gomez Airport\n",
      "• Goya Aeroclub\n",
      "• Agro Aereo Gualeguay Airport\n",
      "• Gualeguay Aeroclub Airport\n",
      "• Cabañas Airport\n",
      "• Estancia La Providencia Airport\n",
      "• Estancia El Potrero Airport\n",
      "• Establecimiento La Susana\n",
      "• Islas Del Ibicuy Airport\n",
      "• Ituzaingo Airport\n",
      "• Elizalde Airport\n",
      "• Don Alberto Airport\n",
      "• Estancia Los Leones Airport\n",
      "• Bahía de los Moros Airport\n",
      "• La Fantasia\n",
      "• Estancia Villa María\n",
      "• Match Point Airport\n",
      "• Maipu Airport\n",
      "• Estancia Lucila Airport\n",
      "• Merlo Airport\n",
      "• Miramar Airport\n",
      "• Bellamar Airport\n",
      "• Las Cortaderas Airport\n",
      "• Fumigaciones González Airport\n",
      "• Monte Grande Airport\n",
      "• Montes De Oca Airport\n",
      "• Iriberri Airport\n",
      "• Pulverizaciones Aerosur Airport\n",
      "• Campomar Airport\n",
      "• Norberto de La Riestra Airport\n",
      "• Pedro Luro Airport\n",
      "• Estancia La Carolina Airport\n",
      "• Poblet Airport\n",
      "• Saenz Peña Airport\n",
      "• Buenos Aires Airport\n",
      "• Mazaruca Airport\n",
      "• Puerto Rosales Airport\n",
      "• Terminal 6 Airport\n",
      "• Punta Alta Airport\n",
      "• Estancia La Elba\n",
      "• Moromar Airport\n",
      "• Quequén Airport\n",
      "• La Igualdad Airport\n",
      "• Rawson Airport\n",
      "• Don Jose Airport\n",
      "• Rio Chico Airport\n",
      "• Rojas Airport\n",
      "• Pueblo Esther Airport\n",
      "• Abelenda Airport\n",
      "• Haras La Pomme Airport\n",
      "• (Old) Antoine De Saint Exupery Airport\n",
      "• Aeroclub San Javier\n",
      "• Guadalupe Airport\n",
      "• Fumigaciones Stadler Airport\n",
      "• Bahía Dorada Airport\n",
      "• Stroeder Airport\n",
      "• Stroeder Southeast Airport\n",
      "• Veronica Airport\n",
      "• Victoria Airport\n",
      "• Acindar Airport\n",
      "• Villaguay Airport\n",
      "• Estancia El Reducto Airport\n",
      "• Polisur S.A. Heliport\n",
      "• Cabaña San Isidro Labrador Heliport\n",
      "• Legat S.A. Heliport\n",
      "• Buenos Aires City Oscar and Juan Gálvez Autodrome Heliport\n",
      "• B. Churruca Heliport\n",
      "• Centinela Heliport\n",
      "• Darsena Sur Heliport\n",
      "• Fuerza Aérea(Edificio Cóndor) Heliport\n",
      "• Professor Juan P Garrahan National Pediatric Hospital Heliport\n",
      "• Madero Heliport\n",
      "• Argentine Naval Prefecture Principal Official Ballestra Heliport\n",
      "• Presidencia De La Nación Heliport\n",
      "• Transener S.A. Heliport\n",
      "• La Madrugada Heliport\n",
      "• Las Araucarias Heliport\n",
      "• Los Fresnos Heliport\n",
      "• El Capricho Heliport\n",
      "• La Milagrosa Heliport\n",
      "• Talitas Heliport\n",
      "• La Caldera Heliport\n",
      "• Helicenter Heliport\n",
      "• Tecnocopter S.A. Heliport\n",
      "• Timen S.A. Heliport\n",
      "• Transener S.A. Heliport\n",
      "• Miraflores Country Club Heliport\n",
      "• Manuel Afonso Heliport\n",
      "• Terminal Y.P.F. Heliport\n",
      "• D.P.A.O. Heliport\n",
      "• Ecodyma S.C.A. Heliport\n",
      "• Policlinico San Martin Heliport\n",
      "• Match Point Heliport\n",
      "• Sol De Agosto Heliport\n",
      "• Heliwest Heliport\n",
      "• La Superba Heliport\n",
      "• Ayres De Pilar Heliport\n",
      "• Memorial Heliport\n",
      "• Austral Heliport\n",
      "• Estancia Rio Ewan Heliport\n",
      "• Sarthou S.A. Heliport\n",
      "• Club Nautico San Isidro Heliport\n",
      "• Heliplataforma Carina/Total Fina ELF\n",
      "• Heliplataforma/Rio Cullen-Hidra Norte Heliport\n",
      "• Heliplataforma Am I Heliport\n",
      "• Heliplataforma/Am5 Heliport\n",
      "• Isla Santa Mónica Heliport\n",
      "• Citefa Heliport\n",
      "• Las Chacritas Heliport\n",
      "• Heliplataforma Equipo Modular M-10 Heliport\n",
      "• D.P. El Vapor Heliport\n",
      "• Heliplataforma Barcaza Yagana Heliport\n",
      "• Heliplataforma Swiber PJW3000\n",
      "• Cañuelas Gas SA Heliport \n",
      "• Colonia La Capilla Heliport\n",
      "• Lar de Paz S.A. Heliport\n",
      "• Hospital R. Carrillo Heliport\n",
      "• Dr. Mariano Moreno Heliport\n",
      "• Campanopolis Heliport\n",
      "• Superficie Heliport\n",
      "• La Reserva Heliport\n",
      "• Homaq Heliport\n",
      "• Malvinas Heroes Hospital Heliport\n",
      "• San Diego Country Club Heliport\n",
      "• Piero Vara Heliport\n",
      "• Puerto Belgrano Naval Base Heliport\n",
      "• Río Gallegos Air Base\n",
      "• Heliplataforma Oceanic Champion\n",
      "• San Fernando / Paraná Miní Heliport\n",
      "• Unidad Regional II de Polcia Heliport\n",
      "• PNA Heliport\n",
      "• Cooperativa de Trabajos Portuarios Limitada Heliport\n",
      "• Miguel Colombise Heliport\n",
      "• Metalúrgico / Miguel Colombise Heliport\n",
      "• Rio Cullen II Heliplatform\n",
      "• Santa Fé City Airport\n",
      "• Villa La Ñata Heliport\n",
      "• Nordelta Heliport\n"
     ]
    }
   ],
   "source": [
    "while True:\n",
    "\t# Requires elevation type search input\n",
    "\televation = input(f\"Indique la elevación del aeropuerto buscada: \\n 1️⃣ bajo,\\n 2️⃣ medio o\\n 3️⃣ altos\")\n",
    "\t# Verifies that the input is valid\n",
    "\tif elevation == \"1\" or elevation == \"2\" or elevation == \"3\":\n",
    "\t\tmatch int(elevation):\n",
    "\t\t\tcase 1: elevation = \"bajo\"\n",
    "\t\t\tcase 2: elevation = \"medio\"\n",
    "\t\t\tcase 3: elevation = \"altos\"\n",
    "\t\tbreak\n",
    "\tprint(\"Por favor, ingrese 1️⃣, 2️⃣ o 3️⃣\")\n",
    "print(f\"Los siguientes aeropuertos se encuentran a una elevación {elevation}:\")\n",
    "for line in filter(lambda airport: airport[elevation_type] == elevation, list_airports):\n",
    "\tprint(f\"\\u2022 {line[airport_name]}\")"
   ]
  },
  {
   "cell_type": "markdown",
   "metadata": {},
   "source": [
    "**3**. Los aeropuertos que tienen una mayor o menor elevación con respecto al valor numérico dado."
   ]
  },
  {
   "cell_type": "code",
   "execution_count": null,
   "metadata": {},
   "outputs": [],
   "source": [
    "while True:\n",
    "\t# Requires greater or smaller input\n",
    "\tcomparison = input(\"¿Busca un valor 1️⃣ mayor o 2️⃣ menor?\")\n",
    "\t# Verifies that the input is valid\n",
    "\tif comparison == \"1\" or comparison == \"2\":\n",
    "\t\tmatch int(comparison):\n",
    "\t\t\tcase 1: comparison = \"mayor\"\n",
    "\t\t\tcase 2: comparison = \"menor\"\n",
    "\t\tbreak\n",
    "\tprint(\"Ingrese 1️⃣ mayor o 2️⃣ menor\")\n",
    "while True:\n",
    "\t# Requires elevation input\n",
    "\telev_mt = input(\"Indique la elevación (en metros) a comparar\")\n",
    "\t# Verifies that the input is valid\n",
    "\tif elev_mt.isdigit():\n",
    "\t\telev_mt = int(elev_mt)\n",
    "\t\telev_ft = elev_mt / 0.3048\n",
    "\t\tbreak\n",
    "\tprint(\"Ingrese un número\")\n",
    "print(f\"Los aeropuertos con una altura {comparison} a {elev_mt} metros son:\")\n",
    "for line in list_airports:\n",
    "\t#Verifies that the dataset includes the elevation ft\n",
    "\tif line[elevation_ft]:\n",
    "\t\tif comparison == \"mayor\" and int(line[elevation_ft]) > elev_ft or comparison == \"menor\" and int(line[elevation_ft]) < elev_ft:\n",
    "\t\t\t# Prints matches\n",
    "\t\t\tprint(f\"\\u2022 {line[airport_name]}\")"
   ]
  },
  {
   "cell_type": "markdown",
   "metadata": {},
   "source": [
    "**4**. Los aeropuertos, lagos y tipo de conectividad en provincias con población mayor o menor a un valor que se pueda especificar fácilmente "
   ]
  },
  {
   "cell_type": "code",
   "execution_count": null,
   "metadata": {},
   "outputs": [],
   "source": [
    "option = input(f'''Ingresar número de poblacion junto a:\n",
    "\t\t\t\t+\"num\" para mostrar poblacion mayor al valor\n",
    "\t\t\t\t-\"num\" para mostrar poblacion menor al valor''')\n",
    "# Verifico que el input sea correcto, UN solo signo seguido de numeros.\n",
    "if option[0] == '+' or option[0] == '-':\n",
    "\tnum = option[1:]  \n",
    "\tif num.isdigit():  \n",
    "\t\t# Identifico provincias que cumplen el requisito\n",
    "\t\tprovince = consultas_module.filter_provinces(num,'mayor') if option[0] == \"+\" else consultas_module.filter_provinces(num,'menor')\n",
    "\t\t# Imprimo aeropuertos, lagos y conectividad de las provincias que cumplen\n",
    "\t\tconsultas_module.show_info(province)\n",
    "\telse:\n",
    "\t\tprint('Formato input incorrecto, debe ser UN solo [+ o -] seguido por un numero.')\n",
    "else:\n",
    "\tprint('Input incorrecto, debe comenzar especificando si es +(mayor) o -(menor) seguido por un numero.')"
   ]
  },
  {
   "cell_type": "markdown",
   "metadata": {},
   "source": [
    "**5**. Mostrar los aeropuertos en las capitales de cada provincia"
   ]
  },
  {
   "cell_type": "markdown",
   "metadata": {},
   "source": [
    "_-Recopilo el nombre de la capital de cada provincia._"
   ]
  },
  {
   "cell_type": "code",
   "execution_count": null,
   "metadata": {},
   "outputs": [],
   "source": [
    "listaCiudades=[]\n",
    "with(argentina_cities.open(mode='r', newline='', encoding='utf-8') as read_a):\n",
    "\ta= csv.reader(read_a)\n",
    "\tnext(a)\n",
    "\tfor i in a:\n",
    "\t\tif(i[6] == \"admin\"):\n",
    "\t\t\t#Ciudades capital\n",
    "\t\t\tlistaCiudades.append(i[0])"
   ]
  },
  {
   "cell_type": "markdown",
   "metadata": {},
   "source": [
    "_-Imprimo la información de los aeropuertos que se encuentran en la capital de cada provincia._"
   ]
  },
  {
   "cell_type": "code",
   "execution_count": null,
   "metadata": {},
   "outputs": [],
   "source": [
    "with(custom_airports.open(mode='r', newline='', encoding='utf-8') as read_airports):\n",
    "\tairports = csv.DictReader(read_airports)\n",
    "\theader = next(airports)\n",
    "\tfor i in airports:\n",
    "\t\tif (i[\"municipality\"] in listaCiudades):\n",
    "\t\t\t#Imprimo solo la informacion mas importante\n",
    "\t\t\tprint(f\"\"\"\\n\n",
    "\tid               : {i[\"id\"]}\n",
    "\ttype             : {i[\"type\"]}\n",
    "\tname             : {i[\"name\"]}\n",
    "\tcountry_name     : {i[\"country_name\"]}\n",
    "\tprovincia        : {i[\"region_name\"][:i[\"region_name\"].rfind(\"Province\")]}\n",
    "\tciudad           : {i[\"municipality\"]}\"\"\")"
   ]
  },
  {
   "cell_type": "markdown",
   "metadata": {},
   "source": [
    "**6**. Mostrar los Lagos de una superficie según la columna 'Sup Tamaño' donde el criterio (chico, medio, grande) se puede indicar fácilmente"
   ]
  },
  {
   "cell_type": "markdown",
   "metadata": {},
   "source": [
    "_-A partir del input del usuario muestro la información sobre los lagos correspondientes_"
   ]
  },
  {
   "cell_type": "code",
   "execution_count": 6,
   "metadata": {},
   "outputs": [
    {
     "name": "stdout",
     "output_type": "stream",
     "text": [
      "\n",
      "** Opción inválida.\n",
      "\n"
     ]
    }
   ],
   "source": [
    "menu = input(f\"\"\"\n",
    "\t\t----Elegir una opción:----\n",
    "\t\t\t1. Chico\n",
    "\t\t\t2. Medio\n",
    "\t\t\t3. Grande \n",
    "\t\t\tIngresa tu opcion : \"\"\")\n",
    "if not menu.isdigit():\n",
    "\tprint(\"\\n** Opción Inválida.\\n\")\n",
    "else:\n",
    "\tif int(menu) == 1:\n",
    "\t\tconsultas_module.show_lake_info(\"chico\")\n",
    "\telif int(menu) == 2:\n",
    "\t\tconsultas_module.show_lake_info(\"medio\")\n",
    "\telif int(menu) == 3:\n",
    "\t\tconsultas_module.show_lake_info(\"grande\")\n",
    "\telse:\n",
    "\t\tprint(\"\\n** Opción inválida.\\n\")"
   ]
  },
  {
   "cell_type": "markdown",
   "metadata": {},
   "source": [
    "**7**. Listar las 5 Jurisdicciones con mayor porcentaje de población en situación de calle.\n"
   ]
  },
  {
   "cell_type": "code",
   "execution_count": 7,
   "metadata": {},
   "outputs": [],
   "source": [
    "jurisdiccion = 0\n",
    "varones_poblacion = 5\n",
    "mujeres_poblacion = 9\n",
    "porcentaje_en_situcacion_calle = 13"
   ]
  },
  {
   "cell_type": "code",
   "execution_count": 8,
   "metadata": {},
   "outputs": [
    {
     "name": "stdout",
     "output_type": "stream",
     "text": [
      "Las 5 Jurisdicciones con mayor porcentaje de población en situación de calle son:\n",
      "-Jurisdiccion: Ciudad Autónoma de Buenos Aires, porcentaje de poblacion en situacion de calle: 0.077\n",
      "-Jurisdiccion: Santa Cruz, porcentaje de poblacion en situacion de calle: 0.0258\n",
      "-Jurisdiccion: Salta, porcentaje de poblacion en situacion de calle: 0.0176\n",
      "-Jurisdiccion: Entre Ríos, porcentaje de poblacion en situacion de calle: 0.0116\n",
      "-Jurisdiccion: Santa Fe, porcentaje de poblacion en situacion de calle: 0.0113\n"
     ]
    }
   ],
   "source": [
    "\n",
    "with(custom_poblacion.open(mode='r', newline='', encoding='utf-8') as read_poblacion):\n",
    "\tpopulation = csv.reader(read_poblacion)\n",
    "\t#Salto el header y la linea del total pais\n",
    "\tnext(population)\n",
    "\tnext(population)\n",
    "\tlist_population= list(population)\n",
    "\t#Ordeno la lista de mayor a menor segun la poblacion en situacion de calle\n",
    "\tordered_population=sorted(list_population,key=lambda x:x[porcentaje_en_situcacion_calle],reverse=True)\n",
    "\tprint(\"Las 5 Jurisdicciones con mayor porcentaje de población en situación de calle son:\")\n",
    "\t#Recorro las cinco primeras posiciones en la lista ordenada \n",
    "\tfor i in range(5):\n",
    "\t\tprint(f\"-Jurisdiccion: {ordered_population[i][jurisdiccion]}, porcentaje de poblacion en situacion de calle: {ordered_population[i][porcentaje_en_situcacion_calle]}\")"
   ]
  },
  {
   "cell_type": "markdown",
   "metadata": {},
   "source": [
    "**8**. Obtener la jurisdicción donde la brecha entre las poblaciones diferenciadas según sexo registrado al nacer es mayor."
   ]
  },
  {
   "cell_type": "code",
   "execution_count": null,
   "metadata": {},
   "outputs": [],
   "source": [
    "juris = \"\"\n",
    "max = 0\n",
    "with(custom_poblacion.open(mode='r', newline='', encoding='utf-8') as read_poblacion):\n",
    "\tpopulation = csv.reader(read_poblacion)\n",
    "\t#Salto el header y la linea del total pais\n",
    "\tnext(population)\n",
    "\tnext(population)\n",
    "\tfor line in population:\n",
    "\t\t#Obtengo la diferencia entre poblacion varones y poblacion de mujeres\n",
    "\t\tgap = consultas_module.calculate_gap(line[varones_poblacion],line[mujeres_poblacion])\n",
    "\t\tif max < gap:\n",
    "\t\t\tjuris = line[jurisdiccion]\n",
    "\t\t\tmax = gap\n",
    "\tprint(f\"{juris} tiene la mayor brecha entre las poblaciones diferenciadas según sexo registrado al nacer con {max} de brecha\")"
   ]
  },
  {
   "cell_type": "markdown",
   "metadata": {},
   "source": [
    "**9**. Mostrar los diferentes tipos de conectividades."
   ]
  },
  {
   "cell_type": "markdown",
   "metadata": {},
   "source": [
    "*Abro el archivo y con el header obtengo los diferentes tipos de conectividades*\n"
   ]
  },
  {
   "cell_type": "code",
   "execution_count": 9,
   "metadata": {},
   "outputs": [
    {
     "name": "stdout",
     "output_type": "stream",
     "text": [
      "Los diferentes tipos de conectividades son: \n",
      "-ADSL\n",
      "-CABLEMODEM\n",
      "-DIALUP\n",
      "-FIBRAOPTICA\n",
      "-SATELITAL\n",
      "-WIRELESS\n",
      "-TELEFONIAFIJA\n",
      "-3G\n",
      "-4G\n"
     ]
    }
   ],
   "source": [
    "with custom_conectividad.open(mode=\"r\",newline=\"\",encoding=\"utf-8\") as reader_conect:\n",
    "\tconect= csv.reader(reader_conect)\n",
    "\t#Obetengo el header\n",
    "\theader=next(conect)\n",
    "\tprint(\"Los diferentes tipos de conectividades son: \")\n",
    "\t#Itero en la lista desde la posicion 4 hasta la 13(se procesa hasta la 12) \n",
    "\tfor conectivity in header[4:13]:\n",
    "\t\tprint(f\"-{conectivity}\")"
   ]
  },
  {
   "cell_type": "markdown",
   "metadata": {},
   "source": [
    "**10**. Mostrar las cantidades de localidades con cada tipo de conectividad"
   ]
  },
  {
   "cell_type": "code",
   "execution_count": 13,
   "metadata": {},
   "outputs": [],
   "source": [
    "with custom_conectividad.open(mode=\"r\", newline=\"\", encoding=\"utf-8\") as read_connections:\n",
    "\tconnectivity_map = csv.DictReader(read_connections, delimiter=\",\")\n",
    "\tconnections_header = connectivity_map.fieldnames\n",
    "\tconnectivity_types = (connections_header[4:13:])"
   ]
  },
  {
   "cell_type": "markdown",
   "metadata": {},
   "source": [
    "_Se inicia un diccionario que va a servir como contador para resolver el enunciado_"
   ]
  },
  {
   "cell_type": "code",
   "execution_count": 14,
   "metadata": {},
   "outputs": [],
   "source": [
    "connections_quantity = {}\n",
    "\n",
    "for connection in connectivity_types:\n",
    "\tconnections_quantity[connection] = 0"
   ]
  },
  {
   "cell_type": "markdown",
   "metadata": {},
   "source": [
    "_Se abre el archivo y se van contando por cada ciudad si tiene cada tipo de conexion para despues devolver un total_"
   ]
  },
  {
   "cell_type": "code",
   "execution_count": 15,
   "metadata": {},
   "outputs": [
    {
     "name": "stdout",
     "output_type": "stream",
     "text": [
      "{'ADSL': 1149, 'CABLEMODEM': 851, 'DIALUP': 396, 'FIBRAOPTICA': 1321, 'SATELITAL': 998, 'WIRELESS': 2145, 'TELEFONIAFIJA': 2086, '3G': 1880, '4G': 2574}\n"
     ]
    }
   ],
   "source": [
    "with custom_conectividad.open(mode=\"r\", newline=\"\", encoding=\"utf-8\") as read_connections:\n",
    "\n",
    "\tconnectivity_map = csv.DictReader(read_connections, delimiter=\",\")\n",
    "\n",
    "\tfor city in connectivity_map:\n",
    "\t\tfor connection in connectivity_types:\n",
    "\t\t\tif city[connection] == \"SI\":\n",
    "\t\t\t\tconnections_quantity[connection] += 1\n",
    "\t\n",
    "\tprint(connections_quantity)       "
   ]
  },
  {
   "cell_type": "markdown",
   "metadata": {},
   "source": [
    "**11**. Mostrar las provincias para las cuales todas sus ciudades poseen FIBRA ÓPTICA."
   ]
  },
  {
   "cell_type": "markdown",
   "metadata": {},
   "source": [
    "_Se abre el archivo y se pasa su contenido a una lista la cual vamos a iterar para resolver la consulta_"
   ]
  },
  {
   "cell_type": "code",
   "execution_count": 16,
   "metadata": {},
   "outputs": [],
   "source": [
    "with custom_conectividad.open(mode=\"r\", newline=\"\", encoding=\"utf-8\") as read_connections:\n",
    "\n",
    "\tconnectivity_map = csv.reader(read_connections, delimiter=\",\")\n",
    "\n",
    "\tnext(connectivity_map)\n",
    "\n",
    "\tconnections = list(connectivity_map)"
   ]
  },
  {
   "cell_type": "markdown",
   "metadata": {},
   "source": [
    "_\\Se inicializan las estructuras con las cuales vamos a trabajar_\\"
   ]
  },
  {
   "cell_type": "code",
   "execution_count": 17,
   "metadata": {},
   "outputs": [],
   "source": [
    "province_already_read = []\n",
    "province_not_all_of = []\n",
    "connections.sort(key=lambda x: x[0])\n",
    "\n",
    "provinces = list(set(map(lambda connect: connect[0], connections)))\n",
    "\t\n",
    "provinces.sort()\n",
    "\n",
    "province_iter = iter(provinces)\n",
    "\n",
    "connections = iter(connections)\n",
    "\n",
    "province = next(province_iter)"
   ]
  },
  {
   "cell_type": "markdown",
   "metadata": {},
   "source": [
    "_Se recorren todas las conexiones y las provincias para buscar que provincias no tienen fibra optica en la totalidad de su provincia_"
   ]
  },
  {
   "cell_type": "code",
   "execution_count": 18,
   "metadata": {},
   "outputs": [],
   "source": [
    "for connect in connections:\n",
    "\t\tcurrent_province = province\n",
    "\t\tif current_province == province and connect[0] not in province_already_read:\n",
    "\t\t\tif current_province == province and connect[0] not in province_already_read and connect[7] == \"NO\":\n",
    "\t\t\t\tprovince_already_read.append(connect[0])\n",
    "\t\t\t\tprovince_not_all_of.append(connect[0])\n",
    "\t\t\t\tprovince = next(province_iter)\n",
    "\t\t\telse:\n",
    "\t\t\t\tcontinue\n",
    "\t\t\t\t"
   ]
  },
  {
   "cell_type": "markdown",
   "metadata": {},
   "source": [
    "_Se crea una lista con las provincias que SI tienen fibra optica en su totalidad_"
   ]
  },
  {
   "cell_type": "code",
   "execution_count": 19,
   "metadata": {},
   "outputs": [
    {
     "data": {
      "text/plain": [
       "['CABA']"
      ]
     },
     "execution_count": 19,
     "metadata": {},
     "output_type": "execute_result"
    }
   ],
   "source": [
    "province_with_optical_fiber = list(filter(lambda province: province not in province_not_all_of, provinces)) \n",
    "\n",
    "province_with_optical_fiber"
   ]
  },
  {
   "cell_type": "markdown",
   "metadata": {},
   "source": [
    "**12**. Mostrar para cada provincia su capital y, si se conoce la información para dicha\n",
    "capital, informar si posee conectividad (campo 'posee_conectividad' creado\n",
    "previamente). En caso de no conocer la información mostrar el texto “conectividad\n",
    "desconocida”."
   ]
  },
  {
   "cell_type": "markdown",
   "metadata": {},
   "source": [
    "_Se abre el archivo de las ciudades argentinas para tener una estructura de datos que contenga la capital de cada provincia y se parsea el nombre de la provincia \"TIERRA DEL FUEGO\" para que coincida con el archivo Conectividad_Internet.csv_"
   ]
  },
  {
   "cell_type": "code",
   "execution_count": 20,
   "metadata": {},
   "outputs": [],
   "source": [
    "import consultas_module as consulta\n",
    "\n",
    "\n",
    "with(argentina_cities.open(mode=\"r\", newline=\"\", encoding='utf-8') as read_cities ):\n",
    "\t\n",
    "\tcities = csv.DictReader(read_cities, delimiter=',')\n",
    "  \n",
    "\n",
    "\tprovinces_and_capital = {}\n",
    "\n",
    "\tfor city in cities:\n",
    "\t\tif city[\"capital\"] == \"admin\":\n",
    "\t\t\tcity[\"admin_name\"] = consulta.replace_accented_letters(city[\"admin_name\"]).upper()\n",
    "\t\t\tif  city[\"admin_name\"] ==\"TIERRA DEL FUEGO, ANTARTIDA E ISLAS DEL ATLANTICO SUR\":\n",
    "\t\t\t\tcity[\"admin_name\"] = \"TIERRA DEL FUEGO\"\n",
    "\t\t\tprovinces_and_capital[city[\"admin_name\"]] = city[\"city\"]"
   ]
  },
  {
   "cell_type": "markdown",
   "metadata": {},
   "source": [
    "_Se recorren las ciudades buscando la capital de cada provincia para resolver la consulta_"
   ]
  },
  {
   "cell_type": "code",
   "execution_count": 21,
   "metadata": {},
   "outputs": [
    {
     "name": "stdout",
     "output_type": "stream",
     "text": [
      "La ciudad La Plata, capital de BUENOS AIRES, posee conectividad: SI.\n",
      "La ciudad Neuquén, capital de NEUQUEN, posee conectividad: SI.\n",
      "La ciudad Río Gallegos, capital de SANTA CRUZ, posee conectividad: SI.\n",
      "La ciudad Santiago del Estero, capital de SANTIAGO DEL ESTERO, posee conectividad: SI.\n",
      "La ciudad Santa Rosa, capital de LA PAMPA, posee conectividad: SI.\n",
      "La ciudad La Rioja, capital de LA RIOJA, posee conectividad: SI.\n",
      "La ciudad Posadas, capital de MISIONES, posee conectividad: SI.\n",
      "La ciudad Salta, capital de SALTA, posee conectividad: SI.\n",
      "La ciudad Ushuaia, capital de TIERRA DEL FUEGO, posee conectividad: SI.\n",
      "La ciudad Santa Fe, capital de SANTA FE, posee conectividad: SI.\n",
      "La ciudad San Luis, capital de SAN LUIS, posee conectividad: SI.\n",
      "La ciudad Resistencia, capital de CHACO, posee conectividad: SI.\n",
      "La ciudad Corrientes, capital de CORRIENTES, posee conectividad: SI.\n",
      "La ciudad Rawson, capital de CHUBUT, posee conectividad: SI.\n",
      "La ciudad Córdoba, capital de CORDOBA, posee conectividad: SI.\n",
      "La ciudad Mendoza, capital de MENDOZA, posee conectividad: SI.\n",
      "La ciudad Paraná, capital de ENTRE RIOS, posee conectividad: SI.\n",
      "La ciudad Viedma, capital de RIO NEGRO, posee conectividad: SI.\n",
      "La ciudad San Juan, capital de SAN JUAN, posee conectividad: SI.\n",
      "La ciudad Formosa, capital de FORMOSA, posee conectividad: SI.\n",
      "Conectividad desconocida en la capital de TUCUMAN\n",
      "Conectividad desconocida en la capital de JUJUY\n",
      "Conectividad desconocida en la capital de CATAMARCA\n"
     ]
    }
   ],
   "source": [
    "informed_provinces = []\n",
    "with custom_conectividad.open(mode=\"r\", newline=\"\", encoding=\"utf-8\") as read_connections:\n",
    "\tconnectivity_map = csv.DictReader(read_connections, delimiter=\",\")\n",
    "   \n",
    "\n",
    "\tfor city_connectivity in connectivity_map:\n",
    "\t\tif city_connectivity[\"Localidad\"] in provinces_and_capital.values() and city_connectivity[\"Localidad\"] == provinces_and_capital[city_connectivity[\"Provincia\"]]:\n",
    "\t\t\tif city_connectivity[\"posee_conectividad\"] == \"SI\":\n",
    "\t\t\t\tprint(f\"La ciudad {city_connectivity['Localidad']}, capital de {city_connectivity['Provincia']}, posee conectividad: {city_connectivity['posee_conectividad']}.\")\n",
    "\t\t\t\tinformed_provinces.append(city_connectivity[\"Provincia\"])\n",
    "\n",
    "for province in provinces_and_capital.keys():\n",
    "\tif province not in informed_provinces:\n",
    "\t\tprint(f\"Conectividad desconocida en la capital de {province}\")"
   ]
  }
 ],
 "metadata": {
  "kernelspec": {
   "display_name": "Python 3 (ipykernel)",
   "language": "python",
   "name": "python3"
  },
  "language_info": {
   "codemirror_mode": {
    "name": "ipython",
    "version": 3
   },
   "file_extension": ".py",
   "mimetype": "text/x-python",
   "name": "python",
   "nbconvert_exporter": "python",
   "pygments_lexer": "ipython3",
   "version": "3.11.7"
  }
 },
 "nbformat": 4,
 "nbformat_minor": 4
}
