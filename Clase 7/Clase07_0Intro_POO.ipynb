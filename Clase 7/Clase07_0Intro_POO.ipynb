{
 "cells": [
  {
   "cell_type": "markdown",
   "id": "handed-string",
   "metadata": {
    "slideshow": {
     "slide_type": "slide"
    }
   },
   "source": [
    "# Seminario de Lenguajes - Python\n",
    "## Cursada 2024\n",
    "### Clase 7: conceptos básicos de la POO"
   ]
  },
  {
   "cell_type": "markdown",
   "id": "racial-manner",
   "metadata": {
    "slideshow": {
     "slide_type": "slide"
    }
   },
   "source": [
    "# Pensemos en la siguiente situación:\n",
    "\n",
    "\n",
    "- En el trabajo integrador tenemos que registrar los datos de quienes interactúan con la aplicación.\n",
    "- Podemos pensar en una entidad **Persona_Usuaria** con datos asociados tales como:\n",
    "        - nombre\n",
    "        - nick\n",
    "        - género\n",
    "        - edad\n",
    "- También podríamos pensar en:\n",
    "        - imagen de su avatar\n",
    "        - último acceso\n",
    "        - paleta de colores elegida"
   ]
  },
  {
   "cell_type": "markdown",
   "id": "8599b06e",
   "metadata": {
    "slideshow": {
     "slide_type": "fragment"
    }
   },
   "source": [
    "### <center>Con lo visto hasta el momento, ¿qué estructura de datos podemos elegir para representar a un usuario?</center>"
   ]
  },
  {
   "cell_type": "markdown",
   "id": "senior-kentucky",
   "metadata": {
    "slideshow": {
     "slide_type": "subslide"
    }
   },
   "source": [
    "# ¿Podríamos utilizar diccionarios para definir las características?"
   ]
  },
  {
   "cell_type": "code",
   "execution_count": null,
   "id": "bbb2a66a",
   "metadata": {
    "slideshow": {
     "slide_type": "fragment"
    }
   },
   "outputs": [],
   "source": [
    "user = {'name': 'Janis Joplin', \n",
    "        'nick': 'Janis', \n",
    "        'gender': 'femenino', \n",
    "        'age': 27, \n",
    "        'avatar': 'janis.png'\n",
    "        }"
   ]
  },
  {
   "cell_type": "markdown",
   "id": "apart-density",
   "metadata": {
    "slideshow": {
     "slide_type": "fragment"
    }
   },
   "source": [
    "##  ¿Podemos asociar funcionalidades específicas a esta persona? \n",
    "\n",
    "Por ejemplo, **cambiar su nombre**, **registrar alguna actividad**, **actualizar su avatar**, etc."
   ]
  },
  {
   "cell_type": "markdown",
   "id": "massive-watts",
   "metadata": {
    "slideshow": {
     "slide_type": "subslide"
    }
   },
   "source": [
    "# Podríamos definir funciones para definir la funcionalidad asociada"
   ]
  },
  {
   "cell_type": "code",
   "execution_count": null,
   "id": "excessive-excess",
   "metadata": {
    "slideshow": {
     "slide_type": "fragment"
    }
   },
   "outputs": [],
   "source": [
    "def update_name(user, new_name):\n",
    "    \"\"\" Actualiza el nombre del usuario\n",
    "    \n",
    "    user: representa a la persona usuaria con la que queremos operar.\n",
    "    new_name: un str con el nuevo nombre.\n",
    "    \"\"\"\n",
    "    user['name'] = new_name"
   ]
  },
  {
   "cell_type": "markdown",
   "id": "accessible-airplane",
   "metadata": {
    "slideshow": {
     "slide_type": "subslide"
    }
   },
   "source": [
    "#  Pero...\n",
    "\n",
    "\n",
    "- ¿Podemos modificar a \"nuestra persona usuaria\" sin utilizar estas funciones?\n",
    "- ¿Podemos decir que \"nuestra persona usuaria\" es una **entidad** que **encapsula** tanto su estructura como la funcionalidad para manipularla?"
   ]
  },
  {
   "cell_type": "markdown",
   "id": "7cc1c7f5",
   "metadata": {
    "slideshow": {
     "slide_type": "fragment"
    }
   },
   "source": [
    "Si...y no..."
   ]
  },
  {
   "cell_type": "markdown",
   "id": "determined-question",
   "metadata": {
    "slideshow": {
     "slide_type": "subslide"
    }
   },
   "source": [
    "# Hablemos de objetos ..."
   ]
  },
  {
   "cell_type": "markdown",
   "id": "complete-weight",
   "metadata": {
    "slideshow": {
     "slide_type": "subslide"
    }
   },
   "source": [
    "> Un **objeto** es una colección de datos con un comportamiento asociado en una única entidad.\n",
    "<center>\n",
    "<img src=\"imagenes/objeto_usuario.png\" alt=\"Objeto Jugador\" style=\"width:350px;\"/>\n",
    "</center>"
   ]
  },
  {
   "cell_type": "markdown",
   "id": "working-central",
   "metadata": {
    "slideshow": {
     "slide_type": "subslide"
    }
   },
   "source": [
    "# Objetos\n",
    "\n",
    "- Son los elementos fundamentales de la POO.\n",
    "- Son entidades que poseen un **estado interno** y un **comportamiento**.\n",
    "\n",
    "\n",
    "<center>\n",
    "<img src=\"imagenes/objeto_usuario_cont.png\" alt=\"Objeto Jugador\" style=\"width:750px;\"/>\n",
    "</center>"
   ]
  },
  {
   "cell_type": "markdown",
   "id": "a0232d9f",
   "metadata": {
    "slideshow": {
     "slide_type": "subslide"
    }
   },
   "source": [
    "# Objetos\n",
    "\n",
    "\n",
    "- Ya vimos  que en Python **todos** los elementos con los que trabajamos son objetos.\n",
    "\n",
    "```python\n",
    "\tsentence = \"Hola que tal.\"\n",
    "\tfile = open(\"archi.txt\")\n",
    "\n",
    "\tsentence.upper()\n",
    "\tfile.close()\n",
    "```\n",
    "\n",
    "- **sentence** y **file** referencian a  **objetos**.\n",
    "- **upper** y **close** forman parte del comportamiento de estos objetos: son **métodos**."
   ]
  },
  {
   "cell_type": "markdown",
   "id": "italian-hobby",
   "metadata": {
    "slideshow": {
     "slide_type": "subslide"
    }
   },
   "source": [
    "# POO: conceptos básicos\n",
    "\n",
    "- En POO un programa puede verse como un **conjunto de objetos** que interactúan entre ellos **enviándose mensajes**.\n",
    "- Estos mensajes están asociados al **comportamiento** del objeto (conjunto de **métodos**).\n",
    "<center>\n",
    "<img src=\"imagenes/envio_mensaje.png\" alt=\"Envío de mensajes\" style=\"width:650px;\"/>\n",
    "</center>\n"
   ]
  },
  {
   "cell_type": "markdown",
   "id": "subjective-authorization",
   "metadata": {
    "slideshow": {
     "slide_type": "slide"
    }
   },
   "source": [
    "# El mundo de los objetos \n",
    "\n",
    "<center>\n",
    "<img src=\"imagenes/objetos.png\" alt=\"Muchos objetos\" style=\"width:950px;\"/>\n",
    "</center>"
   ]
  },
  {
   "cell_type": "markdown",
   "id": "exclusive-speaker",
   "metadata": {
    "slideshow": {
     "slide_type": "fragment"
    }
   },
   "source": [
    "- ¿Qué representa cada objeto?\n",
    "- ¿Qué podemos decir de cada grupo de objetos?"
   ]
  },
  {
   "cell_type": "markdown",
   "id": "reserved-experiment",
   "metadata": {
    "slideshow": {
     "slide_type": "subslide"
    }
   },
   "source": [
    "# Objetos y clases\n",
    "\n",
    "- No todos los objetos son iguales, ni tienen el mismo comportamiento. \n",
    "- Así agrupamos a los objetos de acuerdo a características comunes.\n",
    "\n",
    ">**Una clase describe los atributos o características de los objetos y las acciones o métodos que pueden hacer o ejecutar dichos objetos.**\n"
   ]
  },
  {
   "cell_type": "markdown",
   "id": "refined-retention",
   "metadata": {
    "slideshow": {
     "slide_type": "fragment"
    }
   },
   "source": [
    "<center>\n",
    "<img src=\"imagenes/clases.png\" alt=\"Clases\" style=\"width:550px;\"/></center>"
   ]
  },
  {
   "cell_type": "markdown",
   "id": "arabic-athletics",
   "metadata": {
    "slideshow": {
     "slide_type": "subslide"
    }
   },
   "source": [
    "# Pensemos en la clase que representa a una persona usuaria\n",
    "<center>\n",
    "<img src=\"imagenes/clase_usuario.png\" alt=\"clase Usuario\" style=\"width:250px;\"/>\n",
    "</center>\n",
    "\n",
    "- Cuando creamos un objeto, creamos una **instancia de la clase**.\n",
    "- Una **instancia** es un **objeto individualizado** por los valores que tomen sus atributos o **variables de instancia**.\n",
    "<center>\n",
    "<img src=\"imagenes/objeto_dibu.png\" alt=\"clase Usuario\" style=\"width:450px;\"/>\n",
    "</center>"
   ]
  },
  {
   "cell_type": "markdown",
   "id": "warming-rider",
   "metadata": {
    "slideshow": {
     "slide_type": "subslide"
    }
   },
   "source": [
    "- La **interfaz pública** del objeto está formada por las **variable de instancia** y **métodos** que otros objetos pueden usar para interactuar con él."
   ]
  },
  {
   "cell_type": "markdown",
   "id": "daily-teacher",
   "metadata": {
    "slideshow": {
     "slide_type": "fragment"
    }
   },
   "source": [
    "- ¿Qué pasa si todas las variables de instancia y métodos son privadas? ¿Y si son todas públicas?"
   ]
  },
  {
   "cell_type": "markdown",
   "id": "qualified-aerospace",
   "metadata": {
    "slideshow": {
     "slide_type": "slide"
    }
   },
   "source": [
    "# Clases en Python\n",
    "\n",
    "```python\n",
    "class NombreClase:\n",
    "    sentencias\n",
    "    ...\n",
    "```"
   ]
  },
  {
   "cell_type": "markdown",
   "id": "living-duncan",
   "metadata": {
    "slideshow": {
     "slide_type": "fragment"
    }
   },
   "source": [
    "- La [PEP 8](https://www.python.org/dev/peps/pep-0008/#class-names) sugiere usar notación  CamelCase en el caso del nombre de las clases.\n",
    "- Al igual que las funciones, las clases **deben** estar definidas antes de que se utilicen.\n",
    "- Con la definición de una nueva clase se crea un nuevo **espacio de nombres**.\n"
   ]
  },
  {
   "cell_type": "markdown",
   "id": "inclusive-newton",
   "metadata": {
    "slideshow": {
     "slide_type": "fragment"
    }
   },
   "source": [
    "### ¿Cómo se crea una instancia de una clase?\n",
    "\n",
    "\n",
    "```python\n",
    "objecto =  NombreClase()\n",
    "\n",
    "```"
   ]
  },
  {
   "cell_type": "markdown",
   "id": "excellent-naples",
   "metadata": {
    "slideshow": {
     "slide_type": "subslide"
    }
   },
   "source": [
    "# La clase User"
   ]
  },
  {
   "cell_type": "code",
   "execution_count": null,
   "id": "powerful-thumbnail",
   "metadata": {
    "slideshow": {
     "slide_type": "fragment"
    }
   },
   "outputs": [],
   "source": [
    "class User():\n",
    "    \"\"\"Define la entidad que representa a una persona usuaria en PyTrivia\"\"\"\n",
    "    \n",
    "    #Estado interno\n",
    "    name = 'Janis Joplin'\n",
    "    nick = 'Janis'\n",
    "    avatar = None\n",
    "    \n",
    "    #Comportamiento\n",
    "    def update_name(self, new_name):\n",
    "        self.name = new_name"
   ]
  },
  {
   "cell_type": "markdown",
   "id": "chemical-platform",
   "metadata": {
    "slideshow": {
     "slide_type": "fragment"
    }
   },
   "source": [
    "- ¿self?"
   ]
  },
  {
   "cell_type": "markdown",
   "id": "5bbe24f6",
   "metadata": {
    "slideshow": {
     "slide_type": "fragment"
    }
   },
   "source": [
    "- ¿Qué quiere decir que User tiene su propio espacio de nombres?"
   ]
  },
  {
   "cell_type": "markdown",
   "id": "textile-athens",
   "metadata": {
    "slideshow": {
     "slide_type": "subslide"
    }
   },
   "source": [
    "# Creamos las instancias"
   ]
  },
  {
   "cell_type": "code",
   "execution_count": null,
   "id": "confused-filter",
   "metadata": {
    "slideshow": {
     "slide_type": "fragment"
    }
   },
   "outputs": [],
   "source": [
    "janis = User()\n",
    "print(janis.name)\n",
    "janis.update_name(\"Janis\")\n",
    "print(janis.name)"
   ]
  },
  {
   "cell_type": "markdown",
   "id": "applied-switzerland",
   "metadata": {
    "slideshow": {
     "slide_type": "fragment"
    }
   },
   "source": [
    "- Observemos la línea 3: **janis.update_name(\"Janis\")**\n",
    "    - Prestar atención a la cantidad de parámetros pasados.\n",
    "- Cuando creamos otros objetos de clase **User**, ¿qué particularidad tendrán?"
   ]
  },
  {
   "cell_type": "code",
   "execution_count": null,
   "id": "emotional-production",
   "metadata": {
    "slideshow": {
     "slide_type": "fragment"
    }
   },
   "outputs": [],
   "source": [
    "other = User()"
   ]
  },
  {
   "cell_type": "code",
   "execution_count": null,
   "id": "84b704b2",
   "metadata": {
    "slideshow": {
     "slide_type": "fragment"
    }
   },
   "outputs": [],
   "source": [
    "print(other.name)"
   ]
  },
  {
   "cell_type": "markdown",
   "id": "challenging-english",
   "metadata": {
    "slideshow": {
     "slide_type": "subslide"
    }
   },
   "source": [
    "# Podemos parametrizar  la creación de objetos"
   ]
  },
  {
   "cell_type": "code",
   "execution_count": null,
   "id": "flexible-diamond",
   "metadata": {
    "slideshow": {
     "slide_type": "fragment"
    }
   },
   "outputs": [],
   "source": [
    "class User():\n",
    "    \"\"\"Define la entidad que representa a una persona usuaria en PyTrivia\"\"\"\n",
    "\n",
    "    def __init__(self, name, nick):\n",
    "        # Estado interno de cada objeto\n",
    "        self.name = name\n",
    "        self.nick = nick\n",
    "        self.avatar = None\n",
    "        \n",
    "    #Comportamiento\n",
    "    def update_name(self, new_name):\n",
    "        self.name = new_name"
   ]
  },
  {
   "cell_type": "code",
   "execution_count": null,
   "id": "expected-teens",
   "metadata": {
    "slideshow": {
     "slide_type": "fragment"
    }
   },
   "outputs": [],
   "source": [
    "janis = User('Janis Joplin','Janis')\n",
    "janis.update_name(\"Janis\")"
   ]
  },
  {
   "cell_type": "markdown",
   "id": "foreign-lightning",
   "metadata": {
    "slideshow": {
     "slide_type": "fragment"
    }
   },
   "source": [
    "- El método **__init__() se invoca automáticamente** al crear el objeto."
   ]
  },
  {
   "cell_type": "markdown",
   "id": "coordinated-specialist",
   "metadata": {
    "slideshow": {
     "slide_type": "subslide"
    }
   },
   "source": [
    "# ¿Qué pasa si..?"
   ]
  },
  {
   "cell_type": "code",
   "execution_count": null,
   "id": "capital-samba",
   "metadata": {
    "slideshow": {
     "slide_type": "fragment"
    }
   },
   "outputs": [],
   "source": [
    "other = User()"
   ]
  },
  {
   "cell_type": "markdown",
   "id": "moving-depression",
   "metadata": {
    "slideshow": {
     "slide_type": "fragment"
    }
   },
   "source": [
    "## Podemos inicializar con valores por defecto"
   ]
  },
  {
   "cell_type": "code",
   "execution_count": null,
   "id": "verbal-treatment",
   "metadata": {
    "slideshow": {
     "slide_type": "subslide"
    }
   },
   "outputs": [],
   "source": [
    "class User():\n",
    "    \"\"\"Define la entidad que representa a una persona usuaria en PyTrivia\"\"\"\n",
    "\n",
    "    def __init__(self, name=\"Nueva persona\", nick=None):\n",
    "        self.name = name\n",
    "        self.nick = nick\n",
    "        self.avatar = None\n",
    "        \n",
    "    #Comportamiento\n",
    "    def update_name(self, new_name):\n",
    "        self.name = new_name"
   ]
  },
  {
   "cell_type": "code",
   "execution_count": null,
   "id": "moderate-mount",
   "metadata": {
    "slideshow": {
     "slide_type": "fragment"
    }
   },
   "outputs": [],
   "source": [
    "janis = User()\n",
    "dibu = User(\"Emiliano\", \"Dibu\")\n",
    "print(janis.name)\n",
    "print(dibu.name)"
   ]
  },
  {
   "cell_type": "markdown",
   "id": "b9302bd4",
   "metadata": {
    "slideshow": {
     "slide_type": "subslide"
    }
   },
   "source": [
    "# DESAFIO 1\n",
    "\n",
    "> Estamos armando un curso y queremos modelar con clases los distintos recursos con los que vamos a trabajar. Cada recurso tiene un nombre, la URL donde está publicado, un tipo (para indicar si se encuentra en formato PDF, jupyter o video) y la fecha de su última modificación.  \n",
    "\n",
    "> Crear la clase para trabajar con estos datos."
   ]
  },
  {
   "cell_type": "code",
   "execution_count": null,
   "id": "599cbc72",
   "metadata": {
    "slideshow": {
     "slide_type": "fragment"
    }
   },
   "outputs": [],
   "source": [
    "#Solución \n",
    "class Resource:\n",
    "    ...\n",
    "    "
   ]
  },
  {
   "cell_type": "markdown",
   "id": "24bc92e3",
   "metadata": {
    "slideshow": {
     "slide_type": "fragment"
    }
   },
   "source": [
    "- ¿Qué debemos pensar?\n",
    "    - ¿Qué variables de instancia tiene un recurso?¿Tiene variables de instancia con valores opcionales?\n",
    "    - ¿Cuál es el comportamiento? ¿Cuáles son los métodos asociados?"
   ]
  },
  {
   "cell_type": "markdown",
   "id": "spare-marathon",
   "metadata": {
    "slideshow": {
     "slide_type": "slide"
    }
   },
   "source": [
    "# Observemos este código: ¿qué diferencia hay entre villanos y enemigos?"
   ]
  },
  {
   "cell_type": "code",
   "execution_count": null,
   "id": "understanding-chase",
   "metadata": {
    "slideshow": {
     "slide_type": "fragment"
    }
   },
   "outputs": [],
   "source": [
    "class SuperHero():\n",
    "    \n",
    "    villains = []\n",
    "\n",
    "    def __init__(self, real_name, name):\n",
    "        self.real_name = real_name\n",
    "        self.name = name\n",
    "        self.enemies = []\n",
    "            "
   ]
  },
  {
   "cell_type": "markdown",
   "id": "engaged-contributor",
   "metadata": {
    "slideshow": {
     "slide_type": "fragment"
    }
   },
   "source": [
    "- **villains** es una **variable de clase** mientras que **enemies** es una **variable de instancia**.\n",
    "- ¿Qué significa esto?"
   ]
  },
  {
   "cell_type": "markdown",
   "id": "fe98b6d8",
   "metadata": {
    "slideshow": {
     "slide_type": "subslide"
    }
   },
   "source": [
    "# Variables de instancia vs. de clase\n",
    "\n",
    "> Una **variable de instancia** es **exclusiva de cada instancia** u objeto.\n",
    "\n",
    "> Una **variable de clase** es única y es **compartida por todas las instancias** de la clase. \n",
    "\n"
   ]
  },
  {
   "cell_type": "markdown",
   "id": "mathematical-guinea",
   "metadata": {
    "slideshow": {
     "slide_type": "subslide"
    }
   },
   "source": [
    "# Veamos el ejemplo completo:"
   ]
  },
  {
   "cell_type": "code",
   "execution_count": null,
   "id": "mexican-spine",
   "metadata": {
    "slideshow": {
     "slide_type": "subslide"
    }
   },
   "outputs": [],
   "source": [
    "class SuperHero():\n",
    "    \"\"\" Esta clase  define a un superheroe o una superheroína \n",
    "    \n",
    "    villanos:  representa a los enemigos de todos los superhéroes\n",
    "    \"\"\" \n",
    "    villains = []\n",
    "\n",
    "    def __init__(self, real_name, name):\n",
    "        self.real_name = real_name\n",
    "        self.name = name\n",
    "        self.enemies = []\n",
    "  \n",
    "    def get_enemies(self):\n",
    "        \"\"\"Retorna los enemigos del superhéroe recetor del mensaje\"\"\"\n",
    "        return self.enemies\n",
    "        \n",
    "    def add_enemy(self, new_enemy):\n",
    "        \"\"\"Agrega un enemigo a los enemigos del superhéroe\"\"\"     \n",
    "        self.enemies.append(new_enemy)\n",
    "        SuperHero.villains.append(new_enemy)"
   ]
  },
  {
   "cell_type": "code",
   "execution_count": null,
   "id": "several-windsor",
   "metadata": {
    "slideshow": {
     "slide_type": "subslide"
    }
   },
   "outputs": [],
   "source": [
    "batman = SuperHero( \"Bruce Wayne\", \"Batman\")\n",
    "ironman = SuperHero( \"Tony Stark\", \"ironman\")\n",
    "\n",
    "batman.add_enemy(\"Joker\")\n",
    "batman.add_enemy(\"Pinguino\")\n",
    "batman.add_enemy(\"Gatubela\")\n",
    "\n",
    "ironman.add_enemy(\"Whiplash\")\n",
    "ironman.add_enemy(\"Thanos\")"
   ]
  },
  {
   "cell_type": "code",
   "execution_count": null,
   "id": "d24600b2",
   "metadata": {
    "slideshow": {
     "slide_type": "subslide"
    }
   },
   "outputs": [],
   "source": [
    "# OJO que esta función  está FUERA de la clase\n",
    "def all_villains(name, villains):\n",
    "    \"\"\"Muestra un listado con todos los villanos de name\"\"\"\n",
    "    print(\"\\n\"+\"*\"*40)\n",
    "    print(f\"Enemigos de {name}\")\n",
    "    print(\"*\"*40)\n",
    "    for villain in villains:\n",
    "        print(villain)\n"
   ]
  },
  {
   "cell_type": "code",
   "execution_count": null,
   "id": "foster-thomas",
   "metadata": {
    "slideshow": {
     "slide_type": "fragment"
    }
   },
   "outputs": [],
   "source": [
    "all_villains(batman.name, batman.get_enemies())\n",
    "all_villains(ironman.name, ironman.get_enemies())"
   ]
  },
  {
   "cell_type": "code",
   "execution_count": null,
   "id": "26261898",
   "metadata": {
    "slideshow": {
     "slide_type": "subslide"
    }
   },
   "outputs": [],
   "source": [
    "all_villains(\"todos los superhéroes\", SuperHero.villains)"
   ]
  },
  {
   "cell_type": "markdown",
   "id": "accepting-clearing",
   "metadata": {
    "slideshow": {
     "slide_type": "subslide"
    }
   },
   "source": [
    "#  Volvamos a este código: ¿no hay algo que parece incorrecto?"
   ]
  },
  {
   "cell_type": "code",
   "execution_count": null,
   "id": "db25dd9e",
   "metadata": {
    "slideshow": {
     "slide_type": "fragment"
    }
   },
   "outputs": [],
   "source": [
    "class SuperHero():\n",
    "    villains = []\n",
    "\n",
    "    def __init__(self, real_name, name):\n",
    "        self.real_name = real_name\n",
    "        self.name = name\n",
    "        self.enemies = []      "
   ]
  },
  {
   "cell_type": "code",
   "execution_count": null,
   "id": "43fc9fb4",
   "metadata": {
    "slideshow": {
     "slide_type": "fragment"
    }
   },
   "outputs": [],
   "source": [
    "batman = SuperHero(\"Bruce\", \"Batman\")\n",
    "print(batman.name)"
   ]
  },
  {
   "cell_type": "markdown",
   "id": "hollow-viewer",
   "metadata": {
    "slideshow": {
     "slide_type": "subslide"
    }
   },
   "source": [
    "# Público y privado\n",
    "\n",
    "- Antes de empezar a hablar de esto ....\n",
    "\n",
    "\"«Private» instance variables that cannot be accessed except from inside an object **don’t exist in Python**.\"\n",
    "\n",
    "- De nuevo.. en español..\n",
    "\n",
    "\"Las variables «privadas» de instancia, que no pueden accederse excepto desde dentro de un objeto, **no existen en Python\"\"**\n",
    "\n",
    "- ¿Y entonces?\n",
    "\n",
    "- Más info:  https://docs.python.org/3/tutorial/classes.html#private-variables"
   ]
  },
  {
   "cell_type": "markdown",
   "id": "immediate-brown",
   "metadata": {
    "slideshow": {
     "slide_type": "subslide"
    }
   },
   "source": [
    "# Hay una convención ..\n",
    "\n",
    ".. que permite **definir el acceso** a determinados métodos y atributos de los objetos, quedando claro qué cosas se pueden y no se pueden utilizar desde **fuera de la clase**.\n"
   ]
  },
  {
   "cell_type": "markdown",
   "id": "addressed-titanium",
   "metadata": {
    "slideshow": {
     "slide_type": "fragment"
    }
   },
   "source": [
    "\n",
    "**Por convención**, \n",
    ">todo atributo (variable de instancia o método) que comienza con \"_\" se considera **no público**.\n",
    "\n",
    "- Pero esto no impide que se acceda. **Simplemente es una convención** que VAMOS  a respetar."
   ]
  },
  {
   "cell_type": "markdown",
   "id": "cultural-february",
   "metadata": {
    "slideshow": {
     "slide_type": "subslide"
    }
   },
   "source": [
    "# Privado por convención"
   ]
  },
  {
   "cell_type": "code",
   "execution_count": null,
   "id": "confused-interest",
   "metadata": {
    "slideshow": {
     "slide_type": "fragment"
    }
   },
   "outputs": [],
   "source": [
    "class User():\n",
    "    \"\"\"Define la entidad que representa a un usuario en PyTrivia\"\"\"\n",
    "    \n",
    "    def __init__(self, name=\"Sara Connor\", nick=\"mamá_de_John\"):\n",
    "        self._name = name\n",
    "        self.nick = nick\n",
    "        self.avatar = None\n",
    "\n",
    "    def set_name(self, new_name):\n",
    "        self._name = new_name"
   ]
  },
  {
   "cell_type": "code",
   "execution_count": null,
   "id": "524f16ee",
   "metadata": {
    "slideshow": {
     "slide_type": "fragment"
    }
   },
   "outputs": [],
   "source": [
    "obj = User()\n",
    "print(obj._name)"
   ]
  },
  {
   "cell_type": "markdown",
   "id": "frozen-assessment",
   "metadata": {
    "slideshow": {
     "slide_type": "fragment"
    }
   },
   "source": [
    "- Hay otra forma de indicar que algo no es \"tan\" público: agregando a los nombres de la variables o funciones, dos guiones **(__)** delante. "
   ]
  },
  {
   "cell_type": "markdown",
   "id": "streaming-tribune",
   "metadata": {
    "slideshow": {
     "slide_type": "subslide"
    }
   },
   "source": [
    "# Veamos este ejemplo: códigos secretos"
   ]
  },
  {
   "cell_type": "code",
   "execution_count": null,
   "id": "painted-senior",
   "metadata": {
    "slideshow": {
     "slide_type": "fragment"
    }
   },
   "outputs": [],
   "source": [
    "class SecretCode:\n",
    "    '''¿¿¿Textos con clave??? '''\n",
    "\n",
    "    def __init__(self, plain_text, secret_key):\n",
    "        self.__plain_text = plain_text\n",
    "        self.__secret_key = secret_key\n",
    "\n",
    "    def decrypt(self, secret_key):\n",
    "        '''Solo se muestra el texto si secret_key es correcta'''\n",
    "        \n",
    "        if secret_key == self.__secret_key:\n",
    "            return self.__plain_text\n",
    "        else:\n",
    "            return ''"
   ]
  },
  {
   "cell_type": "markdown",
   "id": "portuguese-value",
   "metadata": {
    "slideshow": {
     "slide_type": "fragment"
    }
   },
   "source": [
    "- ¿Cuáles son las variables de instancia? ¿Públicas o privadas?\n",
    "- ¿Y los métodos?¿Públicos o privados?\n",
    "- ¿Cómo creo un objeto **SecretCode**?"
   ]
  },
  {
   "cell_type": "markdown",
   "id": "level-concept",
   "metadata": {
    "slideshow": {
     "slide_type": "subslide"
    }
   },
   "source": [
    "# Codificamos textos\n",
    "\n",
    "\n",
    "```python\n",
    "class SecretCode:\n",
    "    '''¿¿¿Textos con clave??? '''\n",
    "\n",
    "    def __init__(self, plain_text, secret_key):\n",
    "        self.__plain_text = plain_text\n",
    "        self.__secret_key = secret_key\n",
    "\n",
    "    def decrypt(self, secret_key):\n",
    "        '''Solo se muestra el texto si secret_key es correcta'''\n",
    "        \n",
    "        if secret_key == self.__secret_key:\n",
    "            return self.__plain_text\n",
    "        else:\n",
    "            return ''\n",
    "```"
   ]
  },
  {
   "cell_type": "code",
   "execution_count": null,
   "id": "referenced-neighbor",
   "metadata": {
    "slideshow": {
     "slide_type": "fragment"
    }
   },
   "outputs": [],
   "source": [
    "secret_text = SecretCode(\"Seminario Python\", \"stark\")"
   ]
  },
  {
   "cell_type": "code",
   "execution_count": null,
   "id": "c0b94abd",
   "metadata": {
    "slideshow": {
     "slide_type": "fragment"
    }
   },
   "outputs": [],
   "source": [
    "print(secret_text.decrypt(\"stark\"))"
   ]
  },
  {
   "cell_type": "markdown",
   "id": "fifth-anthropology",
   "metadata": {
    "slideshow": {
     "slide_type": "subslide"
    }
   },
   "source": [
    "# ¿Qué pasa si quiero imprimir desde fuera de la clase: **secret_text.__plain_text**?"
   ]
  },
  {
   "cell_type": "code",
   "execution_count": null,
   "id": "81d5a36b",
   "metadata": {
    "slideshow": {
     "slide_type": "fragment"
    }
   },
   "outputs": [],
   "source": [
    "print(secret_text.__plain_text)"
   ]
  },
  {
   "cell_type": "markdown",
   "id": "interior-kentucky",
   "metadata": {
    "slideshow": {
     "slide_type": "fragment"
    }
   },
   "source": [
    "## Entonces, ¿sí es privado?"
   ]
  },
  {
   "cell_type": "markdown",
   "id": "qualified-explosion",
   "metadata": {
    "slideshow": {
     "slide_type": "subslide"
    }
   },
   "source": [
    "#  Códigos no tan secretos\n",
    "\n",
    "- Ahora, probemos esto:"
   ]
  },
  {
   "cell_type": "code",
   "execution_count": null,
   "id": "departmental-motion",
   "metadata": {
    "slideshow": {
     "slide_type": "fragment"
    }
   },
   "outputs": [],
   "source": [
    "print(secret_text._SecretCode__plain_text)"
   ]
  },
  {
   "cell_type": "markdown",
   "id": "august-clone",
   "metadata": {
    "slideshow": {
     "slide_type": "fragment"
    }
   },
   "source": [
    "- Todo identificador que comienza con **\"__\"**, por ejemplo **__plain_text**, es reemplazado textualmente por **_NombreClase__**, por ejemplo: **_SecretCode__text_plaino**.\n",
    "\n",
    "- [+Info](https://dbader.org/blog/meaning-of-underscores-in-python)"
   ]
  },
  {
   "cell_type": "markdown",
   "id": "dramatic-feedback",
   "metadata": {
    "slideshow": {
     "slide_type": "subslide"
    }
   },
   "source": [
    "# Entonces... respecto a lo público y privado\n",
    "\n",
    "## Respetaremos las convenciones\n",
    "\n",
    "- Si el nombre de una variable de instancia o método comienza con **\"_\"** será considerada privada. Por lo tanto no  podrá utilizarse directamente desde fuera de la clase.\n",
    "- Aquellas propiedades que consideramos públicas, las usaremos como tal. Es decir, que pueden utilizarse fuera de la clase."
   ]
  },
  {
   "cell_type": "markdown",
   "id": "38968d79",
   "metadata": {
    "slideshow": {
     "slide_type": "slide"
    }
   },
   "source": [
    "# getters y setters"
   ]
  },
  {
   "cell_type": "code",
   "execution_count": null,
   "id": "bc448d8a",
   "metadata": {
    "slideshow": {
     "slide_type": "fragment"
    }
   },
   "outputs": [],
   "source": [
    "class Demo:\n",
    "    def __init__(self):\n",
    "        self._x = 0\n",
    "        self.y = 10\n",
    "\n",
    "    def get_x(self):\n",
    "        return self._x\n",
    "        \n",
    "    def set_x(self, value):\n",
    "        self._x = value"
   ]
  },
  {
   "cell_type": "markdown",
   "id": "ad88e82f",
   "metadata": {
    "slideshow": {
     "slide_type": "fragment"
    }
   },
   "source": [
    "- ¿Cuántas variables de instancia?\n",
    "- Por cada variable de instancia **no pública** tenemos un método **get** y un método **set**. O, como veremos más adelante: **propiedades**.\n",
    "- ¿Por qué no definimos un get o set para las variables públicas?\n"
   ]
  },
  {
   "cell_type": "markdown",
   "id": "industrial-screening",
   "metadata": {
    "slideshow": {
     "slide_type": "slide"
    }
   },
   "source": [
    "# Algunos métodos especiales\n",
    "\n",
    "Mencionamos antes que los \"__\" son especiales en Python. Por ejemplo, podemos definir métodos con estos nombres:\n",
    "\n",
    "- \\_\\_lt__, \\_\\_gt__, \\_\\_le__, \\_\\_ge__ \n",
    "- \\_\\_eq__, \\_\\_ne__\n",
    "\n",
    "En estos casos, estos métodos nos permiten comparar dos objetos con los símbolos correspondientes:\n",
    "\n",
    "- x<y invoca  x.\\_\\_lt\\_\\_(y),\n",
    "- x<=y invoca x.\\_\\_le\\_\\_(y), \n",
    "- x==y invoca x.\\_\\_eq\\_\\_(y), \n",
    "- x!=y invoca x.\\_\\_ne\\_\\_(y),\n",
    "- x>y invoca x.\\_\\_gt\\_\\_(y), \n",
    "- x>=y invoca x.\\_\\_ge\\_\\_(y)."
   ]
  },
  {
   "cell_type": "code",
   "execution_count": null,
   "id": "b1ccd8a9",
   "metadata": {
    "slideshow": {
     "slide_type": "subslide"
    }
   },
   "outputs": [],
   "source": [
    "class Band():\n",
    "    \"\"\" Define la entidad que representa a una banda   ..   \"\"\"\n",
    "    \n",
    "    def __init__(self, name, genres=\"rock\"):\n",
    "        self.name = name\n",
    "        self.genres = genres\n",
    "        self._members = []\n",
    "  \n",
    "    def add_member(self, new_member):\n",
    "        self._members.append(new_member)\n",
    "    \n",
    "    def __lt__(self, other_band):\n",
    "        return len(self._members) < len(other_band._members)"
   ]
  },
  {
   "cell_type": "markdown",
   "id": "781bb9aa",
   "metadata": {
    "slideshow": {
     "slide_type": "fragment"
    }
   },
   "source": [
    "- ¿Qué implementa el método **\\_\\_lt\\_\\_**?"
   ]
  },
  {
   "cell_type": "markdown",
   "id": "5e9abd34",
   "metadata": {
    "slideshow": {
     "slide_type": "fragment"
    }
   },
   "source": [
    "- ¿Cuándo una banda es \"menor\" que otra?"
   ]
  },
  {
   "cell_type": "code",
   "execution_count": null,
   "id": "4376036e",
   "metadata": {
    "slideshow": {
     "slide_type": "subslide"
    }
   },
   "outputs": [],
   "source": [
    "soda = Band(\"Soda Stereo\")\n",
    "soda.add_member(\"Gustavo Cerati\")\n",
    "soda.add_member(\"Zeta Bosio\")\n",
    "soda.add_member(\"Charly Alberti\")\n",
    "\n",
    "bangles = Band(\"The Bangles\", genres=\"pop-rock\")\n",
    "bangles.add_member(\"Susanna Hoffs\")\n",
    "bangles.add_member(\"Debbi Peterson\")\n",
    "bangles.add_member(\"Vicki Peterson\")\n",
    "bangles.add_member(\"Annette Zilinskas\")\n"
   ]
  },
  {
   "cell_type": "code",
   "execution_count": null,
   "id": "a0da9369",
   "metadata": {},
   "outputs": [],
   "source": [
    "menor = soda.name if soda < bangles else bangles.name\n",
    "menor"
   ]
  },
  {
   "cell_type": "markdown",
   "id": "6ebe9ee4",
   "metadata": {
    "slideshow": {
     "slide_type": "subslide"
    }
   },
   "source": [
    "# El método \\_\\_str\\_\\_\n",
    "\n",
    "Retorna una cadena de caracteres (**str**) con la representación que querramos mostrar del objeto. "
   ]
  },
  {
   "cell_type": "code",
   "execution_count": null,
   "id": "fea64304",
   "metadata": {
    "slideshow": {
     "slide_type": "fragment"
    }
   },
   "outputs": [],
   "source": [
    "class Band():\n",
    "    \"\"\"    Define la entidad que representa a una banda   ..   \"\"\"\n",
    "    \n",
    "    def __init__(self, name, genres=\"rock\"):\n",
    "        self.name = name\n",
    "        self.genres = genres\n",
    "        self._members = []\n",
    "  \n",
    "    def add_member(self, new_member):\n",
    "        self._members.append(new_member)\n",
    "    \n",
    "    def __str__(self):\n",
    "        return (f\"{self.name} está integrada por {self._members}\")"
   ]
  },
  {
   "cell_type": "code",
   "execution_count": null,
   "id": "b3febd5b",
   "metadata": {
    "slideshow": {
     "slide_type": "subslide"
    }
   },
   "outputs": [],
   "source": [
    "bangles = Band(\"The Bangles\", genres=\"pop-rock\")\n",
    "bangles.add_member(\"Susanna Hoffs\")\n",
    "bangles.add_member(\"Debbi Peterson\")\n",
    "bangles.add_member(\"Vicki Peterson\")\n",
    "bangles.add_member(\"Annette Zilinskas\")\n",
    "\n",
    "print(bangles)"
   ]
  },
  {
   "cell_type": "markdown",
   "id": "2c7517f2",
   "metadata": {
    "slideshow": {
     "slide_type": "fragment"
    }
   },
   "source": [
    "[-Info](https://docs.python.org/3/reference/datamodel.html#special-method-names)"
   ]
  },
  {
   "cell_type": "markdown",
   "id": "charming-recycling",
   "metadata": {
    "slideshow": {
     "slide_type": "slide"
    }
   },
   "source": [
    "<center>\n",
    "<img src=\"imagenes/portada_video.png\" alt=\"nos vemos el martes\" style=\"width:1050px;\"/>\n",
    "</center>"
   ]
  }
 ],
 "metadata": {
  "celltoolbar": "Slideshow",
  "kernelspec": {
   "display_name": "Python 3 (ipykernel)",
   "language": "python",
   "name": "python3"
  },
  "language_info": {
   "codemirror_mode": {
    "name": "ipython",
    "version": 3
   },
   "file_extension": ".py",
   "mimetype": "text/x-python",
   "name": "python",
   "nbconvert_exporter": "python",
   "pygments_lexer": "ipython3",
   "version": "3.11.9"
  }
 },
 "nbformat": 4,
 "nbformat_minor": 5
}
