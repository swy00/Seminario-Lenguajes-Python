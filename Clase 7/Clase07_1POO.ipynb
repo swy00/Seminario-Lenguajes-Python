{
 "cells": [
  {
   "cell_type": "markdown",
   "id": "handed-string",
   "metadata": {
    "slideshow": {
     "slide_type": "slide"
    }
   },
   "source": [
    "# Seminario de Lenguajes - Python\n",
    "## Cursada 2024\n",
    "### Aspectos básicos de  POO (Cont.)"
   ]
  },
  {
   "cell_type": "markdown",
   "id": "determined-question",
   "metadata": {
    "slideshow": {
     "slide_type": "subslide"
    }
   },
   "source": [
    "# Repasemos algunos conceptos vistos previamente"
   ]
  },
  {
   "cell_type": "markdown",
   "id": "complete-weight",
   "metadata": {
    "slideshow": {
     "slide_type": "subslide"
    }
   },
   "source": [
    "> Un objeto es una colección de datos con un comportamiento asociado en una única entidad\n",
    "\n",
    "<center>\n",
    "<img src=\"imagenes/objeto_usuario.png\" alt=\"Objeto Jugador\" style=\"width:350px;\"/>\n",
    "</center>"
   ]
  },
  {
   "cell_type": "markdown",
   "id": "italian-hobby",
   "metadata": {
    "slideshow": {
     "slide_type": "subslide"
    }
   },
   "source": [
    "# POO: conceptos básicos\n",
    "\n",
    "- En POO un programa puede verse como un **conjunto de objetos** que interactúan entre ellos **enviándose mensajes**.\n",
    "- Estos mensajes están asociados al **comportamiento** del objeto (conjunto de **métodos**).\n",
    "\n",
    "<center>\n",
    "<img src=\"imagenes/envio_mensaje.png\" alt=\"Envío de mensajes\" style=\"width:650px;\"/>\n",
    "</center>\n"
   ]
  },
  {
   "cell_type": "markdown",
   "id": "subjective-authorization",
   "metadata": {
    "slideshow": {
     "slide_type": "slide"
    }
   },
   "source": [
    "# El mundo de los objetos \n",
    "\n",
    "<center>\n",
    "<img src=\"imagenes/objetos.png\" alt=\"Muchos objetos\" style=\"width:850px;\"/>\n",
    "</center>\n",
    "\n",
    "- No todos los objetos son iguales, ni tienen el mismo comportamiento.\n",
    "- Así **agrupamos** a los objetos de acuerdo a **características comunes**."
   ]
  },
  {
   "cell_type": "markdown",
   "id": "reserved-experiment",
   "metadata": {
    "slideshow": {
     "slide_type": "subslide"
    }
   },
   "source": [
    "# Objetos y clases\n",
    "\n",
    "\n",
    "> Una clase describe los atributos de objetos (**variables de instancia**) y las acciones (**métodos**) que pueden hacer o ejecutar dichos objetos. \n"
   ]
  },
  {
   "cell_type": "markdown",
   "id": "refined-retention",
   "metadata": {
    "slideshow": {
     "slide_type": "fragment"
    }
   },
   "source": [
    "<center>\n",
    "<img src=\"imagenes/clases.png\" alt=\"Clases\" style=\"width:550px;\"/></center>"
   ]
  },
  {
   "cell_type": "markdown",
   "id": "0ac9806d",
   "metadata": {
    "slideshow": {
     "slide_type": "subslide"
    }
   },
   "source": [
    "# La clase Band"
   ]
  },
  {
   "cell_type": "code",
   "execution_count": 1,
   "id": "3cc50386",
   "metadata": {
    "slideshow": {
     "slide_type": "fragment"
    }
   },
   "outputs": [],
   "source": [
    "class Band():\n",
    "    \"\"\" Define la entidad que representa a una banda   ..   \"\"\"\n",
    "    all_genres = set()\n",
    "    \n",
    "    def __init__(self, name, genres=\"rock\"):\n",
    "        self.name = name\n",
    "        self.genres = genres\n",
    "        self._members = []\n",
    "        Band.all_genres.add(genres)\n",
    "  \n",
    "    def add_member(self, new_member):\n",
    "        self._members.append(new_member)\n"
   ]
  },
  {
   "cell_type": "markdown",
   "id": "49df5b5d",
   "metadata": {
    "slideshow": {
     "slide_type": "fragment"
    }
   },
   "source": [
    "¿self?¿Cuáles son las variables de instancias?¿Y los métodos?¿Qué es **all_genres**?"
   ]
  },
  {
   "cell_type": "markdown",
   "id": "146cb261",
   "metadata": {
    "slideshow": {
     "slide_type": "subslide"
    }
   },
   "source": [
    "# Variables de instancia vs. de clase\n",
    "\n",
    "> Una **variable de instancia** es **exclusiva de cada instancia** u objeto.\n",
    "\n",
    "> Una **variable de clase** es única y es **compartida por todas las instancias** de la clase. \n",
    "\n"
   ]
  },
  {
   "cell_type": "markdown",
   "id": "f427c9a3",
   "metadata": {
    "slideshow": {
     "slide_type": "subslide"
    }
   },
   "source": [
    "# Creamos instancias de Band"
   ]
  },
  {
   "cell_type": "code",
   "execution_count": 2,
   "id": "4a8ab778",
   "metadata": {
    "slideshow": {
     "slide_type": "fragment"
    }
   },
   "outputs": [],
   "source": [
    "soda = Band(\"Soda Stereo\")\n",
    "soda.add_member(\"Gustavo Cerati\")\n",
    "soda.add_member(\"Zeta Bosio\")\n",
    "soda.add_member(\"Charly Alberti\")\n",
    "\n",
    "bangles = Band(\"The Bangles\", genres=\"pop-rock\")\n",
    "bangles.add_member(\"Susanna Hoffs\")\n",
    "bangles.add_member(\"Debbi Peterson\")\n",
    "bangles.add_member(\"Vicki Peterson\")\n",
    "bangles.add_member(\"Annette Zilinskas\")\n"
   ]
  },
  {
   "cell_type": "markdown",
   "id": "d1032b36",
   "metadata": {
    "slideshow": {
     "slide_type": "subslide"
    }
   },
   "source": [
    "# Mostramos el contenido de **Band.all_genres**\n"
   ]
  },
  {
   "cell_type": "code",
   "execution_count": 3,
   "id": "several-windsor",
   "metadata": {
    "slideshow": {
     "slide_type": "fragment"
    }
   },
   "outputs": [
    {
     "name": "stdout",
     "output_type": "stream",
     "text": [
      "pop-rock\n",
      "rock\n"
     ]
    }
   ],
   "source": [
    "for genre in Band.all_genres:\n",
    "    print(genre)"
   ]
  },
  {
   "cell_type": "markdown",
   "id": "communist-rwanda",
   "metadata": {
    "slideshow": {
     "slide_type": "subslide"
    }
   },
   "source": [
    "## Objetos  y clases\n",
    "\n",
    "- La  **clase** define las variables de instancia  y los métodos.\n",
    "\n",
    "- Los **objetos** son instancias de una clase.\n",
    "\n",
    "- Cuando se crea un objeto, se ejecuta automáticamente el método **\\_\\_init()\\_\\_** que permite inicializar el objeto.\n",
    "\n",
    "- La definición de la clase especifica qué partes son públicas y **cuáles vamos a considerar no públicas**.\n",
    "\n"
   ]
  },
  {
   "cell_type": "markdown",
   "id": "d3ee202b",
   "metadata": {
    "slideshow": {
     "slide_type": "fragment"
    }
   },
   "source": [
    "¿Cómo se especifica privado o público en Python?"
   ]
  },
  {
   "cell_type": "markdown",
   "id": "several-chemical",
   "metadata": {
    "slideshow": {
     "slide_type": "subslide"
    }
   },
   "source": [
    "\n",
    "# Mensajes y métodos\n",
    "\n",
    "TODO el procesamiento en este modelo es activado por mensajes entre objetos.\n",
    "\n",
    "- El **mensaje** es el modo de comunicación entre los objetos. Cuando se invoca una función de un objeto, lo que se está haciendo es **enviando un mensaje** a dicho objeto.\n",
    "- El **método** es la función que está asociada a un objeto determinado y cuya ejecución sólo puede desencadenarse a través del envío de un mensaje recibido.\n"
   ]
  },
  {
   "cell_type": "markdown",
   "id": "warming-rider",
   "metadata": {
    "slideshow": {
     "slide_type": "fragment"
    }
   },
   "source": [
    "- La **interfaz pública** del objeto está formada por las variables de instancias y métodos que otros objetos pueden usar para interactuar con él."
   ]
  },
  {
   "cell_type": "markdown",
   "id": "320b3295",
   "metadata": {
    "slideshow": {
     "slide_type": "slide"
    }
   },
   "source": [
    "# Hablemos de @property\n",
    "\n",
    ">[Clase07_2 sobre propiedades](Clase07_2_propiedades.ipynb)"
   ]
  },
  {
   "cell_type": "markdown",
   "id": "0b97b658",
   "metadata": {
    "slideshow": {
     "slide_type": "slide"
    }
   },
   "source": [
    "# Métodos de clase\n",
    "¿A qué creen que hacen referencia?"
   ]
  },
  {
   "cell_type": "markdown",
   "id": "623c6f97",
   "metadata": {
    "slideshow": {
     "slide_type": "fragment"
    }
   },
   "source": [
    "> Corresponden a los mensajes que se envían a la **clase**, no a las instancias de la misma."
   ]
  },
  {
   "cell_type": "markdown",
   "id": "0e67af46",
   "metadata": {
    "slideshow": {
     "slide_type": "fragment"
    }
   },
   "source": [
    "- Se utiliza el decorador **@classmethod**.\n",
    "- Se usa **cls** en vez de **self**. ¿A qué hace referencia este argumento? "
   ]
  },
  {
   "cell_type": "code",
   "execution_count": null,
   "id": "68ba7801",
   "metadata": {
    "slideshow": {
     "slide_type": "subslide"
    }
   },
   "outputs": [],
   "source": [
    "class Band():\n",
    "    \"\"\" Define la entidad que representa a una banda   ..   \"\"\"\n",
    "    all_genres = set()\n",
    "    \n",
    "    @classmethod\n",
    "    def clean_genres(cls, confirm=False):\n",
    "        if confirm:\n",
    "            cls.all_genres = set()\n",
    "            \n",
    "    def __init__(self, name, genres=\"rock\"):\n",
    "        self.name = name\n",
    "        self.genres = genres\n",
    "        self._members = []\n",
    "        Band.all_genres.add(genres)\n",
    "  \n",
    "    def add_member(self, new_member):\n",
    "        self._members.append(new_member)"
   ]
  },
  {
   "cell_type": "code",
   "execution_count": null,
   "id": "6e3a77cd",
   "metadata": {
    "slideshow": {
     "slide_type": "fragment"
    }
   },
   "outputs": [],
   "source": [
    "soda = Band(\"Soda Stereo\")\n",
    "nompa = Band(\"Nonpalidece\", genres=\"reggae\")"
   ]
  },
  {
   "cell_type": "code",
   "execution_count": null,
   "id": "39443282",
   "metadata": {
    "slideshow": {
     "slide_type": "fragment"
    }
   },
   "outputs": [],
   "source": [
    "Band.all_genres"
   ]
  },
  {
   "cell_type": "code",
   "execution_count": null,
   "id": "9fc6e052",
   "metadata": {
    "slideshow": {
     "slide_type": "fragment"
    }
   },
   "outputs": [],
   "source": [
    "Band.clean_genres(True)"
   ]
  },
  {
   "cell_type": "markdown",
   "id": "ed0f5c2a",
   "metadata": {
    "slideshow": {
     "slide_type": "slide"
    }
   },
   "source": [
    "# Ahora, pensemos en los músicos de la banda\n",
    "Podemos pensar en:\n",
    "<center><img src=\"imagenes/herencia.png\" alt=\"Herencia\" style=\"width:550px;\"/></center>\n",
    "\n",
    "Donde:\n",
    "- Un guitarrista **\"es un\"** músico.\n",
    "- Un vocalista también **\"es un\"** músico."
   ]
  },
  {
   "cell_type": "markdown",
   "id": "c3f7b2c0",
   "metadata": {
    "slideshow": {
     "slide_type": "subslide"
    }
   },
   "source": [
    "# Hablemos de herencia\n",
    "\n",
    "- Es uno de los conceptos más importantes de la POO.\n",
    "- La herencia permite que una clase pueda *heredar* los atributos y métodos de otra clase, que se **agregan** a los propios. \n",
    "- Este concepto permite sumar, es decir **extender** una clase.\n",
    "- La clase que hereda se denomina **clase derivada** y la clase de la cual se deriva se denomina **clase base**.\n",
    "\n",
    "- Así, **Músico es la clase base** y **Guitarrista y Vocalista son clases derivadas** de Músico."
   ]
  },
  {
   "cell_type": "markdown",
   "id": "da601e1d",
   "metadata": {
    "slideshow": {
     "slide_type": "subslide"
    }
   },
   "source": [
    "# Ahora en Python"
   ]
  },
  {
   "cell_type": "code",
   "execution_count": 4,
   "id": "8c66bee4",
   "metadata": {
    "slideshow": {
     "slide_type": "fragment"
    }
   },
   "outputs": [],
   "source": [
    "class Musician:\n",
    "    def __init__(self, name, role=None, band=None):\n",
    "        self.name = name\n",
    "        self.has_a_band = band!=None\n",
    "        self._band = band\n",
    "        self.role = role\n",
    "    \n",
    "    def info(self):\n",
    "        if self.has_a_band:\n",
    "            print (f\"{self.name} integra la banda {self.band}\")\n",
    "        else:\n",
    "            print(f\"{self.name} es solista \")\n",
    "            \n",
    "    @property\n",
    "    def band(self):\n",
    "        if self.has_a_band:\n",
    "            return self._band\n",
    "        else:\n",
    "            return \"No tiene banda\"\n",
    "        \n",
    "    @band.setter\n",
    "    def band(self, new_band):\n",
    "        self._band = new_band\n",
    "        self.has_a_band = self._band!=None"
   ]
  },
  {
   "cell_type": "code",
   "execution_count": 5,
   "id": "2f9d31a0",
   "metadata": {
    "slideshow": {
     "slide_type": "subslide"
    }
   },
   "outputs": [],
   "source": [
    "class Guitarist(Musician):\n",
    "    \n",
    "    def __init__(self, name, band=None):\n",
    "        Musician.__init__(self, name, \"guitarrista\", band)\n",
    "        self.guitar_type = \"guitarra acústica\"\n",
    "    \n",
    "    def info(self):\n",
    "        print (f\"{self.name} toca {self.guitar_type}\")"
   ]
  },
  {
   "cell_type": "markdown",
   "id": "1d47bb14",
   "metadata": {
    "slideshow": {
     "slide_type": "fragment"
    }
   },
   "source": [
    "- ¿Cuál es la clase base? ¿Y la clase derivada? ¿Cuáles son las variables de instancia de un objeto Guitarist?\n",
    "- ¿Por qué invoco a **Musician\\_\\_init\\_\\_()**? ¿Qué pasa si no hago esto?"
   ]
  },
  {
   "cell_type": "code",
   "execution_count": null,
   "id": "428eba4a",
   "metadata": {
    "slideshow": {
     "slide_type": "subslide"
    }
   },
   "outputs": [],
   "source": [
    "class Vocalist(Musician):\n",
    "    \n",
    "    def __init__(self, name, band=None):\n",
    "        Musician.__init__(self, name, \"vocalista\", band)\n",
    "        self.voice_type = \"Barítono\""
   ]
  },
  {
   "cell_type": "code",
   "execution_count": null,
   "id": "24858c64",
   "metadata": {
    "slideshow": {
     "slide_type": "fragment"
    }
   },
   "outputs": [],
   "source": [
    "bruce = Vocalist('Bruce Springsteen')\n",
    "brian = Guitarist(\"Brian May\", \"Queen\")"
   ]
  },
  {
   "cell_type": "code",
   "execution_count": null,
   "id": "71852ef0",
   "metadata": {
    "slideshow": {
     "slide_type": "fragment"
    }
   },
   "outputs": [],
   "source": [
    "bruce.info()"
   ]
  },
  {
   "cell_type": "code",
   "execution_count": null,
   "id": "0085540e",
   "metadata": {
    "slideshow": {
     "slide_type": "fragment"
    }
   },
   "outputs": [],
   "source": [
    "brian.info()"
   ]
  },
  {
   "cell_type": "code",
   "execution_count": null,
   "id": "788016c3",
   "metadata": {
    "slideshow": {
     "slide_type": "skip"
    }
   },
   "outputs": [],
   "source": [
    "bruce.has_a_band"
   ]
  },
  {
   "cell_type": "code",
   "execution_count": null,
   "id": "d35f459f",
   "metadata": {
    "slideshow": {
     "slide_type": "fragment"
    }
   },
   "outputs": [],
   "source": [
    "bruce.band = \"E Street Band\"\n",
    "bruce.info()"
   ]
  },
  {
   "cell_type": "markdown",
   "id": "running-wisconsin",
   "metadata": {
    "slideshow": {
     "slide_type": "subslide"
    }
   },
   "source": [
    "# También podemos chequear ..."
   ]
  },
  {
   "cell_type": "code",
   "execution_count": null,
   "id": "suited-table",
   "metadata": {
    "slideshow": {
     "slide_type": "fragment"
    }
   },
   "outputs": [],
   "source": [
    "f\"{bruce.name} es vocalista\" if isinstance(bruce, Vocalist) else f\"{bruce.name} NO es vocalista\""
   ]
  },
  {
   "cell_type": "code",
   "execution_count": null,
   "id": "judicial-floating",
   "metadata": {
    "slideshow": {
     "slide_type": "fragment"
    }
   },
   "outputs": [],
   "source": [
    "\"Guitarrista ES subclase de Musico\" if issubclass(Guitarist, Musician) else \"Guitarrista NO es subclase de Musico\""
   ]
  },
  {
   "cell_type": "markdown",
   "id": "0bae996a",
   "metadata": {
    "slideshow": {
     "slide_type": "subslide"
    }
   },
   "source": [
    "# Bruce Springsteen es un vocalista,  pero también es un guitarrista...\n",
    "Podríamos pensar en algo así:"
   ]
  },
  {
   "cell_type": "markdown",
   "id": "27d0832b",
   "metadata": {
    "slideshow": {
     "slide_type": "fragment"
    }
   },
   "source": [
    "\n",
    "<center>\n",
    "<img src=\"imagenes/herencia1.png\" alt=\"Hereencia\" style=\"width:650px;\"/></center>\n",
    "\n",
    "Aunque en Python podemos hacer algo mejor ..."
   ]
  },
  {
   "cell_type": "markdown",
   "id": "expected-ballet",
   "metadata": {
    "slideshow": {
     "slide_type": "subslide"
    }
   },
   "source": [
    "# Python tiene herencia múltiple"
   ]
  },
  {
   "cell_type": "markdown",
   "id": "c9736fc6",
   "metadata": {
    "slideshow": {
     "slide_type": "fragment"
    }
   },
   "source": [
    "\n",
    "<center>\n",
    "<img src=\"imagenes/herencia_multiple.png\" alt=\"Herencia\" style=\"width:450px;\"/></center>\n",
    "\n",
    "-  Un guitarrista y vocalista  **\"es un\"** guitarrista, pero tambén **es un** vocalista.."
   ]
  },
  {
   "cell_type": "markdown",
   "id": "c4538862",
   "metadata": {
    "slideshow": {
     "slide_type": "subslide"
    }
   },
   "source": [
    "# En Python ..."
   ]
  },
  {
   "cell_type": "code",
   "execution_count": 6,
   "id": "36ba5a92",
   "metadata": {
    "slideshow": {
     "slide_type": "fragment"
    }
   },
   "outputs": [],
   "source": [
    "class Guitarist(Musician):\n",
    "    def __init__(self, name, band=None):\n",
    "        Musician.__init__(self, name, \"guitarrista\", band)\n",
    "        self.guitar_type = \"guitarra acústica\"\n",
    "    \n",
    "    def info(self):\n",
    "        print (f\"{self.name} toca {self.guitar_type}\")"
   ]
  },
  {
   "cell_type": "code",
   "execution_count": 7,
   "id": "4b770370",
   "metadata": {
    "slideshow": {
     "slide_type": "fragment"
    }
   },
   "outputs": [],
   "source": [
    "class Vocalist(Musician):\n",
    "    def __init__(self, name, band=None):\n",
    "        Musician.__init__(self, name, \"vocalista\", band)\n",
    "        self.voice_type = \"Barítono\"  \n",
    "        \n",
    "    def info(self):\n",
    "        if self.has_a_band:\n",
    "            print (f\"{self.name} CANTA en la banda {self.band}\")\n",
    "        else:\n",
    "            print(f\"{self.name} es solista \")"
   ]
  },
  {
   "cell_type": "code",
   "execution_count": 8,
   "id": "4faa04cf",
   "metadata": {
    "slideshow": {
     "slide_type": "subslide"
    }
   },
   "outputs": [],
   "source": [
    "class VocalistAndGuitarist(Guitarist, Vocalist):\n",
    "    \n",
    "    def __init__(self, name, band=None):\n",
    "        Vocalist.__init__(self, name, band)\n",
    "        Guitarist.__init__(self, name, band)"
   ]
  },
  {
   "cell_type": "code",
   "execution_count": 9,
   "id": "119b1257",
   "metadata": {
    "scrolled": true,
    "slideshow": {
     "slide_type": "fragment"
    }
   },
   "outputs": [
    {
     "name": "stdout",
     "output_type": "stream",
     "text": [
      "Bruce Springsteen toca guitarra acústica\n"
     ]
    }
   ],
   "source": [
    "bruce = VocalistAndGuitarist('Bruce Springsteen')\n",
    "bruce.info()"
   ]
  },
  {
   "cell_type": "code",
   "execution_count": 10,
   "id": "d8fb3425",
   "metadata": {
    "slideshow": {
     "slide_type": "fragment"
    }
   },
   "outputs": [
    {
     "name": "stdout",
     "output_type": "stream",
     "text": [
      "Celeste Carballo toca guitarra acústica\n"
     ]
    }
   ],
   "source": [
    "celeste = VocalistAndGuitarist(\"Celeste Carballo\")\n",
    "celeste.info()"
   ]
  },
  {
   "cell_type": "markdown",
   "id": "307b354f",
   "metadata": {
    "slideshow": {
     "slide_type": "subslide"
    }
   },
   "source": [
    "# A tener en cuenta ...\n",
    "\n",
    "- MRO \"Method Resolution Order\"\n",
    "- Por lo tanto, es MUY importante el orden en que se especifican las clases bases.\n",
    "- Más información en [documentación oficial](https://docs.python.org/3/tutorial/classes.html)\n"
   ]
  },
  {
   "cell_type": "code",
   "execution_count": 11,
   "id": "b2dd4252",
   "metadata": {
    "slideshow": {
     "slide_type": "fragment"
    }
   },
   "outputs": [
    {
     "data": {
      "text/plain": [
       "(__main__.VocalistAndGuitarist,\n",
       " __main__.Guitarist,\n",
       " __main__.Vocalist,\n",
       " __main__.Musician,\n",
       " object)"
      ]
     },
     "execution_count": 11,
     "metadata": {},
     "output_type": "execute_result"
    }
   ],
   "source": [
    "VocalistAndGuitarist.__mro__"
   ]
  },
  {
   "cell_type": "code",
   "execution_count": 12,
   "id": "a910ec90",
   "metadata": {
    "slideshow": {
     "slide_type": "subslide"
    }
   },
   "outputs": [],
   "source": [
    "class VocalistAndGuitarist(Vocalist, Guitarist):\n",
    "    \n",
    "    def __init__(self, name, band=None):\n",
    "        Vocalist.__init__(self, name, band)\n",
    "        Guitarist.__init__(self, name, band)"
   ]
  },
  {
   "cell_type": "code",
   "execution_count": 13,
   "id": "60fb1401",
   "metadata": {
    "scrolled": true,
    "slideshow": {
     "slide_type": "fragment"
    }
   },
   "outputs": [
    {
     "name": "stdout",
     "output_type": "stream",
     "text": [
      "Bruce Springsteen es solista \n"
     ]
    }
   ],
   "source": [
    "bruce = VocalistAndGuitarist('Bruce Springsteen')\n",
    "bruce.info()"
   ]
  },
  {
   "cell_type": "code",
   "execution_count": 14,
   "id": "11bb7fb0",
   "metadata": {
    "slideshow": {
     "slide_type": "fragment"
    }
   },
   "outputs": [
    {
     "name": "stdout",
     "output_type": "stream",
     "text": [
      "Celeste Carballo es solista \n"
     ]
    }
   ],
   "source": [
    "celeste = VocalistAndGuitarist(\"Celeste Carballo\")\n",
    "celeste.info()"
   ]
  },
  {
   "cell_type": "code",
   "execution_count": 15,
   "id": "253523c1",
   "metadata": {
    "slideshow": {
     "slide_type": "fragment"
    }
   },
   "outputs": [
    {
     "data": {
      "text/plain": [
       "(__main__.VocalistAndGuitarist,\n",
       " __main__.Vocalist,\n",
       " __main__.Guitarist,\n",
       " __main__.Musician,\n",
       " object)"
      ]
     },
     "execution_count": 15,
     "metadata": {},
     "output_type": "execute_result"
    }
   ],
   "source": [
    "VocalistAndGuitarist.__mro__"
   ]
  },
  {
   "cell_type": "markdown",
   "id": "supposed-spoke",
   "metadata": {
    "slideshow": {
     "slide_type": "slide"
    }
   },
   "source": [
    "# ¿Qué términos asociamos con la programación orientada a objetos?\n",
    "    "
   ]
  },
  {
   "cell_type": "markdown",
   "id": "incoming-closure",
   "metadata": {
    "slideshow": {
     "slide_type": "subslide"
    }
   },
   "source": [
    "# Destacados ...\n",
    "\n",
    "- Encapsulamiento\n",
    "    - **class**, métodos privados y públicos, propiedades.\n",
    "\n",
    "- Herencia\n",
    "\t* Clases bases y derivadas.\n",
    "\t* Herencia múltiple.\n",
    "\n",
    "- **¿Alguno más?**"
   ]
  },
  {
   "cell_type": "markdown",
   "id": "stainless-tattoo",
   "metadata": {
    "slideshow": {
     "slide_type": "slide"
    }
   },
   "source": [
    "# Polimorfismo\n",
    "\n",
    "- Capacidad de los objetos de distintas clases de responder a mensajes con el mismo nombre.\n",
    "- Ejemplo: + entre enteros y cadenas."
   ]
  },
  {
   "cell_type": "code",
   "execution_count": null,
   "id": "victorian-african",
   "metadata": {
    "slideshow": {
     "slide_type": "fragment"
    }
   },
   "outputs": [],
   "source": [
    "print(\"hola \" + \"que tal.\")\n",
    "print(3 + 4)"
   ]
  },
  {
   "cell_type": "markdown",
   "id": "earlier-stupid",
   "metadata": {
    "slideshow": {
     "slide_type": "subslide"
    }
   },
   "source": [
    "# ¿Podemos sumar dos músicos?\n"
   ]
  },
  {
   "cell_type": "code",
   "execution_count": null,
   "id": "f4f7c2f0",
   "metadata": {
    "slideshow": {
     "slide_type": "fragment"
    }
   },
   "outputs": [],
   "source": [
    "adele = Musician(\"Adele\")\n",
    "sting = Musician(\"Sting\", \"The Police\")\n",
    "\n",
    "print(adele + sting)"
   ]
  },
  {
   "cell_type": "code",
   "execution_count": null,
   "id": "318f5d05",
   "metadata": {
    "slideshow": {
     "slide_type": "subslide"
    }
   },
   "outputs": [],
   "source": [
    "class Musician:\n",
    "    def __init__(self, name, instrument=None, band=None):\n",
    "        self.name = name\n",
    "        self.has_a_band = band!=None\n",
    "        self._band = band\n",
    "        self.instrument = instrument\n",
    "    \n",
    "    def info(self):\n",
    "        if self.has_a_band:\n",
    "            print (f\"{self.name}  integra la banda {self.band}\")\n",
    "        else:\n",
    "            print(f\"{self.name} es solista \")\n",
    "    \n",
    "    def __add__(self, other):\n",
    "        return (f\"Nuevo dúo: {self.name} y {other.name}\")    \n",
    "    \n",
    "    @property\n",
    "    def band(self):\n",
    "        if self.has_a_band:\n",
    "            return self._band\n",
    "        else:\n",
    "            return \"No tiene banda\"\n",
    "        \n",
    "    @band.setter\n",
    "    def band(self, new_band):\n",
    "        self._band = new_band\n",
    "        self.has_a_band= self._band!=None"
   ]
  },
  {
   "cell_type": "code",
   "execution_count": null,
   "id": "39ef6653",
   "metadata": {
    "slideshow": {
     "slide_type": "subslide"
    }
   },
   "outputs": [],
   "source": [
    "adele = Musician(\"Adele\")\n",
    "sting = Musician(\"Sting\", \"The Police\")\n",
    "\n",
    "print(adele + sting)"
   ]
  },
  {
   "cell_type": "markdown",
   "id": "b596d6c5",
   "metadata": {
    "slideshow": {
     "slide_type": "subslide"
    }
   },
   "source": [
    "## ¿Polimorfismo en nuestros músicos?"
   ]
  },
  {
   "cell_type": "code",
   "execution_count": null,
   "id": "a52a034c",
   "metadata": {},
   "outputs": [],
   "source": [
    "bruce.info()\n",
    "brian.info()"
   ]
  },
  {
   "cell_type": "markdown",
   "id": "a7e86eb5",
   "metadata": {
    "slideshow": {
     "slide_type": "subslide"
    }
   },
   "source": [
    "# DESAFIO - Probamos en casa\n",
    "\n",
    "¿Qué podemos decir de las variables de instancias cuyo nombre comienza con \\_\\_?"
   ]
  },
  {
   "cell_type": "code",
   "execution_count": null,
   "id": "58f4e640",
   "metadata": {
    "slideshow": {
     "slide_type": "fragment"
    }
   },
   "outputs": [],
   "source": [
    "class A:\n",
    "    def __init__(self, x, y, z):\n",
    "        self.varX = x\n",
    "        self._varY = y\n",
    "        self.__varZ = z\n",
    "\n",
    "    def demo(self):\n",
    "        return f\"ESTOY en A: x: {self.varX} -- y:{self._varY} --- z:{self.__varZ}\"\n",
    "\n",
    "class B(A):\n",
    "    def __init__(self):\n",
    "        A.__init__(self, \"x\", \"y\", \"z\")\n",
    "            \n",
    "    def demo(self):\n",
    "        return f\"ESTOY en B: x: {self.varX} -- y:{self._varY} --- z:{self.__varZ}\""
   ]
  },
  {
   "cell_type": "code",
   "execution_count": null,
   "id": "6c88efc3",
   "metadata": {
    "slideshow": {
     "slide_type": "fragment"
    }
   },
   "outputs": [],
   "source": [
    "objB = B()\n",
    "print(objB.demo())"
   ]
  },
  {
   "cell_type": "markdown",
   "id": "ddd2bf65",
   "metadata": {
    "slideshow": {
     "slide_type": "slide"
    }
   },
   "source": [
    "# Para los que quieran seguir un poco más ...\n",
    "\n",
    "- https://realpython.com/python-classes/\n",
    "- https://realpython.com/inheritance-composition-python/\n",
    "- https://realpython.com/instance-class-and-static-methods-demystified/"
   ]
  },
  {
   "cell_type": "markdown",
   "id": "charming-recycling",
   "metadata": {
    "slideshow": {
     "slide_type": "slide"
    }
   },
   "source": [
    "# Seguimos la próxima ..."
   ]
  }
 ],
 "metadata": {
  "celltoolbar": "Slideshow",
  "kernelspec": {
   "display_name": "Python 3 (ipykernel)",
   "language": "python",
   "name": "python3"
  },
  "language_info": {
   "codemirror_mode": {
    "name": "ipython",
    "version": 3
   },
   "file_extension": ".py",
   "mimetype": "text/x-python",
   "name": "python",
   "nbconvert_exporter": "python",
   "pygments_lexer": "ipython3",
   "version": "3.11.9"
  }
 },
 "nbformat": 4,
 "nbformat_minor": 5
}
