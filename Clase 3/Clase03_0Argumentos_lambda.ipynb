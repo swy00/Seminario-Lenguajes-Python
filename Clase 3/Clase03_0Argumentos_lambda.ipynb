{
 "cells": [
  {
   "cell_type": "markdown",
   "id": "static-removal",
   "metadata": {
    "slideshow": {
     "slide_type": "slide"
    }
   },
   "source": [
    "# Seminario de Lenguajes - Python\n",
    "## Cursada 2024\n",
    "\n",
    "## Clase 3: funciones (cont.) - expresiones lambda"
   ]
  },
  {
   "cell_type": "markdown",
   "id": "9d5afe9b",
   "metadata": {
    "slideshow": {
     "slide_type": "slide"
    }
   },
   "source": [
    "# Seguimos  hablando de funciones\n",
    "\n",
    "\n",
    "```python\n",
    "\tdef my_function(param1, param2):\n",
    "\t\tsentences\n",
    "\t\treturn <expression>\n",
    "```\n",
    "\n",
    "- ¿Necesitamos declarar los parámetros de la función?\n",
    "- La sentencia return es opcional. ¿Qué pasa si no la incluimos?"
   ]
  },
  {
   "cell_type": "markdown",
   "id": "9052b20f",
   "metadata": {
    "slideshow": {
     "slide_type": "subslide"
    }
   },
   "source": [
    "# Uno de los ejemplos de la clase pasada:"
   ]
  },
  {
   "cell_type": "code",
   "execution_count": null,
   "id": "b77f2966",
   "metadata": {
    "slideshow": {
     "slide_type": "fragment"
    }
   },
   "outputs": [],
   "source": [
    "movies = [50, 48, 85, 93, 100]\n",
    "\n",
    "def average_calculation(movies_duration):\n",
    "    \"\"\" This function calculates the average of the lengths of the movies received by parameter.\n",
    "    movies_duration: is a list with the duration in minutes of the movies\n",
    "    \"\"\"\n",
    "    total_movies = len(movies_duration)\n",
    "    average_movies = 0 if total_movies == 0 else sum(movies_duration) / total_movies\n",
    "    return average_movies"
   ]
  },
  {
   "cell_type": "code",
   "execution_count": null,
   "id": "55a0ab34",
   "metadata": {
    "slideshow": {
     "slide_type": "fragment"
    }
   },
   "outputs": [],
   "source": [
    "average_calculation(movies)"
   ]
  },
  {
   "cell_type": "markdown",
   "id": "9b6be3a4",
   "metadata": {
    "slideshow": {
     "slide_type": "fragment"
    }
   },
   "source": [
    "**Tenían una tarea:** ¿de qué forma se pasan los parámetros en Python?"
   ]
  },
  {
   "cell_type": "markdown",
   "id": "f2efbf6a",
   "metadata": {
    "slideshow": {
     "slide_type": "slide"
    }
   },
   "source": [
    "# Parámetros en Python\n",
    "Veamos un ejemplo más sencillo: ¿qué podemos observar al ejecutar el código?"
   ]
  },
  {
   "cell_type": "code",
   "execution_count": null,
   "id": "20bd5a19",
   "metadata": {
    "slideshow": {
     "slide_type": "fragment"
    }
   },
   "outputs": [],
   "source": [
    "def my_demo_function1(param):\n",
    "    \"This function modifies the received parameter.\"\n",
    "\n",
    "    print(f\"El valor de param AL INGRESAR a la función es {param}\")\n",
    "    param = 0\n",
    "    print(f\"El valor de param DENTRO de la función es {param}\")"
   ]
  },
  {
   "cell_type": "code",
   "execution_count": null,
   "id": "071661a3",
   "metadata": {
    "slideshow": {
     "slide_type": "fragment"
    }
   },
   "outputs": [],
   "source": [
    "number = 10\n",
    "my_demo_function1(number)\n",
    "print(f\"LUEGO de invocar a la función el valor de num es {number}\")"
   ]
  },
  {
   "cell_type": "markdown",
   "id": "5cfe4ba2",
   "metadata": {
    "slideshow": {
     "slide_type": "subslide"
    }
   },
   "source": [
    "### Y ahora  analicemos este otro ejemplo:"
   ]
  },
  {
   "cell_type": "code",
   "execution_count": null,
   "id": "743568d6",
   "metadata": {
    "slideshow": {
     "slide_type": "fragment"
    }
   },
   "outputs": [],
   "source": [
    "def my_demo_function2(param):\n",
    "    \"\"\"This function updates the first position of the list received as a parameter.\"\"\"\n",
    "\n",
    "    print(f\"El valor de param AL INGRESAR a la función es {param}\")\n",
    "    param[0] = \"cero\"\n",
    "    print(f\"El valor de param DENTRO de la función es {param}\")"
   ]
  },
  {
   "cell_type": "code",
   "execution_count": null,
   "id": "29491fd1",
   "metadata": {
    "slideshow": {
     "slide_type": "fragment"
    }
   },
   "outputs": [],
   "source": [
    "my_list = [100, 200, 300]\n",
    "my_demo_function2(my_list)\n",
    "print(f\"LUEGO de invocar a la función el valor de lista es {my_list}\")"
   ]
  },
  {
   "cell_type": "markdown",
   "id": "cf03a570",
   "metadata": {
    "slideshow": {
     "slide_type": "subslide"
    }
   },
   "source": [
    "### Entonces, ¿qué podemos decir sobre el pasaje de parámetros en Python?"
   ]
  },
  {
   "cell_type": "markdown",
   "id": "e3639acc",
   "metadata": {
    "slideshow": {
     "slide_type": "fragment"
    }
   },
   "source": [
    "# <center> Cuando pasamos un parámetro a una función, pasamos <span style=\"color:#0000FF\">una copia de la referencia</span> al objeto pasado</center>"
   ]
  },
  {
   "cell_type": "markdown",
   "id": "5961677e",
   "metadata": {
    "slideshow": {
     "slide_type": "subslide"
    }
   },
   "source": [
    "# Miremos este otro ejemplo"
   ]
  },
  {
   "cell_type": "code",
   "execution_count": null,
   "id": "5dfa0b1a",
   "metadata": {
    "slideshow": {
     "slide_type": "fragment"
    }
   },
   "outputs": [],
   "source": [
    "def my_demo_function3(param):\n",
    "    \"\"\"This function updates the first position of the list received as a parameter.\"\"\"\n",
    "\n",
    "    new_list = param\n",
    "    print(f\"El valor de param AL INGRESAR a la función parametros_colecciones es {new_list}\")\n",
    "    new_list[0] = \"cero\"\n",
    "    print(f\"El valor de param DENTRO de la función parametros_colecciones es {new_list}\")\n"
   ]
  },
  {
   "cell_type": "code",
   "execution_count": null,
   "id": "292ec2d3",
   "metadata": {
    "slideshow": {
     "slide_type": "fragment"
    }
   },
   "outputs": [],
   "source": [
    "my_list = [100, 200, 300]\n",
    "my_demo_function3(my_list)\n",
    "print(f\"LUEGO de invocar a la función el valor de lista es {my_list}\")"
   ]
  },
  {
   "cell_type": "markdown",
   "id": "203439fb",
   "metadata": {
    "slideshow": {
     "slide_type": "fragment"
    }
   },
   "source": [
    "¿Qué pasa? ¿Trabajamos con una copia? "
   ]
  },
  {
   "cell_type": "markdown",
   "id": "c30c2038",
   "metadata": {
    "slideshow": {
     "slide_type": "slide"
    }
   },
   "source": [
    "# ¿Podemos retornar más de un valor?\n",
    "\n",
    "## DESAFÍO 1\n",
    "\n",
    "\n",
    "> Queremos definir una función que, dada una cadena de caracteres,  retorne la **cantidad de vocales abiertas, vocales cerradas y la cantidad total de caracteres** de la misma. "
   ]
  },
  {
   "cell_type": "markdown",
   "id": "7ce0e91b",
   "metadata": {
    "slideshow": {
     "slide_type": "subslide"
    }
   },
   "source": [
    "# Una posible solución\n",
    "- ¿Qué tipo de dato retorna la función?"
   ]
  },
  {
   "cell_type": "code",
   "execution_count": null,
   "id": "58377ab9",
   "metadata": {
    "slideshow": {
     "slide_type": "fragment"
    }
   },
   "outputs": [],
   "source": [
    "def process_sentence(sentence):\n",
    "    \"\"\" This function ... \"\"\"\n",
    "    sentence = sentence.lower()\n",
    "    aeo = sentence.count(\"a\") + sentence.count(\"e\") + sentence.count(\"o\")\n",
    "    iu = sentence.count(\"i\") + sentence.count(\"u\")\n",
    "    return aeo, iu, len(sentence)"
   ]
  },
  {
   "cell_type": "code",
   "execution_count": null,
   "id": "c8587f09",
   "metadata": {
    "slideshow": {
     "slide_type": "fragment"
    }
   },
   "outputs": [],
   "source": [
    "my_sentence = process_sentence(\"Seminario de Python\")\n",
    "type(my_sentence)"
   ]
  },
  {
   "cell_type": "markdown",
   "id": "48e9d8ae",
   "metadata": {
    "slideshow": {
     "slide_type": "subslide"
    }
   },
   "source": [
    "# ¿Cómo accedemos a los valores retornados?\n",
    " \n",
    "- En el return se devuelve una tupla, por lo tanto, accedemos como en cualquier tupla:\n"
   ]
  },
  {
   "cell_type": "code",
   "execution_count": null,
   "id": "ef28aa72",
   "metadata": {
    "slideshow": {
     "slide_type": "fragment"
    }
   },
   "outputs": [],
   "source": [
    "open_vowels = process_sentence(\"Seminario de Python\")[0]\n",
    "open_vowels"
   ]
  },
  {
   "cell_type": "code",
   "execution_count": null,
   "id": "9116b25e",
   "metadata": {
    "slideshow": {
     "slide_type": "fragment"
    }
   },
   "outputs": [],
   "source": [
    "open_vowels, closed_vowels, len_sentence = process_sentence(\"Espero que deje de llover yaaa!!\")\n",
    "open_vowels"
   ]
  },
  {
   "cell_type": "markdown",
   "id": "8d7fd37c",
   "metadata": {
    "slideshow": {
     "slide_type": "subslide"
    }
   },
   "source": [
    "# Veamos algo muy interesante\n",
    "\n",
    "Primero: observemos esta estructura. ¿De qué tipo es?"
   ]
  },
  {
   "cell_type": "code",
   "execution_count": null,
   "id": "afa4beaf",
   "metadata": {
    "slideshow": {
     "slide_type": "fragment"
    }
   },
   "outputs": [],
   "source": [
    "music = {\"bart\": {\"internacional\": [\"AC/DC\", \"Led Zeppelin\", \"Bruce Springsteen\"],\n",
    "                  \"nacional\": [\"Pappo\", \"Miguel Mateos\", \"Los Piojos\", \"Nonpalidece\"]\n",
    "                  },\n",
    "        \"lisa\": {\"internacional\": [\"Ricky Martin\", \"Maluma\"],\n",
    "                 \"nacional\": [\"Lali\", \"Tini\", \"Wos\"]\n",
    "                }\n",
    "         }"
   ]
  },
  {
   "cell_type": "markdown",
   "id": "707b19c9",
   "metadata": {
    "slideshow": {
     "slide_type": "subslide"
    }
   },
   "source": [
    "# Ahora observemos esta función:\n",
    "En particular, analicemos la lista de argumentos. ¿Notan algo?"
   ]
  },
  {
   "cell_type": "code",
   "execution_count": null,
   "id": "ab546ee8",
   "metadata": {
    "slideshow": {
     "slide_type": "fragment"
    }
   },
   "outputs": [],
   "source": [
    "def my_music(music, name, music_type=\"nacional\"):\n",
    "    \"\"\"This function ... \"\"\"\n",
    "    if name in music:\n",
    "        user = music[name]\n",
    "        for elem in user[music_type]:\n",
    "            print(elem)\n",
    "    else:\n",
    "        print(f\"¡Hola {name}! No tenés registrada música en esta colección\")"
   ]
  },
  {
   "cell_type": "code",
   "execution_count": null,
   "id": "fa0d35f6",
   "metadata": {
    "slideshow": {
     "slide_type": "fragment"
    }
   },
   "outputs": [],
   "source": [
    "my_music(music, \"lisa\", \"internacional\")"
   ]
  },
  {
   "cell_type": "markdown",
   "id": "981e933a",
   "metadata": {
    "slideshow": {
     "slide_type": "subslide"
    }
   },
   "source": [
    "# Python permite definir parámetros con valores por defecto\n",
    "> Si hay más de un argumento, los  que tienen **valores por defecto  siempre van al final de la lista de parámetros**.  "
   ]
  },
  {
   "cell_type": "code",
   "execution_count": null,
   "id": "975d3ab2",
   "metadata": {
    "slideshow": {
     "slide_type": "fragment"
    }
   },
   "outputs": [],
   "source": [
    "def demo_function(param1, param2 = \"Hola\"):\n",
    "    print(f\"{param1 = } - {param2 = }\")"
   ]
  },
  {
   "cell_type": "code",
   "execution_count": null,
   "id": "c1b11a22",
   "metadata": {
    "slideshow": {
     "slide_type": "fragment"
    }
   },
   "outputs": [],
   "source": [
    "demo_function(10)"
   ]
  },
  {
   "cell_type": "markdown",
   "id": "bd59d1e8",
   "metadata": {
    "slideshow": {
     "slide_type": "subslide"
    }
   },
   "source": [
    "> Los parámetros formales y reales se asocian de acuerdo al **orden posicional**, pero invocar a la función con los parámetros en **otro orden** pero **nombrando al parámetro**.\n",
    "```python\n",
    "def my_music(music, name, music_type=\"nacional\"):\n",
    "    \"\"\"This function ... \"\"\"\n",
    "``` "
   ]
  },
  {
   "cell_type": "code",
   "execution_count": null,
   "id": "51575121",
   "metadata": {
    "slideshow": {
     "slide_type": "fragment"
    }
   },
   "outputs": [],
   "source": [
    "my_music(music, music_type=\"internacional\", name=\"lisa\")"
   ]
  },
  {
   "cell_type": "markdown",
   "id": "554098ab",
   "metadata": {
    "slideshow": {
     "slide_type": "subslide"
    }
   },
   "source": [
    "# ¿Recuerdan este ejemplo? Observemos el print"
   ]
  },
  {
   "cell_type": "code",
   "execution_count": null,
   "id": "1d71edf9",
   "metadata": {
    "slideshow": {
     "slide_type": "fragment"
    }
   },
   "outputs": [],
   "source": [
    "word = \"casa\"\n",
    "for letter in word:\n",
    "    print(letter, end=\" \")"
   ]
  },
  {
   "cell_type": "code",
   "execution_count": null,
   "id": "5f709f1e",
   "metadata": {
    "slideshow": {
     "slide_type": "fragment"
    }
   },
   "outputs": [],
   "source": [
    "help(print)"
   ]
  },
  {
   "cell_type": "markdown",
   "id": "b08e272c",
   "metadata": {
    "slideshow": {
     "slide_type": "subslide"
    }
   },
   "source": [
    "# Un último ejemplo"
   ]
  },
  {
   "cell_type": "markdown",
   "id": "990320da",
   "metadata": {
    "slideshow": {
     "slide_type": "fragment"
    }
   },
   "source": [
    "En realidad podemos utilizar el slicing como **secuencia[i:j:k]**\n",
    "\n",
    "donde:\n",
    "- **i:** representa el límite inferior para comenzar,\n",
    "- **j:** la posición hasta donde queremos incluir elementos\n",
    "- **k:** cada cuántos valores queremos que nos muestre, o sea, el salto de un elemento al siguiente."
   ]
  },
  {
   "cell_type": "code",
   "execution_count": null,
   "id": "a5cade7a",
   "metadata": {
    "slideshow": {
     "slide_type": "subslide"
    }
   },
   "outputs": [],
   "source": [
    "processing_type = \"invertido\""
   ]
  },
  {
   "cell_type": "code",
   "execution_count": null,
   "id": "8fdd758c",
   "metadata": {
    "slideshow": {
     "slide_type": "fragment"
    }
   },
   "outputs": [],
   "source": [
    "def show_string(sentence, order=processing_type):\n",
    "    \"\"\" This function returns the string according to the order parameter \"\"\"\n",
    "    \n",
    "    return sentence[::-1] if order == \"invertido\" else sentence[:]"
   ]
  },
  {
   "cell_type": "code",
   "execution_count": null,
   "id": "c01abd48",
   "metadata": {
    "slideshow": {
     "slide_type": "fragment"
    }
   },
   "outputs": [],
   "source": [
    "show_string(\"Hola\")"
   ]
  },
  {
   "cell_type": "code",
   "execution_count": null,
   "id": "a201f1c2",
   "metadata": {
    "slideshow": {
     "slide_type": "fragment"
    }
   },
   "outputs": [],
   "source": [
    "processing_type = \"normal\""
   ]
  },
  {
   "cell_type": "markdown",
   "id": "78b50eec",
   "metadata": {
    "slideshow": {
     "slide_type": "fragment"
    }
   },
   "source": [
    "¿Qué pasa ahora si vuelvo a invocar a la función?"
   ]
  },
  {
   "cell_type": "code",
   "execution_count": null,
   "id": "3f936a71",
   "metadata": {
    "slideshow": {
     "slide_type": "fragment"
    }
   },
   "outputs": [],
   "source": [
    "show_string(\"Hola\")"
   ]
  },
  {
   "cell_type": "markdown",
   "id": "6d7905fe",
   "metadata": {
    "slideshow": {
     "slide_type": "fragment"
    }
   },
   "source": [
    "## <center>Los valores por defecto de los parámetros se evalúan una única vez cuando se define la función.\n",
    "</center>"
   ]
  },
  {
   "cell_type": "markdown",
   "id": "greenhouse-attitude",
   "metadata": {
    "slideshow": {
     "slide_type": "slide"
    }
   },
   "source": [
    "# DESAFÍO 2\n",
    "\n",
    "\n",
    "> Queremos escribir una función que imprima sus argumentos agregando de qué tipo son. \n",
    "\n",
    "¿Qué tiene de distinta esta función respecto a las que vimos antes o conocemos de otros lenguajes? Por ejemplo:\n",
    "```\n",
    "my_args(1)         --> 1 es de tipo <class 'int'>\n",
    "my_args(2, \"hola\") --> 2 es de tipo <class 'int'>, \n",
    "                       hola es de tipo <class 'str'>\n",
    "my_args([1,2], \"hola\", 3.2) \n",
    "                   --> [1, 2] es de tipo <class 'list', \n",
    "                       hola es de tipo <class 'str'>, \n",
    "                       3.2 es de tipo <class 'float'>\n",
    "```"
   ]
  },
  {
   "cell_type": "markdown",
   "id": "aa4430e8",
   "metadata": {
    "slideshow": {
     "slide_type": "subslide"
    }
   },
   "source": [
    "# ¿Opciones?"
   ]
  },
  {
   "cell_type": "code",
   "execution_count": null,
   "id": "fbadc98b",
   "metadata": {
    "slideshow": {
     "slide_type": "fragment"
    }
   },
   "outputs": [],
   "source": [
    "def my_args():\n",
    "    print(\"Hola\")\n",
    "def my_args(par1, par2):\n",
    "    print(par1)\n",
    "def my_args(par1, par2, par3):\n",
    "    print(par1)\n",
    "    \n",
    "my_args(1, 2, 3)"
   ]
  },
  {
   "cell_type": "markdown",
   "id": "6879b161",
   "metadata": {
    "slideshow": {
     "slide_type": "fragment"
    }
   },
   "source": [
    "\n",
    "## <center> Esto no funciona. </center>"
   ]
  },
  {
   "cell_type": "markdown",
   "id": "adult-palmer",
   "metadata": {
    "slideshow": {
     "slide_type": "subslide"
    }
   },
   "source": [
    "# Podemos definir funciones con un número variable de parámetros"
   ]
  },
  {
   "cell_type": "code",
   "execution_count": null,
   "id": "automated-russia",
   "metadata": {
    "slideshow": {
     "slide_type": "fragment"
    }
   },
   "outputs": [],
   "source": [
    "def my_args(*args):\n",
    "    \"\"\" This function...\"\"\"\n",
    "\n",
    "    for value in args:\n",
    "        print(f\"{value} es de tipo {type(value)}\")    "
   ]
  },
  {
   "cell_type": "markdown",
   "id": "adjustable-orlando",
   "metadata": {
    "slideshow": {
     "slide_type": "fragment"
    }
   },
   "source": [
    "- **args** es una **tupla** que representa a los  parámetros pasados."
   ]
  },
  {
   "cell_type": "code",
   "execution_count": null,
   "id": "mighty-spelling",
   "metadata": {
    "slideshow": {
     "slide_type": "subslide"
    }
   },
   "outputs": [],
   "source": [
    "my_args(1)\n",
    "print(\"-\"*30)\n",
    "my_args(2, \"hola\")\n",
    "print(\"-\"*30)\n",
    "my_args([1,2], \"hola\", 3.2)"
   ]
  },
  {
   "cell_type": "markdown",
   "id": "identified-distributor",
   "metadata": {
    "slideshow": {
     "slide_type": "subslide"
    }
   },
   "source": [
    "# Otra forma de definir una función con un número variable de parámetros"
   ]
  },
  {
   "cell_type": "code",
   "execution_count": null,
   "id": "critical-strip",
   "metadata": {
    "slideshow": {
     "slide_type": "fragment"
    }
   },
   "outputs": [],
   "source": [
    "def my_args1(**kwargs):\n",
    "    \"\"\" This function ..... \"\"\"\n",
    "\n",
    "    for key, value in kwargs.items():\n",
    "        print(f\"{key} es {value}\")"
   ]
  },
  {
   "cell_type": "markdown",
   "id": "polar-characteristic",
   "metadata": {
    "slideshow": {
     "slide_type": "fragment"
    }
   },
   "source": [
    "- **kwargs** es una **diccionario** que representa a los  parámetros pasados."
   ]
  },
  {
   "cell_type": "code",
   "execution_count": null,
   "id": "6f3b52b6",
   "metadata": {
    "slideshow": {
     "slide_type": "fragment"
    }
   },
   "outputs": [],
   "source": [
    "my_args1(band1= 'Nirvana', band2=\"Foo Fighters\", band3=\"AC/DC\")"
   ]
  },
  {
   "cell_type": "markdown",
   "id": "damaged-jacket",
   "metadata": {
    "slideshow": {
     "slide_type": "subslide"
    }
   },
   "source": [
    "# También podemos tener lo siguiente:  "
   ]
  },
  {
   "cell_type": "code",
   "execution_count": null,
   "id": "patent-pattern",
   "metadata": {
    "slideshow": {
     "slide_type": "fragment"
    }
   },
   "outputs": [],
   "source": [
    "def show_data(par1, par2, par3):\n",
    "    print(par2)\n",
    "\n",
    "sequence = (1, 2, 3)\n",
    "show_data(*sequence)"
   ]
  },
  {
   "cell_type": "markdown",
   "id": "bb526c3a",
   "metadata": {
    "slideshow": {
     "slide_type": "fragment"
    }
   },
   "source": [
    "- ¿De qué tipo es **sequence**? \n",
    "- **Probar en casa** si es posible utilizar otras colecciones vistas."
   ]
  },
  {
   "cell_type": "markdown",
   "id": "3f9a2b27",
   "metadata": {
    "slideshow": {
     "slide_type": "subslide"
    }
   },
   "source": [
    "# Otra forma"
   ]
  },
  {
   "cell_type": "code",
   "execution_count": null,
   "id": "biological-queensland",
   "metadata": {
    "slideshow": {
     "slide_type": "fragment"
    }
   },
   "outputs": [],
   "source": [
    "def show_contact(name, phone):\n",
    "    #print(type(phone))\n",
    "    print(name, phone)\n",
    "\n",
    "contact = {\"name\": \"Messi\", \"phone\": 12345}\n",
    "show_contact(**contact)"
   ]
  },
  {
   "cell_type": "markdown",
   "id": "4434002b",
   "metadata": {
    "slideshow": {
     "slide_type": "fragment"
    }
   },
   "source": [
    "- ¿De qué tipo es **contact**? \n",
    "- Observar el nombre de los parámetros: ¿qué podríamos decir?"
   ]
  },
  {
   "cell_type": "markdown",
   "id": "great-parameter",
   "metadata": {
    "slideshow": {
     "slide_type": "subslide"
    }
   },
   "source": [
    "# Probar en casa estos ejemplos:"
   ]
  },
  {
   "cell_type": "code",
   "execution_count": null,
   "id": "amended-manufacturer",
   "metadata": {
    "slideshow": {
     "slide_type": "fragment"
    }
   },
   "outputs": [],
   "source": [
    "def show_elements1(param1, param2, param3, param4):\n",
    "    \"\"\"Imprimo los valores de los dos primeros parámetros\"\"\"\n",
    "    print( f\"{param1}, {param2}\")\n",
    "\n",
    "def show_elements2(*arguments):\n",
    "    \"\"\"Imprimo los valores de los argumentos\"\"\"\n",
    "    for value in arguments:\n",
    "        print( value)\n",
    "\n",
    "def show_elements3(**arguments):\n",
    "    \"\"\"Imprimo una tabla nombre-valor\"\"\"\n",
    "    for name, value in arguments.items():\n",
    "        print( f\"{name} = {value}\")"
   ]
  },
  {
   "cell_type": "code",
   "execution_count": null,
   "id": "representative-configuration",
   "metadata": {
    "slideshow": {
     "slide_type": "subslide"
    }
   },
   "outputs": [],
   "source": [
    "numbers = { \"uno\": 1, \"dos\": 2, \"tres\":3, \"cuatro\": 4}\n",
    "\n",
    "print(\"Invoco a show_elements3 con  numbers como parámetro\")\n",
    "show_elements3(**numbers)\n",
    "print(\"-\" * 20)\n",
    "\n",
    "print(\"Invoco a show_elements3 con los parámetros nombrados\")\n",
    "show_elements3(param1 =1, param2 = 2, param3 = 3, param4 = 4)\n",
    "print(\"-\" * 20)\n",
    "\n",
    "print(\"Invoco a show_elements1 con  parámetros nombrados\")\n",
    "show_elements1(param1 =\"I\", param2 = \"II\", param3 = \"III\", param4 = \"IV\")"
   ]
  },
  {
   "cell_type": "code",
   "execution_count": null,
   "id": "6e69ae84",
   "metadata": {
    "slideshow": {
     "slide_type": "subslide"
    }
   },
   "outputs": [],
   "source": [
    "print(\"Invoco a show_element1 con  parámetros simples\")\n",
    "show_elements1(\"I\", \"II\", \"III\", \"IV\")\n",
    "\n",
    "print(\"-\" * 20)\n",
    "\n",
    "print(\"Invoco a show_elements2 con  parámetros simples\")\n",
    "show_elements2(1, 2, 3, 4)\n"
   ]
  },
  {
   "cell_type": "markdown",
   "id": "alpine-monkey",
   "metadata": {
    "slideshow": {
     "slide_type": "subslide"
    }
   },
   "source": [
    "# DESAFÍO 3: ¿todo junto se puede? \n",
    "> Probar en casa y analizar el orden en el que definimos los parámetros.  "
   ]
  },
  {
   "cell_type": "code",
   "execution_count": null,
   "id": "found-marsh",
   "metadata": {
    "scrolled": true,
    "slideshow": {
     "slide_type": "fragment"
    }
   },
   "outputs": [],
   "source": [
    "def show_more_values(initial_message, *in_other_language, **in_detail):\n",
    "    print(\"Mensaje original\")\n",
    "    print(initial_message)\n",
    "    print(\"\\nEn otros idiomas\")\n",
    "    print(\"-\" * 40)\n",
    "    for value in in_other_language:\n",
    "        print(value)\n",
    "    print(\"\\nEn detalle\")\n",
    "    print(\"-\" * 40)\n",
    "\n",
    "    for key in in_detail:\n",
    "        print(f\"{key}: {in_detail[key]}\")\n",
    "    print(\"\\nFuente: traductor de Google. \")"
   ]
  },
  {
   "cell_type": "code",
   "execution_count": null,
   "id": "15b080f8",
   "metadata": {
    "scrolled": true,
    "slideshow": {
     "slide_type": "subslide"
    }
   },
   "outputs": [],
   "source": [
    "show_more_values(\"Hola\", \n",
    "    \"hello\", \"Hallo\", \"Aloha \", \"Witam\", \"Kia ora\", \n",
    "    ingles= \"hello\",\n",
    "    aleman=\"Hallo\",\n",
    "    hawaiano=\"Aloha\",\n",
    "    polaco=\"Witam\",\n",
    "    maori=\"Kia ora\")"
   ]
  },
  {
   "cell_type": "markdown",
   "id": "trying-spectrum",
   "metadata": {
    "slideshow": {
     "slide_type": "slide"
    }
   },
   "source": [
    "# Variables locales y globales"
   ]
  },
  {
   "cell_type": "code",
   "execution_count": null,
   "id": "aggressive-tracker",
   "metadata": {
    "slideshow": {
     "slide_type": "fragment"
    }
   },
   "outputs": [],
   "source": [
    "x = 12\n",
    "a = 13\n",
    "def my_function(a):\n",
    "    #global x\n",
    "    x = 9\n",
    "    a = 10\n",
    "\n",
    "my_function(a)\n",
    "print(a)\n",
    "print(x)"
   ]
  },
  {
   "cell_type": "markdown",
   "id": "hispanic-radiation",
   "metadata": {
    "slideshow": {
     "slide_type": "fragment"
    }
   },
   "source": [
    "- Variables locales enmascaran las globales.\n",
    "- Acceso a las globales mediante **global**.\n",
    "\n",
    "## <center> No es una buena práctica utilizar variables globales </center>"
   ]
  },
  {
   "cell_type": "markdown",
   "id": "249b8000",
   "metadata": {
    "slideshow": {
     "slide_type": "subslide"
    }
   },
   "source": [
    "# Espacio de nombres\n",
    "\n",
    "- Un espacio de nombres **relaciona nombres con objetos**.\n",
    "- Cuando se invoca a una función, se crea un espacio de nombres **local** con todos los recursos definidos en la función y que se elimina cuando la función finaliza su ejecución.\n",
    "\n",
    "\n",
    "### Volveremos a este tema más adelante..."
   ]
  },
  {
   "cell_type": "markdown",
   "id": "considered-hindu",
   "metadata": {
    "slideshow": {
     "slide_type": "subslide"
    }
   },
   "source": [
    "# ATENCION: ¿qué pasa en los siguientes ejemplos?\n"
   ]
  },
  {
   "cell_type": "code",
   "execution_count": null,
   "id": "perceived-rendering",
   "metadata": {
    "slideshow": {
     "slide_type": "fragment"
    }
   },
   "outputs": [],
   "source": [
    "x = 12\n",
    "\n",
    "def my_function1():\n",
    "    temp = x + 1\n",
    "    print(temp)\n",
    "\n",
    "def my_function2():\n",
    "    x = x + 1\n",
    "    print(x)"
   ]
  },
  {
   "cell_type": "code",
   "execution_count": null,
   "id": "6483b49c",
   "metadata": {
    "slideshow": {
     "slide_type": "fragment"
    }
   },
   "outputs": [],
   "source": [
    "my_function1()"
   ]
  },
  {
   "cell_type": "markdown",
   "id": "7e9d64bc",
   "metadata": {
    "slideshow": {
     "slide_type": "fragment"
    }
   },
   "source": [
    "¿Cuál es el problema al invocar a my_function2?"
   ]
  },
  {
   "cell_type": "markdown",
   "id": "medieval-dover",
   "metadata": {
    "slideshow": {
     "slide_type": "subslide"
    }
   },
   "source": [
    "# Python permite definir funciones anidadas\n"
   ]
  },
  {
   "cell_type": "code",
   "execution_count": null,
   "id": "continuing-instruction",
   "metadata": {
    "slideshow": {
     "slide_type": "fragment"
    }
   },
   "outputs": [],
   "source": [
    "def one():\n",
    "    def one_one():\n",
    "        print(\"uno_uno\")\n",
    "    def one_two():\n",
    "        print(\"uno_dos\")\n",
    "  \n",
    "    print(\"uno\")\n",
    "    one_one()\n",
    "    \n",
    "def two():\n",
    "    print(\"dos\")\n",
    "    one_two()\n",
    "\n",
    "one()"
   ]
  },
  {
   "cell_type": "markdown",
   "id": "5a498d2f",
   "metadata": {
    "slideshow": {
     "slide_type": "fragment"
    }
   },
   "source": [
    "¿Cuál es el problema al invocar a la función two?"
   ]
  },
  {
   "cell_type": "markdown",
   "id": "final-patio",
   "metadata": {
    "slideshow": {
     "slide_type": "subslide"
    }
   },
   "source": [
    "# ¿Qué imprimimos en este caso?"
   ]
  },
  {
   "cell_type": "code",
   "execution_count": null,
   "id": "declared-stadium",
   "metadata": {
    "slideshow": {
     "slide_type": "fragment"
    }
   },
   "outputs": [],
   "source": [
    "\n",
    "x = 0\n",
    "def one():\n",
    "    def one_one():\n",
    "        #nonlocal x\n",
    "        #global x\n",
    "        x = 100\n",
    "        print(f\"En one_one: {x= }\")\n",
    "\n",
    "    x = 10\n",
    "    one_one()\n",
    "    print(f\"En one: {x= }\") \n",
    "\n",
    "one()\n",
    "print(f\"En ppal: {x= }\") "
   ]
  },
  {
   "cell_type": "markdown",
   "id": "negative-retreat",
   "metadata": {
    "slideshow": {
     "slide_type": "fragment"
    }
   },
   "source": [
    "- **global** y **nonlocal** permiten acceder a variables no locales a una función."
   ]
  },
  {
   "cell_type": "markdown",
   "id": "570aefc3",
   "metadata": {
    "slideshow": {
     "slide_type": "subslide"
    }
   },
   "source": [
    "# Recordemos el Zen de Python ...\n",
    "```\n",
    "...\n",
    "Simple es mejor que complejo.\n",
    "...\n",
    "Plano es mejor que anidado.\n",
    "...\n",
    "Espaciado es mejor que denso.\n",
    "\n",
    "La legibilidad es importante.\n",
    "...\n",
    "```\n"
   ]
  },
  {
   "cell_type": "markdown",
   "id": "371495f4",
   "metadata": {
    "slideshow": {
     "slide_type": "fragment"
    }
   },
   "source": [
    "¿Entonces?"
   ]
  },
  {
   "cell_type": "markdown",
   "id": "separated-tournament",
   "metadata": {
    "slideshow": {
     "slide_type": "slide"
    }
   },
   "source": [
    "# Observemos este ejemplo"
   ]
  },
  {
   "cell_type": "code",
   "execution_count": null,
   "id": "instrumental-budget",
   "metadata": {
    "slideshow": {
     "slide_type": "fragment"
    }
   },
   "outputs": [],
   "source": [
    "def send_message(message, to_person, from_person=\"alguien\", subject=\"Consulta\"):\n",
    "    \"\"\" This function displays a message...\n",
    "    Arguments:  \n",
    "    to_person: string that represents the recipient of the message\n",
    "    from_person: string that represents  the person who sends the message\n",
    "    subject: that represents the subject of the message\n",
    "    \"\"\"\n",
    "    \n",
    "    print(f\"\"\"\n",
    "            Origen: {from_person}\n",
    "            Destino: {to_person}\n",
    "            Asunto: {subject}\n",
    "            Mensaje: {message}  \n",
    "        \"\"\")\n",
    "\n",
    "send_message(\"¿Cuánto falta para que temine la clase?\", \"Profe\")"
   ]
  },
  {
   "cell_type": "markdown",
   "id": "chronic-school",
   "metadata": {
    "slideshow": {
     "slide_type": "subslide"
    }
   },
   "source": [
    "# Atributos de las funciones\n",
    "\n",
    "- Las funciones en Python también son objetos.\n",
    "- Algunos de sus atributos:\n",
    "\n",
    "    - **my_function.\\_\\_doc__**: es el **docstring**.\n",
    "    - **my_function.\\_\\_name__**: es una cadena con el nombre la función.\n",
    "    - **my_function.\\_\\_defaults__**: es una tupla con los valores por defecto de los parámetros opcionales.\n",
    "\n"
   ]
  },
  {
   "cell_type": "code",
   "execution_count": null,
   "id": "24791b1d",
   "metadata": {
    "slideshow": {
     "slide_type": "subslide"
    }
   },
   "outputs": [],
   "source": [
    "print(send_message.__doc__)\n",
    "print(send_message.__defaults__)\n",
    "print(send_message.__name__)"
   ]
  },
  {
   "cell_type": "markdown",
   "id": "suspended-appreciation",
   "metadata": {
    "slideshow": {
     "slide_type": "slide"
    }
   },
   "source": [
    "# DESAFÍO 4\n",
    "> Queremos implementar una función que dada una cadena de texto, retorne las palabras que contiene en orden alfabético."
   ]
  },
  {
   "cell_type": "code",
   "execution_count": null,
   "id": "vietnamese-flower",
   "metadata": {
    "slideshow": {
     "slide_type": "fragment"
    }
   },
   "outputs": [],
   "source": [
    "# Una posible solución\n",
    "def sort1(sentence):\n",
    "    \"\"\" Example using method sort\"\"\"\n",
    "\n",
    "    words = sentence.split()\n",
    "    #words.sort(key=str.lower)\n",
    "    words.sort()\n",
    "    return words"
   ]
  },
  {
   "cell_type": "code",
   "execution_count": null,
   "id": "c3c4717d",
   "metadata": {
    "slideshow": {
     "slide_type": "fragment"
    }
   },
   "outputs": [],
   "source": [
    "print(sort1(\"Hoy puede ser un gran día. \"))"
   ]
  },
  {
   "cell_type": "markdown",
   "id": "bibliographic-celebrity",
   "metadata": {
    "slideshow": {
     "slide_type": "subslide"
    }
   },
   "source": [
    "# Otra forma"
   ]
  },
  {
   "cell_type": "code",
   "execution_count": null,
   "id": "continental-muscle",
   "metadata": {
    "slideshow": {
     "slide_type": "fragment"
    }
   },
   "outputs": [],
   "source": [
    "def sort2(sentence):\n",
    "    \"\"\" Example using function sorted\"\"\"\n",
    "\n",
    "    words = sentence.split()\n",
    "    return sorted(words, key=str.lower)"
   ]
  },
  {
   "cell_type": "code",
   "execution_count": null,
   "id": "c8895ed9",
   "metadata": {
    "slideshow": {
     "slide_type": "fragment"
    }
   },
   "outputs": [],
   "source": [
    "print(sort2(\"Hoy puede ser un gran día. \"))"
   ]
  },
  {
   "cell_type": "markdown",
   "id": "separate-filing",
   "metadata": {
    "slideshow": {
     "slide_type": "slide"
    }
   },
   "source": [
    "# DESAFÍO 5\n",
    "\n",
    ">Queremos implementar una función que, dada una lista de  canciones,\n",
    "nos retorne la lista ordenada de acuerdo al intérprete. Tenemos registrada la siguiente info: **tema, intérprete, año, categoría.**"
   ]
  },
  {
   "cell_type": "code",
   "execution_count": null,
   "id": "30ef91b4",
   "metadata": {
    "slideshow": {
     "slide_type": "fragment"
    }
   },
   "outputs": [],
   "source": [
    "my_music = [\n",
    "        (\"Bohemian Rmmhapsody\",  \"Queen\", \"1975\", \"rock\"),\n",
    "        (\"Thunder Road\", \"Bruce Springsteen\", \"1975\", \"rock\"),\n",
    "        (\"Imagine\", \"John Lennon\", \"1971\", \"rock\"),\n",
    "        (\"Locura y Realidad\", \"Las Pastillas del Abuelo\", \"2007\", \"rock\"),\n",
    "        (\"Ascenso\", \"Jauría\", \"2010\", \"rock\"),\n",
    "        ]\n"
   ]
  },
  {
   "cell_type": "code",
   "execution_count": null,
   "id": "progressive-initial",
   "metadata": {
    "slideshow": {
     "slide_type": "fragment"
    }
   },
   "outputs": [],
   "source": [
    "# Posible solución\n"
   ]
  },
  {
   "cell_type": "markdown",
   "id": "genuine-choice",
   "metadata": {
    "slideshow": {
     "slide_type": "subslide"
    }
   },
   "source": [
    "# Analicemos esta solución"
   ]
  },
  {
   "cell_type": "code",
   "execution_count": null,
   "id": "55037f61",
   "metadata": {
    "slideshow": {
     "slide_type": "fragment"
    }
   },
   "outputs": [],
   "source": [
    "def sort3(music):\n",
    "    \"\"\" This function .... \"\"\"\n",
    "\n",
    "    return sorted(music, key=lambda elem: elem[1])\n",
    "\n",
    "for elem in sort3(my_music):\n",
    "    print(elem)"
   ]
  },
  {
   "cell_type": "markdown",
   "id": "adopted-netherlands",
   "metadata": {
    "slideshow": {
     "slide_type": "subslide"
    }
   },
   "source": [
    "# ¿Qué son las expresiones lambda?\n",
    "\n",
    "\n",
    "- Son funciones anónimas.\n",
    "```python\n",
    " lambda args : expression \n",
    "```\n",
    "\n",
    "- [+Info](https://docs.python.org/3/tutorial/controlflow.html#lambda-expressions)"
   ]
  },
  {
   "cell_type": "code",
   "execution_count": null,
   "id": "hybrid-array",
   "metadata": {
    "slideshow": {
     "slide_type": "fragment"
    }
   },
   "outputs": [],
   "source": [
    "lambda a, b:  a+b\n",
    "lambda a, b=1: a+b"
   ]
  },
  {
   "cell_type": "code",
   "execution_count": null,
   "id": "liable-whale",
   "metadata": {
    "slideshow": {
     "slide_type": "fragment"
    }
   },
   "outputs": [],
   "source": [
    "lambda a, b=1: a+b\n",
    "    \n",
    "def my_sum(a, b=1):\n",
    "    return a+b"
   ]
  },
  {
   "cell_type": "markdown",
   "id": "theoretical-bronze",
   "metadata": {
    "slideshow": {
     "slide_type": "subslide"
    }
   },
   "source": [
    "# Algunos ejemplos de uso"
   ]
  },
  {
   "cell_type": "code",
   "execution_count": null,
   "id": "embedded-ticket",
   "metadata": {
    "slideshow": {
     "slide_type": "fragment"
    }
   },
   "outputs": [],
   "source": [
    "actions_list = [lambda x: x*2, lambda x: x*3]"
   ]
  },
  {
   "cell_type": "markdown",
   "id": "elder-darkness",
   "metadata": {
    "slideshow": {
     "slide_type": "fragment"
    }
   },
   "source": [
    "- ¿Qué tipo de elementos contiene la lista?"
   ]
  },
  {
   "cell_type": "code",
   "execution_count": null,
   "id": "17ccf51d",
   "metadata": {
    "slideshow": {
     "slide_type": "fragment"
    }
   },
   "outputs": [],
   "source": [
    "param = 4\n",
    "\n",
    "for action in actions_list:\n",
    "    print(action(param))"
   ]
  },
  {
   "cell_type": "markdown",
   "id": "challenging-developer",
   "metadata": {
    "slideshow": {
     "slide_type": "subslide"
    }
   },
   "source": [
    "# Un ejemplo de la [documentación oficial](https://docs.python.org/3/tutorial/controlflow.html#lambda-expressions)"
   ]
  },
  {
   "cell_type": "code",
   "execution_count": null,
   "id": "recreational-ghana",
   "metadata": {
    "slideshow": {
     "slide_type": "fragment"
    }
   },
   "outputs": [],
   "source": [
    "def make_incrementor(n):\n",
    "    return lambda x: x+n\n",
    "\n",
    "f = make_incrementor(2)\n",
    "g = make_incrementor(6)\n",
    "\n",
    "print(f(42), g(42))\n",
    "print(make_incrementor(22)(33))"
   ]
  },
  {
   "cell_type": "markdown",
   "id": "155a3101",
   "metadata": {
    "slideshow": {
     "slide_type": "fragment"
    }
   },
   "source": [
    "¿Cuál es el tipo de f y g? ¿Por qué es correcto el último print?"
   ]
  },
  {
   "cell_type": "markdown",
   "id": "b4f4af2b",
   "metadata": {
    "slideshow": {
     "slide_type": "slide"
    }
   },
   "source": [
    "# Veamos algunos usos comunes de estas expresiones"
   ]
  },
  {
   "cell_type": "markdown",
   "id": "minus-difference",
   "metadata": {
    "slideshow": {
     "slide_type": "subslide"
    }
   },
   "source": [
    "# La función map"
   ]
  },
  {
   "cell_type": "code",
   "execution_count": null,
   "id": "protecting-lincoln",
   "metadata": {
    "slideshow": {
     "slide_type": "fragment"
    }
   },
   "outputs": [],
   "source": [
    "def double(x):\n",
    "    return 2*x\n",
    "\n",
    "numbers  = [1, 2, 3, 4, 5, 6, 7]\n",
    "\n",
    "doubles = map(double, numbers)\n",
    "for elem in doubles:\n",
    "    print(elem, end=\"  \")"
   ]
  },
  {
   "cell_type": "markdown",
   "id": "spanish-recommendation",
   "metadata": {
    "slideshow": {
     "slide_type": "subslide"
    }
   },
   "source": [
    "# La función filter"
   ]
  },
  {
   "cell_type": "code",
   "execution_count": null,
   "id": "unique-coach",
   "metadata": {
    "slideshow": {
     "slide_type": "fragment"
    }
   },
   "outputs": [],
   "source": [
    "def is_even(x):\n",
    "    return x%2 == 0\n",
    "\n",
    "numbers  = [1, 2, 3, 4, 5, 6, 7]\n",
    "\n",
    "even_numbers = filter(is_even, numbers)\n",
    "for elem in even_numbers:\n",
    "    print(elem, end=\"  \")"
   ]
  },
  {
   "cell_type": "markdown",
   "id": "romantic-apple",
   "metadata": {
    "slideshow": {
     "slide_type": "subslide"
    }
   },
   "source": [
    "# map y filter con  lambda"
   ]
  },
  {
   "cell_type": "code",
   "execution_count": null,
   "id": "spare-negotiation",
   "metadata": {
    "slideshow": {
     "slide_type": "fragment"
    }
   },
   "outputs": [],
   "source": [
    "numbers  = [1, 2, 3, 4, 5, 6, 7]\n",
    "\n",
    "double_numbers = map(lambda x: 2*x, numbers)\n",
    "even_numbers = filter(lambda x: x%2 == 0, numbers)\n",
    "\n",
    "for elem in double_numbers:\n",
    "    print(elem, end=\"  \")"
   ]
  },
  {
   "cell_type": "markdown",
   "id": "c84f6f87",
   "metadata": {
    "slideshow": {
     "slide_type": "subslide"
    }
   },
   "source": [
    "# La función reduce  "
   ]
  },
  {
   "cell_type": "code",
   "execution_count": null,
   "id": "66ba04c0",
   "metadata": {
    "slideshow": {
     "slide_type": "fragment"
    }
   },
   "outputs": [],
   "source": [
    "from functools import reduce\n",
    "\n",
    "numbers  = [1, 2, 3, 4, 5, 6, 7]\n",
    "\n",
    "reduce(lambda a, b: a + b, numbers)"
   ]
  },
  {
   "cell_type": "markdown",
   "id": "138ab155",
   "metadata": {
    "slideshow": {
     "slide_type": "subslide"
    }
   },
   "source": [
    "# ¿Qué dice la PEP 8 respecto a lambda?"
   ]
  },
  {
   "cell_type": "markdown",
   "id": "1b23c412",
   "metadata": {
    "slideshow": {
     "slide_type": "fragment"
    }
   },
   "source": [
    "Si queremos definir la función **doble**, por ejemplo, usemos **def** y no **lambda**. \n",
    "\n",
    "```python\n",
    "# Si\n",
    "def double(x): \n",
    "    return 2*x\n",
    "\n",
    "# No \n",
    "double = lambda x: 2*x\n",
    "```"
   ]
  },
  {
   "cell_type": "markdown",
   "id": "f6036bcc",
   "metadata": {
    "slideshow": {
     "slide_type": "subslide"
    }
   },
   "source": [
    "# Y en estos casos..."
   ]
  },
  {
   "cell_type": "code",
   "execution_count": null,
   "id": "234f0eac",
   "metadata": {
    "slideshow": {
     "slide_type": "fragment"
    }
   },
   "outputs": [],
   "source": [
    "numbers = [1, 2, 3, 4]\n",
    "\n",
    "doubles = [2*x for x in numbers]\n",
    "#doubles = map(lambda x: 2*x, numbers)\n",
    "\n",
    "for elem in doubles:\n",
    "    print(elem, end=\"  \")"
   ]
  },
  {
   "cell_type": "code",
   "execution_count": null,
   "id": "58e41f70",
   "metadata": {
    "slideshow": {
     "slide_type": "fragment"
    }
   },
   "outputs": [],
   "source": [
    "mumbers = [1, 2, 3, 4]\n",
    "\n",
    "pares = [x for x in numbers if x%2 ==0]\n",
    "#pares = filter(lambda x: x%2 == 0, numbers)\n",
    "for elem in pares:\n",
    "    print(elem, end=\"  \")"
   ]
  },
  {
   "cell_type": "code",
   "execution_count": null,
   "id": "8d6e7e40",
   "metadata": {
    "slideshow": {
     "slide_type": "subslide"
    }
   },
   "outputs": [],
   "source": [
    "from functools import reduce\n",
    "\n",
    "numbers  = [1, 2, 3, 4, 5, 6, 7]\n",
    "sum(numbers)\n",
    "\n",
    "#reduce(lambda a, b: a + b, numbers)"
   ]
  },
  {
   "cell_type": "markdown",
   "id": "dde7b523",
   "metadata": {
    "slideshow": {
     "slide_type": "subslide"
    }
   },
   "source": [
    "# Entonces...¿usamos lambda?"
   ]
  },
  {
   "cell_type": "markdown",
   "id": "96f94544",
   "metadata": {
    "slideshow": {
     "slide_type": "fragment"
    }
   },
   "source": [
    "De los ejemplos vistos en la clase...\n",
    "\n",
    "\n",
    "```python\n",
    "def make_incrementor(n):\n",
    "    return lambda x: x+n\n",
    "\n",
    "def sort3(music):\n",
    "    \"\"\" Usamos sorted con una expresión lambda\"\"\"\n",
    "\n",
    "    return sorted(music, key=lambda elem: elem[0])\n",
    "```"
   ]
  },
  {
   "cell_type": "markdown",
   "id": "a055e431",
   "metadata": {
    "slideshow": {
     "slide_type": "slide"
    }
   },
   "source": [
    "# Un  artículo sobre estilo de código\n",
    "\n",
    "https://realpython.com/python-pep8/"
   ]
  },
  {
   "cell_type": "markdown",
   "id": "superior-healing",
   "metadata": {
    "slideshow": {
     "slide_type": "slide"
    }
   },
   "source": [
    "# DESAFÍO 6\n",
    "\n",
    "> Queremos codificar una frase según el siguiente algoritmo:\n",
    "```\n",
    "encripto(\"a\") --> \"b\"\n",
    "encripto(\"ABC\") --> \"BCD\"\n",
    "encripto(\"Rock2021\") --> \"Spdl3132\"\n",
    "```\n",
    "Una explicación simple de la Wikipedia: [Cifrado César](https://es.wikipedia.org/wiki/Cifrado_C%C3%A9sar#:~:text=El%20cifrado%20C%C3%A9sar%20mueve%20cada,de%20espacios%20en%20el%20alfabeto.&text=Es%20un%20tipo%20de%20cifrado,m%C3%A1s%20adelante%20en%20el%20alfabeto.)\n",
    "\n",
    "- Escribir dos versiones de la solución: una sin usar lambda y otra usando.\n",
    "- Si quieren, subir el código modificado a su  repositorio en  GitHub y compartir el enlace a la cuenta @clauBanchoff"
   ]
  },
  {
   "cell_type": "markdown",
   "id": "06e06bea",
   "metadata": {
    "slideshow": {
     "slide_type": "slide"
    }
   },
   "source": [
    "# Seguimos la semana  próxima ..."
   ]
  }
 ],
 "metadata": {
  "celltoolbar": "Slideshow",
  "kernelspec": {
   "display_name": "Python 3 (ipykernel)",
   "language": "python",
   "name": "python3"
  },
  "language_info": {
   "codemirror_mode": {
    "name": "ipython",
    "version": 3
   },
   "file_extension": ".py",
   "mimetype": "text/x-python",
   "name": "python",
   "nbconvert_exporter": "python",
   "pygments_lexer": "ipython3",
   "version": "3.11.8"
  }
 },
 "nbformat": 4,
 "nbformat_minor": 5
}
