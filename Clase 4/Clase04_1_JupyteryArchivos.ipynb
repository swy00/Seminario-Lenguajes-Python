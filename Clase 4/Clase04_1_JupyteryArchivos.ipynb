{
 "cells": [
  {
   "cell_type": "markdown",
   "id": "18667683-8600-463c-a7cc-bddaa1fbfee0",
   "metadata": {
    "slideshow": {
     "slide_type": "slide"
    }
   },
   "source": [
    "# Seminario de Lenguajes - Python\n",
    "## Cursada 2024\n",
    "\n",
    "## 📖 Clase 4: Archivos (cont.) \n",
    "* 🚘 Manejo de datos en archivos\n",
    "* ⏰ Módulo datetime\n",
    "* 🎠 Funciones mágicas en Jupyter"
   ]
  },
  {
   "cell_type": "markdown",
   "id": "13ab36e2-75b2-4110-85a3-48d3f76515a0",
   "metadata": {
    "slideshow": {
     "slide_type": "subslide"
    }
   },
   "source": [
    "### Lo visto en  clase\n",
    "> Abrir, modificar, crear archivos con el módulo **csv** y **json**\n",
    "\n",
    "\n",
    "> Un programa puede estar formado por muchos módulos"
   ]
  },
  {
   "cell_type": "markdown",
   "id": "5503f1e0-8c78-4281-9ece-b2faea76e49b",
   "metadata": {
    "slideshow": {
     "slide_type": "slide"
    }
   },
   "source": [
    "## 🚘 Manejo de datos en archivos\n",
    "\n",
    "Vamos a trabajar con archivos **csv** y probar algunas operaciones con los datos"
   ]
  },
  {
   "cell_type": "code",
   "execution_count": null,
   "id": "2ff29a35-b724-48d0-8518-2b61a42ed11c",
   "metadata": {
    "slideshow": {
     "slide_type": "fragment"
    }
   },
   "outputs": [],
   "source": [
    "from pathlib import Path\n",
    "import csv"
   ]
  },
  {
   "cell_type": "code",
   "execution_count": null,
   "id": "2066356b-80f8-4b79-9d08-1b039a7bbe92",
   "metadata": {
    "slideshow": {
     "slide_type": "fragment"
    }
   },
   "outputs": [],
   "source": [
    "data_temp = Path('files') / \"tas_climatology_annual-seasonal_cru_1961-1990_ARG.csv\""
   ]
  },
  {
   "cell_type": "markdown",
   "id": "bc1799af-47cf-40a7-9baa-0f553f4d0bc8",
   "metadata": {
    "slideshow": {
     "slide_type": "subslide"
    }
   },
   "source": [
    "Vemos el contenido usando el container **with** si no usamos el container recuerden que se tiene que:\n",
    "* abrir con open()\n",
    "* cerrar con close() para evitar problemas con los archivos\n"
   ]
  },
  {
   "cell_type": "markdown",
   "id": "81be51d7-0fa5-4619-a27b-a023ccd92030",
   "metadata": {
    "slideshow": {
     "slide_type": "fragment"
    }
   },
   "source": [
    "Hay atajos de Jupyter que nos permiten conocer el contenido de directorios"
   ]
  },
  {
   "cell_type": "code",
   "execution_count": null,
   "id": "0a865110-0fc9-48cf-a959-b3a435cd95db",
   "metadata": {
    "slideshow": {
     "slide_type": "fragment"
    }
   },
   "outputs": [],
   "source": [
    "%ls 'files'"
   ]
  },
  {
   "cell_type": "markdown",
   "id": "79a8016d-455e-4365-9bdc-2e134230acbb",
   "metadata": {
    "slideshow": {
     "slide_type": "fragment"
    }
   },
   "source": [
    "El caracter\"%\" permite ejecutar un comando conocido, también podemos encontrarlo con el caracter \"!\": \n",
    "```python\n",
    "!ls 'files'\n",
    "```\n",
    "\n",
    "En el caso del \"!\" es intepretado por el bash de los sistemas Unix, por lo cual puede que solo funcione en estos sitemas operativos o a traves de git-bash de Windows.\n",
    "\n",
    "Estos caracteres le indican que es un comando y los intepreta para ejecutarlos en Jupyter."
   ]
  },
  {
   "cell_type": "code",
   "execution_count": null,
   "id": "0637ab75-435a-4025-8fe4-ea292d066f32",
   "metadata": {
    "slideshow": {
     "slide_type": "subslide"
    }
   },
   "outputs": [],
   "source": [
    "with  open(data_temp) as file_temp:\n",
    "    csv_reader = csv.reader(file_temp, delimiter=',') \n",
    "    for line in csv_reader:\n",
    "        print(line)\n",
    "    header, data = next(csv_reader), list(csv_reader)\n",
    "    "
   ]
  },
  {
   "cell_type": "markdown",
   "id": "e11873ea-2ba0-44b5-adbf-104eb15c6d15",
   "metadata": {
    "slideshow": {
     "slide_type": "subslide"
    }
   },
   "source": [
    "* ¿Qué pasa con los datos en las variable *csv_reader* después de recorrer un vez?\n",
    "* ¿Qué tipo de variable es *csv_reader*?"
   ]
  },
  {
   "cell_type": "markdown",
   "id": "d98066aa-6562-4124-b857-74cc1ffcfbdb",
   "metadata": {
    "slideshow": {
     "slide_type": "fragment"
    }
   },
   "source": [
    "> Un **iterador** es un objeto que representa un flujo de datos. \n",
    "\n",
    "Al abrir este flujo de datos, nos posicionamos en el primer ítem y luego, utilizando el método **__next__()** del iterador o al pasar la función incorporada **next()** vamos obteniendo los siguientes ítems del flujo. Este proceso finaliza cuando no hay más datos disponibles."
   ]
  },
  {
   "cell_type": "markdown",
   "id": "f00111c6-824a-4bb4-a165-b5b2de0fce0d",
   "metadata": {
    "slideshow": {
     "slide_type": "fragment"
    }
   },
   "source": [
    "Para poder trabajar con los datos tenemos que guardarlo en una variable que no sea iterador."
   ]
  },
  {
   "cell_type": "code",
   "execution_count": null,
   "id": "b352208e-dd54-48f0-bcb0-a12e7e04e3c2",
   "metadata": {
    "slideshow": {
     "slide_type": "fragment"
    }
   },
   "outputs": [],
   "source": [
    "with  open(data_temp) as file_temp:\n",
    "    csv_reader = csv.reader(file_temp, delimiter=',') \n",
    "    header, data = next(csv_reader), list(csv_reader)"
   ]
  },
  {
   "cell_type": "markdown",
   "id": "9d33f4a9-c38a-46a0-b11c-73c53f6d6787",
   "metadata": {
    "slideshow": {
     "slide_type": "slide"
    }
   },
   "source": [
    "### 👀 Conozcamos los datos"
   ]
  },
  {
   "cell_type": "code",
   "execution_count": null,
   "id": "0016e945-dc8e-4fcc-8b9f-fb35e1918808",
   "metadata": {
    "slideshow": {
     "slide_type": "subslide"
    }
   },
   "outputs": [],
   "source": [
    "print(header)\n",
    "for line in data:\n",
    "    print(line)"
   ]
  },
  {
   "cell_type": "markdown",
   "id": "783caf18-74f8-4201-b8d8-0566f087c4dd",
   "metadata": {
    "slideshow": {
     "slide_type": "slide"
    }
   },
   "source": [
    "####  Nombres de las columnas\n",
    "* (DJF): Diciembre, Enero, Febrero (Verano)\n",
    "* (MAM): Marzo, Abril, Mayo (Otoño)\n",
    "* (JJA): Junio, Julio, Agosto (Invierno)\n",
    "* (SON): Setiembre, Octubre, Noviembre (Primavera)"
   ]
  },
  {
   "cell_type": "markdown",
   "id": "f5b108e5-78f5-40d9-a1cb-bcf0a9aa6c66",
   "metadata": {
    "slideshow": {
     "slide_type": "slide"
    }
   },
   "source": [
    "Si queremos tener un diccionario para acceder a los datos de cada jurisdicción directamente, ¿qué estructura podemos usar?"
   ]
  },
  {
   "cell_type": "code",
   "execution_count": null,
   "id": "691cdb80-28a1-44d0-b105-1025b586227f",
   "metadata": {
    "slideshow": {
     "slide_type": "slide"
    }
   },
   "outputs": [],
   "source": [
    "data ={}\n",
    "with  open(data_temp) as file_temp:\n",
    "    csv_reader = csv.DictReader(file_temp, delimiter=',') \n",
    "    for row in csv_reader:\n",
    "        print(row)\n",
    "    "
   ]
  },
  {
   "cell_type": "markdown",
   "id": "3f3e3f1c-114e-43a5-9904-2476b9ca6297",
   "metadata": {
    "slideshow": {
     "slide_type": "slide"
    }
   },
   "source": [
    "Recordemos que: \n",
    "> **DictReader** permite crear un diccionario donde el nombre de las columnas son las **keys** y el valor de la celda son los **values** "
   ]
  },
  {
   "cell_type": "code",
   "execution_count": null,
   "id": "c990d617-4cf9-490b-a5fb-3a60f75d7781",
   "metadata": {
    "slideshow": {
     "slide_type": "slide"
    }
   },
   "outputs": [],
   "source": [
    "data =  {}\n",
    "with  open(data_temp) as file_temp:\n",
    "    csv_reader = csv.DictReader(file_temp, delimiter=',') \n",
    "    \n",
    "    for row in csv_reader:\n",
    "       data[row['Región']] = dict(row)\n",
    "data"
   ]
  },
  {
   "cell_type": "markdown",
   "id": "12569ee1-3cc7-42f5-91e9-021546ff240c",
   "metadata": {
    "slideshow": {
     "slide_type": "slide"
    }
   },
   "source": [
    "### 🎊 Mejorando la estructura para facilitar el procesamiento"
   ]
  },
  {
   "cell_type": "markdown",
   "id": "4f11b1e3-a89d-43ce-b14c-0550112d6029",
   "metadata": {
    "slideshow": {
     "slide_type": "slide"
    }
   },
   "source": [
    "Recordemos la estructura del archivo:\n",
    "```python\n",
    "['Región', 'Annual', 'DJF', 'MAM', 'JJA', 'SON']\n",
    "['Argentina', '14.60', '20.55', '14.45', '8.42', '14.98']\n",
    "```"
   ]
  },
  {
   "cell_type": "code",
   "execution_count": null,
   "id": "c037c8b5-3cbb-4257-8267-8221de43c056",
   "metadata": {
    "slideshow": {
     "slide_type": "slide"
    }
   },
   "outputs": [],
   "source": [
    "data ={}\n",
    "with  open(data_temp) as file_temp:\n",
    "    csv_reader = csv.reader(file_temp, delimiter=',') \n",
    "    header = next(csv_reader)\n",
    "    for row in csv_reader:\n",
    "       data[row[0]] = row[1:]"
   ]
  },
  {
   "cell_type": "code",
   "execution_count": null,
   "id": "9c49f92e-4f4d-41de-ba86-418d1d84375c",
   "metadata": {
    "slideshow": {
     "slide_type": "slide"
    }
   },
   "outputs": [],
   "source": [
    "data"
   ]
  },
  {
   "cell_type": "markdown",
   "id": "ff1e722d-0c44-4302-a469-168ffa3c4df3",
   "metadata": {
    "slideshow": {
     "slide_type": "slide"
    }
   },
   "source": [
    "La primera línea es la anual, teniendo en cuenta que vamos a procesar las temperaturas de las jurisdicciones, podemos tener en cuenta esto cada vez que realizamos los cálculos, es decir empezar desde la segunda línea, o guardar los datos por separado."
   ]
  },
  {
   "cell_type": "code",
   "execution_count": null,
   "id": "43a62af4-ba5e-45b9-ab9c-b93fbf5e302d",
   "metadata": {
    "slideshow": {
     "slide_type": "slide"
    }
   },
   "outputs": [],
   "source": [
    "data ={}\n",
    "anual = []\n",
    "with  open(data_temp) as file_temp:\n",
    "    csv_reader = csv.reader(file_temp, delimiter=',') \n",
    "    header = next(csv_reader)\n",
    "    anual = next(csv_reader)\n",
    "    for row in csv_reader:\n",
    "       data[row[0]] = row[1:]"
   ]
  },
  {
   "cell_type": "code",
   "execution_count": null,
   "id": "91120d63-3c34-46db-a537-fba7c01f51d5",
   "metadata": {
    "slideshow": {
     "slide_type": "slide"
    }
   },
   "outputs": [],
   "source": [
    "anual"
   ]
  },
  {
   "cell_type": "markdown",
   "id": "a52fe165-1051-4db8-96e9-daf369247119",
   "metadata": {
    "slideshow": {
     "slide_type": "slide"
    }
   },
   "source": [
    "### 🚨Desafío 1\n",
    "> Queremos obtener la temperatura anual promedio mínima. \n",
    "\n",
    "Recordemos el orden de los datos:"
   ]
  },
  {
   "cell_type": "code",
   "execution_count": null,
   "id": "6b61fc4f-a6e6-47e7-be70-b93d74b7006c",
   "metadata": {
    "slideshow": {
     "slide_type": "slide"
    }
   },
   "outputs": [],
   "source": [
    "header"
   ]
  },
  {
   "cell_type": "markdown",
   "id": "06662294-c893-4821-826f-95950a4f54e5",
   "metadata": {
    "slideshow": {
     "slide_type": "slide"
    }
   },
   "source": [
    "Guardamos en el diccionario desde el segundo elemento, ya que el dato en 'Región' es la key del diccionario:"
   ]
  },
  {
   "cell_type": "code",
   "execution_count": null,
   "id": "a4f3cfcc-0ecb-4c5d-bb92-76c78870bbeb",
   "metadata": {
    "slideshow": {
     "slide_type": "slide"
    }
   },
   "outputs": [],
   "source": [
    "header[1:]"
   ]
  },
  {
   "cell_type": "code",
   "execution_count": null,
   "id": "06ee5228-2b5a-41fa-a77b-bf96e06c7820",
   "metadata": {
    "slideshow": {
     "slide_type": "slide"
    }
   },
   "outputs": [],
   "source": [
    "min([data[temp][0] for temp in data])"
   ]
  },
  {
   "cell_type": "markdown",
   "id": "46bed67f-0e6a-4b60-918e-d104d0081bfd",
   "metadata": {
    "slideshow": {
     "slide_type": "slide"
    }
   },
   "source": [
    "¿Pero es esta la temperatura mínima?\n",
    "\n",
    "Veamos los datos: "
   ]
  },
  {
   "cell_type": "code",
   "execution_count": null,
   "id": "d2137188-b214-42ee-aa81-409229f4a7f9",
   "metadata": {
    "slideshow": {
     "slide_type": "slide"
    }
   },
   "outputs": [],
   "source": [
    "for prov in data:\n",
    "    print(data[prov][0])"
   ]
  },
  {
   "cell_type": "markdown",
   "id": "35692ee4-b20c-434a-aa98-d551a7943e23",
   "metadata": {
    "slideshow": {
     "slide_type": "slide"
    }
   },
   "source": [
    "Mirando rápido encontramos varias temperaturas más bajas que 10.01:\n",
    "* 4.86\n",
    "* 7.76"
   ]
  },
  {
   "cell_type": "markdown",
   "id": "6d5917b1-e323-4909-85dc-05f63f5348b4",
   "metadata": {
    "slideshow": {
     "slide_type": "slide"
    }
   },
   "source": [
    "####  Convertir los valores\n",
    "El módulo **csv** considera como **str** los datos leídos, el valor que indicó es tomado con el orden alfabético. Por lo tanto, para hacer una comparación numérica tenemos que convertilos a **float**, después de haberlos guardado en el diccionario o podemos leerlo nuevamente y hacer la conversión al guardarlos."
   ]
  },
  {
   "cell_type": "code",
   "execution_count": null,
   "id": "8e0544f4-f111-42b3-a2b5-2f347ebc62fc",
   "metadata": {
    "slideshow": {
     "slide_type": "slide"
    }
   },
   "outputs": [],
   "source": [
    "data ={}\n",
    "anual = []\n",
    "with  open(data_temp) as file_temp:\n",
    "    csv_reader = csv.reader(file_temp, delimiter=',') \n",
    "    header = next(csv_reader)\n",
    "    anual = next(csv_reader)\n",
    "    anual [1:] = [float(elem) for elem in anual[1:]]\n",
    "    for row in csv_reader:\n",
    "       data[row[0]] = [float(elem) for elem in row[1:]]"
   ]
  },
  {
   "cell_type": "code",
   "execution_count": null,
   "id": "ba0ad0f9-c929-4a51-82b7-11d50d24e0e5",
   "metadata": {
    "slideshow": {
     "slide_type": "slide"
    }
   },
   "outputs": [],
   "source": [
    "data"
   ]
  },
  {
   "cell_type": "markdown",
   "id": "3ec23542-55a8-490b-9b23-d2f005bbc66f",
   "metadata": {
    "slideshow": {
     "slide_type": "slide"
    }
   },
   "source": [
    "Calculamos nuevamente la temperatura mínima anual:"
   ]
  },
  {
   "cell_type": "code",
   "execution_count": null,
   "id": "dccab360-ce81-427d-af10-d3c18da26c90",
   "metadata": {
    "slideshow": {
     "slide_type": "slide"
    }
   },
   "outputs": [],
   "source": [
    "min([data[temp][0] for temp in data])"
   ]
  },
  {
   "cell_type": "markdown",
   "id": "ef077888-f439-4f3e-9927-578265c9439f",
   "metadata": {
    "slideshow": {
     "slide_type": "slide"
    }
   },
   "source": [
    "Ahora sí es correcto el valor."
   ]
  },
  {
   "cell_type": "markdown",
   "id": "5f8db9d6",
   "metadata": {
    "slideshow": {
     "slide_type": "subslide"
    }
   },
   "source": [
    "### ✨ Atajos mágicos en Jupyter \n",
    "* Nos permite ejecutar operaciones que son intepretadas por el kernel de Jupyter\n",
    "* Más arriba vimos %ls\n",
    "* [Documentación oficial](https://ipython.readthedocs.io/en/stable/interactive/magics.html) \n",
    "* Podemos consultar cuáles son todos los comandos disponibles"
   ]
  },
  {
   "cell_type": "code",
   "execution_count": null,
   "id": "38cd7ee3-d711-4ef4-abd6-b962bba5f1a7",
   "metadata": {},
   "outputs": [],
   "source": [
    "%lsmagic"
   ]
  },
  {
   "cell_type": "markdown",
   "id": "4c05b040-384d-45d7-a2f5-8652e5760d66",
   "metadata": {},
   "source": [
    "Algunos que pueden ser interesantes son los que nos permiten medir el tiempo de ejecución de un bloque de código Python en *nuestra computadora* "
   ]
  },
  {
   "cell_type": "code",
   "execution_count": null,
   "id": "c44372f8-442d-4f9b-9e03-e38329aa30c0",
   "metadata": {
    "slideshow": {
     "slide_type": "fragment"
    }
   },
   "outputs": [],
   "source": [
    "%timeit L= min([data[temp][0] for temp in data])"
   ]
  },
  {
   "cell_type": "code",
   "execution_count": null,
   "id": "5afda9a2-e078-40d8-bf57-4f8fb99cbbb5",
   "metadata": {
    "slideshow": {
     "slide_type": "slide"
    }
   },
   "outputs": [],
   "source": [
    "%%timeit\n",
    "minim = 999\n",
    "for juri in data:\n",
    "    if data[juri][0] < minim:\n",
    "        minim = data[juri][0]\n",
    "minim        "
   ]
  },
  {
   "cell_type": "markdown",
   "id": "9eec2e77-1eeb-4194-9c73-c60a1dc571fd",
   "metadata": {
    "slideshow": {
     "slide_type": "subslide"
    }
   },
   "source": [
    "### ✨ Atajos de celdas en Jupyter\n",
    "Estando fuera del modo edición:\n",
    "* ✅ a: agrega una celda arriba de donde estamos\n",
    "* ✅ b: agrega una celda abajo de donde estamos\n",
    "* ✅ dd: borra la celda actual\n",
    "* ✅ m: convierte la celda en el formato markdown\n",
    "* ✅ y: convierte la celda en el formato código\n"
   ]
  },
  {
   "cell_type": "markdown",
   "id": "ab1fd271-d27f-4251-8db1-4fc4c2e5955e",
   "metadata": {
    "slideshow": {
     "slide_type": "slide"
    }
   },
   "source": [
    "### 🚨 Desafío 2\n",
    "> ¿Qué jurisdicciones tuvieron una temperatura menor que la promedio anual?"
   ]
  },
  {
   "cell_type": "code",
   "execution_count": null,
   "id": "ba43528f-cb1b-4fdf-a124-39975a2922a7",
   "metadata": {
    "slideshow": {
     "slide_type": "slide"
    }
   },
   "outputs": [],
   "source": [
    "anual"
   ]
  },
  {
   "cell_type": "markdown",
   "id": "c2623677-8d2f-49a9-9a46-d657ec29c5db",
   "metadata": {
    "slideshow": {
     "slide_type": "slide"
    }
   },
   "source": [
    "Recordemos que: \n",
    "\n",
    "* ✅ **filter**: permite filtrar elementos de una secuencia\n",
    "* ✅ **dict.items()**: me devuelve una lista con una tupla con las keys y los valores asociados"
   ]
  },
  {
   "cell_type": "code",
   "execution_count": null,
   "id": "717857e8-0f59-4458-a8f9-18372f6facf2",
   "metadata": {
    "slideshow": {
     "slide_type": "slide"
    }
   },
   "outputs": [],
   "source": [
    "list(filter( lambda prov: prov[1][0] > anual[1], data.items()))"
   ]
  },
  {
   "cell_type": "markdown",
   "id": "154add83-d982-4de6-8593-cb274f739bc9",
   "metadata": {
    "slideshow": {
     "slide_type": "slide"
    }
   },
   "source": [
    "### 🚧 Ejercicio 1 para practicar"
   ]
  },
  {
   "cell_type": "markdown",
   "id": "c854d665-3462-467d-b150-64bf79b2274d",
   "metadata": {
    "slideshow": {
     "slide_type": "fragment"
    }
   },
   "source": [
    "* Encontrar las jurisdicciones con las temperaturas mínimas y máximas de cada estación."
   ]
  },
  {
   "cell_type": "markdown",
   "id": "e87db785-2126-4769-8fb0-d961aeb871e5",
   "metadata": {
    "slideshow": {
     "slide_type": "slide"
    }
   },
   "source": [
    "### 📂 Ordenar los datos \n",
    "Queremos ordenar los datos de forma descendente según los valores de las temperaturas de la estación Verano.\n",
    "Recordemos que:\n",
    "* ✅ **sort**: nos permite ordenar una secuencia sin poder especificar el criterio.\n",
    "* ✅ **sorted**: nos permite ordenar indicando varias opciones para la acción."
   ]
  },
  {
   "cell_type": "code",
   "execution_count": null,
   "id": "efbb8d0f-5744-46f7-b8f7-aa8dd1baf23f",
   "metadata": {
    "slideshow": {
     "slide_type": "slide"
    }
   },
   "outputs": [],
   "source": [
    "header"
   ]
  },
  {
   "cell_type": "markdown",
   "id": "3f287422-9b0a-415f-be81-0278cbd91f1c",
   "metadata": {
    "slideshow": {
     "slide_type": "slide"
    }
   },
   "source": [
    "Recordemos que **DJF** es el **verano**"
   ]
  },
  {
   "cell_type": "code",
   "execution_count": null,
   "id": "a597f1b6-9c33-492f-9ab9-a537eec7f26e",
   "metadata": {
    "slideshow": {
     "slide_type": "slide"
    }
   },
   "outputs": [],
   "source": [
    "data"
   ]
  },
  {
   "cell_type": "markdown",
   "id": "c2574ab0-07e6-47b7-975f-ea459233cf37",
   "metadata": {
    "slideshow": {
     "slide_type": "slide"
    }
   },
   "source": [
    "**data.items** contiene una tupla con los elementos:\n",
    "\n",
    "**(key, values)**\n",
    "\n",
    "Los values es una lista donde tiene en la posición 1 la temperatura del verano."
   ]
  },
  {
   "cell_type": "code",
   "execution_count": null,
   "id": "97c98807-b42c-4f31-9732-ad61abf2e0ea",
   "metadata": {
    "slideshow": {
     "slide_type": "slide"
    }
   },
   "outputs": [],
   "source": [
    "dict(sorted(data.items(), key=lambda item: item[1][1], reverse=True))"
   ]
  },
  {
   "cell_type": "markdown",
   "id": "3d10c241-d748-452c-9fe0-12bb41700962",
   "metadata": {
    "slideshow": {
     "slide_type": "slide"
    }
   },
   "source": [
    "Y en invierno de forma ascendente:"
   ]
  },
  {
   "cell_type": "code",
   "execution_count": null,
   "id": "5d64308e-df56-4ae8-850c-bb25f61d76e7",
   "metadata": {
    "slideshow": {
     "slide_type": "slide"
    }
   },
   "outputs": [],
   "source": [
    "dict(sorted(data.items(), key=lambda item: item[1][2]))\n"
   ]
  },
  {
   "cell_type": "markdown",
   "id": "15e2c96d-da4b-496c-90c4-13968e865710",
   "metadata": {
    "slideshow": {
     "slide_type": "slide"
    }
   },
   "source": [
    "## 📌 Ejemplo de paquetes en el IDE"
   ]
  },
  {
   "cell_type": "code",
   "execution_count": null,
   "id": "cf39f008-b43c-45c4-a990-61a5023eba66",
   "metadata": {
    "slideshow": {
     "slide_type": "slide"
    }
   },
   "outputs": [],
   "source": [
    "!ls files"
   ]
  },
  {
   "cell_type": "markdown",
   "id": "093b4740-1f3d-4d81-9bee-e568ce9244c4",
   "metadata": {
    "slideshow": {
     "slide_type": "slide"
    }
   },
   "source": [
    "## 📝Procesamiento de logs\n",
    "* Trabajamos con el logs de los registros de Moodle de la Autoevaluación 1"
   ]
  },
  {
   "cell_type": "code",
   "execution_count": null,
   "id": "be53ad70-a825-4ce7-bdd6-3f96c9f9e8d0",
   "metadata": {
    "slideshow": {
     "slide_type": "slide"
    }
   },
   "outputs": [],
   "source": [
    "logs_file = 'logs_act1.csv'\n",
    "dir_files = Path('files').resolve()"
   ]
  },
  {
   "cell_type": "code",
   "execution_count": null,
   "id": "b26196b0-ac43-415a-97dd-2db68453554d",
   "metadata": {
    "slideshow": {
     "slide_type": "slide"
    }
   },
   "outputs": [],
   "source": [
    "with  open(dir_files / logs_file) as file_temp:\n",
    "    csv_reader = csv.reader(file_temp, delimiter=',') \n",
    "    header, data_logs = next(csv_reader), list(csv_reader)\n",
    " "
   ]
  },
  {
   "cell_type": "code",
   "execution_count": null,
   "id": "de134f79-fad7-4748-bcd8-8b94270db62f",
   "metadata": {},
   "outputs": [],
   "source": [
    "data_logs[:5]"
   ]
  },
  {
   "cell_type": "markdown",
   "id": "d1b41c57-07e3-4153-a7a5-44d393f7503f",
   "metadata": {
    "slideshow": {
     "slide_type": "slide"
    }
   },
   "source": [
    "### 🚨Desafío 3\n",
    "> Encontrar los registros que tienen las IP que no son de la facultad."
   ]
  },
  {
   "cell_type": "code",
   "execution_count": null,
   "id": "97fb2a4a-492d-4921-8103-43563a1767aa",
   "metadata": {
    "slideshow": {
     "slide_type": "slide"
    }
   },
   "outputs": [],
   "source": [
    "header"
   ]
  },
  {
   "cell_type": "code",
   "execution_count": null,
   "id": "4b32c154-e2d8-402c-be91-0fa69e7f3eaf",
   "metadata": {
    "scrolled": true,
    "slideshow": {
     "slide_type": "slide"
    }
   },
   "outputs": [],
   "source": [
    "for row in data_logs:\n",
    "    if not row[8].startswith('163.10.'):\n",
    "        print(row)"
   ]
  },
  {
   "cell_type": "markdown",
   "id": "e02cd823-7c7b-4e89-b87e-9fbda7f32c99",
   "metadata": {},
   "source": [
    "En la salida vemos que los nombres se **repiten** según la cantidad de veces que accedió cada persona. \n",
    "\n",
    "Podemos guardar los datos en una estructura **sin repetición**."
   ]
  },
  {
   "cell_type": "code",
   "execution_count": null,
   "id": "2b977264-4930-48cc-a296-9b67c92ea0a3",
   "metadata": {
    "slideshow": {
     "slide_type": "slide"
    }
   },
   "outputs": [],
   "source": [
    "header"
   ]
  },
  {
   "cell_type": "code",
   "execution_count": null,
   "id": "ed753c28-e037-423f-95bc-93d594ae7652",
   "metadata": {
    "slideshow": {
     "slide_type": "slide"
    }
   },
   "outputs": [],
   "source": [
    "data_names = {}\n",
    "for row in data_logs:\n",
    "    if not row[1] in data_names:\n",
    "        data_names[row[1]] = row"
   ]
  },
  {
   "cell_type": "code",
   "execution_count": null,
   "id": "3939a71e-61ab-4341-ad6b-f16fcdd959ef",
   "metadata": {
    "scrolled": true,
    "slideshow": {
     "slide_type": "slide"
    }
   },
   "outputs": [],
   "source": [
    "data_names"
   ]
  },
  {
   "cell_type": "markdown",
   "id": "3118c9ee-fc37-42fe-97f7-ee11f8864311",
   "metadata": {
    "slideshow": {
     "slide_type": "slide"
    }
   },
   "source": [
    "Vemos los 5 primeros. "
   ]
  },
  {
   "cell_type": "code",
   "execution_count": null,
   "id": "0dcd43cf-4e2d-453d-a16d-d3c65965ca3b",
   "metadata": {
    "slideshow": {
     "slide_type": "slide"
    }
   },
   "outputs": [],
   "source": [
    "list(data_names.items())[:5]"
   ]
  },
  {
   "cell_type": "markdown",
   "id": "b2b7ef3e-8734-4d4a-8ab0-4fc0841f2059",
   "metadata": {
    "slideshow": {
     "slide_type": "slide"
    }
   },
   "source": [
    "## ⏰ Módulo datetime\n",
    "Datetime es un módulo para trabajar con las fechas\n",
    "* ⏩ Nos permite trabajar y realizar cálculos con el tiempo.\n",
    "* ⏩ Documentación  módulo [**datetime**](https://docs.python.org/3/library/datetime.html)"
   ]
  },
  {
   "cell_type": "markdown",
   "id": "d55d56a6-ed23-434b-9e28-c38317dd77bb",
   "metadata": {
    "slideshow": {
     "slide_type": "slide"
    }
   },
   "source": [
    "Contiene varias **clases** para manejar fechas y tiempo:\n",
    "* ✅ **date**: se utiliza para fechas pero no guarda hora, minutos ni segundos\n",
    "* ✅ **time**: se utiliza para operar valores de tiempo al nivel de minutos a microsegundos\n",
    "* ✅ **datetime**: contiene información de las fechas **date** y el tiempo **time**"
   ]
  },
  {
   "cell_type": "markdown",
   "id": "dac92ce3-da85-4cff-bc38-b92073a04b80",
   "metadata": {
    "slideshow": {
     "slide_type": "slide"
    }
   },
   "source": [
    "Algunas de la características que comparten estos objetos son:\n",
    "\n",
    "* ⏩ Son **inmutables**.\n",
    "* ⏩ Son **\"hashable\"**, es decir que se pueden usar como keys en un diccionario."
   ]
  },
  {
   "cell_type": "code",
   "execution_count": null,
   "id": "43a804ee-c60d-47c2-9918-43dd12488074",
   "metadata": {
    "slideshow": {
     "slide_type": "slide"
    }
   },
   "outputs": [],
   "source": [
    "from datetime import date\n",
    "d1 = date(2024,3,26)\n",
    "d1"
   ]
  },
  {
   "cell_type": "code",
   "execution_count": null,
   "id": "fcd8fce5-d8d7-4db4-a672-f0f452587f3b",
   "metadata": {
    "slideshow": {
     "slide_type": "slide"
    }
   },
   "outputs": [],
   "source": [
    "from datetime import time\n",
    "t1 = time(11, 10, 9)\n",
    "t1"
   ]
  },
  {
   "cell_type": "markdown",
   "id": "93742e1c-1c96-41cf-b6ff-0a1ff5c99421",
   "metadata": {
    "slideshow": {
     "slide_type": "slide"
    }
   },
   "source": [
    "💢 **OJO** que existe el módulo [**time**](https://docs.python.org/3/library/time.html#time.time) que tiene funcionalidades similares, en comparación con el submódulo de datetime, el módulo **time** tine un poco más de precisión el nivel de microsegundos y es recomendado de usar solo en sistemas operativos UNIX."
   ]
  },
  {
   "cell_type": "code",
   "execution_count": null,
   "id": "7952dc71-ae15-4c75-bedd-3c5a8f6cdbf7",
   "metadata": {
    "slideshow": {
     "slide_type": "slide"
    }
   },
   "outputs": [],
   "source": [
    "from datetime import datetime \n",
    "my_datetime = datetime.combine(d1, t1)\n",
    "my_datetime"
   ]
  },
  {
   "cell_type": "markdown",
   "id": "00b3846a-95df-4e9e-8e12-cfbd791b237a",
   "metadata": {
    "slideshow": {
     "slide_type": "slide"
    }
   },
   "source": [
    "Los objetos **date**, **time** y **datetime** pueden operar entre sí, se usan según lo que se necesite."
   ]
  },
  {
   "cell_type": "markdown",
   "id": "2fdbc8b7-f13b-4d9b-8ca1-b216b2b67df7",
   "metadata": {
    "slideshow": {
     "slide_type": "slide"
    }
   },
   "source": [
    "###  🕐¿Qué podemos realizar con la clase **datetime**?\n",
    "\n",
    "¿Cómo podemos ver los métodos de una clase?\n",
    "* ⏩ dir()\n",
    "* ⏩ en Jupyter, el tab nos ayuda para autocompletar, donde nos marca cuáles son funciones y cuáles son variables de la clase "
   ]
  },
  {
   "cell_type": "markdown",
   "id": "3c6c3e55-5910-4350-aa2a-4059e1306360",
   "metadata": {
    "slideshow": {
     "slide_type": "slide"
    }
   },
   "source": [
    "\n",
    "<center>\n",
    "<img src=\"imagenes/autocompletar_jupyter.png\" alt=\"QR inicial\" style=\"width:400px;\"/>\n",
    "</center>\n"
   ]
  },
  {
   "cell_type": "code",
   "execution_count": null,
   "id": "8a9228ce-5038-4289-bf70-db5fe012eb09",
   "metadata": {
    "slideshow": {
     "slide_type": "slide"
    }
   },
   "outputs": [],
   "source": [
    "datetime.today()"
   ]
  },
  {
   "cell_type": "markdown",
   "id": "89cef989-5540-48ad-8242-f9c2010cb22c",
   "metadata": {
    "slideshow": {
     "slide_type": "slide"
    }
   },
   "source": [
    "Al crear podemos opcionalmente especificar la información de tzinfo."
   ]
  },
  {
   "cell_type": "code",
   "execution_count": null,
   "id": "b8aabc74-77c4-44c4-9b24-a55fc5fd33c2",
   "metadata": {
    "slideshow": {
     "slide_type": "slide"
    }
   },
   "outputs": [],
   "source": [
    "from datetime import timezone\n",
    "print(datetime.now(timezone.utc))\n",
    "print(datetime.now(timezone.utc).tzinfo)\n",
    "#en python 3.11\n",
    "#datetime.now(datetime.timezone.utc)"
   ]
  },
  {
   "cell_type": "markdown",
   "id": "dd92f6df-c046-4bc2-be39-0e9b7991430f",
   "metadata": {
    "slideshow": {
     "slide_type": "slide"
    }
   },
   "source": [
    "Algunos de los métodos que pueden ser interesantes de **datetime.datetime**, para simplificar asumamos que los importamos: \n",
    "\n",
    "```python\n",
    "form datetime import datetime\n",
    "```\n",
    "* ✅ **datetime.now()**:  nos da la fecha actual\n",
    "* ✅ **datetime.timestamp(datetime.now())**: convierte la hora actual en el formato timestamp, que es utilizado para guardar fecha de forma única\n",
    "* ✅ **datetime.strptime()**: convierte un string con el formato que le indicamos en un objeto *datetime*\n",
    "* ✅ **date.strftime(\"%m/%d/%Y, %H:%M:%S\")**: convierte un objeto *datetime* a un string\n",
    "* ✅ **date.weekday()**: podemos saber el día de la semana de la fecha\n",
    "* ✅ **date.hour**: podemos saber la hora"
   ]
  },
  {
   "cell_type": "markdown",
   "id": "8163d46f-9747-41d7-93f0-6ec087622344",
   "metadata": {
    "slideshow": {
     "slide_type": "slide"
    }
   },
   "source": [
    "Los datos que se guardan en los **logs**, en general van acompañados de un **timestamp**, que es un número que representa de forma única a un momento específico. Es un número que representa el tiempo pasado desde 1/1/1970."
   ]
  },
  {
   "cell_type": "code",
   "execution_count": null,
   "id": "50651bcf-0a7e-4ce6-9c53-7e921748308d",
   "metadata": {
    "slideshow": {
     "slide_type": "slide"
    }
   },
   "outputs": [],
   "source": [
    "my_timestamp = datetime.timestamp(datetime.now())\n",
    "my_timestamp\n"
   ]
  },
  {
   "cell_type": "markdown",
   "id": "17d404f0-f4ef-44f4-aae7-ce0aff03d7d6",
   "metadata": {
    "slideshow": {
     "slide_type": "slide"
    }
   },
   "source": [
    "Se puede guardar en ese formato o como un string, lo cual es más legible."
   ]
  },
  {
   "cell_type": "code",
   "execution_count": null,
   "id": "3a33a961-ceea-41e7-8efa-9708a54a6405",
   "metadata": {
    "slideshow": {
     "slide_type": "slide"
    }
   },
   "outputs": [],
   "source": [
    "my_log = datetime.fromtimestamp(my_timestamp)"
   ]
  },
  {
   "cell_type": "code",
   "execution_count": null,
   "id": "3f029485-2160-429d-81df-0d89c6bda967",
   "metadata": {
    "slideshow": {
     "slide_type": "slide"
    }
   },
   "outputs": [],
   "source": [
    "my_log.strftime(\"%m/%d/%Y, %H:%M:%S\")"
   ]
  },
  {
   "cell_type": "markdown",
   "id": "0b6becc6-f7c5-4f8d-8bb7-84cf774dc3e7",
   "metadata": {
    "slideshow": {
     "slide_type": "slide"
    }
   },
   "source": [
    "### 🚨Desafío 4 \n",
    "> Encontrar cuánto tiempo pasó desde el primer registro hasta el último.\n",
    "\n",
    "Recordemos cómo está almacenado el dato de las fechas en el archivo:\n",
    "```python\n",
    "['19/03/24, 15:57:50',\n",
    " 'T_L15',\n",
    " 'T_L15',\n",
    " 'Cuestionario: Autoevaluación 1  - Turno MAÑANA',\n",
    " 'Cuestionario',\n",
    " 'Intento de cuestionario visualizado',\n",
    " \"The user with id '22862' has viewed page '2' of the attempt with id '82865' belonging to the user with id '22862' for the quiz with course module id '39686'.\",\n",
    " 'web',\n",
    " '186.23.0.228']\n",
    "```\n",
    "La posición 0 contiene el string con la fecha, veamos cómo podemos convertir ese string en un objeto datetime.\n",
    "\n",
    "Veamos los 5 primeros"
   ]
  },
  {
   "cell_type": "code",
   "execution_count": null,
   "id": "2f7278c0-49a3-46a8-8a12-e7666bd62474",
   "metadata": {
    "slideshow": {
     "slide_type": "slide"
    }
   },
   "outputs": [],
   "source": [
    "format = \"%d/%m/%y, %H:%M:%S\"\n",
    "for row in data_logs[:5]:\n",
    "    print(datetime.strptime(row[0], format))"
   ]
  },
  {
   "cell_type": "markdown",
   "id": "ed1a6e07-c880-478d-992e-c1212fd5a3f0",
   "metadata": {
    "slideshow": {
     "slide_type": "slide"
    }
   },
   "source": [
    "El método **strptime()** permite convertir un **str** en un objeto datetime, pero primero debemos indicar el **formato** para que interprete el string:\n",
    "```python\n",
    "format = \"%d/%m/%y, %H:%M:%S\"\n",
    "```"
   ]
  },
  {
   "cell_type": "markdown",
   "id": "bb77bd23-7fc5-40a9-a3e0-243a39b87a6a",
   "metadata": {
    "slideshow": {
     "slide_type": "slide"
    }
   },
   "source": [
    "La variable **format** es un string que tenemos que armar en función de cómo está guardado la fecha, esto varía seǵun sea el caso.\n"
   ]
  },
  {
   "cell_type": "markdown",
   "id": "3c067dcf-2b23-4a2e-809f-de9ae10e7f5a",
   "metadata": {
    "slideshow": {
     "slide_type": "slide"
    }
   },
   "source": [
    "Veamos qué operaciones se pueden realizar con las fechas que están guardadas. Como vimos esta información está en la primera posición, en formato **string**:\n"
   ]
  },
  {
   "cell_type": "code",
   "execution_count": null,
   "id": "5be15bdd-6e93-4db6-bd18-7639fa1a8fa1",
   "metadata": {
    "slideshow": {
     "slide_type": "slide"
    }
   },
   "outputs": [],
   "source": [
    "date_str = data_logs[0][0]\n",
    "date_str"
   ]
  },
  {
   "cell_type": "markdown",
   "id": "fdf3e152-efc8-4c56-8d16-301dfdc77591",
   "metadata": {
    "slideshow": {
     "slide_type": "slide"
    }
   },
   "source": [
    "Y para convertir a un objeto datetime usaremos el método **strptime**:"
   ]
  },
  {
   "cell_type": "code",
   "execution_count": null,
   "id": "ee271ef1-10c1-44f7-90bc-c7ccaf49081d",
   "metadata": {
    "slideshow": {
     "slide_type": "slide"
    }
   },
   "outputs": [],
   "source": [
    "my_date = datetime.strptime(data_logs[0][0], format)\n",
    "my_date"
   ]
  },
  {
   "cell_type": "markdown",
   "id": "0409b9f0-60c0-4080-9b9e-d1a840c2e885",
   "metadata": {
    "slideshow": {
     "slide_type": "slide"
    }
   },
   "source": [
    "Veamos otro ejemplo con otro formato."
   ]
  },
  {
   "cell_type": "code",
   "execution_count": null,
   "id": "9fb2923a-a4c4-440f-97a8-3f6fb75ed061",
   "metadata": {
    "slideshow": {
     "slide_type": "slide"
    }
   },
   "outputs": [],
   "source": [
    "format = \"%d/%m/%Y, %H:%M:%S\"\n",
    "date = datetime.strptime(data_logs[0][0], format)\n",
    "date"
   ]
  },
  {
   "cell_type": "markdown",
   "id": "d699e7bf",
   "metadata": {
    "slideshow": {
     "slide_type": "subslide"
    }
   },
   "source": [
    "**¿Por qué creen que da error?**"
   ]
  },
  {
   "cell_type": "markdown",
   "id": "117319d0-8d7b-429c-8b3e-cafc2b4a1b35",
   "metadata": {
    "slideshow": {
     "slide_type": "fragment"
    }
   },
   "source": [
    "Da error porque el año especificado en la variable **format** (%Y) al ponerlo en mayúscula espera cuatro dígitos y en el archivo sólo tiene dos dígitos."
   ]
  },
  {
   "cell_type": "markdown",
   "id": "a26e4815-d278-4823-9169-86994c426814",
   "metadata": {
    "slideshow": {
     "slide_type": "slide"
    }
   },
   "source": [
    "Veamos con un ejemplo con otro formato en el dato. \n"
   ]
  },
  {
   "cell_type": "code",
   "execution_count": null,
   "id": "3da33bbf-c597-4055-aab0-2f53cff50c45",
   "metadata": {
    "slideshow": {
     "slide_type": "slide"
    }
   },
   "outputs": [],
   "source": [
    "date_oth = '26/03/2024, 17:36:54'\n",
    "format = \"%d/%m/%Y, %H:%M:%S\"\n",
    "date = datetime.strptime(date_oth, format)\n",
    "date"
   ]
  },
  {
   "cell_type": "markdown",
   "id": "592a0764-e908-4b90-b477-767989bbaa54",
   "metadata": {},
   "source": [
    "En este caso al estar con 4 dígitos el string no hubo problema.\n"
   ]
  },
  {
   "cell_type": "markdown",
   "id": "ff6eef06-d928-46f4-8b42-af0646d2f06f",
   "metadata": {
    "slideshow": {
     "slide_type": "slide"
    }
   },
   "source": [
    "### Volvamos con las fechas del archivo"
   ]
  },
  {
   "cell_type": "code",
   "execution_count": null,
   "id": "db64179b-496f-49b1-958f-ea6c93849dec",
   "metadata": {
    "slideshow": {
     "slide_type": "slide"
    }
   },
   "outputs": [],
   "source": [
    "format = \"%d/%m/%y, %H:%M:%S\"\n",
    "date = datetime.strptime(data_logs[0][0], format)\n",
    "date"
   ]
  },
  {
   "cell_type": "code",
   "execution_count": null,
   "id": "515bab1a-7fe1-43d9-88f7-6079b6ab94e6",
   "metadata": {
    "slideshow": {
     "slide_type": "slide"
    }
   },
   "outputs": [],
   "source": [
    "len(data_logs)"
   ]
  },
  {
   "cell_type": "code",
   "execution_count": null,
   "id": "ba86b114-ddb9-4a39-b138-a840e39ac54c",
   "metadata": {
    "slideshow": {
     "slide_type": "slide"
    }
   },
   "outputs": [],
   "source": [
    "data_logs[len(data_logs)-1]"
   ]
  },
  {
   "cell_type": "markdown",
   "id": "3cbb6f3c-038c-4c12-b3f1-bf1bbf84be5b",
   "metadata": {
    "slideshow": {
     "slide_type": "slide"
    }
   },
   "source": [
    "Calculamos las fechas de **inicio** y **final** del archivo de logs:"
   ]
  },
  {
   "cell_type": "code",
   "execution_count": null,
   "id": "489ce771-831c-4b96-9d59-9118c8b9feea",
   "metadata": {
    "slideshow": {
     "slide_type": "slide"
    }
   },
   "outputs": [],
   "source": [
    "date_start = datetime.strptime(data_logs[len(data_logs)-1][0], format)\n",
    "date_start"
   ]
  },
  {
   "cell_type": "code",
   "execution_count": null,
   "id": "fc102c82-32dd-4cde-bb29-106f4f2f8f93",
   "metadata": {
    "slideshow": {
     "slide_type": "slide"
    }
   },
   "outputs": [],
   "source": [
    "date_end = datetime.strptime(data_logs[0][0], format)\n",
    "date_end"
   ]
  },
  {
   "cell_type": "markdown",
   "id": "e384ef3a-f411-4c63-a133-5d26a11123b8",
   "metadata": {
    "slideshow": {
     "slide_type": "slide"
    }
   },
   "source": [
    "Y el tiempo que pasó entre ambas fechas:"
   ]
  },
  {
   "cell_type": "code",
   "execution_count": null,
   "id": "516df05a-c3d5-4bb0-adb1-97069a41111d",
   "metadata": {
    "slideshow": {
     "slide_type": "slide"
    }
   },
   "outputs": [],
   "source": [
    "date_end - date_start"
   ]
  },
  {
   "cell_type": "markdown",
   "id": "fe3def68-a7cf-4308-88a0-cda45367045a",
   "metadata": {
    "slideshow": {
     "slide_type": "slide"
    }
   },
   "source": [
    "### 🚧 Ejercicio 2 para practicar\n",
    "* Calcular la cantidad de registros que hay por cada día de la semana.\n",
    "\n",
    "Recordemos que:\n",
    " ```python\n",
    "date_start.weekday()\n",
    "```\n",
    "nos permite acceder al día de la semana y el módulo Counter nos ayuda a encontrar las cantidades correspondientes. \n",
    "\n",
    "¿Se animan a hacerlo con list comprehension?"
   ]
  },
  {
   "cell_type": "markdown",
   "id": "cbfeef18-720a-4de2-ba2c-fa7c0d77433e",
   "metadata": {
    "slideshow": {
     "slide_type": "slide"
    }
   },
   "source": [
    "### Conociendo el entorno de Jupyter\n",
    "Analice qué información nos brindan los siguientes comandos:"
   ]
  },
  {
   "cell_type": "code",
   "execution_count": null,
   "id": "36870e6e-30f4-48d0-a17d-c1482e70e277",
   "metadata": {},
   "outputs": [],
   "source": [
    "%history"
   ]
  },
  {
   "cell_type": "code",
   "execution_count": null,
   "id": "7a10ce22-0ffa-4963-a6a3-c546ad2a5704",
   "metadata": {},
   "outputs": [],
   "source": [
    "who"
   ]
  },
  {
   "cell_type": "code",
   "execution_count": null,
   "id": "177003e8-ba56-4b90-878f-5c52a6733c27",
   "metadata": {},
   "outputs": [],
   "source": [
    "whos"
   ]
  }
 ],
 "metadata": {
  "celltoolbar": "Slideshow",
  "kernelspec": {
   "display_name": "Python 3 (ipykernel)",
   "language": "python",
   "name": "python3"
  },
  "language_info": {
   "codemirror_mode": {
    "name": "ipython",
    "version": 3
   },
   "file_extension": ".py",
   "mimetype": "text/x-python",
   "name": "python",
   "nbconvert_exporter": "python",
   "pygments_lexer": "ipython3",
   "version": "3.10.12"
  }
 },
 "nbformat": 4,
 "nbformat_minor": 5
}
