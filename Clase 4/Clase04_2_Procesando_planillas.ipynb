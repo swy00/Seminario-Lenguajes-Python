{
 "cells": [
  {
   "cell_type": "markdown",
   "id": "mobile-stanford",
   "metadata": {
    "slideshow": {
     "slide_type": "slide"
    }
   },
   "source": [
    "# Seminario de Lenguajes - Python\n",
    "## Procesamiento de hojas de cálculo"
   ]
  },
  {
   "cell_type": "markdown",
   "id": "8f47b831",
   "metadata": {
    "slideshow": {
     "slide_type": "slide"
    }
   },
   "source": [
    "# ¿Qué características tienen estos archivos?"
   ]
  },
  {
   "cell_type": "markdown",
   "id": "740d4a47",
   "metadata": {
    "slideshow": {
     "slide_type": "fragment"
    }
   },
   "source": [
    "Según la Wikipedia ...\n",
    "> Una hoja de cálculo es un tipo de documento que permite manipular datos numéricos y alfanuméricos dispuestos en forma de tablas compuestas por celdas, las cuales se suelen organizar en una matriz de filas y columnas."
   ]
  },
  {
   "cell_type": "markdown",
   "id": "108d2a84",
   "metadata": {
    "slideshow": {
     "slide_type": "fragment"
    }
   },
   "source": [
    "El programa más popular para manipular estos archivos es Microsoft Excel"
   ]
  },
  {
   "cell_type": "markdown",
   "id": "909c38f1",
   "metadata": {
    "slideshow": {
     "slide_type": "slide"
    }
   },
   "source": [
    "# DESAFIO  1\n",
    "\n",
    "> Tenenemos los datos de afluencia de turistas en la provincia de Córdoba y queremos saber cuántos turistas concurrieron entre los meses de enero y febrero.\n",
    "\n",
    "Los datos fueron obtenidos del [Portal de datos abiertos de la provincia](https://gobiernoabierto.cordoba.gob.ar/data/datos-abiertos/categoria/turismo/afluencia-turistica-en-hoteles-apart-hoteles-y-hostales/138)"
   ]
  },
  {
   "cell_type": "markdown",
   "id": "c0a8673d",
   "metadata": {
    "slideshow": {
     "slide_type": "fragment"
    }
   },
   "source": [
    "Como se puede ver, los datos están en varios formatos, pero no en un único dataset.\n",
    "\n",
    "Para nuestro ejemplo, armamos un [único dataset](ejemplos/clase04_2/Afluencia_turística_CORDOBA.xlsx) con los datos de cada año en una hoja distinta. "
   ]
  },
  {
   "cell_type": "markdown",
   "id": "dutch-heart",
   "metadata": {
    "slideshow": {
     "slide_type": "subslide"
    }
   },
   "source": [
    "# Procesamos el formato Excel\n",
    "\n",
    "Una opción: librería [openpyxl](https://openpyxl.readthedocs.io/en/stable/)"
   ]
  },
  {
   "cell_type": "code",
   "execution_count": 1,
   "id": "hindu-phone",
   "metadata": {
    "slideshow": {
     "slide_type": "fragment"
    }
   },
   "outputs": [],
   "source": [
    "from pathlib import Path\n",
    "from openpyxl import load_workbook"
   ]
  },
  {
   "cell_type": "code",
   "execution_count": 3,
   "id": "a00a144c",
   "metadata": {
    "slideshow": {
     "slide_type": "fragment"
    }
   },
   "outputs": [],
   "source": [
    "data_route = Path('ejemplos') / \"clase04_2\" / \"Afluencia_turística_CORDOBA.xlsx\""
   ]
  },
  {
   "cell_type": "markdown",
   "id": "bdcbefa2",
   "metadata": {
    "slideshow": {
     "slide_type": "fragment"
    }
   },
   "source": [
    "Abrimos el archivo usando la función **load_workbook**"
   ]
  },
  {
   "cell_type": "code",
   "execution_count": 4,
   "id": "89f8f2fe",
   "metadata": {
    "slideshow": {
     "slide_type": "fragment"
    }
   },
   "outputs": [],
   "source": [
    "work_book = load_workbook(filename=data_route)"
   ]
  },
  {
   "cell_type": "markdown",
   "id": "53185520",
   "metadata": {
    "slideshow": {
     "slide_type": "subslide"
    }
   },
   "source": [
    "# Obtenemos los nombres de las hojas del archivo"
   ]
  },
  {
   "cell_type": "code",
   "execution_count": 5,
   "id": "eaa951cc",
   "metadata": {
    "slideshow": {
     "slide_type": "fragment"
    }
   },
   "outputs": [],
   "source": [
    "sheet_names = work_book.sheetnames"
   ]
  },
  {
   "cell_type": "code",
   "execution_count": 6,
   "id": "583a08c1",
   "metadata": {
    "slideshow": {
     "slide_type": "fragment"
    }
   },
   "outputs": [
    {
     "data": {
      "text/plain": [
       "['2023', '2022', '2021', '2020', '2019', '2018']"
      ]
     },
     "execution_count": 6,
     "metadata": {},
     "output_type": "execute_result"
    }
   ],
   "source": [
    "sheet_names"
   ]
  },
  {
   "cell_type": "markdown",
   "id": "d6d98bd8",
   "metadata": {
    "slideshow": {
     "slide_type": "subslide"
    }
   },
   "source": [
    "# Procesamos las hojas de datos\n",
    "\n",
    "Vamos a crear un diccionario con el nombre de la hoja como clave. En este caso, corresponden a los años desde 2018 a 2023.\n",
    "\n",
    "Usamos [iter_rows](https://openpyxl.readthedocs.io/en/stable/api/openpyxl.worksheet.worksheet.html?highlight=iter_rows#openpyxl.worksheet.worksheet.Worksheet.iter_rows)"
   ]
  },
  {
   "cell_type": "code",
   "execution_count": 7,
   "id": "secure-university",
   "metadata": {
    "slideshow": {
     "slide_type": "fragment"
    }
   },
   "outputs": [],
   "source": [
    "summer_tourists = {}"
   ]
  },
  {
   "cell_type": "code",
   "execution_count": 8,
   "id": "16be7412",
   "metadata": {
    "slideshow": {
     "slide_type": "fragment"
    }
   },
   "outputs": [],
   "source": [
    "for sheet_name in sheet_names:\n",
    "    sheet = work_book[sheet_name]\n",
    "    total_tourists = 0\n",
    "    # Iterar sobre las filas y columnas de la hoja\n",
    "    for row in sheet.iter_rows(values_only=True):\n",
    "        if row[0] in (\"Ene\", \"Feb\"):\n",
    "            total_tourists +=  row[10]\n",
    "    \n",
    "    summer_tourists[sheet_name] = total_tourists"
   ]
  },
  {
   "cell_type": "markdown",
   "id": "658614fa",
   "metadata": {
    "slideshow": {
     "slide_type": "subslide"
    }
   },
   "source": [
    "# Armamos el listado pedido"
   ]
  },
  {
   "cell_type": "code",
   "execution_count": 9,
   "id": "b5cb84e1",
   "metadata": {
    "slideshow": {
     "slide_type": "fragment"
    }
   },
   "outputs": [
    {
     "name": "stdout",
     "output_type": "stream",
     "text": [
      "TOTAL DE TURISTAS EN ENERO Y FEBRERO\n",
      "Año \tTotal de turistas\n",
      "2023 \t167788\n",
      "2022 \t156111\n",
      "2021 \t103723\n",
      "2020 \t204083\n",
      "2019 \t198448\n",
      "2018 \t203122\n"
     ]
    }
   ],
   "source": [
    "print(\"TOTAL DE TURISTAS EN ENERO Y FEBRERO\")\n",
    "print(\"Año \\tTotal de turistas\")\n",
    "for year, data in summer_tourists.items():\n",
    "    print(f\"{year} \\t{data}\")"
   ]
  },
  {
   "cell_type": "markdown",
   "id": "f773a3ee",
   "metadata": {
    "slideshow": {
     "slide_type": "subslide"
    }
   },
   "source": [
    "# DESAFIO  2\n",
    "\n",
    "> Guardar los datos del listado previo en un archivo en formato json."
   ]
  },
  {
   "cell_type": "code",
   "execution_count": 10,
   "id": "fa263a24",
   "metadata": {
    "slideshow": {
     "slide_type": "fragment"
    }
   },
   "outputs": [],
   "source": [
    "import json\n",
    "\n",
    "json_file= Path('ejemplos') / \"clase04_2\" / \"turistas.json\""
   ]
  },
  {
   "cell_type": "code",
   "execution_count": 11,
   "id": "5113f475",
   "metadata": {
    "slideshow": {
     "slide_type": "fragment"
    }
   },
   "outputs": [],
   "source": [
    "with open(json_file, \"w\") as file:\n",
    "    json.dump(summer_tourists, file, indent=4)"
   ]
  },
  {
   "cell_type": "markdown",
   "id": "c1272458",
   "metadata": {
    "slideshow": {
     "slide_type": "slide"
    }
   },
   "source": [
    "# DESAFIO  3\n",
    "\n",
    "> Queremos generar un archvo con formato csv de siguiente encabezado:\n",
    "\n",
    "> AÑO, VERANO, OTOÑO, INVIERNO, PRIMAVERA\n",
    "\n",
    "> con los totales de turistas en cada estación por año. \n",
    "\n",
    "Considerar que:\n",
    "- VERANO, corresponde de diciembre a febrero\n",
    "- OTOÑO, corresponde de marzo a mayo\n",
    "- INVIERNO corresponde de junio a agosto\n",
    "- PRIMAVERA, corresponde de septiembre a noviembre. \n"
   ]
  },
  {
   "cell_type": "code",
   "execution_count": null,
   "id": "7fa2fb19",
   "metadata": {
    "slideshow": {
     "slide_type": "fragment"
    }
   },
   "outputs": [],
   "source": [
    "# Solución\n"
   ]
  },
  {
   "cell_type": "markdown",
   "id": "ideal-rotation",
   "metadata": {
    "slideshow": {
     "slide_type": "slide"
    }
   },
   "source": [
    "<img src=\"imagenes/portada_video.png\" alt=\"nos vemos el martes\" style=\"width:1050px;\"/>\n"
   ]
  }
 ],
 "metadata": {
  "celltoolbar": "Slideshow",
  "kernelspec": {
   "display_name": "Python 3 (ipykernel)",
   "language": "python",
   "name": "python3"
  },
  "language_info": {
   "codemirror_mode": {
    "name": "ipython",
    "version": 3
   },
   "file_extension": ".py",
   "mimetype": "text/x-python",
   "name": "python",
   "nbconvert_exporter": "python",
   "pygments_lexer": "ipython3",
   "version": "3.11.8"
  }
 },
 "nbformat": 4,
 "nbformat_minor": 5
}
