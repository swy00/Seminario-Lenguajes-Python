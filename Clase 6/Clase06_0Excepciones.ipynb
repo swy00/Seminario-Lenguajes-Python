{
 "cells": [
  {
   "cell_type": "markdown",
   "id": "younger-ready",
   "metadata": {
    "slideshow": {
     "slide_type": "slide"
    }
   },
   "source": [
    "# Seminario de Lenguajes - Python\n",
    "## Cursada 2024\n",
    "### 🎒 Clase 6. Introducción al manejo de excepciones en Python"
   ]
  },
  {
   "cell_type": "markdown",
   "id": "0d5e751a",
   "metadata": {
    "slideshow": {
     "slide_type": "slide"
    }
   },
   "source": [
    "# 🎢 Probemos el siguiente código:"
   ]
  },
  {
   "cell_type": "code",
   "execution_count": null,
   "id": "31ac348d",
   "metadata": {
    "slideshow": {
     "slide_type": "fragment"
    }
   },
   "outputs": [],
   "source": [
    "archivo = open(\"pp.txt\")"
   ]
  },
  {
   "cell_type": "markdown",
   "id": "66eccf65",
   "metadata": {
    "slideshow": {
     "slide_type": "fragment"
    }
   },
   "source": [
    "## ❌¡Esto no puede pasar nunca en nuestros programas!"
   ]
  },
  {
   "cell_type": "markdown",
   "id": "0a3429bb-fedb-48a1-b72f-2e5c23529f9f",
   "metadata": {},
   "source": [
    "* ¿Por qué?\n",
    "* ¿En qué casos puede pasar este error?"
   ]
  },
  {
   "cell_type": "markdown",
   "id": "25b60448",
   "metadata": {
    "slideshow": {
     "slide_type": "subslide"
    }
   },
   "source": [
    "# 🎒 ¿Qué es un excepción?"
   ]
  },
  {
   "cell_type": "markdown",
   "id": "641c0e68",
   "metadata": {
    "slideshow": {
     "slide_type": "fragment"
    }
   },
   "source": [
    "> Una **excepción** es un acontecimiento, que ocurre **durante la ejecución** de un programa, que **interrumpe** el **flujo normal** de las instrucciones del programa. "
   ]
  },
  {
   "cell_type": "markdown",
   "id": "ac6725c7",
   "metadata": {
    "slideshow": {
     "slide_type": "subslide"
    }
   },
   "source": [
    "# ¿Qué situaciones pueden producir excepciones?\n",
    "\n",
    "- ✅ Abrir un archivo que no existe o  donde no tenemos permisos adecuados.\n",
    "- ✅ Acceder al contenido de un archivo que no respeta el formato.\n",
    "- ✅ Invocar a un método o función que no fue definida.\n",
    "- ✅ Referirse a una variable que no fue definida.\n",
    "- ✅ Mezclar tipos de datos sin convertirlos previamente.\n",
    "- Etc."
   ]
  },
  {
   "cell_type": "markdown",
   "id": "aa09de9b",
   "metadata": {
    "slideshow": {
     "slide_type": "subslide"
    }
   },
   "source": [
    "# 🚧 Excepciones \"sin manejar\"\n",
    "\n",
    "<center>\n",
    "<img src=\"imagenes/excepciones_examples.png\" alt=\"excepciones\" style=\"width:850px;\"/>\n",
    "</center>"
   ]
  },
  {
   "cell_type": "markdown",
   "id": "cae97ea3",
   "metadata": {
    "slideshow": {
     "slide_type": "subslide"
    }
   },
   "source": [
    "# 🎒 ¿Qué debemos investigar para trabajar con  excepciones?\n",
    "\n",
    "Primero: ¿el lenguaje de programación tiene soporte para el manejo de excepciones?\n",
    "   - Si no presenta ningún mecanísmo para esto, podríamos simularlo con otros recursos. Ejemplo: Pascal o C.\n",
    "   - Si provee mecanismos para el manejo de excepciones: ¿cuáles? Ejemplo: **Python**, Javascript, Java, Ruby, etc."
   ]
  },
  {
   "cell_type": "markdown",
   "id": "f4bb026c",
   "metadata": {
    "slideshow": {
     "slide_type": "subslide"
    }
   },
   "source": [
    "### 📌 Si el lenguaje provee manejo de  excepciones...\n",
    "\n",
    "- ¿Qué acción se toma después de levantada y manejada una excepción? ¿Se continúa con la ejecución de la unidad que lo provocó o se termina?\n",
    "- ¿En qué casos es más legible excepciones y cuándo control de flujo?\n",
    "- ¿Cómo se alcanza una excepción? \n",
    "- ¿Cómo se definen los manejadores de excepciones?\n",
    "- ¿Qué sucede cuando no se encuentra un manejador para una excepción levantada?\n",
    "- ¿El lenguaje tiene excepciones predefinidas?\n",
    "- ¿Podemos levantar en forma explícita una excepción?\n",
    "- ¿Podemos crear nuestras propias excepciones?"
   ]
  },
  {
   "cell_type": "markdown",
   "id": "b5bb07a9-cf0f-4d5f-91dd-25f3e8dcb834",
   "metadata": {},
   "source": [
    "# 🎒 Excepciones en Python"
   ]
  },
  {
   "cell_type": "markdown",
   "id": "d3eb6d22-5bc8-4659-9bb3-2612362a5b99",
   "metadata": {},
   "source": [
    "\n",
    "```python\n",
    "try:\n",
    "    sentencias\n",
    "except nombreExcepción:\n",
    "    sentencias\n",
    "except nombreExcepción:\n",
    "    sentencias\n",
    "except:\n",
    "```\n",
    "\n",
    "- [+Info](https://docs.python.org/3/library/exceptions.html)"
   ]
  },
  {
   "cell_type": "markdown",
   "id": "f80b18f0",
   "metadata": {
    "slideshow": {
     "slide_type": "subslide"
    }
   },
   "source": [
    "## Veamos un ejemplo"
   ]
  },
  {
   "cell_type": "code",
   "execution_count": null,
   "id": "a3851d85-b2d5-499e-af15-77308b824c00",
   "metadata": {},
   "outputs": [],
   "source": [
    "file_name = 'pp.txt'\n",
    "try:\n",
    "    file_data = open(file_name)\n",
    "except FileNotFoundError:\n",
    "    print(f'El archivo {file_name} no se encuentra')"
   ]
  },
  {
   "cell_type": "code",
   "execution_count": null,
   "id": "2574d5b8-f1a5-440b-b557-102bc1945002",
   "metadata": {},
   "outputs": [],
   "source": []
  },
  {
   "cell_type": "markdown",
   "id": "6eae0fee",
   "metadata": {
    "slideshow": {
     "slide_type": "subslide"
    }
   },
   "source": [
    "## 📝 Analicemos el siguiente código:"
   ]
  },
  {
   "cell_type": "code",
   "execution_count": null,
   "id": "bf6f3794-73a1-48c7-9041-d20fc512ade7",
   "metadata": {},
   "outputs": [],
   "source": [
    "import json\n",
    "from pathlib import   Path\n",
    "file_route = Path('files').resolve()\n",
    "file_name = 'libros_exception.json'\n",
    "try:\n",
    "    archivo = open(file_route/file_name)\n",
    "    data_books = json.load(archivo)\n",
    "except FileNotFoundError:\n",
    "    print(f'El archivo {file_name} no se encuentra')"
   ]
  },
  {
   "cell_type": "markdown",
   "id": "87af74ce-e3e7-4b87-91d4-5ed2ac8b1ef4",
   "metadata": {},
   "source": [
    "## 📌 ¿Por qué da error si hay un bloque try...except?\n",
    "Podríamos manejar las posibles excepciones:\n"
   ]
  },
  {
   "cell_type": "code",
   "execution_count": null,
   "id": "78da1fb5-7cc8-49e3-9538-a45ae893cecc",
   "metadata": {},
   "outputs": [],
   "source": [
    "import json\n",
    "from pathlib import   Path\n",
    "file_route = Path('files').resolve()\n",
    "file_name = 'libros_exception.json'\n",
    "try:\n",
    "    archivo = open(file_route/file_name)\n",
    "    data_books = json.loads(archivo)\n",
    "except (FileNotFoundError, JSONDecodeError):\n",
    "    print(f'Al abrir el archivo {file_name} hubo un error')\n"
   ]
  },
  {
   "cell_type": "markdown",
   "id": "a769b0af-92b8-40e7-992c-c47d88342d76",
   "metadata": {},
   "source": [
    "Tenemos dos problemas:\n",
    "* JSONDecodeError es una excepción del módulo **json**, por lo tanto debemos indicar el nombre del **módulo.exception**\n",
    "```python\n",
    "json.JSONDecodeError\n",
    "```\n",
    "* El mensaje de error es geńerico y no indica claramente qué error sucedió"
   ]
  },
  {
   "cell_type": "markdown",
   "id": "7998304d",
   "metadata": {
    "slideshow": {
     "slide_type": "subslide"
    }
   },
   "source": [
    "## 📌 Agregamos los manejadores"
   ]
  },
  {
   "cell_type": "code",
   "execution_count": null,
   "id": "757c26ba-087e-4c31-9957-ea27d9df3cb1",
   "metadata": {},
   "outputs": [],
   "source": [
    "import json\n",
    "from pathlib import   Path\n",
    "file_route = Path('files').resolve()\n",
    "file_name = 'libros_exception.json'\n",
    "try:\n",
    "    archivo = open(file_route/file_name)\n",
    "    data_books = json.load(archivo)\n",
    "except FileNotFoundError:\n",
    "    print(f'El archivo {file_name} no se encuentra')\n",
    "except json.JSONDecodeError:\n",
    "    print(f'Al abrir el archivo {file_name} hubo un error con el formato')"
   ]
  },
  {
   "cell_type": "markdown",
   "id": "581753d9-8ccb-426e-bb72-5c84ab2c3e8e",
   "metadata": {},
   "source": [
    "## 🚧 ¿Cómo buscamos el manejador?"
   ]
  },
  {
   "cell_type": "code",
   "execution_count": null,
   "id": "591f2388-00a3-4c93-9c5a-58205a437c2f",
   "metadata": {},
   "outputs": [],
   "source": [
    "file_books_csv = 'libross.csv'\n",
    "import csv\n",
    "with open(file_route/file_books_csv) as csvfile:\n",
    "    csv_reader = csv.reader(csvfile, delimiter=';')"
   ]
  },
  {
   "cell_type": "markdown",
   "id": "90e35a37-fff5-4f3c-86fa-7f6edbbdb19d",
   "metadata": {},
   "source": [
    "El error que se produce muestra las excepciones **predefinidas** de Python base."
   ]
  },
  {
   "cell_type": "markdown",
   "id": "7d36da5b-562c-46ea-b989-aa0e529a9ca6",
   "metadata": {},
   "source": [
    "## ¿Encontramos excepciones sólo en errores de archivos?"
   ]
  },
  {
   "cell_type": "code",
   "execution_count": 1,
   "id": "a2dad956-87ba-43d8-a5f2-a3290b191661",
   "metadata": {},
   "outputs": [
    {
     "ename": "NameError",
     "evalue": "name 'file_route' is not defined",
     "output_type": "error",
     "traceback": [
      "\u001b[1;31m---------------------------------------------------------------------------\u001b[0m",
      "\u001b[1;31mNameError\u001b[0m                                 Traceback (most recent call last)",
      "Cell \u001b[1;32mIn[1], line 3\u001b[0m\n\u001b[0;32m      1\u001b[0m file_books_csv \u001b[38;5;241m=\u001b[39m \u001b[38;5;124m'\u001b[39m\u001b[38;5;124mbooks.csv\u001b[39m\u001b[38;5;124m'\u001b[39m\n\u001b[0;32m      2\u001b[0m \u001b[38;5;28;01mimport\u001b[39;00m \u001b[38;5;21;01mcsv\u001b[39;00m\n\u001b[1;32m----> 3\u001b[0m \u001b[38;5;28;01mwith\u001b[39;00m \u001b[38;5;28mopen\u001b[39m(\u001b[43mfile_route\u001b[49m\u001b[38;5;241m/\u001b[39mfile_books_csv) \u001b[38;5;28;01mas\u001b[39;00m csvfile:\n\u001b[0;32m      4\u001b[0m     csv_reader \u001b[38;5;241m=\u001b[39m csv\u001b[38;5;241m.\u001b[39mreader(csvfile, delimiter\u001b[38;5;241m=\u001b[39m\u001b[38;5;124m'\u001b[39m\u001b[38;5;124m;\u001b[39m\u001b[38;5;124m'\u001b[39m)\n\u001b[0;32m      5\u001b[0m     \u001b[38;5;28;01mfor\u001b[39;00m row \u001b[38;5;129;01min\u001b[39;00m csv_reader:\n",
      "\u001b[1;31mNameError\u001b[0m: name 'file_route' is not defined"
     ]
    }
   ],
   "source": [
    "file_books_csv = 'books.csv'\n",
    "import csv\n",
    "with open(file_route/file_books_csv) as csvfile:\n",
    "    csv_reader = csv.reader(csvfile, delimiter=';')\n",
    "    for row in csv_reader:\n",
    "        if row[3] > '2024':\n",
    "            print(row)\n",
    "    header, data = next(csv_reader), list(csv_reader)\n",
    "    "
   ]
  },
  {
   "cell_type": "markdown",
   "id": "98c4264e-60ac-4028-ae94-7786384def18",
   "metadata": {},
   "source": [
    "### ¿Qué sucedió?\n",
    "*  Recorrimos una vez el iterador **csv_reader**.\n",
    "*  Cuando queremos asignar los valores a las variables no tira la excepción predefinida **StopIteration**.\n",
    "*  Excepción que debe ser controlada con programación."
   ]
  },
  {
   "cell_type": "markdown",
   "id": "0ccff77d",
   "metadata": {
    "slideshow": {
     "slide_type": "subslide"
    }
   },
   "source": [
    "### 📌 ¿Qué podemos decir del siguiente ejemplo? ¿Cómo es más legible?\n",
    "Se define una función para abrir el archivo."
   ]
  },
  {
   "cell_type": "code",
   "execution_count": null,
   "id": "b5f84f28-20cd-4c2d-9ece-0952539d5c18",
   "metadata": {},
   "outputs": [],
   "source": [
    "import json\n",
    "from pathlib import   Path\n",
    "def read_data(data_file):\n",
    "    \n",
    "    file_route = Path('files').resolve()\n",
    "    file_name = data_file\n",
    "    try:\n",
    "        archivo = open(file_route/file_name)\n",
    "        data_books = json.load(archivo)\n",
    "        return data_books\n",
    "    except FileNotFoundError:\n",
    "        print(f'El archivo {file_name} no se encuentra')\n",
    "    except json.JSONDecodeError:\n",
    "        print(f'Al abrir el archivo {file_name} hubo un error con el formato')\n",
    "    "
   ]
  },
  {
   "cell_type": "markdown",
   "id": "15a21b57-bafd-4ba9-98a3-876eb9da1a9b",
   "metadata": {},
   "source": [
    "* Leemos los datos llamando a la función"
   ]
  },
  {
   "cell_type": "code",
   "execution_count": null,
   "id": "6adddee3-c634-4bee-8e21-dba6736621d3",
   "metadata": {},
   "outputs": [],
   "source": [
    "file_name = 'libros.json'"
   ]
  },
  {
   "cell_type": "code",
   "execution_count": null,
   "id": "9d800e9e-0c52-43e9-8104-38d7d5545d38",
   "metadata": {},
   "outputs": [],
   "source": [
    "data_books = read_data(file_name)\n"
   ]
  },
  {
   "cell_type": "markdown",
   "id": "90746111-19f9-420f-959b-43800db9b3af",
   "metadata": {},
   "source": [
    "* Y ahora accedemos leyendo los datos"
   ]
  },
  {
   "cell_type": "code",
   "execution_count": null,
   "id": "ce354fc1-8710-4efc-a00f-370051d298e9",
   "metadata": {},
   "outputs": [],
   "source": [
    "try:\n",
    "    print(f\"autores argentinos {data_books['argentinos']}\")\n",
    "except KeyError:\n",
    "    print(\"Con try: No hay autores argentinos\")\n",
    "\n",
    "if 'argentinos' in data_books:\n",
    "    print(f\"autores argentinos {data_books['argentinos']}\")\n",
    "else:\n",
    "    print(\"Con if : No hay autores argentinos\")"
   ]
  },
  {
   "cell_type": "markdown",
   "id": "61a9a49c-732a-48fb-abed-a6cbeabef770",
   "metadata": {},
   "source": [
    "## 📌 ¿Cuál les parece más legible?\n",
    "Hay diferentes formas de verificar la existencia de un dato, por ejemplo una key:\n",
    "\n",
    "* El manejo de excepciones hizo que al intentar acceder al diccionario, con una clave inexistente, el programa **no se rompa**.\n",
    "* La estructura condicional verifica si existe y también evita que se **rompa**.\n",
    "* En ambos **informamos cuál es el problema**."
   ]
  },
  {
   "cell_type": "markdown",
   "id": "cb0d2053-f11c-4f77-b93d-08afad380099",
   "metadata": {},
   "source": [
    "Los posibles errores generan las diferentes excepciones que están definidas en:\n",
    "*  **predefinidas** en el código base de Python.\n",
    "* o en las librerías que **importamos**, como es el caso de json sobre el formato."
   ]
  },
  {
   "cell_type": "markdown",
   "id": "2d0acfdb-1ef9-4692-9a32-a56fcf6c7b7c",
   "metadata": {},
   "source": [
    "# 🎒 Flujo de las excepciones\n",
    "* Veamos ahora la misma función pero sin capturar la excepción **json.JSONDecodeError** dentro de la función:"
   ]
  },
  {
   "cell_type": "code",
   "execution_count": null,
   "id": "432d30bb-99bf-4bbc-99ad-b2fbc70bf273",
   "metadata": {},
   "outputs": [],
   "source": [
    "def read_data(data_file):\n",
    "    \n",
    "    file_route = Path('files').resolve()\n",
    "    file_name = data_file\n",
    "    try:\n",
    "        archivo = open(file_route/file_name)\n",
    "        data_books = json.load(archivo)\n",
    "        return data_books\n",
    "    except FileNotFoundError:\n",
    "        print(f'El archivo {file_name} no se encuentra')\n",
    "    "
   ]
  },
  {
   "cell_type": "code",
   "execution_count": null,
   "id": "0caa9cb3-7db7-4560-9dc5-2bb0fab6c1e9",
   "metadata": {},
   "outputs": [],
   "source": [
    "file_name = 'libros_exception.json'\n",
    "try:\n",
    "    data_books = read_data(file_name)\n",
    "except:\n",
    "    print('Errores varios')"
   ]
  },
  {
   "cell_type": "markdown",
   "id": "b267c5d6-af0c-4a11-982b-4dd6ae680e27",
   "metadata": {},
   "source": [
    "## 📌¿Qué sucedió?\n",
    "\n",
    "\n",
    "- La excepción json.JSONDecodeError no se levantó dentro de la función **read_data**.\n",
    "- Python **Busca estáticamene** si el bloque está encerrado en otro bloque try except.\n",
    "- Al no encontrar un manejador para esa excepción en la función ...\n",
    "    - **Busca dinámicamente** a quién llamó a la función. \n",
    "    - Al encontrar otro bloque que contempla excepciones **generales**, la captura y termina el programa sin error."
   ]
  },
  {
   "cell_type": "markdown",
   "id": "de21a03d-dc77-43e2-9771-567b3262341c",
   "metadata": {},
   "source": [
    "## 📌 ¿Cómo es la forma de **propagación** que utiliza Python?\n",
    "\n",
    "- Primero busca **estáticamente**.\n",
    "- Si no se encuentra, busca **dinámicamente** a quién llamó a la función.\n",
    "- Si encuentra un manejador lo captura.\n",
    "- Si no encuentra un manejador... entonces termina el programa ... con error.."
   ]
  },
  {
   "cell_type": "markdown",
   "id": "3d3ddeb8-8b54-4b59-a6f1-034a2a8f42af",
   "metadata": {},
   "source": [
    "## 📌 Ya respondimos algunas de las preguntas iniciales:\n",
    "\n",
    "- **¿Qué acción se toma después de levantada y manejada una excepción? ¿Se continúa con la ejecución de la unidad que lo provocó o se termina?**\n",
    "- **¿En qué casos es mas legible excepciones y cuándo flow-control?**\n",
    "- **¿Cómo se alcanza una excepción?**\n",
    "- **¿Cómo especificar los manejadores de excepciones que se deben ejecutar cuando se alcanzan las mismas?**\n",
    "- **¿Qué sucede cuando no se encuentra un manejador para una excepción levantada?**\n",
    "- **¿El lenguaje tiene excepciones predefinidas?**\n",
    "- ¿Podemos levantar en forma explícita una excepción?\n",
    "- ¿Podemos crear nuestras propias excepciones?"
   ]
  },
  {
   "cell_type": "markdown",
   "id": "c1ae77d9-14db-4363-b633-27182018b55d",
   "metadata": {},
   "source": [
    "# 🎒 Y en Streamlit?"
   ]
  },
  {
   "cell_type": "markdown",
   "id": "3c4f438d-e3c6-4f3e-b1f9-c4f6048022fc",
   "metadata": {},
   "source": [
    "Streamlit permite capturar excepciones e informar con mensajes específicos los errores, veamos un ejemplo:"
   ]
  },
  {
   "cell_type": "markdown",
   "id": "247fde95-7b08-4ead-9a9a-ae03ce43a6c2",
   "metadata": {},
   "source": [
    "```python\n",
    "file_areas = 'area_prootegida.csv'\n",
    "try:\n",
    "    with open(files_directory/file_areas) as file:\n",
    "        csv_reader = csv.reader(file)\n",
    "        try:\n",
    "            header = next(csv_reader)\n",
    "            data = list(csv_reader)\n",
    "        except csv.Error as e:\n",
    "            st.error(f\"Error al leer el archivo CSV: {e}\")\n",
    "except FileNotFoundError:\n",
    "    data = []\n",
    "    st.error(f\"Archivo {file_areas} no encontrado\")\n",
    "```"
   ]
  },
  {
   "cell_type": "markdown",
   "id": "34d89571-4a0a-466d-9090-18547268ff92",
   "metadata": {},
   "source": [
    "* ✅ El flujo de try...except es igual y puede utilizarse el método **st.error** para mostrar el mensaje.\n",
    "* ✅ En la mayoría de los casos no es necesario **reinicar** la aplicación.\n",
    "* ✅ Los mensajes se muestran en la página web."
   ]
  },
  {
   "cell_type": "markdown",
   "id": "8332732b-9056-46b6-98e9-94718ee101ea",
   "metadata": {},
   "source": [
    "## 📌 Uso de excepciones\n",
    "Vimos hasta ahora ejemplos de:\n",
    "* ✅ Archivo no encontrado.\n",
    "* ✅ Error en el formato del archivo leído.\n",
    "* ✅ Error en iteradores.\n",
    "* ✅ Opcionalmente key inexistente en un diccionario."
   ]
  },
  {
   "cell_type": "markdown",
   "id": "9a0beea1-8b44-4103-ac48-2b8e2b431ef4",
   "metadata": {},
   "source": [
    "Otro ejemplo de posibles errores inesperados es cuando trabajamos con datos que no generamos nosotros sino que leemos de un sitio externo o apis, los errores que pueden suceder:\n",
    "* ✅ La lectura no siempre es posible.\n",
    "* ✅ El formato puede ser modificando sin saberlo.\n",
    "* ✅ Los datos no respetan los tipos de datos.\n",
    "* Etc."
   ]
  },
  {
   "cell_type": "markdown",
   "id": "34c7aa41",
   "metadata": {
    "slideshow": {
     "slide_type": "slide"
    }
   },
   "source": [
    "## 🚨 Desafío\n",
    "\n",
    "> Analizar el código del la aplicación que procesa el archivo **areas_protegidas.csv** que dejamos como material la semana pasada  y veamos en qué casos se puede utilizar el manejo de excepciones que realiza. "
   ]
  },
  {
   "cell_type": "markdown",
   "id": "db2d7ec1-c1b8-4abf-b54b-5d347f0cff67",
   "metadata": {},
   "source": [
    "# 🎒 La sentencia completa\n",
    "\n",
    "```python\n",
    "try:\n",
    "    sentencias\n",
    "except excepcion1, excepcion2:\n",
    "    sentencias\n",
    "except:\n",
    "    sentencias\n",
    "else:\n",
    "    sentencias\n",
    "finally:\n",
    "    sentencias\n",
    "    \n",
    "```"
   ]
  },
  {
   "cell_type": "markdown",
   "id": "af6d7a82-cc40-4872-8ee7-b204412433b0",
   "metadata": {},
   "source": [
    "### 📌 Veamos este ejemplo sencillo"
   ]
  },
  {
   "cell_type": "code",
   "execution_count": null,
   "id": "1049c59c-6044-46d1-9f7a-fbda0da2170d",
   "metadata": {},
   "outputs": [],
   "source": [
    "file_books_csv = 'libross.csv'\n",
    "import csv\n",
    "\n",
    "    \n",
    "try:\n",
    "    with open(file_route/file_books_csv) as csvfile:\n",
    "        csv_reader = csv.reader(csvfile, delimiter=';')\n",
    "except FileNotFoundError:\n",
    "    print(\"El archivo no se encuentra\")\n",
    "else:\n",
    "    print(\"Este mensaje se imprime porque  NO se levantó la excepción\")\n",
    "finally:\n",
    "    print(\"Este mensaje se imprime SIEMPRE\")"
   ]
  },
  {
   "cell_type": "markdown",
   "id": "27c63c3e-e1db-4657-a021-61b0e208e370",
   "metadata": {},
   "source": [
    "### Entonces, ¿para qué usamos else y finally?"
   ]
  },
  {
   "cell_type": "markdown",
   "id": "bf13f85f-3931-4dff-8dda-189f5ac1693d",
   "metadata": {},
   "source": [
    "## 🎒 else y finally\n",
    "\n",
    ">Se utiliza la cláusula **else** para incluir el código que se debería ejecutar si **no se levanta ninguna excepción** en el bloque try..except.\n",
    "\n",
    ">Se utiliza la cláusula **finally** para incluir el código que se ejecuta **siempre**, independientemente si se levanta o no alguna excepción en el bloque try..except"
   ]
  },
  {
   "cell_type": "markdown",
   "id": "93484db6-a8ef-4704-90f2-a2483b730fc8",
   "metadata": {},
   "source": [
    "### 📌 Observemos el bloque finally en este otro ejemplo:"
   ]
  },
  {
   "cell_type": "code",
   "execution_count": null,
   "id": "92deaac8-1a10-47b5-ba6e-e455fc80be8c",
   "metadata": {},
   "outputs": [],
   "source": [
    "\n",
    "file_route = Path('files').resolve()\n",
    "file_name = 'libros_exception.json'\n",
    "try:\n",
    "    print(\"Entrando al primer try ...\")\n",
    "    try:\n",
    "        with open(file_route/file_name) as file:\n",
    "            data_books = json.load(file)\n",
    "        print('No hubo error sigo con mi programa')\n",
    "    except FileNotFoundError:\n",
    "        print(f'El archivo {file_name} no se encuentra') \n",
    "   \n",
    "    finally:\n",
    "        print(\"Saliendo del primer try ... \")\n",
    "\n",
    "except json.JSONDecodeError:\n",
    "        print(f\"TRY EXTERNO: error de formato de json en  {file_name}\")\n",
    "print('Sigo con mi programa....')\n",
    "#print(data_books)"
   ]
  },
  {
   "cell_type": "markdown",
   "id": "661b007e-29a5-4085-af8f-f2ec2bd4880b",
   "metadata": {},
   "source": [
    "* La sentencia dentro de **finally** se ejecuta a pesar de la excepción.\n"
   ]
  },
  {
   "cell_type": "markdown",
   "id": "25dcd7ba-1e20-4a91-9aa8-5f5dcfa4e161",
   "metadata": {},
   "source": [
    "### 📌 ¿Y el else?"
   ]
  },
  {
   "cell_type": "code",
   "execution_count": null,
   "id": "53481730-47f9-4a15-9b9b-db307aaf4781",
   "metadata": {},
   "outputs": [],
   "source": [
    "file_route = Path('files').resolve()\n",
    "file_name = 'libros.json'\n",
    "try:\n",
    "    with open(file_route/file_name) as file:\n",
    "        data_books = json.load(file)\n",
    "        \n",
    "except FileNotFoundError:\n",
    "    print(f'El archivo {file_name} no se encuentra')\n",
    "except json.JSONDecodeError:\n",
    "    print(f'Al abrir el archivo {file_name} hubo un error con el formato')\n",
    "else:\n",
    "    print('No hubo error dentro del try sigo con mi programa')\n",
    "finally:\n",
    "    print(\"Siempre me ejecuto\")"
   ]
  },
  {
   "cell_type": "markdown",
   "id": "d1b21772-0c18-4fb6-b391-235499bda851",
   "metadata": {},
   "source": [
    "## 🎒 Podemos levantar explícitamente excepciones"
   ]
  },
  {
   "cell_type": "code",
   "execution_count": null,
   "id": "88ae033c-7c17-4a82-8603-9491da80f1a4",
   "metadata": {},
   "outputs": [],
   "source": [
    "file_route = Path('files').resolve()\n",
    "file_name = 'libros.json'\n",
    "try:\n",
    "    print ('Entramos al bloque try')\n",
    "    with open(file_route/file_name) as file:\n",
    "        data_books = json.load(file)\n",
    "    countries = ['Colombia', 'Brasil', 'Chile', 'Argentina', ]\n",
    "    for country in countries:\n",
    "        print(country)\n",
    "        if country not in data_books.keys():\n",
    "            raise KeyError\n",
    "        else:\n",
    "            print(data_books[country])\n",
    "    print('Continuamos con el proceso..')\n",
    "except KeyError:\n",
    "    data_books[country] = 'NUEVO'\n",
    "data_books[country]"
   ]
  },
  {
   "cell_type": "markdown",
   "id": "8a7e1fa7-3ed8-4df0-b4f5-14f19564f70f",
   "metadata": {},
   "source": [
    "* La sentenica **raise** levantó una excepción explícitamente definida: **KeyError**.\n",
    "* El bloque la captura con la sentencia  except."
   ]
  },
  {
   "cell_type": "markdown",
   "id": "807dba83-fd8f-4bda-95fe-ea1edc50fd35",
   "metadata": {},
   "source": [
    "## También es posible utilizar raise para:"
   ]
  },
  {
   "cell_type": "code",
   "execution_count": null,
   "id": "0d8c0de5-1c4c-459d-8192-3ff28eba9c64",
   "metadata": {},
   "outputs": [],
   "source": [
    "import sys\n",
    "file_name = 'libros_exception.json'\n",
    "\n",
    "def read_data(data_file):\n",
    "    file_route = Path('files').resolve()\n",
    "    try:\n",
    "        with open(file_route/data_file) as file:\n",
    "            data_books = json.load(file)\n",
    "    except:\n",
    "        print('Se levantó un excepción')\n",
    "        #print(f'detalle: {sys.exc_info()}')\n",
    "        raise\n",
    "      \n",
    "\n",
    "try:\n",
    "    read_data(file_name)\n",
    "except:\n",
    "    print('No se puede leer el archivo')\n",
    "\n",
    "try:\n",
    "    read_data('hola.json')\n",
    "except:\n",
    "    print('No se puede abrir el archivo')    \n"
   ]
  },
  {
   "cell_type": "markdown",
   "id": "4311b558-aeaa-4299-b08d-3943c9520dc3",
   "metadata": {},
   "source": [
    "### ¿Qué excepción se levantó?\n",
    "**Raise**\n",
    "\n",
    "- Permite generar un traceback de la excepción que se generó.\n",
    "- Vuelve a lanzar la última excepción que estaba activa en el ámbito actual.\n",
    "    >las excepciones de los try que llamaron a la función\n",
    "- [Documentación.](https://docs.python.org/es/3.10/reference/simple_stmts.html#raise)\n",
    "- [**sys.exc_info()**](https://docs.python.org/3.10/library/sys.html#sys.exc_info) almacena el estado del hilo de ejecución, el contexto de la excepción.\n"
   ]
  },
  {
   "cell_type": "code",
   "execution_count": null,
   "id": "c55dfd2a-b011-4e6e-8369-894d8aa73795",
   "metadata": {},
   "outputs": [],
   "source": [
    "file_route = Path('files').resolve()   \n",
    "file_name = 'libros.json'       \n",
    "try:\n",
    "    with open(file_route/file_name) as file:\n",
    "       data_books = json.load(file)\n",
    "    if 'Brasil' not in data_books.keys():\n",
    "       raise        \n",
    "except KeyError:\n",
    "    print(\"Manejando KeyError\")\n",
    "\n",
    "read_data(file_name)"
   ]
  },
  {
   "cell_type": "markdown",
   "id": "eeab9859-fc79-4cc6-a533-b119e86583fc",
   "metadata": {},
   "source": [
    "- Si no hay ninguna excepción activa en el alcance actual, se lanza **RuntimeError** que indica que se trata de un error."
   ]
  },
  {
   "cell_type": "markdown",
   "id": "aceea248-d5ef-46ed-ac50-56ba07278baa",
   "metadata": {},
   "source": [
    "# 🎒 Algunas de las excepciones predefinidas (Built-in)\n",
    "\t\n",
    "- **ImportError**: error con importación de módulos.\n",
    "- **ModuleNotFoundError**: error por módulo no encontrado.\n",
    "- **IndexError**: error por índice fuera de rango.\n",
    "- **KeyError**: error por clave inexistente.\n",
    "- **NameError**: error por nombre no encontrado.\n",
    "- **SyntaxError**: error por problemas sintácticos\n",
    "- **ZeroDivisionError**: error por división por cero.\n",
    "- **IOError**: error en entrada salida.\n",
    "\n",
    "\n",
    "[Listado completo](https://docs.python.org/3/library/exceptions.html)"
   ]
  },
  {
   "cell_type": "markdown",
   "id": "f754e9ac-fce5-42de-aee4-7d8867b1a211",
   "metadata": {},
   "source": [
    "# 📌 En resumen:\n",
    "\n",
    "\n",
    "```python\n",
    "try:\n",
    "    sentencias\n",
    "except excepcion1, excepcion2:\n",
    "    sentencias\n",
    "except excepcion3 as variable:\n",
    "    sentencias\n",
    "except:\n",
    "    sentencias\n",
    "else:\n",
    "    sentencias\n",
    "finally:\n",
    "    sentencias\n",
    "    \n",
    "```"
   ]
  },
  {
   "cell_type": "markdown",
   "id": "29dbcb26-44c5-4f72-8c73-9bd6a356d9ef",
   "metadata": {},
   "source": [
    "# 🚨 Repasemos los desafíos de Streamlit que quedaron en el material"
   ]
  },
  {
   "cell_type": "markdown",
   "id": "ca2841d5",
   "metadata": {
    "slideshow": {
     "slide_type": "slide"
    }
   },
   "source": [
    "#  Seguimos la próxima ..."
   ]
  }
 ],
 "metadata": {
  "celltoolbar": "Slideshow",
  "kernelspec": {
   "display_name": "Python 3 (ipykernel)",
   "language": "python",
   "name": "python3"
  },
  "language_info": {
   "codemirror_mode": {
    "name": "ipython",
    "version": 3
   },
   "file_extension": ".py",
   "mimetype": "text/x-python",
   "name": "python",
   "nbconvert_exporter": "python",
   "pygments_lexer": "ipython3",
   "version": "3.10.9"
  }
 },
 "nbformat": 4,
 "nbformat_minor": 5
}
