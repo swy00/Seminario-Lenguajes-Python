{
 "cells": [
  {
   "cell_type": "markdown",
   "metadata": {},
   "source": [
    "## Actividad 3 por Python Plus"
   ]
  },
  {
   "cell_type": "code",
   "execution_count": 1,
   "metadata": {},
   "outputs": [],
   "source": [
    "def my_function(file_name):\n",
    "    with open(file_name) as file:\n",
    "        data = json.load(file) # type: ignore\n",
    "        artists = sorted(data, key=lambda x: x[\"nombre\"])\n",
    "        artists = list(map(lambda x: x[\"nombre\"], artists))\n",
    "        return artists[:3]  "
   ]
  },
  {
   "cell_type": "code",
   "execution_count": 2,
   "metadata": {},
   "outputs": [
    {
     "name": "stdout",
     "output_type": "stream",
     "text": [
      "Adele\n",
      "Ed Sheeran\n",
      "Héroes del Silencio\n"
     ]
    }
   ],
   "source": [
    "import json\n",
    "file_name = 'musica.json'\n",
    "try:\n",
    "    my_songs = my_function(file_name)\n",
    "except FileNotFoundError:\n",
    "    print(\"Tenemos un problema!!\")\n",
    "finally:\n",
    "    for song in my_songs:\n",
    "        print(song)"
   ]
  },
  {
   "cell_type": "markdown",
   "metadata": {},
   "source": [
    "- A) Modificar my_function para:\n",
    "    - my_function(file) --> mismo comportamiento\n",
    "    - my_function(file, 3) -> retorna los primeros 3 elementos\n",
    "    - my_function(file, 3, True) -> retorna los últimos 3 elementos\n",
    "    "
   ]
  },
  {
   "cell_type": "code",
   "execution_count": null,
   "metadata": {},
   "outputs": [],
   "source": [
    "def my_function(file_name, e=3, last=False):\n",
    "    with open(file_name) as file:\n",
    "        data = json.load(file)\n",
    "        artists = sorted(data, key=lambda x: x[\"nombre\"])\n",
    "        artists = list(map(lambda x: x[\"nombre\"], artists))\n",
    "        \n",
    "        if not last: #Si se pasa el True, devuelve los ultimos 3\n",
    "            return artists[:e]\n",
    "        else:\n",
    "            return artists[-e:]"
   ]
  },
  {
   "cell_type": "markdown",
   "metadata": {},
   "source": [
    "- B) La función modificada en el punto anterior ¿con cuántos parámetros obligatorios se puede\n",
    "invocar?¿Y opcionales?\n",
    "\n",
    "_La funcion modificada se puede invocar con 1 parametro obligatorio (file-name), los otros 2 parametros (e y last) son opcionales_"
   ]
  },
  {
   "cell_type": "markdown",
   "metadata": {},
   "source": [
    "- C) ¿Dónde debe estar ubicado el archivo para que no se produzca una excepción al ejecutar la\n",
    "función open? Si el archivo no puede abrirse el programa igualmente da error. Explicá por qué\n",
    "sucede esto y modificá el código para que esto no suceda\n",
    "\n",
    "_El archivo debe estar en la misma ubicacion que el codigo (.py/.ipynb) para que no se produzca ningun error al abrirlo._\n",
    "\n",
    "_Si el archivo no puede abrirse el problema da igualmente error porque el bloque FINALLY va a ejecutarse igualmente, por lo tanto va a intentar acceder a una variable que no existe, una posible solucion sería cambiar esto por un else, para que se ejecute solamente si es posible abrir el archivo_"
   ]
  },
  {
   "cell_type": "code",
   "execution_count": 4,
   "metadata": {},
   "outputs": [
    {
     "name": "stdout",
     "output_type": "stream",
     "text": [
      "Marcos Fava\n",
      "Panza\n",
      "William Campbell\n"
     ]
    }
   ],
   "source": [
    "def my_function(file_name, e=3, last=False):\n",
    "    with open(file_name) as file:\n",
    "        data = json.load(file)\n",
    "        artists = sorted(data, key=lambda x: x[\"nombre\"])\n",
    "        artists = list(map(lambda x: x[\"nombre\"], artists))\n",
    "        \n",
    "        if not last: #Si se pasa el True, imprime los ultimos 3\n",
    "            return artists[:e]\n",
    "        else:\n",
    "            return artists[-e:]\n",
    "\n",
    "import json\n",
    "file_name = 'musica.json'\n",
    "try:\n",
    "    my_songs = my_function(file_name,3,True)\n",
    "except FileNotFoundError:\n",
    "    print(\"Tenemos un problema!!\")\n",
    "else:  #Para que se ejecute solamente cuando no hay errores\n",
    "    for song in my_songs:\n",
    "        print(song)"
   ]
  },
  {
   "cell_type": "markdown",
   "metadata": {},
   "source": [
    "- D) ¿En dónde agregarías otro manejador de excepciones de manera tal de controlar que el archivo\n",
    "tiene el formato JSON y en caso de no tenerlo, que no de error. ACLARACIÓN: no es necesario\n",
    "que hagas la modificación\n",
    "\n",
    "_La excepcion que se debería usar para lo relacionado con el formato del Json es \"json.JSONDecodeError\"_\n",
    "_Se podría agregar debajo del bloque except existente o dentro de la función, aunque siguiendo el formato del codigo optaría por la primera._"
   ]
  },
  {
   "cell_type": "code",
   "execution_count": null,
   "metadata": {},
   "outputs": [],
   "source": [
    "def my_function(file_name, e=3, last=False):\n",
    "    with open(file_name) as file:\n",
    "        data = json.load(file)\n",
    "        artists = sorted(data, key=lambda x: x[\"nombre\"])\n",
    "        artists = list(map(lambda x: x[\"nombre\"], artists))\n",
    "        \n",
    "        if not last: #Si se pasa el True, imprime los ultimos 3\n",
    "            return artists[:e]\n",
    "        else:\n",
    "            return artists[-e:]\n",
    "\n",
    "import json\n",
    "file_name = 'musica.json'\n",
    "try:\n",
    "    my_songs = my_function(file_name)\n",
    "except FileNotFoundError:\n",
    "    print(\"Tenemos un problema!!\")\n",
    "except json.JSONDecodeError:\n",
    "    print(f\"Error con el formato de {file_name}\")\n",
    "else:  #Para que se ejecute solamente cuando no hay errores\n",
    "    for song in my_songs:\n",
    "        print(song)"
   ]
  },
  {
   "cell_type": "markdown",
   "metadata": {},
   "source": [
    "- E) ¿Cuál es tipo de dato de la variable my_songs? Si quisiéramos acceder a su contenido en\n",
    "otras partes del código y recorrerla más de una vez, ¿qué solución proponés? ACLARACIÓN:\n",
    "no es necesario que hagas la modificación\n",
    "\n",
    "_La variable my-songs es una lista, una posible solucion si se quisiera recorrer varias veces en otras partes del código sería convertirla en un iterador para disminuir tiempo de ejecucion y consumo de memoria._\n",
    "\n",
    "- Posibles solución de esto: \n",
    "    - my_songs = iter(my_function(...)) , estaría creando un iterador de la lista que retorna la función."
   ]
  },
  {
   "cell_type": "markdown",
   "metadata": {},
   "source": [
    "2) Obtené con la IA una versión alternativa para la modificación pedida en el inciso a. Describí\n",
    "el resultado obtenido y compará con tu solución."
   ]
  },
  {
   "cell_type": "code",
   "execution_count": null,
   "metadata": {},
   "outputs": [],
   "source": [
    "# RESPUESTA DE CHATGTP\n",
    "\n",
    "import json\n",
    "\n",
    "def my_function(file_name, count=None, reverse=False):\n",
    "    with open(file_name) as file:\n",
    "        data = json.load(file)\n",
    "        artists = sorted(data, key=lambda x: x[\"nombre\"])\n",
    "        artists = list(map(lambda x: x[\"nombre\"], artists))\n",
    "        \n",
    "        if count is not None:\n",
    "            if reverse:\n",
    "                return artists[-count:]\n",
    "            else:\n",
    "                return artists[:count]\n",
    "        else:\n",
    "            return artists"
   ]
  },
  {
   "cell_type": "markdown",
   "metadata": {},
   "source": [
    "_La respuesta es parecida en general, la diferencia es que no le asigna valor por defecto a count lo que hace que sea necesario un bloque if._\n",
    "_Pero tiene un error, ya que cuando no se pasa el parametro count, está devolviendo todos los nombres en vez de solamente devolver los primeros 3 como la original._"
   ]
  }
 ],
 "metadata": {
  "kernelspec": {
   "display_name": "Python 3",
   "language": "python",
   "name": "python3"
  },
  "language_info": {
   "codemirror_mode": {
    "name": "ipython",
    "version": 3
   },
   "file_extension": ".py",
   "mimetype": "text/x-python",
   "name": "python",
   "nbconvert_exporter": "python",
   "pygments_lexer": "ipython3",
   "version": "3.11.2"
  }
 },
 "nbformat": 4,
 "nbformat_minor": 2
}
