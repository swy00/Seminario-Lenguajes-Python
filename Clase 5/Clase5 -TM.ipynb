{
 "cells": [
  {
   "cell_type": "markdown",
   "id": "private-distributor",
   "metadata": {
    "slideshow": {
     "slide_type": "slide"
    }
   },
   "source": [
    "# Seminario de Lenguajes - Python\n",
    "## Cursada 2024\n",
    "\n",
    "## Clase 6 - Autoevaluación - TM"
   ]
  },
  {
   "cell_type": "markdown",
   "id": "suburban-header",
   "metadata": {
    "slideshow": {
     "slide_type": "slide"
    }
   },
   "source": [
    "# Encuesta 1:  observemos el siguiente código:\n",
    "## Marcar la/s opciones que son correctas"
   ]
  },
  {
   "cell_type": "code",
   "execution_count": null,
   "id": "d3e2a38f",
   "metadata": {
    "slideshow": {
     "slide_type": "fragment"
    }
   },
   "outputs": [],
   "source": [
    "import json\n",
    "file_route = 'ejemplos' / \"clase04\" / \"musica.json\"\n",
    "\n",
    "with open(file_route) as file_data:\n",
    "    data = json.load(file_data)\n",
    "    print(data)"
   ]
  },
  {
   "cell_type": "markdown",
   "id": "bdafcf8e",
   "metadata": {},
   "source": [
    "```\n",
    "A. Si el archivo musica.json existe se abre y se imprime por pantalla su contenido.\n",
    "B. Da error porque no se pasó el parámetro 'r' al abrir el archivo.\n",
    "C. Da error porque no se definió correctamente el objeto file_route.\n",
    "D. Da error porque no se cerró correctamente el archivo. \n",
    "```"
   ]
  },
  {
   "cell_type": "markdown",
   "id": "a4dad59e",
   "metadata": {},
   "source": [
    "# Encuesta 2:  ¿cuándo puede dar un error el siguiente código?"
   ]
  },
  {
   "cell_type": "code",
   "execution_count": null,
   "id": "a0102664",
   "metadata": {},
   "outputs": [],
   "source": [
    "with open(\"libros.csv\") as archivo_csv:\n",
    "    csv_reader = csv.reader(archivo_csv)\n",
    "    encabezado, datos = next(csv_reader), list(csv_reader)\n",
    "\n",
    "libros = filter(lambda x: len(x[2])>5, datos)\n",
    "for x in libros:\n",
    "    print(x)"
   ]
  },
  {
   "cell_type": "markdown",
   "id": "9776d017",
   "metadata": {
    "slideshow": {
     "slide_type": "slide"
    }
   },
   "source": [
    "Donde **libros.csv** es un archivo en formato csv,  cuyas primeras filas contienen los siguientes datos: \n",
    "```\n",
    "'Año_publicación','Titulo', 'Descripcion', 'Ranking',  'Precio'\n",
    "'2003','La Insoportable levedad del Ser', 'Esta es una extraordinaria historia de amor', '9.7',  '1200'\n",
    "'2013','La templanza', 'Nada hacía suponer a Mauro Larrea que la fortuna que levantó tras años de tesón y arrojo', '8.7',  '1400'\n",
    "'1998','Último Vuelo', 'Quiero que sepas que soy muy consciente de los riesgos', '8.7',  '1400'\n",
    "....\n",
    "```"
   ]
  },
  {
   "cell_type": "markdown",
   "id": "abroad-namibia",
   "metadata": {
    "slideshow": {
     "slide_type": "fragment"
    }
   },
   "source": [
    "```\n",
    "A. Los libros sin la primera fila con ranking mayor a 5.\n",
    "B. Los libros sin la primera fila con longitud de la Descripcion mayor a 5.\n",
    "C. El código es erróneo porque se intenta acceder al archivo fuera del with y el mismo y está cerrado.\n",
    "D. El código es erróneo porque no puedo comparar un str con un int en la expresión lambda.\n",
    "E. Ninguna de las otras opciones mostradas.\n",
    "```"
   ]
  },
  {
   "cell_type": "markdown",
   "id": "alien-fight",
   "metadata": {
    "slideshow": {
     "slide_type": "slide"
    }
   },
   "source": [
    "# Encuesta 3:  ¿cuándo puede dar un error el siguiente código?"
   ]
  },
  {
   "cell_type": "code",
   "execution_count": null,
   "id": "enhanced-macro",
   "metadata": {
    "slideshow": {
     "slide_type": "fragment"
    }
   },
   "outputs": [],
   "source": [
    "def main(cadena):\n",
    "    print(f\"{cadena} en minúsculas: {cadena.lower()}\")\n",
    "\n",
    "if __name__ == \"__main__\":\n",
    "    import sys\n",
    "    main(sys.argv[1])"
   ]
  },
  {
   "cell_type": "markdown",
   "id": "american-taylor",
   "metadata": {
    "slideshow": {
     "slide_type": "fragment"
    }
   },
   "source": [
    "```\n",
    "A: Siempre da error, porque debería invocar a la función __main__\n",
    "B: Si no se invoca desde la línea de comandos el programa con al menos un argumento. \n",
    "C: Nunca da error.\n",
    "D: Ninguna de las otras opciones mostradas.\n",
    "```"
   ]
  },
  {
   "cell_type": "markdown",
   "id": "ce17eabd",
   "metadata": {
    "slideshow": {
     "slide_type": "slide"
    }
   },
   "source": [
    "# Encuesta 4: observemos el siguiente código:\n",
    "## Marcar la/s opciones que son correctas"
   ]
  },
  {
   "cell_type": "code",
   "execution_count": null,
   "id": "fe3a6c50",
   "metadata": {
    "slideshow": {
     "slide_type": "fragment"
    }
   },
   "outputs": [],
   "source": [
    "import json\n",
    "archivo = open(\"bandas.json\", \"w\")\n",
    "datos = [\n",
    "    {\"nombre\": \"William Campbell\", \"ciudad\": \"La Plata\", \"ref\": \"www.instagram.com/williamcampbellok\"},\n",
    "    {\"nombre\": \"Buendia\", \"ciudad\": \"La Plata\", \"ref\":\"https://buendia.bandcamp.com/\"},\n",
    "    {\"nombre\": \"Lúmine\", \"ciudad\": \"La Plata\", \"ref\": \"https://www.instagram.com/luminelp/\"}]\n",
    "datos_a_mostrar = json.dumps(datos)\n",
    "archivo.close()"
   ]
  },
  {
   "cell_type": "markdown",
   "id": "1bbf2d2b",
   "metadata": {
    "slideshow": {
     "slide_type": "fragment"
    }
   },
   "source": [
    "```\n",
    "A. Se crea el archivo bandas.json como un archivo de texto.\n",
    "B. El archivo bandas.json contiene un texto  en formato JSON con la información de la variable datos.\n",
    "C. La función dumps permite serializar la variable datos como una secuencia de caracteres con formato JSON y la retona como un str.\n",
    "D. Si el archivo bandas.json existe, al abrirlo en este modo se sobreescribirá su contenido. \n",
    "```"
   ]
  },
  {
   "cell_type": "code",
   "execution_count": null,
   "id": "d4186eec",
   "metadata": {},
   "outputs": [],
   "source": []
  }
 ],
 "metadata": {
  "celltoolbar": "Slideshow",
  "kernelspec": {
   "display_name": "Python 3 (ipykernel)",
   "language": "python",
   "name": "python3"
  },
  "language_info": {
   "codemirror_mode": {
    "name": "ipython",
    "version": 3
   },
   "file_extension": ".py",
   "mimetype": "text/x-python",
   "name": "python",
   "nbconvert_exporter": "python",
   "pygments_lexer": "ipython3",
   "version": "3.10.12"
  }
 },
 "nbformat": 4,
 "nbformat_minor": 5
}
