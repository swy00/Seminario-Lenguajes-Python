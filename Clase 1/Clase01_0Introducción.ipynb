{
 "cells": [
  {
   "cell_type": "markdown",
   "id": "attached-construction",
   "metadata": {
    "slideshow": {
     "slide_type": "slide"
    },
    "tags": []
   },
   "source": [
    "# Seminario de Lenguajes - Python\n",
    "## Cursada 2024\n",
    "\n",
    "### Clase 1: conceptos básicos e introducción al lenguaje\n"
   ]
  },
  {
   "cell_type": "markdown",
   "id": "varied-biotechnology",
   "metadata": {
    "slideshow": {
     "slide_type": "slide"
    }
   },
   "source": [
    "# ¿Con qué términos asociás al lenguaje Python?\n",
    "\n",
    "- Completar: https://www.menti.com/bbh714ivt4\n",
    "\n",
    "<center>\n",
    "<img src=\"imagenes/intro_qr_code.png\" alt=\"QR inicial\" style=\"width:400px;\"/></center>\n",
    "\n",
    "\n",
    "[Resultados]()\n",
    "\n",
    "\n",
    "\n",
    "\n"
   ]
  },
  {
   "cell_type": "markdown",
   "id": "lesser-watch",
   "metadata": {
    "slideshow": {
     "slide_type": "slide"
    }
   },
   "source": [
    "# Empezamos con las encuestas ... \n",
    "\n",
    "Veamos en catedras.linti: [Encuesta clase 1: sobre el SL](https://catedras.linti.unlp.edu.ar/mod/feedback/view.php?id=39301)\n",
    "\n",
    "\n",
    "```\n",
    "\n",
    "ENCUESTA 1: ¿saben qué es el software libre?\n",
    "Si - NO\n",
    "```\n",
    "\n",
    "\n"
   ]
  },
  {
   "cell_type": "markdown",
   "id": "certified-arcade",
   "metadata": {
    "slideshow": {
     "slide_type": "fragment"
    }
   },
   "source": [
    "```\n",
    "ENCUESTA 2: ¿usaron software libre?\n",
    "A: Si - B: NO - C: No se\n",
    "```\n"
   ]
  },
  {
   "cell_type": "markdown",
   "id": "printable-documentation",
   "metadata": {
    "slideshow": {
     "slide_type": "slide"
    }
   },
   "source": [
    "# El software  libre\n",
    "\n",
    "El **software libre** se refiere a la libertad de los usuarios para:\n",
    "- ejecutar, \n",
    "- copiar, \n",
    "- distribuir, \n",
    "- estudiar, \n",
    "- cambiar y mejorar el software. \n"
   ]
  },
  {
   "cell_type": "markdown",
   "id": "operational-revision",
   "metadata": {
    "slideshow": {
     "slide_type": "fragment"
    }
   },
   "source": [
    "\n",
    "La [definición del software libre](https://www.gnu.org/philosophy/free-sw.es.html) habla de **libertades**.\n",
    "\n",
    "> El acceso al código fuente es un requisito previo para esto.\n",
    "\n"
   ]
  },
  {
   "cell_type": "markdown",
   "id": "atomic-tampa",
   "metadata": {
    "slideshow": {
     "slide_type": "slide"
    }
   },
   "source": [
    "# ¿Por qué hablamos de software libre?"
   ]
  },
  {
   "cell_type": "markdown",
   "id": "egyptian-gallery",
   "metadata": {
    "slideshow": {
     "slide_type": "fragment"
    }
   },
   "source": [
    "- Nosotros vamos a usar software libre.\n",
    "- Vamos a proponer que nuestros desarrollos sean  software libre."
   ]
  },
  {
   "cell_type": "markdown",
   "id": "timely-monaco",
   "metadata": {
    "slideshow": {
     "slide_type": "slide"
    },
    "tags": []
   },
   "source": [
    "# Hablemos de Python ...\n",
    "\n",
    "\n",
    "- Desarrollado por [Guido Van Rossum](https://es.wikipedia.org/wiki/Guido_van_Rossum) en el centro de investigación en Matemáticas CWI en Países Bajos.\n",
    "- El nombre proviene del grupo de cómicos ingleses [Monty Python](https://es.wikipedia.org/wiki/Monty_Python)\n",
    "- Es un lenguaje que en los últimos años ha crecido de manera constante. \n",
    "    - [Stack Overflow Trends\n",
    "](https://insights.stackoverflow.com/trends?tags=java%2Cc%2Cc%2B%2B%2Cpython%2Cc%23%2Cvb.net%2Cjavascript%2Cassembly%2Cphp%2Cperl%2Cruby%2Cvb%2Cswift%2Cr%2Cobjective-c)\n",
    "    - [Encuesta Stack Overflow](https://survey.stackoverflow.co/2023/#technology-admired-and-desired)\n",
    "    - [https://githut.info/](https://githut.info/)\n",
    "\n",
    "\n",
    "\n"
   ]
  },
  {
   "cell_type": "markdown",
   "id": "5dd8b5f2-5fff-4b21-9ecf-e782f25b45b8",
   "metadata": {
    "jp-MarkdownHeadingCollapsed": true,
    "slideshow": {
     "slide_type": "slide"
    },
    "tags": []
   },
   "source": [
    "# Documentación y referencias\n",
    "\n",
    "| Sitio  | Sitio web |\n",
    "|---|---|\n",
    "|Python oficial|[<img src=\"https://upload.wikimedia.org/wikipedia/commons/thumb/c/c3/Python-logo-notext.svg/1200px-Python-logo-notext.svg.png\" alt=\"Python Logo\" width=\"100\">](http://python.org/)|\n",
    "|Documentación en español |[![Logo de la documentación en español de Python](https://wiki.python.org/wiki/europython/img/python-logo.gif)](https://wiki.python.org/moin/SpanishLanguage)|\n",
    "|Python Argentina|[![Logo de Python Argentina](data:image/jpeg;base64,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)](http://python.org.ar/)|"
   ]
  },
  {
   "cell_type": "markdown",
   "id": "3412e249-47b7-4fab-ad1a-58166d6c97f4",
   "metadata": {
    "jp-MarkdownHeadingCollapsed": true,
    "slideshow": {
     "slide_type": "subslide"
    },
    "tags": []
   },
   "source": [
    "# Otras referencias\n",
    "| Sitio  | Sitio web |\n",
    "|---|---|\n",
    "|Python Guide |[<img src=\"https://docs.python-guide.org/_static/python-guide-logo.png\" alt=\"Python Guide\" width=\"100\">](https://docs.python-guide.org/)|\n",
    " |Real Python|[![Real Python](https://files.realpython.com/media/real-python-logo-thumbnail.7f0db70c2ed2.jpg)](https://realpython.com/)|\n",
    "\n",
    "> **IMPORTANTE**: en los tutoriales y cursos en línea **chequear la versión de Python**. \n"
   ]
  },
  {
   "cell_type": "markdown",
   "id": "bigger-determination",
   "metadata": {
    "slideshow": {
     "slide_type": "subslide"
    }
   },
   "source": [
    "# ¿Quiénes usan Python?\n",
    "\n",
    "Muchas [organizaciones](https://wiki.python.org/moin/OrganizationsUsingPython) han utilizado y utilizan Python para:\n",
    "- Producción de [efectos especiales]( https://www.python.org/about/success/ilm/) de películas. \n",
    "- En sistemas informáticos de la [NASA](https://www.python.org/about/success/usa/).\n",
    "- Desarrollo [web](https://wiki.python.org/moin/OrganizationsUsingPython#Web_Development). \n",
    "- En ámbito [científico](https://www.scipy.org/). \n",
    "- Enseñanza de la programación, etc\n",
    "\n",
    "- [+ Info:](https://realpython.com/world-class-companies-using-python/)"
   ]
  },
  {
   "cell_type": "markdown",
   "id": "immune-going",
   "metadata": {
    "slideshow": {
     "slide_type": "slide"
    }
   },
   "source": [
    "# Características del lenguaje\n",
    "\n",
    "Es un lenguaje de alto nivel, fácil de aprender. Muy expresivo y legible. "
   ]
  },
  {
   "cell_type": "markdown",
   "id": "intermediate-replica",
   "metadata": {
    "slideshow": {
     "slide_type": "fragment"
    }
   },
   "source": [
    "```python\n",
    "random_number = random.randrange(5)\n",
    "i_won = False\n",
    "print(\"Tenés 2 intentos para adivinar un entre 0 y 4\")\n",
    "tries = 1\n",
    "\n",
    "while tries < 3 and not i_won:\n",
    "    entered_number = int(input(\"Ingresá tu número: \"))\n",
    "    if entered_number == random_number:\n",
    "        print(\"Ganaste!\")\n",
    "        i_won = True\n",
    "    else:\n",
    "        print(\"Mmmm ... No, ese número no es... Seguí intentando.\")\n",
    "        tries += 1\n",
    "if not i_won:\n",
    "    print(\"Perdiste :(\")\n",
    "    print(f\"El número era: {random_number}\")\n",
    "\n",
    "```\n"
   ]
  },
  {
   "cell_type": "markdown",
   "id": "1cd0cc4c",
   "metadata": {
    "slideshow": {
     "slide_type": "fragment"
    }
   },
   "source": [
    "- Sintaxis muy clara"
   ]
  },
  {
   "cell_type": "markdown",
   "id": "durable-tactics",
   "metadata": {
    "slideshow": {
     "slide_type": "subslide"
    }
   },
   "source": [
    "# Características del lenguaje (cont.)\n",
    "\n",
    "- Es **interpretado**, **multiplataforma** y **multiparadigma**: ¿qué significa?\n",
    "- Posee tipado dinámico y fuerte. \n",
    "- Tiene un eficiente manejo de estructuras de datos de alto nivel. "
   ]
  },
  {
   "cell_type": "markdown",
   "id": "irish-allah",
   "metadata": {
    "slideshow": {
     "slide_type": "slide"
    }
   },
   "source": [
    "# Primeros pasos \n",
    "\n",
    "- Hay [intérpretes en línea](https://repl.it/languages/python3).\n",
    "- Descargamos desde el [sitio oficial](https://www.python.org/).\n",
    "\n",
    "- Para **ejecutar** código Python:\n",
    "    - Usamos la consola de Python: donde se utiliza un modo interactivo y obtener una respuesta por cada línea. \n",
    "    - Usamos un IDE: como en cualquier otro lenguaje, se escribe el código en un archivo de texto y luego se invoca al intérprete para que lo ejecute.\n",
    "- [+Info](https://python-unlp.github.io/2023/guias/02/instalar_python/)  "
   ]
  },
  {
   "cell_type": "markdown",
   "id": "pretty-current",
   "metadata": {
    "slideshow": {
     "slide_type": "subslide"
    }
   },
   "source": [
    "# Algunas consideraciones \n",
    "\n",
    "- Se pueden utilizar [entornos virtuales](https://docs.python.org/3/tutorial/venv.html).\n",
    "    - [+Info](https://python-unlp.github.io/2023/guias/07/entornos_virtuales/)\n",
    "- Existe un gestor de paquetes que facilita la instalación de las distintas librerías: [pip](https://pypi.org/project/pip/).\n",
    "    - [+Info](https://python-unlp.github.io/2023/guias/08/manejo_de_paquetes/) "
   ]
  },
  {
   "cell_type": "markdown",
   "id": "thousand-establishment",
   "metadata": {
    "slideshow": {
     "slide_type": "slide"
    }
   },
   "source": [
    "#  Estamos usando [Jupyter notebook](https://jupyter.org/)"
   ]
  },
  {
   "cell_type": "code",
   "execution_count": null,
   "id": "approximate-model",
   "metadata": {
    "slideshow": {
     "slide_type": "fragment"
    }
   },
   "outputs": [],
   "source": [
    "## Adivina adivinador....\n",
    "import random\n",
    "random_number = random.randrange(5)\n",
    "i_won = False\n",
    "print(\"Tenés 2 intentos para adivinar un entre 0 y 4\")\n",
    "tries = 1\n",
    "\n",
    "while tries < 3 and not i_won:\n",
    "    entered_number = int(input(\"Ingresá tu número: \"))\n",
    "    if entered_number == random_number:\n",
    "        print(\"Ganaste!\")\n",
    "        i_won = True\n",
    "    else:\n",
    "        print(\"Mmmm ... No, ese número no es... Seguí intentando.\")\n",
    "        tries += 1\n",
    "if not i_won:\n",
    "    print(\"Perdiste :(\")\n",
    "    print(f\"El número era: {random_number}\")"
   ]
  },
  {
   "cell_type": "markdown",
   "id": "consistent-mission",
   "metadata": {
    "slideshow": {
     "slide_type": "slide"
    }
   },
   "source": [
    "# Empecemos por algo  más simple\n"
   ]
  },
  {
   "cell_type": "code",
   "execution_count": null,
   "id": "antique-fleet",
   "metadata": {
    "slideshow": {
     "slide_type": "fragment"
    }
   },
   "outputs": [],
   "source": [
    "data = 21\n",
    "print(data)\n",
    "data ='Hola!'\n",
    "print(f'{data} ¿Cómo están?')"
   ]
  },
  {
   "cell_type": "markdown",
   "id": "clinical-faculty",
   "metadata": {
    "slideshow": {
     "slide_type": "fragment"
    }
   },
   "source": [
    "- ¿Algo que llame la atención respecto a otros lenguajes vistos?"
   ]
  },
  {
   "cell_type": "markdown",
   "id": "greater-programming",
   "metadata": {
    "slideshow": {
     "slide_type": "fragment"
    }
   },
   "source": [
    "- No hay una estructura de programa (tipo program.. begin.. end).\n",
    "- Las variables no se declaran. \n",
    "    - Las variables se crean **dinámicamente** cuando se les asigna un valor.\n",
    "- Las variables pueden cambiar de tipo a lo largo del programa.\n",
    "    - Python cuenta con **tipado dinámico**.\n"
   ]
  },
  {
   "cell_type": "markdown",
   "id": "coupled-supply",
   "metadata": {
    "slideshow": {
     "slide_type": "slide"
    }
   },
   "source": [
    "# Un poco más de variables en Python\n",
    "\n",
    "Vamos el siguiente código. ¿Qué creen que imprime este código? "
   ]
  },
  {
   "cell_type": "code",
   "execution_count": null,
   "id": "average-accident",
   "metadata": {
    "slideshow": {
     "slide_type": "fragment"
    }
   },
   "outputs": [],
   "source": [
    "text_1 = 'Estamos haciendo'\n",
    "print(f'{Text_1}  diferentes pruebas')"
   ]
  },
  {
   "cell_type": "markdown",
   "id": "conceptual-spice",
   "metadata": {
    "slideshow": {
     "slide_type": "slide"
    }
   },
   "source": [
    "# Reglas de nombres\n",
    "\n",
    "- Python hace diferencia entre mayúsculas y minúsculas. \n",
    "    - Las variables **text_1**  y **Text_1** son DOS variables DISTINTAS.\n",
    "- Los nombre de las variables sólo pueden contener letras, dígitos y **_**. \n",
    "- Y **siempre** deben comenzar con letra. \n",
    "    - Vamos a ver que en algunos casos específicos pueden comenzar con  **_**, pero tienen un significado especial que iremos viendo a lo largo de la cursada."
   ]
  },
  {
   "cell_type": "markdown",
   "id": "b8575f32",
   "metadata": {
    "slideshow": {
     "slide_type": "subslide"
    }
   },
   "source": [
    "###  No pueden usarse ninguna de las palabras claves del lenguaje.\n",
    "\n",
    "Probar: **help(\"keywords\")**\n"
   ]
  },
  {
   "cell_type": "code",
   "execution_count": null,
   "id": "59c08f1e",
   "metadata": {
    "slideshow": {
     "slide_type": "fragment"
    }
   },
   "outputs": [],
   "source": [
    "help(\"keywords\")"
   ]
  },
  {
   "cell_type": "markdown",
   "id": "optimum-convenience",
   "metadata": {
    "slideshow": {
     "slide_type": "slide"
    }
   },
   "source": [
    "# Asignación de  variables\n",
    "\n",
    "- Las variables permiten referenciar a los **objetos** almacenados en la memoria. \n",
    "- Asignar un valor a una variable indica que se va a \"apuntar\" o \"referenciar\" ese objeto a través de ese nombre de variable.\n",
    "- Cada objeto tiene asociado **un tipo, un valor y una identidad**.\n",
    "    - La identidad actúa como una referencia a la posición de memoria del  objeto.\n",
    "-Una vez que se crea un objeto, su identidad y tipo no se pueden cambiar."
   ]
  },
  {
   "cell_type": "markdown",
   "id": "068eae16",
   "metadata": {
    "slideshow": {
     "slide_type": "subslide"
    }
   },
   "source": [
    "## La identidad de un objeto\n",
    "\n",
    "- Podemos obtener la identidad de un objeto con la función **id()**."
   ]
  },
  {
   "cell_type": "code",
   "execution_count": null,
   "id": "martial-theology",
   "metadata": {
    "slideshow": {
     "slide_type": "fragment"
    }
   },
   "outputs": [],
   "source": [
    "message1 = \"hola\"\n",
    "message2 = message1\n",
    "message3 = \"hola \"\n",
    "print(message1, message2, message3)\n",
    "#print(id(message1), id(message3))"
   ]
  },
  {
   "cell_type": "markdown",
   "id": "driven-nightmare",
   "metadata": {
    "slideshow": {
     "slide_type": "slide"
    }
   },
   "source": [
    "# Respecto a los nombres de variables\n",
    "\n",
    "- Existen algunas convenciones que VAMOS a adoptar.\n",
    "- Si se trata de un nombre compuesto vamos a usar el símbolo \"_\" para separar. ¿Cómo se conoce esta forma? \n",
    "- Ejemplo:\n",
    "```python\n",
    "value = 100\n",
    "score = 10\n",
    "game_paused = True\n",
    "i_won = False\n",
    "\n",
    "```\n",
    "- Algunas otras convenciones:\n",
    "    - Los nombres de variables comienzan con letras minúsculas.\n",
    "    - No usar nombres tales como \"l\" u \"O\" que se pueden confundir con unos y ceros.\n",
    "    \n"
   ]
  },
  {
   "cell_type": "markdown",
   "id": "centered-summary",
   "metadata": {
    "slideshow": {
     "slide_type": "slide"
    }
   },
   "source": [
    "# Python Enhancement Proposals (PEP)\n",
    "\n",
    "- Las PEP son documentos que proporcionan información a la comunidad de Python sobre distintas características del lenguaje, novedades en las distintas versiones, guías de codificación, etc.\n",
    "\n",
    "- La [PEP 0](https://www.python.org/dev/peps/#introduction) contiene el indice de todas las PEP\n",
    "- La [PEP 20](https://www.python.org/dev/peps/pep-0020/): el Zen de Python...\n",
    "    - Probar: *import this* desde una consola.\n",
    "\n"
   ]
  },
  {
   "cell_type": "markdown",
   "id": "healthy-passage",
   "metadata": {
    "slideshow": {
     "slide_type": "subslide"
    }
   },
   "source": [
    "#  Guías de estilo de codificación\n",
    "\n",
    "> **\"El código es leído muchas más veces de lo que es escrito\"** ( Guido Van Rossum)\n",
    "\n",
    "- Están especificadas en la [PEP 8](https://www.python.org/dev/peps/pep-0008/)\n",
    "\n",
    "- Hay guías sobre la [indentación](https://www.python.org/dev/peps/pep-0008/#indentation), [convenciones sobre los nombres](https://www.python.org/dev/peps/pep-0008/#naming-conventions), etc.  \n",
    "\n",
    "- Algunos IDE chequean que se respeten estas guías.\n",
    "- Su adopción es MUY importante cuando se comparte el código."
   ]
  },
  {
   "cell_type": "markdown",
   "id": "transparent-viking",
   "metadata": {
    "slideshow": {
     "slide_type": "slide"
    }
   },
   "source": [
    "# Indentación en Python\n",
    "\n",
    "- **Indentar el código es una buena práctica de programación**. \n",
    "- Algo que caracteríza a Python es que la **indentación es obligatoria**. \n",
    "- ¿Cómo podemos indentar código?"
   ]
  },
  {
   "cell_type": "markdown",
   "id": "portable-comedy",
   "metadata": {
    "slideshow": {
     "slide_type": "fragment"
    }
   },
   "source": [
    "**Buscar:** ¿qué nos dice la PEP 8 sobre esto?"
   ]
  },
  {
   "cell_type": "markdown",
   "id": "smart-heaven",
   "metadata": {
    "slideshow": {
     "slide_type": "slide"
    }
   },
   "source": [
    "# Observemos nuevamente el primer ejemplo:"
   ]
  },
  {
   "cell_type": "code",
   "execution_count": 1,
   "id": "fallen-attention",
   "metadata": {
    "slideshow": {
     "slide_type": "fragment"
    },
    "tags": []
   },
   "outputs": [
    {
     "name": "stdout",
     "output_type": "stream",
     "text": [
      "Tenés 2 intentos para adivinar un entre 0 y 4\n",
      "Mmmm ... No, ese número no es... Seguí intentando.\n",
      "Mmmm ... No, ese número no es... Seguí intentando.\n",
      "Perdiste :(\n",
      "El número era: 3\n"
     ]
    }
   ],
   "source": [
    "## Adivina adivinador....\n",
    "import random\n",
    "random_number = random.randrange(5)\n",
    "i_won = False\n",
    "print(\"Tenés 2 intentos para adivinar un entre 0 y 4\")\n",
    "tries = 1\n",
    "\n",
    "while tries < 3 and not i_won:\n",
    "    entered_number = int(input(\"Ingresá tu número: \"))\n",
    "    if entered_number == random_number:\n",
    "        print(\"Ganaste!\")\n",
    "        i_won = True\n",
    "    else:\n",
    "        print(\"Mmmm ... No, ese número no es... Seguí intentando.\")\n",
    "        tries += 1\n",
    "if not i_won:\n",
    "    print(\"Perdiste :(\")\n",
    "    print(f\"El número era: {random_number}\")"
   ]
  },
  {
   "cell_type": "markdown",
   "id": "curious-superintendent",
   "metadata": {
    "slideshow": {
     "slide_type": "subslide"
    },
    "tags": []
   },
   "source": [
    "\n",
    "# Los comentarios en Python\n",
    "\n",
    "- Como ya sabemos, los comentarios NO son procesados por el intérprete.\n",
    "- Comienzan con el símbolo \"#\"."
   ]
  },
  {
   "cell_type": "code",
   "execution_count": null,
   "id": "endangered-writer",
   "metadata": {
    "slideshow": {
     "slide_type": "fragment"
    },
    "tags": []
   },
   "outputs": [],
   "source": [
    "# Este es un comentario de una línea.\n",
    "\n",
    "# Si el comentario\n",
    "# tiene varias líneas\n",
    "# repito el símbolo \"numeral\" en cada línea."
   ]
  },
  {
   "cell_type": "markdown",
   "id": "northern-samoa",
   "metadata": {
    "slideshow": {
     "slide_type": "subslide"
    }
   },
   "source": [
    "- Hay una sección en la [PEP 8](https://www.python.org/dev/peps/pep-0008/#comments) \n",
    "\n",
    "- Entre las sugerencias: \n",
    "    - Tratar de no utilizar comentarios en la misma línea, trae confusión. Pero si se hace, separarlo bien y que no sea para comentar cosas obvias, como el siguiente ejemplo: \n",
    "    \n",
    "```python\n",
    "  score = score + 1        # Incrementa score \n",
    "```\n",
    "\n"
   ]
  },
  {
   "cell_type": "markdown",
   "id": "numerous-location",
   "metadata": {
    "slideshow": {
     "slide_type": "slide"
    }
   },
   "source": [
    "# Tipos de datos\n",
    "\n",
    "- ¿Qué tipos de datos vimos en los ejemplos?"
   ]
  },
  {
   "cell_type": "markdown",
   "id": "1c8ba2b9-9741-4455-b00b-87c6bcb3e7a5",
   "metadata": {
    "jp-MarkdownHeadingCollapsed": true,
    "slideshow": {
     "slide_type": "fragment"
    },
    "tags": []
   },
   "source": [
    "* ¿Qué variables encuentran?\n",
    "* ¿De qué tipo es cada una?\n",
    "```python\n",
    "## Adivina adivinador....\n",
    "import random\n",
    "random_number = random.randrange(5)\n",
    "i_won = False\n",
    "print(\"Tenés 2 intentos para adivinar un entre 0 y 4\")\n",
    "tries = 1\n",
    "```"
   ]
  },
  {
   "cell_type": "markdown",
   "id": "fitting-seller",
   "metadata": {
    "slideshow": {
     "slide_type": "fragment"
    }
   },
   "source": [
    "- Además de números enteros, booleanos, vimos cadenas de caracteres\n",
    "\n",
    "```python\n",
    "i_won = False\n",
    "tries = 1\n",
    "text_1 = 'Estamos haciendo'\n",
    "\n",
    "```"
   ]
  },
  {
   "cell_type": "markdown",
   "id": "38826b5d",
   "metadata": {
    "slideshow": {
     "slide_type": "subslide"
    }
   },
   "source": [
    "## ¿Qué nos indica un tipo de datos?"
   ]
  },
  {
   "cell_type": "markdown",
   "id": "broke-guitar",
   "metadata": {
    "slideshow": {
     "slide_type": "fragment"
    }
   },
   "source": [
    "- El tipo de datos me indica **qué valores** y **qué operaciones** puedo hacer con una determinada variable.\n",
    "\n",
    "- Dijimos que Python tiene tipado dinámico y fuerte. ¿Qué significa?\n"
   ]
  },
  {
   "cell_type": "markdown",
   "id": "colored-radius",
   "metadata": {
    "slideshow": {
     "slide_type": "subslide"
    }
   },
   "source": [
    "# Tipos de datos predefinidos\n",
    "\n",
    "- Built-In Data Types\n",
    "\n",
    "    - Números (enteros, flotantes y complejos)\n",
    "    - Booleanos\n",
    "    - Cadenas de texto\n",
    "    - Listas, tuplas, diccionarios y conjuntos.\n",
    " "
   ]
  },
  {
   "cell_type": "markdown",
   "id": "offshore-arabic",
   "metadata": {
    "slideshow": {
     "slide_type": "subslide"
    }
   },
   "source": [
    "# Números  en Python"
   ]
  },
  {
   "cell_type": "code",
   "execution_count": null,
   "id": "gentle-retrieval",
   "metadata": {
    "slideshow": {
     "slide_type": "fragment"
    }
   },
   "outputs": [],
   "source": [
    "number1 = 15\n",
    "number2 = 0o17\n",
    "number3 = 0xF\n",
    "#type(number2)\n",
    "type(number3)"
   ]
  },
  {
   "cell_type": "markdown",
   "id": "miniature-leather",
   "metadata": {
    "slideshow": {
     "slide_type": "fragment"
    }
   },
   "source": [
    "- Todas las variables son de tipo **int**.\n",
    "- Difieren en la forma de expresar el valor:\n",
    "    - Si lo expresamos como un **octal**, debemos anteponer un **0o** (cero y letra o) \n",
    "\t- Si lo expresamos como un **hexadecimal**, debemos anteponer un **0x**"
   ]
  },
  {
   "cell_type": "markdown",
   "id": "joint-circumstances",
   "metadata": {
    "slideshow": {
     "slide_type": "subslide"
    }
   },
   "source": [
    "# Más números en Python\n",
    "\n",
    "- ¿Cómo puedo saber su tipo?"
   ]
  },
  {
   "cell_type": "code",
   "execution_count": null,
   "id": "another-twist",
   "metadata": {
    "slideshow": {
     "slide_type": "fragment"
    }
   },
   "outputs": [],
   "source": [
    "number4 = 0.0001   \n",
    "number5 = 0.1e-3 \n",
    "type(number5)"
   ]
  },
  {
   "cell_type": "markdown",
   "id": "unusual-armor",
   "metadata": {
    "slideshow": {
     "slide_type": "fragment"
    }
   },
   "source": [
    "- Todas son variables de tipo **float** que representan los valores reales. "
   ]
  },
  {
   "cell_type": "markdown",
   "id": "distinguished-security",
   "metadata": {
    "slideshow": {
     "slide_type": "subslide"
    }
   },
   "source": [
    "# Expresiones numéricas\n",
    "\n",
    "- Los números pueden utilizarse en expresiones aritméticas utilizando los operadores clásicos: +, -, / y *.\n",
    "- ¿Cuál creen que es el valor de la variable **division**? y ¿de qué **tipo** es?"
   ]
  },
  {
   "cell_type": "code",
   "execution_count": null,
   "id": "assured-cleaning",
   "metadata": {
    "slideshow": {
     "slide_type": "fragment"
    }
   },
   "outputs": [],
   "source": [
    "number1 = 8\n",
    "number2 = 2 \n",
    "division = number1 / number2\n",
    "division\n",
    "#type(division)"
   ]
  },
  {
   "cell_type": "markdown",
   "id": "still-belarus",
   "metadata": {
    "slideshow": {
     "slide_type": "fragment"
    }
   },
   "source": [
    "- La división entre enteros devuelve un **float**.  \n",
    "- Una expresión con números int y float, se convierte a **float**."
   ]
  },
  {
   "cell_type": "markdown",
   "id": "upset-water",
   "metadata": {
    "slideshow": {
     "slide_type": "subslide"
    }
   },
   "source": [
    "# Más operadores"
   ]
  },
  {
   "cell_type": "code",
   "execution_count": null,
   "id": "toxic-dance",
   "metadata": {
    "slideshow": {
     "slide_type": "fragment"
    }
   },
   "outputs": [],
   "source": [
    "number = 9\n",
    "print(number // 2)\n",
    "print(number % 2)\n",
    "print(number ** 2)"
   ]
  },
  {
   "cell_type": "markdown",
   "id": "wrong-excellence",
   "metadata": {
    "slideshow": {
     "slide_type": "fragment"
    }
   },
   "source": [
    "- Corresponden a la división entera, el resto de la división entera y a la potencia.\n",
    "- **Buscar en la PEP8:** ¿hay algunas sugerencias respecto a la forma en que se escriben las expresiones y la asignación de variables?"
   ]
  },
  {
   "cell_type": "markdown",
   "id": "foster-english",
   "metadata": {
    "slideshow": {
     "slide_type": "subslide"
    }
   },
   "source": [
    "# Conversiones explícitas"
   ]
  },
  {
   "cell_type": "code",
   "execution_count": null,
   "id": "polyphonic-hawaii",
   "metadata": {
    "slideshow": {
     "slide_type": "fragment"
    }
   },
   "outputs": [],
   "source": [
    "number_float = 7.8\n",
    "number_int = 2 \n",
    "result = number_float / number_int\n",
    "print(result)\n",
    "int(result)"
   ]
  },
  {
   "cell_type": "markdown",
   "id": "ready-spring",
   "metadata": {
    "slideshow": {
     "slide_type": "fragment"
    }
   },
   "source": [
    "- Las funciones **int()** y **float()** convierten en forma explícita su argumento a tipo int y float. \n",
    "- Hay otras funciones similares que permiten convertir un argumento a otros tipos de Python que veremos luego."
   ]
  },
  {
   "cell_type": "markdown",
   "id": "capable-mapping",
   "metadata": {
    "slideshow": {
     "slide_type": "slide"
    }
   },
   "source": [
    "# DESAFÍO 1\n",
    "\n",
    "> Queremos ingresar un número desde el teclado e imprimir si el número es o no par. \n",
    "- ¿Cómo sería el pseudocódigo de esto?"
   ]
  },
  {
   "cell_type": "markdown",
   "id": "expanded-contrast",
   "metadata": {
    "slideshow": {
     "slide_type": "fragment"
    }
   },
   "source": [
    "``` \n",
    "Ingresar un número desde el teclado\n",
    "SI es par:\n",
    "    Mostrar mensaje: \"es par\"\n",
    "SINO:\n",
    "    Mostrar mensaje: \"NO es par\"\n",
    "\n",
    "```"
   ]
  },
  {
   "cell_type": "markdown",
   "id": "charming-hospital",
   "metadata": {
    "slideshow": {
     "slide_type": "fragment"
    }
   },
   "source": [
    "¿Cómo ingresamos datos desde el teclado?"
   ]
  },
  {
   "cell_type": "markdown",
   "id": "equipped-compound",
   "metadata": {
    "slideshow": {
     "slide_type": "subslide"
    }
   },
   "source": [
    "# La función input\n",
    "\n",
    "- Permite ingresar datos desde el teclado (más adelante veremos esto con más detalle).\n",
    "- El tipo de datos ingresado es siempre un **str** (cadena de caracteres), por lo que se tiene que hacer una conversión explícita si no queremos operar con strings. "
   ]
  },
  {
   "cell_type": "code",
   "execution_count": null,
   "id": "clean-california",
   "metadata": {
    "slideshow": {
     "slide_type": "fragment"
    }
   },
   "outputs": [],
   "source": [
    "number = input(\"Ingresa un número: \")\n",
    "type(number)"
   ]
  },
  {
   "cell_type": "markdown",
   "id": "working-incentive",
   "metadata": {
    "slideshow": {
     "slide_type": "slide"
    }
   },
   "source": [
    "# ¿Qué otra cosa nos falta para resolver el desafío?"
   ]
  },
  {
   "cell_type": "markdown",
   "id": "expired-jurisdiction",
   "metadata": {
    "slideshow": {
     "slide_type": "fragment"
    }
   },
   "source": [
    "## La sentencia condicional"
   ]
  },
  {
   "cell_type": "code",
   "execution_count": null,
   "id": "foster-mortality",
   "metadata": {
    "slideshow": {
     "slide_type": "fragment"
    }
   },
   "outputs": [],
   "source": [
    "number = int(input(\"Ingresá un número: \"))\n",
    "if number == 3:\n",
    "    print(\"Ingresaste un 3!!!\")"
   ]
  },
  {
   "cell_type": "code",
   "execution_count": null,
   "id": "heavy-chaos",
   "metadata": {
    "slideshow": {
     "slide_type": "fragment"
    }
   },
   "outputs": [],
   "source": [
    "number = int(input(\"Ingresá un número: \"))\n",
    "if number == 3:\n",
    "    print(\"Ingresaste un 3!!!\")\n",
    "else:\n",
    "    print(\"NO ingresaste un 3!!!\")\n"
   ]
  },
  {
   "cell_type": "markdown",
   "id": "increasing-joint",
   "metadata": {
    "slideshow": {
     "slide_type": "subslide"
    }
   },
   "source": [
    "# Ahora... a programar el desafío"
   ]
  },
  {
   "cell_type": "code",
   "execution_count": null,
   "id": "genuine-refrigerator",
   "metadata": {
    "slideshow": {
     "slide_type": "fragment"
    }
   },
   "outputs": [],
   "source": [
    "# Posible solución \n",
    "\n",
    "number = int( input(\"Ingresá un número: \"))\n",
    "\n",
    "if number % 2  == 0:\n",
    "    print(\"Es par\")\n",
    "else:\n",
    "    print(\"No es par\")"
   ]
  },
  {
   "cell_type": "markdown",
   "id": "ecological-chester",
   "metadata": {
    "slideshow": {
     "slide_type": "slide"
    }
   },
   "source": [
    "# DESAFÍO 2\n",
    "\n",
    "> Queremos ingresar un número desde el teclado e imprimir si es múltiplo de 2, 3 o 5.\n",
    "\n",
    "**Pista:** Python tiene otra  forma de la sentencia condicional: **if-elif-else**."
   ]
  },
  {
   "cell_type": "code",
   "execution_count": null,
   "id": "mental-hours",
   "metadata": {
    "slideshow": {
     "slide_type": "fragment"
    }
   },
   "outputs": [],
   "source": [
    "month = 3\n",
    "if month == 1:\n",
    "    print(\"Enero\")\n",
    "elif month == 2: \n",
    "    print(\"Febrero\")\n",
    "else: \n",
    "    print(\"Ups... Se acabaron las vacaciones!!! :()\")"
   ]
  },
  {
   "cell_type": "markdown",
   "id": "criminal-smith",
   "metadata": {
    "slideshow": {
     "slide_type": "fragment"
    }
   },
   "source": [
    "- ¿**case** en Python? -> **pattern matching**"
   ]
  },
  {
   "cell_type": "markdown",
   "id": "suited-danger",
   "metadata": {
    "slideshow": {
     "slide_type": "fragment"
    }
   },
   "source": [
    "[PEP 636](https://www.python.org/dev/peps/pep-0636/) --> A partir de Python 3.10"
   ]
  },
  {
   "cell_type": "markdown",
   "id": "df7d0881",
   "metadata": {
    "slideshow": {
     "slide_type": "subslide"
    }
   },
   "source": [
    "# El ejemplo usando match"
   ]
  },
  {
   "cell_type": "code",
   "execution_count": null,
   "id": "b73dbac4",
   "metadata": {
    "slideshow": {
     "slide_type": "fragment"
    }
   },
   "outputs": [],
   "source": [
    "month = 3\n",
    "match month:\n",
    "    case 1:\n",
    "        print(\"Enero\")\n",
    "    case 2:\n",
    "         print(\"Febrero\")\n",
    "    case 3:\n",
    "        print(\"Ups... Se acabaron las vacaciones!!! :()\")"
   ]
  },
  {
   "cell_type": "code",
   "execution_count": null,
   "id": "0f5ae3aa",
   "metadata": {
    "slideshow": {
     "slide_type": "subslide"
    }
   },
   "outputs": [],
   "source": [
    "word = \"uno\"\n",
    "match word:\n",
    "    case \"uno\":\n",
    "        print(\"UNO\")\n",
    "    case \"dos\"  | \"tres\":\n",
    "        print(\"DOS O TRES\")\n",
    "    case _:\n",
    "        print(\"Ups.. ninguno de los anteriores\")"
   ]
  },
  {
   "cell_type": "markdown",
   "id": "177ffdb8",
   "metadata": {
    "slideshow": {
     "slide_type": "fragment"
    }
   },
   "source": [
    "- Si queremos saber qué versión de Python estamos usando: "
   ]
  },
  {
   "cell_type": "code",
   "execution_count": null,
   "id": "4b82ed10",
   "metadata": {
    "slideshow": {
     "slide_type": "fragment"
    }
   },
   "outputs": [],
   "source": [
    "import sys\n",
    "sys.version"
   ]
  },
  {
   "cell_type": "code",
   "execution_count": null,
   "id": "d49f0688",
   "metadata": {
    "slideshow": {
     "slide_type": "fragment"
    }
   },
   "outputs": [],
   "source": [
    "# Solución al DESAFÍO 2\n"
   ]
  },
  {
   "cell_type": "markdown",
   "id": "ethical-links",
   "metadata": {
    "slideshow": {
     "slide_type": "slide"
    }
   },
   "source": [
    "# Booleanos\n",
    "\n",
    "- Sólo permite dos únicos valores: **True** y **False**\n",
    "- Operadores lógicos: **and**, **or** y **not**."
   ]
  },
  {
   "cell_type": "code",
   "execution_count": null,
   "id": "indoor-charity",
   "metadata": {
    "slideshow": {
     "slide_type": "fragment"
    }
   },
   "outputs": [],
   "source": [
    "# ¿Qué imprime?\n",
    "value1 = True\n",
    "value2 = False\n",
    "print(value1 and value2, value1 or value2, not value1)"
   ]
  },
  {
   "cell_type": "markdown",
   "id": "hindu-washer",
   "metadata": {
    "slideshow": {
     "slide_type": "subslide"
    }
   },
   "source": [
    "# Algunas cosas \"extrañas\"\n",
    "\n"
   ]
  },
  {
   "cell_type": "code",
   "execution_count": null,
   "id": "packed-daily",
   "metadata": {
    "slideshow": {
     "slide_type": "fragment"
    }
   },
   "outputs": [],
   "source": [
    "print(20 or 3)\n",
    "print(5 and 0)\n",
    "print(4 or 0 and 3)"
   ]
  },
  {
   "cell_type": "markdown",
   "id": "outdoor-happening",
   "metadata": {
    "slideshow": {
     "slide_type": "fragment"
    }
   },
   "source": [
    "### En Python los booleanos son valores numéricos\n",
    "- Todo valor **diferente a cero (0)** es **True**.\n",
    "- Todo valor **igual a cero (0)** es **False**. "
   ]
  },
  {
   "cell_type": "markdown",
   "id": "elect-learning",
   "metadata": {
    "slideshow": {
     "slide_type": "fragment"
    }
   },
   "source": [
    "- Debemos verificar las precedencias de los operadores:\n",
    "    - Como podemos ver que el operador **and** tiene mayor precedencia que el **or**.\n",
    "- Operadores relacionales: ==, !=, >, <, >=,<="
   ]
  },
  {
   "cell_type": "code",
   "execution_count": null,
   "id": "thirty-rover",
   "metadata": {
    "slideshow": {
     "slide_type": "notes"
    }
   },
   "outputs": [],
   "source": [
    "x = 1\n",
    "y = 2\n",
    "print(x > y, x != y, x == y)"
   ]
  },
  {
   "cell_type": "markdown",
   "id": "numerical-nation",
   "metadata": {
    "slideshow": {
     "slide_type": "slide"
    }
   },
   "source": [
    "# Cadenas de caracteres\n",
    "\n",
    "- Secuencia de caracteres encerrados entre comillas simples ' ' o  comillas dobles \" \"."
   ]
  },
  {
   "cell_type": "code",
   "execution_count": null,
   "id": "christian-ghost",
   "metadata": {
    "slideshow": {
     "slide_type": "fragment"
    }
   },
   "outputs": [],
   "source": [
    "word1 = \"letras\"\n",
    "word2 = '123'\n",
    "word3= \"!123abc%$  /%$#\"\n",
    "word2"
   ]
  },
  {
   "cell_type": "code",
   "execution_count": null,
   "id": "serial-network",
   "metadata": {
    "slideshow": {
     "slide_type": "fragment"
    }
   },
   "outputs": [],
   "source": [
    "menu =\"\"\" Menú de opciones:\n",
    "            1.- Jugar\n",
    "            2.- Configurar el juego\n",
    "            3.- Salir\n",
    "        \"\"\"\n",
    "menu\n"
   ]
  },
  {
   "cell_type": "markdown",
   "id": "featured-apple",
   "metadata": {
    "slideshow": {
     "slide_type": "fragment"
    }
   },
   "source": [
    "- \"\"\" (tres \" o ' ) permiten escribir cadenas de más de una línea."
   ]
  },
  {
   "cell_type": "markdown",
   "id": "otherwise-angola",
   "metadata": {
    "slideshow": {
     "slide_type": "subslide"
    }
   },
   "source": [
    "# Operaciones con cadenas de caracteres"
   ]
  },
  {
   "cell_type": "code",
   "execution_count": null,
   "id": "hourly-prompt",
   "metadata": {
    "slideshow": {
     "slide_type": "fragment"
    }
   },
   "outputs": [],
   "source": [
    "name = 'Guido '\n",
    "surname = \"van Rossum\"\n",
    "print(f'{name} {surname} es el \"creador\" de Python')"
   ]
  },
  {
   "cell_type": "markdown",
   "id": "auburn-intervention",
   "metadata": {
    "slideshow": {
     "slide_type": "subslide"
    }
   },
   "source": [
    "# Repetición de cadenas\n"
   ]
  },
  {
   "cell_type": "code",
   "execution_count": null,
   "id": "fallen-jackson",
   "metadata": {
    "slideshow": {
     "slide_type": "fragment"
    }
   },
   "outputs": [],
   "source": [
    "line = \"*\" * 35\n",
    "menu = \"\"\" Menú de opciones:\n",
    "            1.- Jugar\n",
    "            2.- Configurar el juego\n",
    "            3.- Salir\n",
    "        \"\"\"\n",
    "print(line)\n",
    "print(menu)\n",
    "print(line)"
   ]
  },
  {
   "cell_type": "markdown",
   "id": "joined-statement",
   "metadata": {
    "slideshow": {
     "slide_type": "subslide"
    }
   },
   "source": [
    "# Comparando cadenas"
   ]
  },
  {
   "cell_type": "code",
   "execution_count": null,
   "id": "fitting-bedroom",
   "metadata": {
    "slideshow": {
     "slide_type": "fragment"
    }
   },
   "outputs": [],
   "source": [
    "print('Python' == 'Python')\n",
    "print(\"Python\">\"Java\")"
   ]
  },
  {
   "cell_type": "code",
   "execution_count": null,
   "id": "prime-kidney",
   "metadata": {
    "slideshow": {
     "slide_type": "fragment"
    }
   },
   "outputs": [],
   "source": [
    "print(\"Python\">\"java\")"
   ]
  },
  {
   "cell_type": "markdown",
   "id": "interested-writer",
   "metadata": {
    "slideshow": {
     "slide_type": "subslide"
    }
   },
   "source": [
    "# DESAFÍO 3\n",
    "\n",
    "> Dado una letra ingresada por el teclado, queremos saber si es mayúscula o minúscula.\n"
   ]
  },
  {
   "cell_type": "code",
   "execution_count": null,
   "id": "piano-clause",
   "metadata": {
    "slideshow": {
     "slide_type": "fragment"
    }
   },
   "outputs": [],
   "source": [
    "# Una posible solución\n",
    "letter = input(\"Ingresar una letra\")\n",
    "\n",
    "if letter >=\"a\" and letter <=\"z\":\n",
    "    print(\"Es minúscula\")\n",
    "elif letter >= \"A\" and letter <= \"Z\":\n",
    "    print(\"Es mayúscula\")\n",
    "else:\n",
    "    print(\"NO es una letra\")"
   ]
  },
  {
   "cell_type": "markdown",
   "id": "herbal-medicine",
   "metadata": {
    "slideshow": {
     "slide_type": "subslide"
    }
   },
   "source": [
    "# DESAFÍO 4\n",
    "\n",
    "> Dado un caracter ingresado por el teclado, queremos saber si es una comilla o no.\n",
    "\n",
    "Con lo visto hasta el momento, ¿hay algún problema?\n"
   ]
  },
  {
   "cell_type": "markdown",
   "id": "mounted-armor",
   "metadata": {
    "slideshow": {
     "slide_type": "fragment"
    }
   },
   "source": [
    "## Secuencias de escape"
   ]
  },
  {
   "cell_type": "code",
   "execution_count": null,
   "id": "characteristic-tanzania",
   "metadata": {
    "slideshow": {
     "slide_type": "fragment"
    }
   },
   "outputs": [],
   "source": [
    "print(\"Hola\\n\\t Empezamos a cursar\\n\\t dos\")\n",
    "print('Año\\\"22')\n",
    "print(\"Imprimo comilla \\\" \")"
   ]
  },
  {
   "cell_type": "code",
   "execution_count": null,
   "id": "2541bc2d",
   "metadata": {
    "slideshow": {
     "slide_type": "fragment"
    }
   },
   "outputs": [],
   "source": [
    "# Solución al desafío 4\n"
   ]
  },
  {
   "cell_type": "markdown",
   "id": "smoking-baking",
   "metadata": {
    "slideshow": {
     "slide_type": "slide"
    }
   },
   "source": [
    "# La función len()\n",
    "\n",
    "- **len():** retorna la cantidad de caracteres de la cadena.\n"
   ]
  },
  {
   "cell_type": "code",
   "execution_count": null,
   "id": "material-given",
   "metadata": {
    "slideshow": {
     "slide_type": "fragment"
    }
   },
   "outputs": [],
   "source": [
    "len(\"Hola\")"
   ]
  },
  {
   "cell_type": "markdown",
   "id": "architectural-spotlight",
   "metadata": {
    "slideshow": {
     "slide_type": "subslide"
    }
   },
   "source": [
    "## DESAFÍO 5\n",
    "\n",
    "> Dadas dos cadenas ingresadas desde el teclado, imprimir aquella que tenga más caracteres.\n"
   ]
  },
  {
   "cell_type": "code",
   "execution_count": null,
   "id": "christian-melissa",
   "metadata": {
    "slideshow": {
     "slide_type": "fragment"
    }
   },
   "outputs": [],
   "source": [
    "#Posible solución al desafío\n"
   ]
  },
  {
   "cell_type": "markdown",
   "id": "dutch-training",
   "metadata": {
    "slideshow": {
     "slide_type": "slide"
    }
   },
   "source": [
    "# Cada elemento de la cadena\n",
    "\n",
    "- Se accede mediante un índice entre []. \n",
    "- **Comenzando desde 0 (cero).**\n"
   ]
  },
  {
   "cell_type": "code",
   "execution_count": null,
   "id": "funny-silly",
   "metadata": {
    "slideshow": {
     "slide_type": "fragment"
    }
   },
   "outputs": [],
   "source": [
    "word = \"Python\"\n",
    "word[0]"
   ]
  },
  {
   "cell_type": "markdown",
   "id": "450d00eb",
   "metadata": {
    "slideshow": {
     "slide_type": "subslide"
    }
   },
   "source": [
    "## DESAFÍO 6\n",
    "\n",
    "> Determinar si una palabra ingresada desde el teclado es un sustantivo propio o no.\n",
    "\n",
    "**IMPORTANTE:** solo vamos a controlar si la palabra empieza con una letra mayúscula.\n"
   ]
  },
  {
   "cell_type": "code",
   "execution_count": null,
   "id": "c68a87e7",
   "metadata": {
    "slideshow": {
     "slide_type": "fragment"
    }
   },
   "outputs": [],
   "source": [
    "# Posible solución\n",
    "word = input(\"Ingresar una palabra: \")\n",
    "\n",
    "if word[0] >=\"A\" and word[0] <=\"Z\":\n",
    "    print(\"Es un sustantivo propio.\")\n",
    "else:\n",
    "    print(\"NO es un sustantivo propio.\")"
   ]
  },
  {
   "cell_type": "markdown",
   "id": "golden-northern",
   "metadata": {
    "slideshow": {
     "slide_type": "subslide"
    }
   },
   "source": [
    "# Recorriendo la cadena\n",
    "\n"
   ]
  },
  {
   "cell_type": "markdown",
   "id": "downtown-disclaimer",
   "metadata": {
    "slideshow": {
     "slide_type": "fragment"
    }
   },
   "source": [
    "- La sentencia **for**:"
   ]
  },
  {
   "cell_type": "code",
   "execution_count": null,
   "id": "transparent-portland",
   "metadata": {
    "slideshow": {
     "slide_type": "fragment"
    }
   },
   "outputs": [],
   "source": [
    "word = \"casa\"\n",
    "for letter in word:\n",
    "    print(letter)"
   ]
  },
  {
   "cell_type": "code",
   "execution_count": null,
   "id": "2c2f1037",
   "metadata": {
    "slideshow": {
     "slide_type": "fragment"
    }
   },
   "outputs": [],
   "source": [
    "word = \"casa\"\n",
    "for letter in word:\n",
    "    print(letter, end=\" \")"
   ]
  },
  {
   "cell_type": "markdown",
   "id": "palestinian-genealogy",
   "metadata": {
    "slideshow": {
     "slide_type": "slide"
    }
   },
   "source": [
    "# DESAFÍO 7\n",
    "\n",
    "> Escribir un programa que ingrese desde teclado una cadena de caracteres e imprima cuántas letras \"a\" contiene. "
   ]
  },
  {
   "cell_type": "code",
   "execution_count": null,
   "id": "north-karen",
   "metadata": {
    "slideshow": {
     "slide_type": "fragment"
    }
   },
   "outputs": [],
   "source": [
    "# Posible solución al desafio\n",
    "word = input(\"Ingresá una cadena: \")\n",
    "count_a = 0\n",
    "for letter in word:\n",
    "    if letter == \"a\" or letter == \"A\":\n",
    "        count_a += 1\n",
    "print(count_a)"
   ]
  },
  {
   "cell_type": "markdown",
   "id": "7d9b7a63",
   "metadata": {
    "slideshow": {
     "slide_type": "subslide"
    }
   },
   "source": [
    "# Empezamos a adaptarnos al estilo \"Pythonic\""
   ]
  },
  {
   "cell_type": "code",
   "execution_count": null,
   "id": "3f313670",
   "metadata": {
    "slideshow": {
     "slide_type": "fragment"
    }
   },
   "outputs": [],
   "source": [
    "# Otra posible solución\n",
    "word = input(\"Ingresá una cadena: \")\n",
    "print(word.count(\"a\") + word.count(\"A\"))"
   ]
  },
  {
   "cell_type": "code",
   "execution_count": null,
   "id": "84be3a07-9817-4884-8802-42665bf476eb",
   "metadata": {
    "slideshow": {
     "slide_type": "fragment"
    }
   },
   "outputs": [],
   "source": [
    "# Sin tener que repetir count para mayuscula y minuscula\n",
    "word = input(\"Ingresá una cadena: \")\n",
    "print(word.lower().count('a')) "
   ]
  },
  {
   "cell_type": "markdown",
   "id": "b11a4db8",
   "metadata": {
    "slideshow": {
     "slide_type": "slide"
    }
   },
   "source": [
    "# Seguimos la próxima  ..."
   ]
  }
 ],
 "metadata": {
  "celltoolbar": "Slideshow",
  "kernelspec": {
   "display_name": "Python 3 (ipykernel)",
   "language": "python",
   "name": "python3"
  },
  "language_info": {
   "codemirror_mode": {
    "name": "ipython",
    "version": 3
   },
   "file_extension": ".py",
   "mimetype": "text/x-python",
   "name": "python",
   "nbconvert_exporter": "python",
   "pygments_lexer": "ipython3",
   "version": "3.10.9"
  }
 },
 "nbformat": 4,
 "nbformat_minor": 5
}
