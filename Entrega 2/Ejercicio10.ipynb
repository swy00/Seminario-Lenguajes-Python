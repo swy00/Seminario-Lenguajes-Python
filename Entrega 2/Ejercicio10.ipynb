{
 "cells": [
  {
   "cell_type": "markdown",
   "metadata": {},
   "source": [
    "#Ejercicio 10"
   ]
  },
  {
   "cell_type": "markdown",
   "metadata": {},
   "source": [
    "###Informacion inicial"
   ]
  },
  {
   "cell_type": "code",
   "execution_count": 1,
   "metadata": {},
   "outputs": [],
   "source": [
    "names = \"\"\" Agustin, Yanina, Andrés, Ariadna, Bautista, CAROLINA, \n",
    "CESAR, David, Diego, Dolores, DYLAN, ELIANA, Emanuel, Fabián, Noelia, \n",
    "Francsica', FEDERICO, Fernanda, GONZALO, Nancy \"\"\"\n",
    "goals = [0, 10, 4, 0, 5, 14, 0, 0, 7, 2, 1, 1, 1, 5, 6, 1, 1, 2, 0, \n",
    "11]\n",
    "goals_avoided = [0, 2, 0, 0, 5, 2, 0, 0, 1, 2, 0, 5, 5, 0, 1, 0, 2, \n",
    "3, 0, 0]\n",
    "assists = [0, 5, 1, 0, 5, 2, 0, 0, 1, 2, 1, 5, 5, 0, 1, 0, 2, 3, 1, \n",
    "0]"
   ]
  },
  {
   "cell_type": "markdown",
   "metadata": {},
   "source": [
    "###Inciso 1"
   ]
  },
  {
   "cell_type": "code",
   "execution_count": 2,
   "metadata": {},
   "outputs": [],
   "source": [
    "def generarEstructura(names,goals,goals_avoided,assists):\n",
    "    #Separo los nombres en una lista\n",
    "    lista_nombres=list(i.strip() for i in names.split(\",\"))\n",
    "\n",
    "    #Junto toda la info de goles,goles evitados y asistencias\n",
    "    # info=list((goals[i],goals_avoided[i],assists[i]) for i in range(len(lista_nombres)))\n",
    "    info = list(zip(goals, goals_avoided, assists))\n",
    "\n",
    "    #Armo un diccionario con el nombre y la tupla de info que le corresponde\n",
    "    #El uso de zip me ahorra escribir la iteracion for asignando lista_nombres[i]=info[i]\n",
    "    diccionario_jugadores=dict(zip(lista_nombres, info))\n",
    "\n",
    "    return diccionario_jugadores"
   ]
  },
  {
   "cell_type": "markdown",
   "metadata": {},
   "source": [
    "###Inciso 2"
   ]
  },
  {
   "cell_type": "code",
   "execution_count": 3,
   "metadata": {},
   "outputs": [],
   "source": [
    "def goleador(diccionario):\n",
    "    info_goleador=list((name,data[0]) for name,data in diccionario.items() if data == max(diccionario.values()))[0]\n",
    "    \n",
    "    return (info_goleador[1],info_goleador[0])"
   ]
  },
  {
   "cell_type": "markdown",
   "metadata": {},
   "source": [
    "###Inciso 3"
   ]
  },
  {
   "cell_type": "code",
   "execution_count": 4,
   "metadata": {},
   "outputs": [],
   "source": [
    "def influencia(diccionario):\n",
    "    #Accediendo a la info de cada jugador, armo una lista con el valor que posee cada uno\n",
    "    \n",
    "    #influencia = list(((i*1.5)+(j*1.25)+(k)) for i,j,k in diccionario_jugadores.values())\n",
    "    influencia = list(map(lambda i: ((i[0] * 1.5) + (i[1] * 1.25) + i[2]), diccionario.values()))\n",
    "    \n",
    "    #Encuentro en que posicion se encuentra el que mayor influencia tiene\n",
    "    indice_mayor_influencia= influencia.index(max(influencia))\n",
    "    \n",
    "    #A partir del indice, accedo al diccionario y me quedo con el nombre\n",
    "    nombre_mayor_influencia =list(diccionario.keys())[indice_mayor_influencia]\n",
    "    \n",
    "    return (nombre_mayor_influencia,max(influencia))"
   ]
  },
  {
   "cell_type": "markdown",
   "metadata": {},
   "source": [
    "###Inciso 4"
   ]
  },
  {
   "cell_type": "code",
   "execution_count": 5,
   "metadata": {},
   "outputs": [],
   "source": [
    "def promedioGoles(diccionario):\n",
    "    #Sumo todos los goles y divido por el total de partidos\n",
    "    goles_totales=sum(diccionario[nombre][0] for nombre in diccionario) \n",
    "\n",
    "    return (goles_totales/25)"
   ]
  },
  {
   "cell_type": "markdown",
   "metadata": {},
   "source": [
    "###Inciso 5"
   ]
  },
  {
   "cell_type": "code",
   "execution_count": 6,
   "metadata": {},
   "outputs": [],
   "source": [
    "def promedioGolGoleador(diccionario,nombre_goleador):\n",
    "    promedio=((diccionario.get(nombre_goleador)[0])/25)\n",
    "    #Usando lo desarrollado en el punto 2\n",
    "    return promedio"
   ]
  },
  {
   "cell_type": "markdown",
   "metadata": {},
   "source": [
    "##Resolucion utilizando funciones definidas arriba "
   ]
  },
  {
   "cell_type": "code",
   "execution_count": null,
   "metadata": {},
   "outputs": [],
   "source": [
    "#Inciso 1\n",
    "diccionario=generarEstructura(names,goals,goals_avoided,assists)\n",
    "\n",
    "#Inciso 2\n",
    "nombre_goleador=(goleador(diccionario))\n",
    "print(f\"\\nEl maximo goleador con {nombre_goleador[0]} goles es {nombre_goleador[1]}\\n\")\n",
    "\n",
    "#Inciso 3\n",
    "mayor_influencia=influencia(diccionario)\n",
    "print(f\"El jugador mas influyente fue {mayor_influencia[0]} con un valor de {mayor_influencia[1]} puntos\\n\")\n",
    "\n",
    "#Inciso 4\n",
    "promedio_gol_equipo=promedioGoles(diccionario)\n",
    "print(f\"El promedio de gol por partido del equipo es {promedio_gol_equipo}\\n\")\n",
    "\n",
    "#Inciso 5\n",
    "promedio_gol_goleador=promedioGolGoleador(diccionario,nombre_goleador[1])\n",
    "print(f\"El promedio de gol del goleador es de {promedio_gol_goleador} por partido\\n\")\n"
   ]
  },
  {
   "cell_type": "markdown",
   "metadata": {},
   "source": [
    "##Resolucion a partir de modulo \"calculadora\""
   ]
  },
  {
   "cell_type": "code",
   "execution_count": null,
   "metadata": {},
   "outputs": [],
   "source": [
    "import calculadora\n",
    "\n",
    "#Inciso 1\n",
    "diccionario=calculadora.generarEstructura(names,goals,goals_avoided,assists)\n",
    "\n",
    "#Inciso 2\n",
    "nombre_goleador=(calculadora.goleador(diccionario))\n",
    "print(f\"\\nEl maximo goleador con {nombre_goleador[0]} goles es {nombre_goleador[1]}\\n\")\n",
    "\n",
    "#Inciso 3\n",
    "mayor_influencia=calculadora.influencia(diccionario)\n",
    "print(f\"El jugador mas influyente fue {mayor_influencia[0]} con un valor de {mayor_influencia[1]} puntos\\n\")\n",
    "\n",
    "#Inciso 4\n",
    "promedio_gol_equipo=calculadora.promedioGoles(diccionario)\n",
    "print(f\"El promedio de gol por partido del equipo es {promedio_gol_equipo}\\n\")\n",
    "\n",
    "#Inciso 5\n",
    "promedio_gol_goleador=calculadora.promedioGolGoleador(diccionario,nombre_goleador[1])\n",
    "print(f\"El promedio de gol del goleador es de {promedio_gol_goleador} por partido\\n\")\n"
   ]
  }
 ],
 "metadata": {
  "kernelspec": {
   "display_name": "Python 3",
   "language": "python",
   "name": "python3"
  },
  "language_info": {
   "codemirror_mode": {
    "name": "ipython",
    "version": 3
   },
   "file_extension": ".py",
   "mimetype": "text/x-python",
   "name": "python",
   "nbconvert_exporter": "python",
   "pygments_lexer": "ipython3",
   "version": "3.11.0"
  }
 },
 "nbformat": 4,
 "nbformat_minor": 2
}
